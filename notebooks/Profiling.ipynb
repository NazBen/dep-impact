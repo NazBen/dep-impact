{
 "cells": [
  {
   "cell_type": "code",
   "execution_count": 2,
   "metadata": {
    "collapsed": false
   },
   "outputs": [
    {
     "name": "stdout",
     "output_type": "stream",
     "text": [
      "The memory_profiler extension is already loaded. To reload it, use:\n",
      "  %reload_ext memory_profiler\n",
      "The autoreload extension is already loaded. To reload it, use:\n",
      "  %reload_ext autoreload\n"
     ]
    }
   ],
   "source": [
    "from dependence import ImpactOfDependence\n",
    "import numpy as np\n",
    "import openturns as ot\n",
    "from memory_profiler import profile\n",
    "%load_ext memory_profiler\n",
    "%load_ext autoreload\n",
    "%autoreload 2"
   ]
  },
  {
   "cell_type": "markdown",
   "metadata": {},
   "source": [
    "## Test function"
   ]
  },
  {
   "cell_type": "code",
   "execution_count": 3,
   "metadata": {
    "collapsed": true
   },
   "outputs": [],
   "source": [
    "def add_function(x):\n",
    "    \"\"\"\n",
    "    \"\"\"\n",
    "    return x.sum(axis=1)"
   ]
  },
  {
   "cell_type": "code",
   "execution_count": 4,
   "metadata": {
    "collapsed": false
   },
   "outputs": [],
   "source": [
    "def test(dim, n):\n",
    "    alpha = 0.05\n",
    "    margins = [ot.Normal()]*dim\n",
    "    families = np.zeros((dim, dim), dtype=int)\n",
    "    for i in range(dim):\n",
    "        for j in range(i):\n",
    "            families[i, j] = 1\n",
    "\n",
    "    impact = ImpactOfDependence(model_func=add_function, margins=margins, families=families)\n",
    "    impact.minmax_run(n)\n",
    "\n",
    "    quant_res = impact.compute_quantiles(alpha)\n",
    "    id_min = quant_res.quantity.argmin()    "
   ]
  },
  {
   "cell_type": "markdown",
   "metadata": {},
   "source": [
    "## Profiling for master version"
   ]
  },
  {
   "cell_type": "code",
   "execution_count": 14,
   "metadata": {
    "collapsed": false
   },
   "outputs": [
    {
     "name": "stdout",
     "output_type": "stream",
     "text": [
      "1 loop, best of 3: 554 ms per loop\n",
      "peak memory: 410.30 MiB, increment: 3.21 MiB\n"
     ]
    }
   ],
   "source": [
    "%timeit test(3, 10000)\n",
    "%memit test(3, 10000)"
   ]
  },
  {
   "cell_type": "code",
   "execution_count": 15,
   "metadata": {
    "collapsed": false,
    "scrolled": true
   },
   "outputs": [
    {
     "name": "stdout",
     "output_type": "stream",
     "text": [
      "1 loop, best of 3: 5.21 s per loop\n",
      "peak memory: 501.02 MiB, increment: 48.17 MiB\n"
     ]
    }
   ],
   "source": [
    "%timeit test(4, 10000)\n",
    "%memit test(4, 10000)"
   ]
  },
  {
   "cell_type": "markdown",
   "metadata": {},
   "source": [
    "## Profiling for V2"
   ]
  },
  {
   "cell_type": "code",
   "execution_count": 7,
   "metadata": {
    "collapsed": false,
    "scrolled": true
   },
   "outputs": [
    {
     "name": "stdout",
     "output_type": "stream",
     "text": [
      "10 loops, best of 3: 181 ms per loop\n",
      "peak memory: 321.33 MiB, increment: 1.61 MiB\n"
     ]
    }
   ],
   "source": [
    "%timeit test(3, 10000)\n",
    "%memit test(3, 10000)"
   ]
  },
  {
   "cell_type": "code",
   "execution_count": 8,
   "metadata": {
    "collapsed": false
   },
   "outputs": [
    {
     "name": "stdout",
     "output_type": "stream",
     "text": [
      "1 loop, best of 3: 2.18 s per loop\n",
      "peak memory: 353.58 MiB, increment: 18.34 MiB\n"
     ]
    }
   ],
   "source": [
    "%timeit test(4, 10000)\n",
    "%memit test(4, 10000)"
   ]
  },
  {
   "cell_type": "code",
   "execution_count": 10,
   "metadata": {
    "collapsed": false
   },
   "outputs": [
    {
     "name": "stdout",
     "output_type": "stream",
     "text": [
      "1 loop, best of 3: 45.1 s per loop\n",
      "peak memory: 1323.57 MiB, increment: 588.23 MiB\n"
     ]
    }
   ],
   "source": [
    "%timeit test(5, 10000)\n",
    "%memit test(5, 10000)"
   ]
  },
  {
   "cell_type": "markdown",
   "metadata": {},
   "source": [
    "## Profiling for V3"
   ]
  },
  {
   "cell_type": "code",
   "execution_count": 5,
   "metadata": {
    "collapsed": false
   },
   "outputs": [
    {
     "name": "stdout",
     "output_type": "stream",
     "text": [
      "Filename: c:\\users\\nazih\\google drive\\these\\scripts\\library\\dependence\\dependence\\dependence.py\n",
      "\n",
      "Line #    Mem usage    Increment   Line Contents\n",
      "================================================\n",
      "   210    278.9 MiB      0.0 MiB       @profile\n",
      "   211                                 def minmax_run(self, n_input_sample, seed=None, eps=1.E-4, store_input_sample=True):\n",
      "   212                                     \"\"\"\n",
      "   213                                     \"\"\"\n",
      "   214    278.9 MiB      0.0 MiB           p = self._n_corr_vars\n",
      "   215    278.9 MiB      0.0 MiB           self._n_param = 2**p\n",
      "   216    278.9 MiB      0.0 MiB           self._params = np.zeros((self._n_param, self._corr_dim), dtype=float)\n",
      "   217                             \n",
      "   218    278.9 MiB      0.0 MiB           tmp = tuple(itertools.product([-1 + eps, 1 - eps], repeat=p))\n",
      "   219    278.9 MiB      0.0 MiB           self._params[:, self._corr_vars] = np.asarray(tmp, dtype=float)\n",
      "   220                             \n",
      "   221                                     # Creates the sample of input parameters\n",
      "   222    324.3 MiB     45.3 MiB           self._build_input_sample(n_input_sample)\n",
      "   223                             \n",
      "   224                                     # Evaluates the input sample\n",
      "   225    329.2 MiB      4.9 MiB           self._all_output_sample = self.model_func(self._input_sample)\n",
      "   226    329.2 MiB      0.0 MiB           if not store_input_sample:\n",
      "   227                                         del self._input_sample\n",
      "   228                             \n",
      "   229                                     # Get output dimension\n",
      "   230    329.2 MiB      0.0 MiB           self._output_info()\n",
      "\n",
      "\n",
      "Filename: c:\\users\\nazih\\google drive\\these\\scripts\\library\\dependence\\dependence\\dependence.py\n",
      "\n",
      "Line #    Mem usage    Increment   Line Contents\n",
      "================================================\n",
      "   210    304.8 MiB      0.0 MiB       @profile\n",
      "   211                                 def minmax_run(self, n_input_sample, seed=None, eps=1.E-4, store_input_sample=True):\n",
      "   212                                     \"\"\"\n",
      "   213                                     \"\"\"\n",
      "   214    304.8 MiB      0.0 MiB           p = self._n_corr_vars\n",
      "   215    304.8 MiB      0.0 MiB           self._n_param = 2**p\n",
      "   216    304.8 MiB      0.0 MiB           self._params = np.zeros((self._n_param, self._corr_dim), dtype=float)\n",
      "   217                             \n",
      "   218    304.8 MiB      0.0 MiB           tmp = tuple(itertools.product([-1 + eps, 1 - eps], repeat=p))\n",
      "   219    304.8 MiB      0.0 MiB           self._params[:, self._corr_vars] = np.asarray(tmp, dtype=float)\n",
      "   220                             \n",
      "   221                                     # Creates the sample of input parameters\n",
      "   222    332.8 MiB     28.0 MiB           self._build_input_sample(n_input_sample)\n",
      "   223                             \n",
      "   224                                     # Evaluates the input sample\n",
      "   225    337.6 MiB      4.9 MiB           self._all_output_sample = self.model_func(self._input_sample)\n",
      "   226    337.6 MiB      0.0 MiB           if not store_input_sample:\n",
      "   227                                         del self._input_sample\n",
      "   228                             \n",
      "   229                                     # Get output dimension\n",
      "   230    337.6 MiB      0.0 MiB           self._output_info()\n",
      "\n",
      "\n",
      "Filename: c:\\users\\nazih\\google drive\\these\\scripts\\library\\dependence\\dependence\\dependence.py\n",
      "\n",
      "Line #    Mem usage    Increment   Line Contents\n",
      "================================================\n",
      "   210    313.2 MiB      0.0 MiB       @profile\n",
      "   211                                 def minmax_run(self, n_input_sample, seed=None, eps=1.E-4, store_input_sample=True):\n",
      "   212                                     \"\"\"\n",
      "   213                                     \"\"\"\n",
      "   214    313.2 MiB      0.0 MiB           p = self._n_corr_vars\n",
      "   215    313.2 MiB      0.0 MiB           self._n_param = 2**p\n",
      "   216    313.2 MiB      0.0 MiB           self._params = np.zeros((self._n_param, self._corr_dim), dtype=float)\n",
      "   217                             \n",
      "   218    313.2 MiB      0.0 MiB           tmp = tuple(itertools.product([-1 + eps, 1 - eps], repeat=p))\n",
      "   219    313.2 MiB      0.0 MiB           self._params[:, self._corr_vars] = np.asarray(tmp, dtype=float)\n",
      "   220                             \n",
      "   221                                     # Creates the sample of input parameters\n",
      "   222    331.5 MiB     18.3 MiB           self._build_input_sample(n_input_sample)\n",
      "   223                             \n",
      "   224                                     # Evaluates the input sample\n",
      "   225    336.4 MiB      4.9 MiB           self._all_output_sample = self.model_func(self._input_sample)\n",
      "   226    336.4 MiB      0.0 MiB           if not store_input_sample:\n",
      "   227                                         del self._input_sample\n",
      "   228                             \n",
      "   229                                     # Get output dimension\n",
      "   230    336.4 MiB      0.0 MiB           self._output_info()\n",
      "\n",
      "\n",
      "Filename: c:\\users\\nazih\\google drive\\these\\scripts\\library\\dependence\\dependence\\dependence.py\n",
      "\n",
      "Line #    Mem usage    Increment   Line Contents\n",
      "================================================\n",
      "   210    312.0 MiB      0.0 MiB       @profile\n",
      "   211                                 def minmax_run(self, n_input_sample, seed=None, eps=1.E-4, store_input_sample=True):\n",
      "   212                                     \"\"\"\n",
      "   213                                     \"\"\"\n",
      "   214    312.0 MiB      0.0 MiB           p = self._n_corr_vars\n",
      "   215    312.0 MiB      0.0 MiB           self._n_param = 2**p\n",
      "   216    312.0 MiB      0.0 MiB           self._params = np.zeros((self._n_param, self._corr_dim), dtype=float)\n",
      "   217                             \n",
      "   218    312.0 MiB      0.0 MiB           tmp = tuple(itertools.product([-1 + eps, 1 - eps], repeat=p))\n",
      "   219    312.0 MiB      0.0 MiB           self._params[:, self._corr_vars] = np.asarray(tmp, dtype=float)\n",
      "   220                             \n",
      "   221                                     # Creates the sample of input parameters\n",
      "   222    344.8 MiB     32.8 MiB           self._build_input_sample(n_input_sample)\n",
      "   223                             \n",
      "   224                                     # Evaluates the input sample\n",
      "   225    349.7 MiB      4.9 MiB           self._all_output_sample = self.model_func(self._input_sample)\n",
      "   226    349.7 MiB      0.0 MiB           if not store_input_sample:\n",
      "   227                                         del self._input_sample\n",
      "   228                             \n",
      "   229                                     # Get output dimension\n",
      "   230    349.7 MiB      0.0 MiB           self._output_info()\n",
      "\n",
      "\n",
      "1 loop, best of 3: 3.07 s per loop\n",
      "Filename: c:\\users\\nazih\\google drive\\these\\scripts\\library\\dependence\\dependence\\dependence.py\n",
      "\n",
      "Line #    Mem usage    Increment   Line Contents\n",
      "================================================\n",
      "   210    325.3 MiB      0.0 MiB       @profile\n",
      "   211                                 def minmax_run(self, n_input_sample, seed=None, eps=1.E-4, store_input_sample=True):\n",
      "   212                                     \"\"\"\n",
      "   213                                     \"\"\"\n",
      "   214    325.3 MiB      0.0 MiB           p = self._n_corr_vars\n",
      "   215    325.3 MiB      0.0 MiB           self._n_param = 2**p\n",
      "   216    325.3 MiB      0.0 MiB           self._params = np.zeros((self._n_param, self._corr_dim), dtype=float)\n",
      "   217                             \n",
      "   218    325.3 MiB      0.0 MiB           tmp = tuple(itertools.product([-1 + eps, 1 - eps], repeat=p))\n",
      "   219    325.3 MiB      0.0 MiB           self._params[:, self._corr_vars] = np.asarray(tmp, dtype=float)\n",
      "   220                             \n",
      "   221                                     # Creates the sample of input parameters\n",
      "   222    344.3 MiB     19.0 MiB           self._build_input_sample(n_input_sample)\n",
      "   223                             \n",
      "   224                                     # Evaluates the input sample\n",
      "   225    349.2 MiB      4.9 MiB           self._all_output_sample = self.model_func(self._input_sample)\n",
      "   226    349.2 MiB      0.0 MiB           if not store_input_sample:\n",
      "   227                                         del self._input_sample\n",
      "   228                             \n",
      "   229                                     # Get output dimension\n",
      "   230    349.2 MiB      0.0 MiB           self._output_info()\n",
      "\n",
      "\n",
      "peak memory: 343.72 MiB, increment: 18.43 MiB\n"
     ]
    }
   ],
   "source": [
    "%timeit test(4, 10000)\n",
    "%memit test(4, 10000)"
   ]
  },
  {
   "cell_type": "code",
   "execution_count": 15,
   "metadata": {
    "collapsed": false
   },
   "outputs": [],
   "source": [
    "import pandas as pd"
   ]
  },
  {
   "cell_type": "code",
   "execution_count": 41,
   "metadata": {
    "collapsed": true
   },
   "outputs": [],
   "source": [
    "df = pd.DataFrame()"
   ]
  },
  {
   "cell_type": "code",
   "execution_count": 47,
   "metadata": {
    "collapsed": false
   },
   "outputs": [
    {
     "data": {
      "text/html": [
       "<div>\n",
       "<table border=\"1\" class=\"dataframe\">\n",
       "  <thead>\n",
       "    <tr style=\"text-align: right;\">\n",
       "      <th></th>\n",
       "      <th>0</th>\n",
       "      <th>1</th>\n",
       "      <th>2</th>\n",
       "      <th>3</th>\n",
       "      <th>4</th>\n",
       "    </tr>\n",
       "  </thead>\n",
       "  <tbody>\n",
       "    <tr>\n",
       "      <th>0</th>\n",
       "      <td>0.701307</td>\n",
       "      <td>0.062100</td>\n",
       "      <td>0.404848</td>\n",
       "      <td>0.723085</td>\n",
       "      <td>0.888068</td>\n",
       "    </tr>\n",
       "    <tr>\n",
       "      <th>1</th>\n",
       "      <td>0.070139</td>\n",
       "      <td>0.635270</td>\n",
       "      <td>0.778213</td>\n",
       "      <td>0.208459</td>\n",
       "      <td>0.006211</td>\n",
       "    </tr>\n",
       "    <tr>\n",
       "      <th>2</th>\n",
       "      <td>0.312606</td>\n",
       "      <td>0.906326</td>\n",
       "      <td>0.769967</td>\n",
       "      <td>0.462856</td>\n",
       "      <td>0.103881</td>\n",
       "    </tr>\n",
       "    <tr>\n",
       "      <th>3</th>\n",
       "      <td>0.065887</td>\n",
       "      <td>0.203080</td>\n",
       "      <td>0.379229</td>\n",
       "      <td>0.435241</td>\n",
       "      <td>0.429099</td>\n",
       "    </tr>\n",
       "    <tr>\n",
       "      <th>4</th>\n",
       "      <td>0.250671</td>\n",
       "      <td>0.740257</td>\n",
       "      <td>0.687098</td>\n",
       "      <td>0.282414</td>\n",
       "      <td>0.257242</td>\n",
       "    </tr>\n",
       "    <tr>\n",
       "      <th>5</th>\n",
       "      <td>0.965797</td>\n",
       "      <td>0.074544</td>\n",
       "      <td>0.133791</td>\n",
       "      <td>0.147091</td>\n",
       "      <td>0.079458</td>\n",
       "    </tr>\n",
       "  </tbody>\n",
       "</table>\n",
       "</div>"
      ],
      "text/plain": [
       "          0         1         2         3         4\n",
       "0  0.701307  0.062100  0.404848  0.723085  0.888068\n",
       "1  0.070139  0.635270  0.778213  0.208459  0.006211\n",
       "2  0.312606  0.906326  0.769967  0.462856  0.103881\n",
       "3  0.065887  0.203080  0.379229  0.435241  0.429099\n",
       "4  0.250671  0.740257  0.687098  0.282414  0.257242\n",
       "5  0.965797  0.074544  0.133791  0.147091  0.079458"
      ]
     },
     "execution_count": 47,
     "metadata": {},
     "output_type": "execute_result"
    }
   ],
   "source": [
    "array = np.random.random((1, 5))\n",
    "pd.DataFrame(array)\n",
    "df = df.append(pd.DataFrame(array), ignore_index=True)\n",
    "df"
   ]
  },
  {
   "cell_type": "code",
   "execution_count": 68,
   "metadata": {
    "collapsed": true
   },
   "outputs": [],
   "source": [
    "df = pd.DataFrame()"
   ]
  },
  {
   "cell_type": "code",
   "execution_count": 81,
   "metadata": {
    "collapsed": false
   },
   "outputs": [
    {
     "data": {
      "text/html": [
       "<div>\n",
       "<table border=\"1\" class=\"dataframe\">\n",
       "  <thead>\n",
       "    <tr style=\"text-align: right;\">\n",
       "      <th></th>\n",
       "      <th>0</th>\n",
       "      <th>1</th>\n",
       "      <th>2</th>\n",
       "      <th>3</th>\n",
       "    </tr>\n",
       "  </thead>\n",
       "  <tbody>\n",
       "    <tr>\n",
       "      <th>0</th>\n",
       "      <td>0.525183</td>\n",
       "      <td>0.360608</td>\n",
       "      <td>0.191626</td>\n",
       "      <td>0.196471</td>\n",
       "    </tr>\n",
       "    <tr>\n",
       "      <th>1</th>\n",
       "      <td>0.194782</td>\n",
       "      <td>0.200562</td>\n",
       "      <td>0.290512</td>\n",
       "      <td>0.487006</td>\n",
       "    </tr>\n",
       "    <tr>\n",
       "      <th>2</th>\n",
       "      <td>0.179424</td>\n",
       "      <td>0.946364</td>\n",
       "      <td>0.059774</td>\n",
       "      <td>0.164212</td>\n",
       "    </tr>\n",
       "    <tr>\n",
       "      <th>3</th>\n",
       "      <td>0.790990</td>\n",
       "      <td>0.766091</td>\n",
       "      <td>0.669543</td>\n",
       "      <td>0.892184</td>\n",
       "    </tr>\n",
       "    <tr>\n",
       "      <th>4</th>\n",
       "      <td>0.501269</td>\n",
       "      <td>0.105072</td>\n",
       "      <td>0.771260</td>\n",
       "      <td>0.361239</td>\n",
       "    </tr>\n",
       "  </tbody>\n",
       "</table>\n",
       "</div>"
      ],
      "text/plain": [
       "          0         1         2         3\n",
       "0  0.525183  0.360608  0.191626  0.196471\n",
       "1  0.194782  0.200562  0.290512  0.487006\n",
       "2  0.179424  0.946364  0.059774  0.164212\n",
       "3  0.790990  0.766091  0.669543  0.892184\n",
       "4  0.501269  0.105072  0.771260  0.361239"
      ]
     },
     "execution_count": 81,
     "metadata": {},
     "output_type": "execute_result"
    }
   ],
   "source": [
    "array = np.random.random(5)\n",
    "df = pd.concat([df, pd.DataFrame(array)], axis=1, ignore_index=True)\n",
    "df"
   ]
  },
  {
   "cell_type": "code",
   "execution_count": null,
   "metadata": {
    "collapsed": true
   },
   "outputs": [],
   "source": []
  }
 ],
 "metadata": {
  "kernelspec": {
   "display_name": "Python 2",
   "language": "python",
   "name": "python2"
  },
  "language_info": {
   "codemirror_mode": {
    "name": "ipython",
    "version": 2
   },
   "file_extension": ".py",
   "mimetype": "text/x-python",
   "name": "python",
   "nbconvert_exporter": "python",
   "pygments_lexer": "ipython2",
   "version": "2.7.11"
  }
 },
 "nbformat": 4,
 "nbformat_minor": 0
}
