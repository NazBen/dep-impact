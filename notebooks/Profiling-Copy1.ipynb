{
 "cells": [
  {
   "cell_type": "code",
   "execution_count": 1,
   "metadata": {
    "collapsed": true
   },
   "outputs": [],
   "source": [
    "from dependence import ImpactOfDependence\n",
    "import numpy as np\n",
    "import openturns as ot\n",
    "%load_ext memory_profiler"
   ]
  },
  {
   "cell_type": "markdown",
   "metadata": {},
   "source": [
    "## Test function"
   ]
  },
  {
   "cell_type": "code",
   "execution_count": 44,
   "metadata": {
    "collapsed": true
   },
   "outputs": [],
   "source": [
    "def add_function(x):\n",
    "    \"\"\"\n",
    "    \"\"\"\n",
    "    return x.sum(axis=1)"
   ]
  },
  {
   "cell_type": "code",
   "execution_count": 45,
   "metadata": {
    "collapsed": false
   },
   "outputs": [
    {
     "name": "stdout",
     "output_type": "stream",
     "text": [
      "Overwriting test.py\n"
     ]
    }
   ],
   "source": [
    "%%writefile test.py\n",
    "from dependence import ImpactOfDependence\n",
    "import numpy as np\n",
    "import openturns as ot\n",
    "from memory_profiler import profile\n",
    "\n",
    "def add_function(x):\n",
    "    \"\"\"\n",
    "    \"\"\"\n",
    "    return x.sum(axis=1)\n",
    "\n",
    "@profile\n",
    "def test(dim, n):\n",
    "    alpha = 0.05\n",
    "    margins = [ot.Normal()]*dim\n",
    "    families = np.zeros((dim, dim), dtype=int)\n",
    "    for i in range(dim):\n",
    "        for j in range(i):\n",
    "            families[i, j] = 1\n",
    "\n",
    "    impact = ImpactOfDependence(model_func=add_function, margins=margins, families=families)\n",
    "    impact.minmax_run(n)\n",
    "\n",
    "    quant_res = impact.compute_quantiles(alpha)\n",
    "    id_min = quant_res.quantity.argmin()\n",
    "    print \"oui\"\n",
    "    \n",
    "if __name__ == '__main__':\n",
    "    test(3, 1000)"
   ]
  },
  {
   "cell_type": "code",
   "execution_count": 46,
   "metadata": {
    "collapsed": false
   },
   "outputs": [
    {
     "name": "stdout",
     "output_type": "stream",
     "text": [
      "oui\n",
      "Filename: C:\\Users\\Nazih\\Google Drive\\These\\Scripts\\library\\dependence\\notebooks\\test.py\n",
      "\n",
      "Line #    Mem usage    Increment   Line Contents\n",
      "================================================\n",
      "     6                             def test(dim, n):\n",
      "     7                                 alpha = 0.05\n",
      "     8                                 margins = [ot.Normal()]*dim\n",
      "     9                                 families = np.zeros((dim, dim), dtype=int)\n",
      "    10                                 for i in range(dim):\n",
      "    11    365.7 MiB      0.0 MiB           for j in range(i):\n",
      "    12                                         families[i, j] = 1\n",
      "    13    365.7 MiB      0.0 MiB   \n",
      "    14    365.7 MiB      0.0 MiB       impact = ImpactOfDependence(model_func=add_function, margins=margins, families=families)\n",
      "    15    365.7 MiB      0.0 MiB       impact.minmax_run(n)\n",
      "    16    365.7 MiB      0.0 MiB   \n",
      "    17    365.7 MiB      0.0 MiB       quant_res = impact.compute_quantiles(alpha)\n",
      "    18    365.7 MiB      0.0 MiB       id_min = quant_res.quantity.argmin()\n",
      "    19                                 print \"oui\"\n",
      "\n",
      "\n"
     ]
    }
   ],
   "source": [
    "%run test.py"
   ]
  },
  {
   "cell_type": "markdown",
   "metadata": {},
   "source": [
    "## Profiling for master version"
   ]
  },
  {
   "cell_type": "code",
   "execution_count": 4,
   "metadata": {
    "collapsed": false
   },
   "outputs": [
    {
     "name": "stdout",
     "output_type": "stream",
     "text": [
      "1 loop, best of 1: 561 ms per loop\n",
      "peak memory: 297.78 MiB, increment: 11.46 MiB\n"
     ]
    }
   ],
   "source": [
    "%timeit -n 1 -r 1 test(3, 1000)\n",
    "%memit -r 1 test(3, 1000)"
   ]
  },
  {
   "cell_type": "code",
   "execution_count": 5,
   "metadata": {
    "collapsed": false
   },
   "outputs": [
    {
     "name": "stdout",
     "output_type": "stream",
     "text": [
      "1 loop, best of 1: 3.55 s per loop\n",
      "peak memory: 367.58 MiB, increment: 5.71 MiB\n"
     ]
    }
   ],
   "source": [
    "%timeit -n 1 -r 1  test(4, 1000)\n",
    "%memit -r 1 test(4, 1000)"
   ]
  },
  {
   "cell_type": "code",
   "execution_count": 7,
   "metadata": {
    "collapsed": false
   },
   "outputs": [
    {
     "name": "stderr",
     "output_type": "stream",
     "text": [
      "ERROR: File `u'test().py'` not found.\n"
     ]
    }
   ],
   "source": [
    "%run test()"
   ]
  },
  {
   "cell_type": "code",
   "execution_count": null,
   "metadata": {
    "collapsed": false
   },
   "outputs": [],
   "source": [
    "%timeit -n 1 -r 1  test(5, 1000)\n",
    "%memit -r 1 test(5, 1000)"
   ]
  },
  {
   "cell_type": "code",
   "execution_count": null,
   "metadata": {
    "collapsed": true
   },
   "outputs": [],
   "source": []
  }
 ],
 "metadata": {
  "kernelspec": {
   "display_name": "Python 2",
   "language": "python",
   "name": "python2"
  },
  "language_info": {
   "codemirror_mode": {
    "name": "ipython",
    "version": 2
   },
   "file_extension": ".py",
   "mimetype": "text/x-python",
   "name": "python",
   "nbconvert_exporter": "python",
   "pygments_lexer": "ipython2",
   "version": "2.7.11"
  }
 },
 "nbformat": 4,
 "nbformat_minor": 0
}
