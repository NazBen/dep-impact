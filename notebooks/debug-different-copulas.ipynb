{
 "cells": [
  {
   "cell_type": "code",
   "execution_count": 1,
   "metadata": {},
   "outputs": [
    {
     "name": "stderr",
     "output_type": "stream",
     "text": [
      "/home/D58174/anaconda/lib/python3.6/site-packages/h5py/__init__.py:36: FutureWarning: Conversion of the second argument of issubdtype from `float` to `np.floating` is deprecated. In future, it will be treated as `np.float64 == np.dtype(float).type`.\n",
      "  from ._conv import register_converters as _register_converters\n"
     ]
    }
   ],
   "source": [
    "import numpy as np\n",
    "import openturns as ot\n",
    "from depimpact import ConservativeEstimate, quantile_func\n",
    "from depimpact.tests import func_sum\n",
    "from depimpact.plots import set_style_paper, matrix_plot_quantities\n",
    "import matplotlib.pyplot as plt\n",
    "\n",
    "set_style_paper()\n",
    "\n",
    "%matplotlib inline\n",
    "%load_ext autoreload\n",
    "%autoreload 2"
   ]
  },
  {
   "cell_type": "code",
   "execution_count": 17,
   "metadata": {},
   "outputs": [],
   "source": [
    "dim = 5\n",
    "grid_type = 'lhs'\n",
    "dep_measure = 'kendall'\n",
    "K = 500\n",
    "n = 100000\n",
    "alpha = 0.01\n",
    "\n",
    "margins = [ot.Normal()]*dim\n",
    "q_func = quantile_func(alpha)"
   ]
  },
  {
   "cell_type": "code",
   "execution_count": 18,
   "metadata": {
    "scrolled": true
   },
   "outputs": [
    {
     "name": "stdout",
     "output_type": "stream",
     "text": [
      "Minimum quantile: -9.162647874478274 at param: [0.16659999999999986, -0.43708, 0.8643600000000001, 0.9584399999999994, 0.8251600000000001, 0.7154]\n",
      "Minimum quantile: -9.31285574105468 at param: [0.7702800000000001, 0.7702800000000001, 0.82124, 0.8486800000000001, 0.6801199999999998, 0.6683599999999998]\n",
      "Minimum quantile: -8.72469889844954 at param: [-0.2842, 0.1313200000000001, 0.5311600000000001, 0.74284, 0.86436, 0.73892]\n"
     ]
    },
    {
     "name": "stderr",
     "output_type": "stream",
     "text": [
      "/home/D58174/anaconda/lib/python3.6/site-packages/rpy2/rinterface/__init__.py:145: RRuntimeWarning: Erreur : \n",
      " In function (Matrix, family = array(0, dim = dim(Matrix)), par = array(NA, dim = dim(Matrix)), par2 = array(NA, dim = dim(Matrix)), names = NULL, check.pars = TRUE) \n",
      "{\n",
      "    args <- preproc(c(as.list(environment()), call = match.call()), check_matrix, check_fammat, check_parmat, check_par2mat)\n",
      "    list2env(args, environment())\n",
      "    if (length(names) > 0 & length(names) != dim(Matrix)[1]) \n",
      "        stop(\"Length of the vector 'names' is not correct.\")\n",
      "    sel <- lower.tri(family)\n",
      "    if (check.pars & (any(family != 0) | any(!is.na(par)))) {\n",
      "        BiCopCheck(family[sel], par[sel], par2[sel], call = match.call())\n",
      "    }\n",
      "    MaxMat <- createMaxMat(Matrix)\n",
      "    CondDistr <- neededCondDistr(Matrix)\n",
      "    RVM <- list(Matrix = Matrix, family = family, par = par, par2 = par2, names = names, MaxMat = MaxMat, CondDistr = CondDistr)\n",
      "    class(RVM) <- \"RVineMatrix\"\n",
      "    if (is.CVine(RVM)) {\n",
      "        RVM$type <- \"C-vine\"\n",
      "    }\n",
      "    else if (is.DVine(RVM)) {\n",
      "        RVM$type <- \"D-vine\"\n",
      "    }\n",
      "    e\n",
      "\n",
      "  warnings.warn(x, RRuntimeWarning)\n"
     ]
    },
    {
     "ename": "RRuntimeError",
     "evalue": "Erreur : \n In function (Matrix, family = array(0, dim = dim(Matrix)), par = array(NA, dim = dim(Matrix)), par2 = array(NA, dim = dim(Matrix)), names = NULL, check.pars = TRUE) \n{\n    args <- preproc(c(as.list(environment()), call = match.call()), check_matrix, check_fammat, check_parmat, check_par2mat)\n    list2env(args, environment())\n    if (length(names) > 0 & length(names) != dim(Matrix)[1]) \n        stop(\"Length of the vector 'names' is not correct.\")\n    sel <- lower.tri(family)\n    if (check.pars & (any(family != 0) | any(!is.na(par)))) {\n        BiCopCheck(family[sel], par[sel], par2[sel], call = match.call())\n    }\n    MaxMat <- createMaxMat(Matrix)\n    CondDistr <- neededCondDistr(Matrix)\n    RVM <- list(Matrix = Matrix, family = family, par = par, par2 = par2, names = names, MaxMat = MaxMat, CondDistr = CondDistr)\n    class(RVM) <- \"RVineMatrix\"\n    if (is.CVine(RVM)) {\n        RVM$type <- \"C-vine\"\n    }\n    else if (is.DVine(RVM)) {\n        RVM$type <- \"D-vine\"\n    }\n    e\n",
     "output_type": "error",
     "traceback": [
      "\u001b[0;31m---------------------------------------------------------------------------\u001b[0m",
      "\u001b[0;31mRRuntimeError\u001b[0m                             Traceback (most recent call last)",
      "\u001b[0;32m<ipython-input-18-baec7d36e671>\u001b[0m in \u001b[0;36m<module>\u001b[0;34m()\u001b[0m\n\u001b[1;32m      4\u001b[0m     \u001b[0mfamilies\u001b[0m \u001b[0;34m=\u001b[0m \u001b[0mnp\u001b[0m\u001b[0;34m.\u001b[0m\u001b[0mtril\u001b[0m\u001b[0;34m(\u001b[0m\u001b[0mnp\u001b[0m\u001b[0;34m.\u001b[0m\u001b[0mones\u001b[0m\u001b[0;34m(\u001b[0m\u001b[0;34m(\u001b[0m\u001b[0mdim\u001b[0m\u001b[0;34m,\u001b[0m \u001b[0mdim\u001b[0m\u001b[0;34m)\u001b[0m\u001b[0;34m,\u001b[0m \u001b[0mdtype\u001b[0m\u001b[0;34m=\u001b[0m\u001b[0mint\u001b[0m\u001b[0;34m)\u001b[0m\u001b[0;34m*\u001b[0m\u001b[0mcop_id\u001b[0m\u001b[0;34m,\u001b[0m \u001b[0mk\u001b[0m\u001b[0;34m=\u001b[0m\u001b[0;34m-\u001b[0m\u001b[0;36m1\u001b[0m\u001b[0;34m)\u001b[0m\u001b[0;34m\u001b[0m\u001b[0m\n\u001b[1;32m      5\u001b[0m     \u001b[0mquant_estimate\u001b[0m \u001b[0;34m=\u001b[0m \u001b[0mConservativeEstimate\u001b[0m\u001b[0;34m(\u001b[0m\u001b[0mmodel_func\u001b[0m\u001b[0;34m=\u001b[0m\u001b[0mfunc_sum\u001b[0m\u001b[0;34m,\u001b[0m \u001b[0mmargins\u001b[0m\u001b[0;34m=\u001b[0m\u001b[0mmargins\u001b[0m\u001b[0;34m,\u001b[0m \u001b[0mfamilies\u001b[0m\u001b[0;34m=\u001b[0m\u001b[0mfamilies\u001b[0m\u001b[0;34m)\u001b[0m\u001b[0;34m\u001b[0m\u001b[0m\n\u001b[0;32m----> 6\u001b[0;31m     \u001b[0mgrid_result\u001b[0m \u001b[0;34m=\u001b[0m \u001b[0mquant_estimate\u001b[0m\u001b[0;34m.\u001b[0m\u001b[0mgridsearch\u001b[0m\u001b[0;34m(\u001b[0m\u001b[0mn_dep_param\u001b[0m\u001b[0;34m=\u001b[0m\u001b[0mK\u001b[0m\u001b[0;34m,\u001b[0m \u001b[0mn_input_sample\u001b[0m\u001b[0;34m=\u001b[0m\u001b[0mn\u001b[0m\u001b[0;34m,\u001b[0m \u001b[0mgrid_type\u001b[0m\u001b[0;34m=\u001b[0m\u001b[0mgrid_type\u001b[0m\u001b[0;34m,\u001b[0m \u001b[0mdep_measure\u001b[0m\u001b[0;34m=\u001b[0m\u001b[0mdep_measure\u001b[0m\u001b[0;34m)\u001b[0m\u001b[0;34m\u001b[0m\u001b[0m\n\u001b[0m\u001b[1;32m      7\u001b[0m     \u001b[0mgrid_result\u001b[0m\u001b[0;34m.\u001b[0m\u001b[0mq_func\u001b[0m \u001b[0;34m=\u001b[0m \u001b[0mq_func\u001b[0m\u001b[0;34m\u001b[0m\u001b[0m\n\u001b[1;32m      8\u001b[0m     \u001b[0mmin_result\u001b[0m \u001b[0;34m=\u001b[0m \u001b[0mgrid_result\u001b[0m\u001b[0;34m.\u001b[0m\u001b[0mmin_result\u001b[0m\u001b[0;34m\u001b[0m\u001b[0m\n",
      "\u001b[0;32m~/git-repo/impact-of-dependence/depimpact/conservative.py\u001b[0m in \u001b[0;36mgridsearch\u001b[0;34m(self, n_dep_param, n_input_sample, grid_type, dep_measure, lhs_grid_criterion, keep_input_samples, load_grid, save_grid, use_sto_func, random_state, verbose)\u001b[0m\n\u001b[1;32m    223\u001b[0m             \u001b[0;32mif\u001b[0m \u001b[0mkeep_input_samples\u001b[0m\u001b[0;34m:\u001b[0m\u001b[0;34m\u001b[0m\u001b[0m\n\u001b[1;32m    224\u001b[0m                 output_samples, input_samples = self.run_stochastic_models(\n\u001b[0;32m--> 225\u001b[0;31m                     params, n_input_sample, return_input_samples=keep_input_samples)\n\u001b[0m\u001b[1;32m    226\u001b[0m             \u001b[0;32melse\u001b[0m\u001b[0;34m:\u001b[0m\u001b[0;34m\u001b[0m\u001b[0m\n\u001b[1;32m    227\u001b[0m                 output_samples = self.run_stochastic_models(\n",
      "\u001b[0;32m~/git-repo/impact-of-dependence/depimpact/conservative.py\u001b[0m in \u001b[0;36mrun_stochastic_models\u001b[0;34m(self, params, n_input_sample, return_input_samples, random_state, verbose)\u001b[0m\n\u001b[1;32m    272\u001b[0m             \u001b[0mfull_param\u001b[0m\u001b[0;34m[\u001b[0m\u001b[0mself\u001b[0m\u001b[0;34m.\u001b[0m\u001b[0m_pair_ids\u001b[0m\u001b[0;34m]\u001b[0m \u001b[0;34m=\u001b[0m \u001b[0mparam\u001b[0m\u001b[0;34m\u001b[0m\u001b[0m\n\u001b[1;32m    273\u001b[0m             \u001b[0mfull_param\u001b[0m\u001b[0;34m[\u001b[0m\u001b[0mself\u001b[0m\u001b[0;34m.\u001b[0m\u001b[0m_fixed_pairs_ids\u001b[0m\u001b[0;34m]\u001b[0m \u001b[0;34m=\u001b[0m \u001b[0mself\u001b[0m\u001b[0;34m.\u001b[0m\u001b[0m_fixed_params_list\u001b[0m\u001b[0;34m\u001b[0m\u001b[0m\n\u001b[0;32m--> 274\u001b[0;31m             \u001b[0mintput_sample\u001b[0m \u001b[0;34m=\u001b[0m \u001b[0mself\u001b[0m\u001b[0;34m.\u001b[0m\u001b[0m_get_sample\u001b[0m\u001b[0;34m(\u001b[0m\u001b[0mfull_param\u001b[0m\u001b[0;34m,\u001b[0m \u001b[0mn_input_sample\u001b[0m\u001b[0;34m)\u001b[0m\u001b[0;34m\u001b[0m\u001b[0m\n\u001b[0m\u001b[1;32m    275\u001b[0m             \u001b[0minput_samples\u001b[0m\u001b[0;34m.\u001b[0m\u001b[0mappend\u001b[0m\u001b[0;34m(\u001b[0m\u001b[0mintput_sample\u001b[0m\u001b[0;34m)\u001b[0m\u001b[0;34m\u001b[0m\u001b[0m\n\u001b[1;32m    276\u001b[0m \u001b[0;34m\u001b[0m\u001b[0m\n",
      "\u001b[0;32m~/git-repo/impact-of-dependence/depimpact/conservative.py\u001b[0m in \u001b[0;36m_get_sample\u001b[0;34m(self, param, n_sample, param2)\u001b[0m\n\u001b[1;32m    414\u001b[0m             \u001b[0;31m# TODO: One param is used. Do it for two parameters copulas.\u001b[0m\u001b[0;34m\u001b[0m\u001b[0;34m\u001b[0m\u001b[0m\n\u001b[1;32m    415\u001b[0m             vine_copula = VineCopula(self._vine_structure, self._families,\n\u001b[0;32m--> 416\u001b[0;31m                                      matrix_param)\n\u001b[0m\u001b[1;32m    417\u001b[0m             \u001b[0;31m# Sample from the copula\u001b[0m\u001b[0;34m\u001b[0m\u001b[0;34m\u001b[0m\u001b[0m\n\u001b[1;32m    418\u001b[0m             \u001b[0;31m# The reshape is in case there is only one sample (for RF tests)\u001b[0m\u001b[0;34m\u001b[0m\u001b[0;34m\u001b[0m\u001b[0m\n",
      "\u001b[0;32m~/git-repo/impact-of-dependence/depimpact/vinecopula.py\u001b[0m in \u001b[0;36m__init__\u001b[0;34m(self, structure, family, param1, param2)\u001b[0m\n\u001b[1;32m     41\u001b[0m         \u001b[0mself\u001b[0m\u001b[0;34m.\u001b[0m\u001b[0mparam2\u001b[0m \u001b[0;34m=\u001b[0m \u001b[0mparam2\u001b[0m\u001b[0;34m\u001b[0m\u001b[0m\n\u001b[1;32m     42\u001b[0m         \u001b[0mri\u001b[0m\u001b[0;34m.\u001b[0m\u001b[0minitr\u001b[0m\u001b[0;34m(\u001b[0m\u001b[0;34m)\u001b[0m\u001b[0;34m\u001b[0m\u001b[0m\n\u001b[0;32m---> 43\u001b[0;31m         \u001b[0mself\u001b[0m\u001b[0;34m.\u001b[0m\u001b[0mbuild_vine\u001b[0m\u001b[0;34m(\u001b[0m\u001b[0;34m)\u001b[0m\u001b[0;34m\u001b[0m\u001b[0m\n\u001b[0m\u001b[1;32m     44\u001b[0m \u001b[0;34m\u001b[0m\u001b[0m\n\u001b[1;32m     45\u001b[0m     \u001b[0;34m@\u001b[0m\u001b[0mproperty\u001b[0m\u001b[0;34m\u001b[0m\u001b[0m\n",
      "\u001b[0;32m~/git-repo/impact-of-dependence/depimpact/vinecopula.py\u001b[0m in \u001b[0;36mbuild_vine\u001b[0;34m(self)\u001b[0m\n\u001b[1;32m    117\u001b[0m         \u001b[0mr_par2\u001b[0m \u001b[0;34m=\u001b[0m \u001b[0mnumpy2ri\u001b[0m\u001b[0;34m(\u001b[0m\u001b[0mpermute_params\u001b[0m\u001b[0;34m(\u001b[0m\u001b[0mself\u001b[0m\u001b[0;34m.\u001b[0m\u001b[0mparam2\u001b[0m\u001b[0;34m,\u001b[0m \u001b[0mself\u001b[0m\u001b[0;34m.\u001b[0m\u001b[0mstructure\u001b[0m\u001b[0;34m)\u001b[0m\u001b[0;34m)\u001b[0m\u001b[0;34m\u001b[0m\u001b[0m\n\u001b[1;32m    118\u001b[0m         self._rvine = VINECOPULA.RVineMatrix(\n\u001b[0;32m--> 119\u001b[0;31m             r_structure, r_family, r_par, r_par2)\n\u001b[0m\u001b[1;32m    120\u001b[0m         \u001b[0mself\u001b[0m\u001b[0;34m.\u001b[0m\u001b[0m_to_rebuild\u001b[0m \u001b[0;34m=\u001b[0m \u001b[0;32mFalse\u001b[0m\u001b[0;34m\u001b[0m\u001b[0m\n\u001b[1;32m    121\u001b[0m \u001b[0;34m\u001b[0m\u001b[0m\n",
      "\u001b[0;32m~/anaconda/lib/python3.6/site-packages/rpy2/robjects/functions.py\u001b[0m in \u001b[0;36m__call__\u001b[0;34m(self, *args, **kwargs)\u001b[0m\n\u001b[1;32m    176\u001b[0m                 \u001b[0mv\u001b[0m \u001b[0;34m=\u001b[0m \u001b[0mkwargs\u001b[0m\u001b[0;34m.\u001b[0m\u001b[0mpop\u001b[0m\u001b[0;34m(\u001b[0m\u001b[0mk\u001b[0m\u001b[0;34m)\u001b[0m\u001b[0;34m\u001b[0m\u001b[0m\n\u001b[1;32m    177\u001b[0m                 \u001b[0mkwargs\u001b[0m\u001b[0;34m[\u001b[0m\u001b[0mr_k\u001b[0m\u001b[0;34m]\u001b[0m \u001b[0;34m=\u001b[0m \u001b[0mv\u001b[0m\u001b[0;34m\u001b[0m\u001b[0m\n\u001b[0;32m--> 178\u001b[0;31m         \u001b[0;32mreturn\u001b[0m \u001b[0msuper\u001b[0m\u001b[0;34m(\u001b[0m\u001b[0mSignatureTranslatedFunction\u001b[0m\u001b[0;34m,\u001b[0m \u001b[0mself\u001b[0m\u001b[0;34m)\u001b[0m\u001b[0;34m.\u001b[0m\u001b[0m__call__\u001b[0m\u001b[0;34m(\u001b[0m\u001b[0;34m*\u001b[0m\u001b[0margs\u001b[0m\u001b[0;34m,\u001b[0m \u001b[0;34m**\u001b[0m\u001b[0mkwargs\u001b[0m\u001b[0;34m)\u001b[0m\u001b[0;34m\u001b[0m\u001b[0m\n\u001b[0m\u001b[1;32m    179\u001b[0m \u001b[0;34m\u001b[0m\u001b[0m\n\u001b[1;32m    180\u001b[0m \u001b[0mpattern_link\u001b[0m \u001b[0;34m=\u001b[0m \u001b[0mre\u001b[0m\u001b[0;34m.\u001b[0m\u001b[0mcompile\u001b[0m\u001b[0;34m(\u001b[0m\u001b[0;34mr'\\\\link\\{(.+?)\\}'\u001b[0m\u001b[0;34m)\u001b[0m\u001b[0;34m\u001b[0m\u001b[0m\n",
      "\u001b[0;32m~/anaconda/lib/python3.6/site-packages/rpy2/robjects/functions.py\u001b[0m in \u001b[0;36m__call__\u001b[0;34m(self, *args, **kwargs)\u001b[0m\n\u001b[1;32m    104\u001b[0m         \u001b[0;32mfor\u001b[0m \u001b[0mk\u001b[0m\u001b[0;34m,\u001b[0m \u001b[0mv\u001b[0m \u001b[0;32min\u001b[0m \u001b[0mkwargs\u001b[0m\u001b[0;34m.\u001b[0m\u001b[0mitems\u001b[0m\u001b[0;34m(\u001b[0m\u001b[0;34m)\u001b[0m\u001b[0;34m:\u001b[0m\u001b[0;34m\u001b[0m\u001b[0m\n\u001b[1;32m    105\u001b[0m             \u001b[0mnew_kwargs\u001b[0m\u001b[0;34m[\u001b[0m\u001b[0mk\u001b[0m\u001b[0;34m]\u001b[0m \u001b[0;34m=\u001b[0m \u001b[0mconversion\u001b[0m\u001b[0;34m.\u001b[0m\u001b[0mpy2ri\u001b[0m\u001b[0;34m(\u001b[0m\u001b[0mv\u001b[0m\u001b[0;34m)\u001b[0m\u001b[0;34m\u001b[0m\u001b[0m\n\u001b[0;32m--> 106\u001b[0;31m         \u001b[0mres\u001b[0m \u001b[0;34m=\u001b[0m \u001b[0msuper\u001b[0m\u001b[0;34m(\u001b[0m\u001b[0mFunction\u001b[0m\u001b[0;34m,\u001b[0m \u001b[0mself\u001b[0m\u001b[0;34m)\u001b[0m\u001b[0;34m.\u001b[0m\u001b[0m__call__\u001b[0m\u001b[0;34m(\u001b[0m\u001b[0;34m*\u001b[0m\u001b[0mnew_args\u001b[0m\u001b[0;34m,\u001b[0m \u001b[0;34m**\u001b[0m\u001b[0mnew_kwargs\u001b[0m\u001b[0;34m)\u001b[0m\u001b[0;34m\u001b[0m\u001b[0m\n\u001b[0m\u001b[1;32m    107\u001b[0m         \u001b[0mres\u001b[0m \u001b[0;34m=\u001b[0m \u001b[0mconversion\u001b[0m\u001b[0;34m.\u001b[0m\u001b[0mri2ro\u001b[0m\u001b[0;34m(\u001b[0m\u001b[0mres\u001b[0m\u001b[0;34m)\u001b[0m\u001b[0;34m\u001b[0m\u001b[0m\n\u001b[1;32m    108\u001b[0m         \u001b[0;32mreturn\u001b[0m \u001b[0mres\u001b[0m\u001b[0;34m\u001b[0m\u001b[0m\n",
      "\u001b[0;31mRRuntimeError\u001b[0m: Erreur : \n In function (Matrix, family = array(0, dim = dim(Matrix)), par = array(NA, dim = dim(Matrix)), par2 = array(NA, dim = dim(Matrix)), names = NULL, check.pars = TRUE) \n{\n    args <- preproc(c(as.list(environment()), call = match.call()), check_matrix, check_fammat, check_parmat, check_par2mat)\n    list2env(args, environment())\n    if (length(names) > 0 & length(names) != dim(Matrix)[1]) \n        stop(\"Length of the vector 'names' is not correct.\")\n    sel <- lower.tri(family)\n    if (check.pars & (any(family != 0) | any(!is.na(par)))) {\n        BiCopCheck(family[sel], par[sel], par2[sel], call = match.call())\n    }\n    MaxMat <- createMaxMat(Matrix)\n    CondDistr <- neededCondDistr(Matrix)\n    RVM <- list(Matrix = Matrix, family = family, par = par, par2 = par2, names = names, MaxMat = MaxMat, CondDistr = CondDistr)\n    class(RVM) <- \"RVineMatrix\"\n    if (is.CVine(RVM)) {\n        RVM$type <- \"C-vine\"\n    }\n    else if (is.DVine(RVM)) {\n        RVM$type <- \"D-vine\"\n    }\n    e\n"
     ]
    }
   ],
   "source": [
    "cop_ids = [1, 3, 4, 6]\n",
    "grid_results = {}\n",
    "for cop_id in cop_ids:\n",
    "    families = np.tril(np.ones((dim, dim), dtype=int)*cop_id, k=-1)\n",
    "    quant_estimate = ConservativeEstimate(model_func=func_sum, margins=margins, families=families)\n",
    "    grid_result = quant_estimate.gridsearch(n_dep_param=K, n_input_sample=n, grid_type=grid_type, dep_measure=dep_measure)\n",
    "    grid_result.q_func = q_func\n",
    "    min_result = grid_result.min_result\n",
    "    print('Minimum quantile: {} at param: {}'.format(min_result.quantity, min_result.kendall_tau))\n",
    "    grid_results[cop_id] = grid_result"
   ]
  },
  {
   "cell_type": "code",
   "execution_count": null,
   "metadata": {
    "scrolled": false
   },
   "outputs": [],
   "source": [
    "from depimpact.plots import plot_quantities\n",
    "    \n",
    "labels = ['Copula %d' % (cop_id) for cop_id in cop_ids]\n",
    "results = list(grid_results.values())\n",
    "fig, axes = plot_quantities(results, quantity_name='Quantile', label=labels, plot_scatter=False, n_bins=12)\n",
    "fig.tight_layout()"
   ]
  }
 ],
 "metadata": {
  "kernelspec": {
   "display_name": "Python 3",
   "language": "python",
   "name": "python3"
  },
  "language_info": {
   "codemirror_mode": {
    "name": "ipython",
    "version": 3
   },
   "file_extension": ".py",
   "mimetype": "text/x-python",
   "name": "python",
   "nbconvert_exporter": "python",
   "pygments_lexer": "ipython3",
   "version": "3.6.4"
  }
 },
 "nbformat": 4,
 "nbformat_minor": 2
}
