{
 "cells": [
  {
   "cell_type": "code",
   "execution_count": 1,
   "metadata": {
    "collapsed": true
   },
   "outputs": [],
   "source": [
    "import numpy as np\n",
    "import openturns as ot\n",
    "from dependence import ConservativeEstimate\n",
    "from dependence import quantile_func\n",
    "import dask\n",
    "from dependence.utils import get_grid_sample\n",
    "from dependence.tests.test_functions import func_cum_sum_weight\n",
    "from dependence.tests.test_functions import func_spec\n",
    "from dependence.dependence_plot import set_style_paper\n",
    "\n",
    "import matplotlib.pyplot as plt\n",
    "%matplotlib inline"
   ]
  },
  {
   "cell_type": "code",
   "execution_count": 2,
   "metadata": {
    "collapsed": true
   },
   "outputs": [],
   "source": [
    "K = 100\n",
    "n = 10000\n",
    "dim = 6\n",
    "alpha = 0.1\n",
    "tau_max = 0.8\n",
    "q_func = quantile_func(alpha)\n",
    "template_function = func_spec\n",
    "families = np.tril(np.ones((dim, dim), dtype=int), k=-1)\n",
    "corr_dim = int(dim*(dim-1)/2)"
   ]
  },
  {
   "cell_type": "code",
   "execution_count": 6,
   "metadata": {
    "collapsed": true
   },
   "outputs": [],
   "source": [
    "def objective(hyperparams, verbose=False):\n",
    "    margin_params = hyperparams[:dim*2]\n",
    "    model_params = hyperparams[dim*2:]\n",
    "    \n",
    "    margins = []\n",
    "    for a, b in zip(margin_params[:-1:2], margin_params[1::2]):\n",
    "        marginal = ot.Uniform(a, b)\n",
    "        if verbose:\n",
    "            print(marginal)\n",
    "        margins.append(marginal)\n",
    "        \n",
    "    func = lambda x: template_function(x, a=model_params)\n",
    "    quant_estimate = ConservativeEstimate(model_func=func, margins=margins, families=families)\n",
    "    \n",
    "    indep_quant = quant_estimate.independence(n, q_func=q_func, keep_input_sample=False)\n",
    "    grid_result = quant_estimate.gridsearch(K, n, q_func=q_func, grid_type='lhs', keep_input_samples=False)\n",
    "    \n",
    "    indep_quant = indep_quant.quantity\n",
    "    min_result = grid_result.min_result   \n",
    "    min_quantity = min_result.quantity\n",
    "    min_kendall = min_result.kendall_tau    \n",
    "    deviation = indep_quant - min_quantity\n",
    "    \n",
    "    constraint = 0.\n",
    "    for kendall in min_kendall:\n",
    "        constraint += max(0., abs(kendall) - tau_max)\n",
    "    \n",
    "    print('Mean of min kendall:', np.mean(np.abs(min_kendall)))\n",
    "    print('Deviation:', deviation)\n",
    "    return deviation**2 * (10*constraint - 1.)"
   ]
  },
  {
   "cell_type": "code",
   "execution_count": 7,
   "metadata": {
    "collapsed": true
   },
   "outputs": [],
   "source": [
    "from skopt import gp_minimize\n",
    "\n",
    "space_margin_params = []\n",
    "for i in range(dim):\n",
    "    space_margin_params.append((-5., -0.1))\n",
    "    space_margin_params.append((0.1, 5.))\n",
    "    \n",
    "space_model_params = [(-1., 1.)]*8\n",
    "space = space_margin_params + space_model_params"
   ]
  },
  {
   "cell_type": "code",
   "execution_count": null,
   "metadata": {},
   "outputs": [
    {
     "name": "stdout",
     "output_type": "stream",
     "text": [
      "Iteration No: 1 started. Evaluating function at random point.\n",
      "('Mean of min kendall:', 0.57089999999999996)\n",
      "('Deviation:', 2.759381776243452)\n",
      "Iteration No: 1 ended. Evaluation done at random point.\n",
      "Time taken: 24.6921\n",
      "Function value obtained: 26.2766\n",
      "Current minimum: 26.2766\n",
      "Iteration No: 2 started. Evaluating function at random point.\n",
      "('Mean of min kendall:', 0.48774000000000001)\n",
      "('Deviation:', 177.09495316240077)\n",
      "Iteration No: 2 ended. Evaluation done at random point.\n",
      "Time taken: 24.8495\n",
      "Function value obtained: 1474.0433\n",
      "Current minimum: 26.2766\n",
      "Iteration No: 3 started. Evaluating function at random point.\n",
      "('Mean of min kendall:', 0.55637999999999999)\n",
      "('Deviation:', 3.9201074624005052)\n",
      "Iteration No: 3 ended. Evaluation done at random point.\n",
      "Time taken: 24.2524\n",
      "Function value obtained: 52.7404\n",
      "Current minimum: 26.2766\n",
      "Iteration No: 4 started. Evaluating function at random point.\n",
      "('Mean of min kendall:', 0.56165999999999994)\n",
      "('Deviation:', 90083.18941963543)\n",
      "Iteration No: 4 ended. Evaluation done at random point.\n",
      "Time taken: 24.0358\n",
      "Function value obtained: 16757435798.0687\n",
      "Current minimum: 26.2766\n",
      "Iteration No: 5 started. Evaluating function at random point.\n",
      "('Mean of min kendall:', 0.38874000000000003)\n",
      "('Deviation:', 0.1399667637405273)\n",
      "Iteration No: 5 ended. Evaluation done at random point.\n",
      "Time taken: 24.6073\n",
      "Function value obtained: 0.0277\n",
      "Current minimum: 0.0277\n",
      "Iteration No: 6 started. Evaluating function at random point.\n",
      "('Mean of min kendall:', 0.5774999999999999)\n",
      "('Deviation:', 3039.3480832437003)\n",
      "Iteration No: 6 ended. Evaluation done at random point.\n",
      "Time taken: 25.0548\n",
      "Function value obtained: 48516068.3219\n",
      "Current minimum: 0.0277\n",
      "Iteration No: 7 started. Evaluating function at random point.\n",
      "('Mean of min kendall:', 0.56562000000000012)\n",
      "('Deviation:', 2.6648752427774482)\n",
      "Iteration No: 7 ended. Evaluation done at random point.\n",
      "Time taken: 24.5877\n",
      "Function value obtained: 18.8830\n",
      "Current minimum: 0.0277\n",
      "Iteration No: 8 started. Evaluating function at random point.\n",
      "('Mean of min kendall:', 0.38741999999999993)\n",
      "('Deviation:', -0.25880484733662)\n",
      "Iteration No: 8 ended. Evaluation done at random point.\n",
      "Time taken: 24.4944\n",
      "Function value obtained: 0.0006\n",
      "Current minimum: 0.0006\n",
      "Iteration No: 9 started. Evaluating function at random point.\n"
     ]
    }
   ],
   "source": [
    "n_calls = 700\n",
    "n_random_starts = 500\n",
    "\n",
    "res = gp_minimize(objective, space, n_calls=n_calls, verbose=True, n_random_starts=n_random_starts)"
   ]
  },
  {
   "cell_type": "markdown",
   "metadata": {},
   "source": [
    "## Plot of the result"
   ]
  },
  {
   "cell_type": "code",
   "execution_count": null,
   "metadata": {
    "collapsed": true
   },
   "outputs": [],
   "source": [
    "K = 100\n",
    "margin_params = res.x[:dim*2]\n",
    "model_params = res.x[dim*2:]\n",
    "res_margins = []\n",
    "for a, b in zip(margin_params[:-1:2], margin_params[1::2]):\n",
    "    res_margins.append(ot.Uniform(a, b))\n",
    "res_func = lambda x: template_function(x, a=model_params)\n",
    "res_quant_estimate = ConservativeEstimate(model_func=res_func, margins=res_margins, families=families)"
   ]
  },
  {
   "cell_type": "code",
   "execution_count": null,
   "metadata": {},
   "outputs": [],
   "source": [
    "grid_result_lhs = res_quant_estimate.gridsearch(K, n, q_func=q_func, grid_type='lhs', keep_input_samples=False)\n",
    "print('Min quantile: {0}\\nMin Kendall: {1}'.format(grid_result_lhs.min_result.quantity, grid_result_lhs.min_result.kendall_tau))"
   ]
  },
  {
   "cell_type": "code",
   "execution_count": null,
   "metadata": {},
   "outputs": [],
   "source": [
    "grid_result_vertices = res_quant_estimate.gridsearch(K, n, q_func=q_func, grid_type='vertices', keep_input_samples=False)\n",
    "print('Min quantile: {0}\\nMin Kendall: {1}'.format(grid_result_vertices.min_result.quantity, grid_result_vertices.min_result.kendall_tau))"
   ]
  },
  {
   "cell_type": "code",
   "execution_count": null,
   "metadata": {},
   "outputs": [],
   "source": [
    "indep_result = res_quant_estimate.independence(n, q_func=q_func, keep_input_sample=False)\n",
    "print('Min quantile: {0} at independence'.format(indep_result.quantity))"
   ]
  },
  {
   "cell_type": "code",
   "execution_count": null,
   "metadata": {
    "collapsed": true
   },
   "outputs": [],
   "source": [
    "kendalls_lhs = grid_result_lhs.kendalls\n",
    "kendalls_vertices = grid_result_vertices.kendalls\n",
    "dev_kendall_lhs = abs(kendalls_lhs).mean(axis=1)\n",
    "dev_kendall_vertices = abs(kendalls_vertices).mean(axis=1)\n",
    "quantities_lhs = grid_result_lhs.quantities\n",
    "quantities_vertices = grid_result_vertices.quantities\n",
    "quantity_indep = indep_result.quantity"
   ]
  },
  {
   "cell_type": "code",
   "execution_count": null,
   "metadata": {
    "collapsed": true
   },
   "outputs": [],
   "source": [
    "min_kendall_lhs = grid_result_lhs.min_result.kendall_tau\n",
    "min_kendall_vertices = grid_result_vertices.min_result.kendall_tau\n",
    "min_dev_kendall_lhs = np.abs(min_kendall_lhs).mean()\n",
    "min_dev_kendall_vertices = np.abs(min_kendall_vertices).mean()\n",
    "min_quantity_lhs = grid_result_lhs.min_result.quantity\n",
    "min_quantity_vertices = grid_result_vertices.min_result.quantity"
   ]
  },
  {
   "cell_type": "code",
   "execution_count": null,
   "metadata": {},
   "outputs": [],
   "source": [
    "set_style_paper()\n",
    "fig, ax = plt.subplots(figsize=(7, 4))    \n",
    "ax.plot(dev_kendall_lhs, quantities_lhs, 'g.', label='EGS K=%d' % (K))\n",
    "ax.plot(min_dev_kendall_lhs, min_quantity_lhs, 'go', label='Min EGS')\n",
    "ax.plot(dev_kendall_vertices, quantities_vertices, 'r.', label='BEGS K=%d' % (min(K, 3**dim-1)))\n",
    "ax.plot(min_dev_kendall_vertices, min_quantity_vertices, 'ro', label='Min BEGS')\n",
    "ax.plot(0., quantity_indep, 'bo', label='Independence')\n",
    "ax.legend(loc=0)\n",
    "ax.set_xlabel('Kendall coefficient deviation')\n",
    "ax.set_ylabel('Quantile at $\\\\alpha = %.2f$' % (alpha))\n",
    "fig.tight_layout()\n",
    "fig.savefig('./output/optim/non_monotonic_multidim_test_quantile_dim_%d_K_%d.pdf' % (dim, K))\n",
    "fig.savefig('./output/optim/non_monotonic_multidim_test_quantile_dim_%d_K_%d.png' % (dim, K))"
   ]
  },
  {
   "cell_type": "code",
   "execution_count": null,
   "metadata": {},
   "outputs": [],
   "source": [
    "fig, axes = plt.subplots(dim-1, dim-1, figsize=(3*dim, 2.5*dim), sharex=True, sharey=True)\n",
    "\n",
    "k = 0\n",
    "for i in range(dim-1):\n",
    "    for j in range(i+1):\n",
    "        ax = axes[i, j] if dim > 2 else axes\n",
    "        ax.plot(kendalls_lhs[:, k], quantities_lhs, 'g.', label='EGS K=%d' % (K))\n",
    "        ax.plot(min_kendall_lhs[k], min_quantity_lhs, 'go', label='Min EGS')\n",
    "        ax.plot(kendalls_vertices[:, k], quantities_vertices, 'r.', label='BEGS K=%d' % (min(K, 3**dim-1)))\n",
    "        ax.plot(min_kendall_vertices[k], min_quantity_vertices, 'ro', label='Min BEGS')\n",
    "        ax.plot(0., quantity_indep, 'bo', label='Independence')\n",
    "        k += 1\n",
    "        if i == dim-2:\n",
    "            ax.set_xlabel('Kendall coefficient')\n",
    "        if j == 0:\n",
    "            ax.set_ylabel('Quantile at $\\\\alpha = %.2f$' % (alpha))\n",
    "        if i == j+1:\n",
    "            ax.legend(loc=0)\n",
    "            \n",
    "fig.tight_layout()\n",
    "fig.savefig('./output/optim/matrix_plot_non_monotonic_multidim_test_quantile_dim_%d_K_%d.pdf' % (dim, K))\n",
    "fig.savefig('./output/optim/matrix_plot_non_monotonic_multidim_test_quantile_dim_%d_K_%d.png' % (dim, K))"
   ]
  },
  {
   "cell_type": "code",
   "execution_count": null,
   "metadata": {
    "collapsed": true
   },
   "outputs": [],
   "source": []
  },
  {
   "cell_type": "code",
   "execution_count": null,
   "metadata": {
    "collapsed": true
   },
   "outputs": [],
   "source": []
  }
 ],
 "metadata": {
  "kernelspec": {
   "display_name": "Python [Root]",
   "language": "python",
   "name": "Python [Root]"
  },
  "language_info": {
   "codemirror_mode": {
    "name": "ipython",
    "version": 2
   },
   "file_extension": ".py",
   "mimetype": "text/x-python",
   "name": "python",
   "nbconvert_exporter": "python",
   "pygments_lexer": "ipython2",
   "version": "2.7.13"
  }
 },
 "nbformat": 4,
 "nbformat_minor": 2
}
