{
 "cells": [
  {
   "cell_type": "code",
   "execution_count": 1,
   "metadata": {
    "collapsed": true
   },
   "outputs": [],
   "source": [
    "import numpy as np\n",
    "import openturns as ot\n",
    "from dependence import ConservativeEstimate\n",
    "from dependence import quantile_func\n",
    "import dask\n",
    "from dependence.utils import get_grid_sample\n",
    "from dependence.tests.test_functions import func_cum_sum_weight\n",
    "from dependence.tests.test_functions import func_spec\n",
    "from dependence.dependence_plot import set_style_paper\n",
    "\n",
    "import matplotlib.pyplot as plt\n",
    "%matplotlib inline\n",
    "\n",
    "%load_ext autoreload\n",
    "%autoreload 2"
   ]
  },
  {
   "cell_type": "code",
   "execution_count": 2,
   "metadata": {
    "collapsed": true
   },
   "outputs": [],
   "source": [
    "K = 200\n",
    "n = 10000\n",
    "dim = 4\n",
    "alpha = 0.1\n",
    "tau_max = 0.8\n",
    "q_func = quantile_func(alpha)\n",
    "template_function = func_spec\n",
    "families = np.tril(np.ones((dim, dim), dtype=int), k=-1)\n",
    "corr_dim = int(dim*(dim-1)/2)"
   ]
  },
  {
   "cell_type": "code",
   "execution_count": 3,
   "metadata": {
    "collapsed": true
   },
   "outputs": [],
   "source": [
    "def objective(hyperparams, verbose=False):\n",
    "    margin_params = hyperparams[:dim*2]\n",
    "    model_params = hyperparams[dim*2:]\n",
    "    \n",
    "    margins = []\n",
    "    for a, b in zip(margin_params[:-1:2], margin_params[1::2]):\n",
    "        marginal = ot.Uniform(a, b)\n",
    "        if verbose:\n",
    "            print(marginal)\n",
    "        margins.append(marginal)\n",
    "        \n",
    "    func = lambda x: template_function(x, a=model_params)\n",
    "    quant_estimate = ConservativeEstimate(model_func=func, margins=margins, families=families)\n",
    "    \n",
    "    indep_quant = quant_estimate.independence(n, q_func=q_func, keep_input_sample=False)\n",
    "    grid_result = quant_estimate.gridsearch(K, n, q_func=q_func, grid_type='lhs', keep_input_samples=False)\n",
    "    \n",
    "    indep_quant = indep_quant.quantity\n",
    "    min_result = grid_result.min_result   \n",
    "    min_quantity = min_result.quantity\n",
    "    min_kendall = min_result.kendall_tau    \n",
    "    deviation = indep_quant - min_quantity\n",
    "    \n",
    "    constraint = 0.\n",
    "    for kendall in min_kendall:\n",
    "        constraint += max(0., abs(kendall) - tau_max)\n",
    "    \n",
    "    print('Mean of min kendall:', np.mean(np.abs(min_kendall)))\n",
    "    print('Deviation:', deviation)\n",
    "    return deviation**2 * (100*constraint - 1.)"
   ]
  },
  {
   "cell_type": "code",
   "execution_count": null,
   "metadata": {
    "collapsed": true
   },
   "outputs": [],
   "source": [
    "from skopt import gp_minimize\n",
    "\n",
    "space_margin_params = []\n",
    "for i in range(dim):\n",
    "    space_margin_params.append((-1., -0.01))\n",
    "    space_margin_params.append((0.01, 1.))\n",
    "    \n",
    "space_model_params = [(-1., 1.)]*6\n",
    "space = space_margin_params + space_model_params"
   ]
  },
  {
   "cell_type": "code",
   "execution_count": null,
   "metadata": {},
   "outputs": [
    {
     "name": "stdout",
     "output_type": "stream",
     "text": [
      "Iteration No: 1 started. Evaluating function at random point.\n",
      "('Mean of min kendall:', 0.55275000000000007)\n",
      "('Deviation:', 0.3054226148523935)\n",
      "Iteration No: 1 ended. Evaluation done at random point.\n",
      "Time taken: 24.2852\n",
      "Function value obtained: -0.0933\n",
      "Current minimum: -0.0933\n",
      "Iteration No: 2 started. Evaluating function at random point.\n",
      "('Mean of min kendall:', 0.73919999999999997)\n",
      "('Deviation:', 0.821418883110292)\n",
      "Iteration No: 2 ended. Evaluation done at random point.\n",
      "Time taken: 23.1057\n",
      "Function value obtained: 20.9571\n",
      "Current minimum: -0.0933\n",
      "Iteration No: 3 started. Evaluating function at random point.\n",
      "('Mean of min kendall:', 0.65669999999999995)\n",
      "('Deviation:', 0.13927403788219994)\n",
      "Iteration No: 3 ended. Evaluation done at random point.\n",
      "Time taken: 22.7569\n",
      "Function value obtained: 0.2184\n",
      "Current minimum: -0.0933\n",
      "Iteration No: 4 started. Evaluating function at random point.\n",
      "('Mean of min kendall:', 0.61875000000000002)\n",
      "('Deviation:', 0.24025739380184863)\n",
      "Iteration No: 4 ended. Evaluation done at random point.\n",
      "Time taken: 22.9538\n",
      "Function value obtained: 0.6676\n",
      "Current minimum: -0.0933\n",
      "Iteration No: 5 started. Evaluating function at random point.\n",
      "('Mean of min kendall:', 0.71445000000000025)\n",
      "('Deviation:', 0.5271181750039338)\n",
      "Iteration No: 5 ended. Evaluation done at random point.\n",
      "Time taken: 22.9858\n",
      "Function value obtained: 11.8463\n",
      "Current minimum: -0.0933\n",
      "Iteration No: 6 started. Evaluating function at random point.\n",
      "('Mean of min kendall:', 0.79199999999999993)\n",
      "('Deviation:', 0.3570503714098834)\n",
      "Iteration No: 6 ended. Evaluation done at random point.\n",
      "Time taken: 22.6487\n",
      "Function value obtained: 7.0372\n",
      "Current minimum: -0.0933\n",
      "Iteration No: 7 started. Evaluating function at random point.\n",
      "('Mean of min kendall:', 0.6583500000000001)\n",
      "('Deviation:', 0.2341021630385529)\n",
      "Iteration No: 7 ended. Evaluation done at random point.\n",
      "Time taken: 22.9217\n",
      "Function value obtained: 0.9426\n",
      "Current minimum: -0.0933\n",
      "Iteration No: 8 started. Evaluating function at random point.\n",
      "('Mean of min kendall:', 0.44055000000000005)\n",
      "('Deviation:', 1.0666525160340223)\n",
      "Iteration No: 8 ended. Evaluation done at random point.\n",
      "Time taken: 22.8660\n",
      "Function value obtained: 7.5262\n",
      "Current minimum: -0.0933\n",
      "Iteration No: 9 started. Evaluating function at random point.\n",
      "('Mean of min kendall:', 0.60555000000000003)\n",
      "('Deviation:', 0.5453617149927612)\n",
      "Iteration No: 9 ended. Evaluation done at random point.\n",
      "Time taken: 22.4849\n",
      "Function value obtained: 2.4656\n",
      "Current minimum: -0.0933\n",
      "Iteration No: 10 started. Evaluating function at random point.\n",
      "('Mean of min kendall:', 0.81179999999999997)\n",
      "('Deviation:', 0.4366438012477776)\n",
      "Iteration No: 10 ended. Evaluation done at random point.\n",
      "Time taken: 23.0413\n",
      "Function value obtained: 5.8637\n",
      "Current minimum: -0.0933\n",
      "Iteration No: 11 started. Evaluating function at random point.\n",
      "('Mean of min kendall:', 0.69299999999999995)\n",
      "('Deviation:', 0.7453713153551842)\n",
      "Iteration No: 11 ended. Evaluation done at random point.\n",
      "Time taken: 22.8814\n",
      "Function value obtained: 9.9365\n",
      "Current minimum: -0.0933\n",
      "Iteration No: 12 started. Evaluating function at random point.\n",
      "('Mean of min kendall:', 0.42404999999999998)\n",
      "('Deviation:', 0.09659168474079116)\n",
      "Iteration No: 12 ended. Evaluation done at random point.\n",
      "Time taken: 23.2036\n",
      "Function value obtained: 0.0894\n",
      "Current minimum: -0.0933\n",
      "Iteration No: 13 started. Evaluating function at random point.\n",
      "('Mean of min kendall:', 0.67980000000000007)\n",
      "('Deviation:', 0.5556500264446773)\n",
      "Iteration No: 13 ended. Evaluation done at random point.\n",
      "Time taken: 23.0504\n",
      "Function value obtained: 8.2729\n",
      "Current minimum: -0.0933\n",
      "Iteration No: 14 started. Evaluating function at random point.\n",
      "('Mean of min kendall:', 0.46200000000000002)\n",
      "('Deviation:', 0.05083090370487353)\n",
      "Iteration No: 14 ended. Evaluation done at random point.\n",
      "Time taken: 23.1904\n",
      "Function value obtained: -0.0026\n",
      "Current minimum: -0.0933\n",
      "Iteration No: 15 started. Evaluating function at random point.\n",
      "('Mean of min kendall:', 0.56759999999999999)\n",
      "('Deviation:', 0.18246244880515183)\n",
      "Iteration No: 15 ended. Evaluation done at random point.\n",
      "Time taken: 24.0936\n",
      "Function value obtained: 0.8033\n",
      "Current minimum: -0.0933\n",
      "Iteration No: 16 started. Evaluating function at random point.\n",
      "('Mean of min kendall:', 0.67154999999999998)\n",
      "('Deviation:', 0.39352650275611945)\n",
      "Iteration No: 16 ended. Evaluation done at random point.\n",
      "Time taken: 23.5520\n",
      "Function value obtained: 3.0291\n",
      "Current minimum: -0.0933\n",
      "Iteration No: 17 started. Evaluating function at random point.\n",
      "('Mean of min kendall:', 0.62534999999999996)\n",
      "('Deviation:', 0.8290347607648338)\n",
      "Iteration No: 17 ended. Evaluation done at random point.\n",
      "Time taken: 23.4424\n",
      "Function value obtained: 11.1411\n",
      "Current minimum: -0.0933\n",
      "Iteration No: 18 started. Evaluating function at random point.\n",
      "('Mean of min kendall:', 0.64185000000000003)\n",
      "('Deviation:', 0.514973020359379)\n",
      "Iteration No: 18 ended. Evaluation done at random point.\n",
      "Time taken: 23.4900\n",
      "Function value obtained: 2.1985\n",
      "Current minimum: -0.0933\n",
      "Iteration No: 19 started. Evaluating function at random point.\n",
      "('Mean of min kendall:', 0.6946500000000001)\n",
      "('Deviation:', 0.8562404195088538)\n",
      "Iteration No: 19 ended. Evaluation done at random point.\n",
      "Time taken: 23.3342\n",
      "Function value obtained: 18.4167\n",
      "Current minimum: -0.0933\n",
      "Iteration No: 20 started. Evaluating function at random point.\n",
      "('Mean of min kendall:', 0.65670000000000006)\n",
      "('Deviation:', 0.534698049938902)\n",
      "Iteration No: 20 ended. Evaluation done at random point.\n",
      "Time taken: 22.6837\n",
      "Function value obtained: 2.0871\n",
      "Current minimum: -0.0933\n",
      "Iteration No: 21 started. Evaluating function at random point.\n",
      "('Mean of min kendall:', 0.49830000000000024)\n",
      "('Deviation:', 0.7836149974595696)\n",
      "Iteration No: 21 ended. Evaluation done at random point.\n",
      "Time taken: 23.5209\n",
      "Function value obtained: 10.7490\n",
      "Current minimum: -0.0933\n",
      "Iteration No: 22 started. Evaluating function at random point.\n",
      "('Mean of min kendall:', 0.52800000000000014)\n",
      "('Deviation:', 0.7470466941859177)\n",
      "Iteration No: 22 ended. Evaluation done at random point.\n",
      "Time taken: 23.2047\n",
      "Function value obtained: 7.9415\n",
      "Current minimum: -0.0933\n",
      "Iteration No: 23 started. Evaluating function at random point.\n"
     ]
    }
   ],
   "source": [
    "n_calls = 100\n",
    "n_random_starts = 80\n",
    "\n",
    "res = gp_minimize(objective, space, n_calls=n_calls, verbose=True, n_random_starts=n_random_starts)"
   ]
  },
  {
   "cell_type": "markdown",
   "metadata": {},
   "source": [
    "## Plot of the result"
   ]
  },
  {
   "cell_type": "code",
   "execution_count": null,
   "metadata": {
    "collapsed": true
   },
   "outputs": [],
   "source": [
    "K = 500\n",
    "margin_params = res.x[:dim*2]\n",
    "model_params = res.x[dim*2:]\n",
    "res_margins = []\n",
    "for a, b in zip(margin_params[:-1:2], margin_params[1::2]):\n",
    "    res_margins.append(ot.Uniform(a, b))\n",
    "res_func = lambda x: template_function(x, a=model_params)\n",
    "res_quant_estimate = ConservativeEstimate(model_func=res_func, margins=res_margins, families=families)"
   ]
  },
  {
   "cell_type": "code",
   "execution_count": null,
   "metadata": {
    "collapsed": true
   },
   "outputs": [],
   "source": [
    "grid_result_lhs = res_quant_estimate.gridsearch(K, n, q_func=q_func, grid_type='lhs', keep_input_samples=False)\n",
    "print('Min quantile: {0}\\nMin Kendall: {1}'.format(grid_result_lhs.min_result.quantity, grid_result_lhs.min_result.kendall_tau))"
   ]
  },
  {
   "cell_type": "code",
   "execution_count": null,
   "metadata": {
    "collapsed": true
   },
   "outputs": [],
   "source": [
    "grid_result_vertices = res_quant_estimate.gridsearch(K, n, q_func=q_func, grid_type='vertices', keep_input_samples=False)\n",
    "print('Min quantile: {0}\\nMin Kendall: {1}'.format(grid_result_vertices.min_result.quantity, grid_result_vertices.min_result.kendall_tau))"
   ]
  },
  {
   "cell_type": "code",
   "execution_count": null,
   "metadata": {
    "collapsed": true
   },
   "outputs": [],
   "source": [
    "indep_result = res_quant_estimate.independence(n, q_func=q_func, keep_input_sample=False)\n",
    "print('Min quantile: {0} at independence'.format(indep_result.quantity))"
   ]
  },
  {
   "cell_type": "code",
   "execution_count": null,
   "metadata": {
    "collapsed": true
   },
   "outputs": [],
   "source": [
    "kendalls_lhs = grid_result_lhs.kendalls\n",
    "kendalls_vertices = grid_result_vertices.kendalls\n",
    "dev_kendall_lhs = abs(kendalls_lhs).mean(axis=1)\n",
    "dev_kendall_vertices = abs(kendalls_vertices).mean(axis=1)\n",
    "quantities_lhs = grid_result_lhs.quantities\n",
    "quantities_vertices = grid_result_vertices.quantities\n",
    "quantity_indep = indep_result.quantity"
   ]
  },
  {
   "cell_type": "code",
   "execution_count": null,
   "metadata": {
    "collapsed": true
   },
   "outputs": [],
   "source": [
    "min_kendall_lhs = grid_result_lhs.min_result.kendall_tau\n",
    "min_kendall_vertices = grid_result_vertices.min_result.kendall_tau\n",
    "min_dev_kendall_lhs = np.abs(min_kendall_lhs).mean()\n",
    "min_dev_kendall_vertices = np.abs(min_kendall_vertices).mean()\n",
    "min_quantity_lhs = grid_result_lhs.min_result.quantity\n",
    "min_quantity_vertices = grid_result_vertices.min_result.quantity"
   ]
  },
  {
   "cell_type": "code",
   "execution_count": null,
   "metadata": {
    "collapsed": true
   },
   "outputs": [],
   "source": [
    "set_style_paper()\n",
    "fig, ax = plt.subplots(figsize=(7, 4))    \n",
    "ax.plot(dev_kendall_lhs, quantities_lhs, 'g.', label='EGS K=%d' % (K))\n",
    "ax.plot(min_dev_kendall_lhs, min_quantity_lhs, 'go', label='Min EGS')\n",
    "ax.plot(dev_kendall_vertices, quantities_vertices, 'r.', label='BEGS K=%d' % (min(K, 3**dim-1)))\n",
    "ax.plot(min_dev_kendall_vertices, min_quantity_vertices, 'ro', label='Min BEGS')\n",
    "ax.plot(0., quantity_indep, 'bo', label='Independence')\n",
    "ax.legend(loc=0)\n",
    "ax.set_xlabel('Kendall coefficient deviation')\n",
    "ax.set_ylabel('Quantile at $\\\\alpha = %.2f$' % (alpha))\n",
    "fig.tight_layout()\n",
    "fig.savefig('./output/optim/non_monotonic_multidim_test_quantile_dim_%d_K_%d.pdf' % (dim, K))\n",
    "fig.savefig('./output/optim/non_monotonic_multidim_test_quantile_dim_%d_K_%d.png' % (dim, K))"
   ]
  },
  {
   "cell_type": "code",
   "execution_count": null,
   "metadata": {
    "collapsed": true
   },
   "outputs": [],
   "source": [
    "fig, axes = plt.subplots(dim-1, dim-1, figsize=(3*dim, 2.5*dim), sharex=True, sharey=True)\n",
    "\n",
    "k = 0\n",
    "for i in range(dim-1):\n",
    "    for j in range(i+1):\n",
    "        ax = axes[i, j] if dim > 2 else axes\n",
    "        ax.plot(kendalls_lhs[:, k], quantities_lhs, 'g.', label='EGS K=%d' % (K))\n",
    "        ax.plot(min_kendall_lhs[k], min_quantity_lhs, 'go', label='Min EGS')\n",
    "        ax.plot(kendalls_vertices[:, k], quantities_vertices, 'r.', label='BEGS K=%d' % (min(K, 3**dim-1)))\n",
    "        ax.plot(min_kendall_vertices[k], min_quantity_vertices, 'ro', label='Min BEGS')\n",
    "        ax.plot(0., quantity_indep, 'bo', label='Independence')\n",
    "        k += 1\n",
    "        if i == dim-2:\n",
    "            ax.set_xlabel('Kendall coefficient')\n",
    "        if j == 0:\n",
    "            ax.set_ylabel('Quantile at $\\\\alpha = %.2f$' % (alpha))\n",
    "        if i == j+1:\n",
    "            ax.legend(loc=0)\n",
    "            \n",
    "fig.tight_layout()\n",
    "fig.savefig('./output/optim/matrix_plot_non_monotonic_multidim_test_quantile_dim_%d_K_%d.pdf' % (dim, K))\n",
    "fig.savefig('./output/optim/matrix_plot_non_monotonic_multidim_test_quantile_dim_%d_K_%d.png' % (dim, K))"
   ]
  }
 ],
 "metadata": {
  "kernelspec": {
   "display_name": "Python 3",
   "language": "python",
   "name": "python3"
  },
  "language_info": {
   "codemirror_mode": {
    "name": "ipython",
    "version": 3
   },
   "file_extension": ".py",
   "mimetype": "text/x-python",
   "name": "python",
   "nbconvert_exporter": "python",
   "pygments_lexer": "ipython3",
   "version": "3.6.1"
  }
 },
 "nbformat": 4,
 "nbformat_minor": 2
}
