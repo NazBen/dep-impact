{
 "cells": [
  {
   "cell_type": "code",
   "execution_count": 1,
   "metadata": {},
   "outputs": [],
   "source": [
    "import itertools\n",
    "import openturns as ot\n",
    "import numpy as np\n",
    "import seaborn as sns\n",
    "import matplotlib.pyplot as plt\n",
    "from dependence.tests import func_sum\n",
    "from dependence.tests.test_functions import func_cum_sum_weight, func_spec\n",
    "from dependence import ConservativeEstimate\n",
    "from dependence import quantile_func\n",
    "from dependence import iterative_vine_minimize\n",
    "from dependence.dependence_plot import matrix_plot_input, matrix_plot_quantities\n",
    "from dependence.dependence_plot import plot_iterative_results\n",
    "from dependence.dependence_plot import set_style_paper\n",
    "\n",
    "%matplotlib inline\n",
    "%load_ext autoreload\n",
    "%autoreload 2\n",
    "\n",
    "random_state = 12\n",
    "np.random.seed(random_state)"
   ]
  },
  {
   "cell_type": "code",
   "execution_count": 2,
   "metadata": {
    "collapsed": true
   },
   "outputs": [],
   "source": [
    "dim = 20\n",
    "margins = []\n",
    "for i in range(dim):\n",
    "    margins.append(ot.Uniform(0, 1.))\n",
    "    \n",
    "margins[0] = ot.Uniform(0, 1.)\n",
    "alpha = 0.1\n",
    "q_func = quantile_func(alpha)\n",
    "families = np.tril(np.ones((dim, dim)), k=1)"
   ]
  },
  {
   "cell_type": "code",
   "execution_count": 3,
   "metadata": {},
   "outputs": [
    {
     "name": "stdout",
     "output_type": "stream",
     "text": [
      "[18, 0]\n",
      "[18, 1]\n",
      "[[ 0.  0.  0.  0.  0.  0.  0.  0.  0.  0.  0.  0.  0.  0.  0.  0.  0.  0.\n",
      "   0.  0.]\n",
      " [ 0.  0.  0.  0.  0.  0.  0.  0.  0.  0.  0.  0.  0.  0.  0.  0.  0.  0.\n",
      "   0.  0.]\n",
      " [ 0.  0.  0.  0.  0.  0.  0.  0.  0.  0.  0.  0.  0.  0.  0.  0.  0.  0.\n",
      "   0.  0.]\n",
      " [ 0.  0.  0.  0.  0.  0.  0.  0.  0.  0.  0.  0.  0.  0.  0.  0.  0.  0.\n",
      "   0.  0.]\n",
      " [ 0.  0.  0.  0.  0.  0.  0.  0.  0.  0.  0.  0.  0.  0.  0.  0.  0.  0.\n",
      "   0.  0.]\n",
      " [ 0.  0.  0.  0.  0.  0.  0.  0.  0.  0.  0.  0.  0.  0.  0.  0.  0.  0.\n",
      "   0.  0.]\n",
      " [ 0.  0.  0.  0.  0.  0.  0.  0.  0.  0.  0.  0.  0.  0.  0.  0.  0.  0.\n",
      "   0.  0.]\n",
      " [ 0.  0.  0.  0.  0.  0.  0.  0.  0.  0.  0.  0.  0.  0.  0.  0.  0.  0.\n",
      "   0.  0.]\n",
      " [ 0.  0.  0.  0.  0.  0.  0.  0.  0.  0.  0.  0.  0.  0.  0.  0.  0.  0.\n",
      "   0.  0.]\n",
      " [ 0.  0.  0.  0.  0.  0.  0.  0.  0.  0.  0.  0.  0.  0.  0.  0.  0.  0.\n",
      "   0.  0.]\n",
      " [ 0.  0.  0.  0.  0.  0.  0.  0.  0.  0.  0.  0.  0.  0.  0.  0.  0.  0.\n",
      "   0.  0.]\n",
      " [ 0.  0.  0.  0.  0.  0.  0.  0.  0.  0.  0.  0.  0.  0.  0.  0.  0.  0.\n",
      "   0.  0.]\n",
      " [ 0.  0.  0.  0.  0.  0.  0.  0.  0.  0.  0.  0.  0.  0.  0.  0.  0.  0.\n",
      "   0.  0.]\n",
      " [ 0.  0.  0.  0.  0.  0.  0.  0.  0.  0.  0.  0.  0.  0.  0.  0.  0.  0.\n",
      "   0.  0.]\n",
      " [ 0.  0.  0.  0.  0.  0.  0.  0.  0.  0.  0.  0.  0.  0.  0.  0.  0.  0.\n",
      "   0.  0.]\n",
      " [ 0.  0.  0.  0.  0.  0.  0.  0.  0.  0.  0.  0.  0.  0.  0.  0.  0.  0.\n",
      "   0.  0.]\n",
      " [ 0.  0.  0.  0.  0.  0.  0.  0.  0.  0.  0.  0.  0.  0.  0.  0.  0.  0.\n",
      "   0.  0.]\n",
      " [ 0.  0.  0.  0.  0.  0.  0.  0.  0.  0.  0.  0.  0.  0.  0.  0.  0.  0.\n",
      "   0.  0.]\n",
      " [ 1.  1.  0.  0.  0.  0.  0.  0.  0.  0.  0.  0.  0.  0.  0.  0.  0.  0.\n",
      "   0.  0.]\n",
      " [ 0.  0.  0.  0.  0.  0.  0.  0.  0.  0.  0.  0.  0.  0.  0.  0.  0.  0.\n",
      "   0.  0.]]\n"
     ]
    }
   ],
   "source": [
    "n_influencial_pairs = 2\n",
    "val_influencial = 1.\n",
    "val_non_influencial = 0.0\n",
    "corr_dim = int(dim * (dim-1)/2)\n",
    "\n",
    "all_pairs = np.asarray(list(itertools.combinations(range(dim), 2)))\n",
    "selected_pairs = all_pairs[np.random.choice(range(corr_dim), size=n_influencial_pairs, replace=False)]\n",
    "selected_pairs = np.asarray([[0, dim-2], [1, dim-2]])\n",
    "# selected_pairs = all_pairs\n",
    "\n",
    "power = np.zeros((dim, dim))\n",
    "for i in range(1, dim):\n",
    "    for j in range(i):\n",
    "        if [j, i] in selected_pairs.tolist():\n",
    "            print([i, j])\n",
    "            power[i, j] = val_influencial\n",
    "        else:\n",
    "            power[i, j] = val_non_influencial\n",
    "test_func = lambda x: func_cum_sum_weight(x, power)\n",
    "print(power)"
   ]
  },
  {
   "cell_type": "code",
   "execution_count": null,
   "metadata": {},
   "outputs": [
    {
     "name": "stdout",
     "output_type": "stream",
     "text": [
      "2.2863008627512067\n"
     ]
    }
   ],
   "source": [
    "n = 30000\n",
    "quant_estimate = ConservativeEstimate(model_func=test_func, margins=margins, families=families)\n",
    "indep_result = quant_estimate.independence(n_input_sample=n, q_func=q_func, random_state=random_state)\n",
    "print(indep_result.quantity)"
   ]
  },
  {
   "cell_type": "code",
   "execution_count": null,
   "metadata": {},
   "outputs": [],
   "source": [
    "algorithm_parameters = {\n",
    "    \"n_input_sample\": 5000,\n",
    "    \"n_dep_param_init\": 10,\n",
    "    \"max_n_pairs\": 5,\n",
    "    \"grid_type\": 'vertices',\n",
    "    \"q_func\": q_func,\n",
    "    \"delta\": 0.1,\n",
    "    \"n_add_pairs\": 2,\n",
    "    \"n_remove_pairs\": 3,\n",
    "    \"adapt_vine_structure\": True,\n",
    "    \"with_bootstrap\": False,\n",
    "    \"verbose\": True,\n",
    "    \"iterative_save\": False,\n",
    "    \"iterative_load\": False,\n",
    "    \"load_input_samples\": False,\n",
    "    \"keep_input_samples\": False\n",
    "}\n",
    "\n",
    "quant_estimate = ConservativeEstimate(model_func=test_func, margins=margins, families=families)\n",
    "\n",
    "iterative_results = iterative_vine_minimize(estimate_object=quant_estimate, **algorithm_parameters)"
   ]
  },
  {
   "cell_type": "code",
   "execution_count": null,
   "metadata": {
    "collapsed": true
   },
   "outputs": [],
   "source": [
    "K = 200\n",
    "n = 20000"
   ]
  },
  {
   "cell_type": "code",
   "execution_count": null,
   "metadata": {},
   "outputs": [],
   "source": [
    "grid_type = 'lhs'\n",
    "grid_result_lhs = quant_estimate.gridsearch(K, n, q_func=q_func, grid_type='lhs', keep_input_samples=False)\n",
    "print('Min quantile: {0}\\nMin Kendall: {1}'.format(grid_result_lhs.min_result.quantity, grid_result_lhs.min_result.kendall_tau))"
   ]
  },
  {
   "cell_type": "code",
   "execution_count": null,
   "metadata": {},
   "outputs": [],
   "source": [
    "grid_result_vertices = quant_estimate.gridsearch(K, n, q_func=q_func, grid_type='vertices', keep_input_samples=False)\n",
    "print('Min quantile: {0}\\nMin Kendall: {1}'.format(grid_result_vertices.min_result.quantity, grid_result_vertices.min_result.kendall_tau))"
   ]
  },
  {
   "cell_type": "code",
   "execution_count": null,
   "metadata": {
    "collapsed": true
   },
   "outputs": [],
   "source": [
    "kendalls_lhs = grid_result_lhs.kendalls\n",
    "kendalls_vertices = grid_result_vertices.kendalls\n",
    "dev_kendall_lhs = abs(kendalls_lhs).mean(axis=1)\n",
    "dev_kendall_vertices = abs(kendalls_vertices).mean(axis=1)\n",
    "quantities_lhs = grid_result_lhs.quantities\n",
    "quantities_vertices = grid_result_vertices.quantities\n",
    "quantity_indep = indep_result.quantity"
   ]
  },
  {
   "cell_type": "code",
   "execution_count": null,
   "metadata": {
    "collapsed": true
   },
   "outputs": [],
   "source": [
    "min_kendall_lhs = grid_result_lhs.min_result.kendall_tau\n",
    "min_kendall_vertices = grid_result_vertices.min_result.kendall_tau\n",
    "min_dev_kendall_lhs = np.abs(min_kendall_lhs).mean()\n",
    "min_dev_kendall_vertices = np.abs(min_kendall_vertices).mean()\n",
    "min_quantity_lhs = grid_result_lhs.min_result.quantity\n",
    "min_quantity_vertices = grid_result_vertices.min_result.quantity"
   ]
  },
  {
   "cell_type": "code",
   "execution_count": null,
   "metadata": {},
   "outputs": [],
   "source": [
    "set_style_paper()\n",
    "fig, ax = plt.subplots(figsize=(7, 4))    \n",
    "ax.plot(dev_kendall_lhs, quantities_lhs, 'g.', label='EGS K=%d' % (K))\n",
    "ax.plot(min_dev_kendall_lhs, min_quantity_lhs, 'go', label='Min EGS')\n",
    "ax.plot(dev_kendall_vertices, quantities_vertices, 'r.', label='BEGS K=%d' % (min(K, 3**dim-1)))\n",
    "ax.plot(min_dev_kendall_vertices, min_quantity_vertices, 'ro', label='Min BEGS')\n",
    "ax.plot(0., quantity_indep, 'bo', label='Independence')\n",
    "ax.legend(loc=0)\n",
    "ax.set_xlabel('Kendall coefficient deviation')\n",
    "ax.set_ylabel('Quantile at $\\\\alpha = %.2f$' % (alpha))\n",
    "fig.tight_layout()\n",
    "fig.savefig('./output/few-pairs/multidim_test_quantile_dim_%d_K_%d.pdf' % (dim, K))"
   ]
  },
  {
   "cell_type": "code",
   "execution_count": null,
   "metadata": {},
   "outputs": [],
   "source": [
    "fig, axes = plt.subplots(dim-1, dim-1, figsize=(3*dim, 2.5*dim), sharex=True, sharey=True)\n",
    "\n",
    "k = 0\n",
    "for i in range(dim-1):\n",
    "    for j in range(i+1):\n",
    "        ax = axes[i, j] if dim > 2 else axes\n",
    "        ax.plot(kendalls_lhs[:, k], quantities_lhs, 'g.', label='EGS K=%d' % (K))\n",
    "        ax.plot(min_kendall_lhs[k], min_quantity_lhs, 'go', label='Min EGS')\n",
    "        ax.plot(kendalls_vertices[:, k], quantities_vertices, 'r.', label='BEGS K=%d' % (min(K, 3**dim-1)))\n",
    "        ax.plot(min_kendall_vertices[k], min_quantity_vertices, 'ro', label='Min BEGS')\n",
    "        ax.plot(0., quantity_indep, 'bo', label='Independence')\n",
    "        k += 1\n",
    "        if i == dim-2:\n",
    "            ax.set_xlabel('Kendall coefficient')\n",
    "        if j == 0:\n",
    "            ax.set_ylabel('Quantile at $\\\\alpha = %.2f$' % (alpha))\n",
    "        if i == j+1:\n",
    "            ax.legend(loc=0)\n",
    "            \n",
    "fig.tight_layout()\n",
    "fig.savefig('./output/few-pairs/matrix_plot_multidim_test_quantile_dim_%d_K_%d.pdf' % (dim, K))"
   ]
  },
  {
   "cell_type": "code",
   "execution_count": null,
   "metadata": {},
   "outputs": [],
   "source": [
    "plot_iterative_results(iterative_results, indep_result=indep_result, grid_results=grid_results_lhs, q_func=q_func)\n",
    "plt.savefig('./output/few-pairs/iterative_result_with_grid_%d.pdf' % (K))"
   ]
  },
  {
   "cell_type": "code",
   "execution_count": null,
   "metadata": {
    "collapsed": true
   },
   "outputs": [],
   "source": []
  }
 ],
 "metadata": {
  "anaconda-cloud": {},
  "kernelspec": {
   "display_name": "Python 3",
   "language": "python",
   "name": "python3"
  },
  "language_info": {
   "codemirror_mode": {
    "name": "ipython",
    "version": 3
   },
   "file_extension": ".py",
   "mimetype": "text/x-python",
   "name": "python",
   "nbconvert_exporter": "python",
   "pygments_lexer": "ipython3",
   "version": "3.6.1"
  }
 },
 "nbformat": 4,
 "nbformat_minor": 2
}
