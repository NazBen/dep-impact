{
 "cells": [
  {
   "cell_type": "code",
   "execution_count": 2,
   "metadata": {
    "collapsed": true
   },
   "outputs": [],
   "source": [
    "import openturns as ot\n",
    "import numpy as np\n",
    "# import seaborn as sns\n",
    "import matplotlib.pyplot as plt\n",
    "from dependence.tests import func_sum\n",
    "from dependence.tests.test_functions import func_cum_sum_weight\n",
    "from dependence import ConservativeEstimate\n",
    "from dependence import quantile_func\n",
    "\n",
    "from dependence import iterative_vine_minimize\n",
    "from dependence.dependence_plot import matrix_plot_results\n",
    "\n",
    "%matplotlib inline\n",
    "%load_ext autoreload\n",
    "%autoreload 2\n",
    "\n",
    "random_state = 123\n",
    "np.random.seed(random_state)"
   ]
  },
  {
   "cell_type": "code",
   "execution_count": 3,
   "metadata": {
    "collapsed": true
   },
   "outputs": [],
   "source": [
    "dim = 10\n",
    "margins = [ot.Normal()]*dim\n",
    "alpha = 0.01\n",
    "q_func = quantile_func(alpha)\n",
    "\n",
    "families = np.zeros((dim, dim), dtype=int)\n",
    "for i in range(1, dim):\n",
    "    for j in range(i):\n",
    "        families[i, j] = 1"
   ]
  },
  {
   "cell_type": "code",
   "execution_count": 4,
   "metadata": {},
   "outputs": [
    {
     "name": "stdout",
     "output_type": "stream",
     "text": [
      "[4, 1]\n",
      "[9, 0]\n"
     ]
    },
    {
     "data": {
      "text/plain": [
       "array([[ 0.,  0.,  0.,  0.,  0.,  0.,  0.,  0.,  0.,  0.],\n",
       "       [ 0.,  0.,  0.,  0.,  0.,  0.,  0.,  0.,  0.,  0.],\n",
       "       [ 0.,  0.,  0.,  0.,  0.,  0.,  0.,  0.,  0.,  0.],\n",
       "       [ 0.,  0.,  0.,  0.,  0.,  0.,  0.,  0.,  0.,  0.],\n",
       "       [ 0.,  1.,  0.,  0.,  0.,  0.,  0.,  0.,  0.,  0.],\n",
       "       [ 0.,  0.,  0.,  0.,  0.,  0.,  0.,  0.,  0.,  0.],\n",
       "       [ 0.,  0.,  0.,  0.,  0.,  0.,  0.,  0.,  0.,  0.],\n",
       "       [ 0.,  0.,  0.,  0.,  0.,  0.,  0.,  0.,  0.,  0.],\n",
       "       [ 0.,  0.,  0.,  0.,  0.,  0.,  0.,  0.,  0.,  0.],\n",
       "       [ 1.,  0.,  0.,  0.,  0.,  0.,  0.,  0.,  0.,  0.]])"
      ]
     },
     "execution_count": 4,
     "metadata": {},
     "output_type": "execute_result"
    }
   ],
   "source": [
    "import itertools\n",
    "n_influencial_pairs = 2\n",
    "val_influencial = 1.\n",
    "val_non_influencial = 0.0\n",
    "corr_dim = dim * (dim-1)/2\n",
    "\n",
    "all_pairs = np.asarray(list(itertools.combinations(range(dim), 2)))\n",
    "selected_pairs = all_pairs[np.random.choice(range(corr_dim), size=n_influencial_pairs, replace=False)]\n",
    "# Random pairs\n",
    "power = np.zeros((dim, dim))\n",
    "for i in range(1, dim):\n",
    "    for j in range(i):\n",
    "        if [j, i] in selected_pairs.tolist():\n",
    "            print [i, j]\n",
    "            power[i, j] = val_influencial\n",
    "        else:\n",
    "            power[i, j] = val_non_influencial\n",
    "power"
   ]
  },
  {
   "cell_type": "code",
   "execution_count": 5,
   "metadata": {
    "collapsed": true
   },
   "outputs": [],
   "source": [
    "func = lambda x: func_cum_sum_weight(x, power)"
   ]
  },
  {
   "cell_type": "code",
   "execution_count": null,
   "metadata": {
    "collapsed": true
   },
   "outputs": [],
   "source": []
  },
  {
   "cell_type": "code",
   "execution_count": 12,
   "metadata": {},
   "outputs": [
    {
     "name": "stdout",
     "output_type": "stream",
     "text": [
      "n=20000. Worst quantile of [(1, 0)] at -2.97605765611\n",
      "n=20000. Worst quantile of [(2, 0)] at -2.98968871554\n",
      "n=20000. Worst quantile of [(2, 1)] at -2.96624365188\n",
      "n=20000. Worst quantile of [(3, 0)] at -2.92227467172\n",
      "n=20000. Worst quantile of [(3, 1)] at -2.9814495765\n",
      "n=20000. Worst quantile of [(3, 2)] at -2.96658266001\n",
      "n=20000. Worst quantile of [(4, 0)] at -2.98287891207\n",
      "n=20000. Worst quantile of [(4, 1)] at -2.96153089588\n",
      "n=20000. Worst quantile of [(4, 2)] at -2.97070936858\n",
      "n=20000. Worst quantile of [(4, 3)] at -2.94914179679\n",
      "n=20000. Worst quantile of [(5, 0)] at -3.0146284909\n",
      "n=20000. Worst quantile of [(5, 1)] at -2.95046430593\n",
      "n=20000. Worst quantile of [(5, 2)] at -2.9935546553\n",
      "n=20000. Worst quantile of [(5, 3)] at -2.95689985461\n",
      "n=20000. Worst quantile of [(5, 4)] at -2.9902013523\n",
      "n=20000. Worst quantile of [(6, 0)] at -2.97107979452\n",
      "n=20000. Worst quantile of [(6, 1)] at -2.97365507464\n",
      "n=20000. Worst quantile of [(6, 2)] at -2.99772387039\n",
      "n=20000. Worst quantile of [(6, 3)] at -2.96515770502\n",
      "n=20000. Worst quantile of [(6, 4)] at -2.92677862165\n",
      "n=20000. Worst quantile of [(6, 5)] at -3.00665130286\n",
      "n=20000. Worst quantile of [(7, 0)] at -2.97022886623\n",
      "n=20000. Worst quantile of [(7, 1)] at -2.96012835994\n",
      "n=20000. Worst quantile of [(7, 2)] at -2.96694560869\n",
      "n=20000. Worst quantile of [(7, 3)] at -2.95575529175\n",
      "n=20000. Worst quantile of [(7, 4)] at -3.01685423948\n",
      "n=20000. Worst quantile of [(7, 5)] at -2.96855088574\n",
      "n=20000. Worst quantile of [(7, 6)] at -3.01024187407\n",
      "n=20000. Worst quantile of [(8, 0)] at -2.97983466083\n",
      "n=20000. Worst quantile of [(8, 1)] at -2.9455916925\n",
      "n=20000. Worst quantile of [(8, 2)] at -3.00306329807\n",
      "n=20000. Worst quantile of [(8, 3)] at -3.04459031176\n",
      "n=20000. Worst quantile of [(8, 4)] at -2.9890081709\n",
      "n=20000. Worst quantile of [(8, 5)] at -2.98576403203\n",
      "n=20000. Worst quantile of [(8, 6)] at -2.95953250392\n",
      "n=20000. Worst quantile of [(8, 7)] at -2.95550358783\n",
      "n=20000. Worst quantile of [(9, 0)] at -4.18997327991\n",
      "n=20000. Worst quantile of [(9, 1)] at -3.02476469558\n",
      "n=20000. Worst quantile of [(9, 2)] at -3.0157735908\n",
      "n=20000. Worst quantile of [(9, 3)] at -2.99180213579\n",
      "n=20000. Worst quantile of [(9, 4)] at -2.97642597521\n",
      "n=20000. Worst quantile of [(9, 5)] at -2.96881961426\n",
      "n=20000. Worst quantile of [(9, 6)] at -3.05629199229\n",
      "n=20000. Worst quantile of [(9, 7)] at -3.00846173071\n",
      "n=20000. Worst quantile of [(9, 8)] at -3.03333763598\n",
      "Iteration 1. Selected pair: (9, 0)\n",
      "Total number of evaluations = 1800000. Minimum quantity at -4.19.\n",
      "n=20000. Worst quantile of [(9, 0), (9, 6), (1, 0)] at -4.24903072335\n",
      "n=20000. Worst quantile of [(9, 0), (9, 6), (2, 0)] at -4.29740504571\n",
      "n=20000. Worst quantile of [(9, 0), (9, 6), (2, 1)] at -4.22744275452\n",
      "n=20000. Worst quantile of [(9, 0), (9, 6), (3, 1)] at -4.27391634403\n",
      "n=20000. Worst quantile of [(9, 0), (9, 6), (3, 2)] at -4.25997585935\n",
      "n=20000. Worst quantile of [(9, 0), (9, 6), (4, 0)] at -4.26311788144\n",
      "n=20000. Worst quantile of [(9, 0), (9, 6), (4, 1)] at -4.23291064705\n",
      "n=20000. Worst quantile of [(9, 0), (9, 6), (4, 2)] at -4.2307479856\n",
      "n=20000. Worst quantile of [(9, 0), (9, 6), (4, 3)] at -4.29222794026\n",
      "n=20000. Worst quantile of [(9, 0), (9, 6), (5, 0)] at -4.30402258742\n",
      "n=20000. Worst quantile of [(9, 0), (9, 6), (5, 1)] at -4.21331575557\n",
      "n=20000. Worst quantile of [(9, 0), (9, 6), (5, 2)] at -4.28058858826\n",
      "n=20000. Worst quantile of [(9, 0), (9, 6), (5, 3)] at -4.19583706661\n",
      "n=20000. Worst quantile of [(9, 0), (9, 6), (5, 4)] at -4.2872938718\n",
      "n=20000. Worst quantile of [(9, 0), (9, 6), (6, 0)] at -4.27218620878\n",
      "n=20000. Worst quantile of [(9, 0), (9, 6), (6, 1)] at -4.24553561517\n",
      "n=20000. Worst quantile of [(9, 0), (9, 6), (6, 2)] at -4.22064773203\n",
      "n=20000. Worst quantile of [(9, 0), (9, 6), (6, 3)] at -4.24272580239\n",
      "n=20000. Worst quantile of [(9, 0), (9, 6), (6, 5)] at -4.24947790614\n",
      "n=20000. Worst quantile of [(9, 0), (9, 6), (7, 0)] at -4.31749749079\n",
      "n=20000. Worst quantile of [(9, 0), (9, 6), (7, 1)] at -4.24986330246\n",
      "n=20000. Worst quantile of [(9, 0), (9, 6), (7, 2)] at -4.24974582864\n",
      "n=20000. Worst quantile of [(9, 0), (9, 6), (7, 3)] at -4.28185860757\n",
      "n=20000. Worst quantile of [(9, 0), (9, 6), (7, 4)] at -4.27686519572\n",
      "n=20000. Worst quantile of [(9, 0), (9, 6), (7, 5)] at -4.20937872582\n",
      "n=20000. Worst quantile of [(9, 0), (9, 6), (7, 6)] at -4.2524517673\n",
      "n=20000. Worst quantile of [(9, 0), (9, 6), (8, 0)] at -4.29223763556\n",
      "n=20000. Worst quantile of [(9, 0), (9, 6), (8, 1)] at -4.28249248534\n",
      "n=20000. Worst quantile of [(9, 0), (9, 6), (8, 2)] at -4.24570156348\n",
      "n=20000. Worst quantile of [(9, 0), (9, 6), (8, 3)] at -4.24025305181\n",
      "n=20000. Worst quantile of [(9, 0), (9, 6), (8, 4)] at -4.23398331064\n",
      "n=20000. Worst quantile of [(9, 0), (9, 6), (8, 5)] at -4.28060806794\n",
      "n=20000. Worst quantile of [(9, 0), (9, 6), (8, 6)] at -4.23549845708\n",
      "n=20000. Worst quantile of [(9, 0), (9, 6), (8, 7)] at -4.28449165985\n",
      "n=20000. Worst quantile of [(9, 0), (9, 6), (9, 1)] at -4.2653711988\n",
      "n=20000. Worst quantile of [(9, 0), (9, 6), (9, 2)] at -4.24515236292\n",
      "n=20000. Worst quantile of [(9, 0), (9, 6), (9, 3)] at -4.26181960487\n",
      "n=20000. Worst quantile of [(9, 0), (9, 6), (9, 4)] at -4.18595984835\n",
      "n=20000. Worst quantile of [(9, 0), (9, 6), (9, 5)] at -4.23151014849\n"
     ]
    },
    {
     "name": "stderr",
     "output_type": "stream",
     "text": [
      "/home/D58174/anaconda2/lib/python2.7/site-packages/rpy2/rinterface/__init__.py:185: RRuntimeWarning: Error in length(args$par) %in% c(1, n) : Interrupted\n",
      "\n",
      "  warnings.warn(x, RRuntimeWarning)\n"
     ]
    },
    {
     "ename": "KeyboardInterrupt",
     "evalue": "",
     "output_type": "error",
     "traceback": [
      "\u001b[0;31m---------------------------------------------------------------------------\u001b[0m",
      "\u001b[0;31mKeyboardInterrupt\u001b[0m                         Traceback (most recent call last)",
      "\u001b[0;32m<ipython-input-12-8e2ed7ec83cf>\u001b[0m in \u001b[0;36m<module>\u001b[0;34m()\u001b[0m\n\u001b[1;32m     18\u001b[0m \u001b[0mquant_estimate\u001b[0m \u001b[0;34m=\u001b[0m \u001b[0mConservativeEstimate\u001b[0m\u001b[0;34m(\u001b[0m\u001b[0mmodel_func\u001b[0m\u001b[0;34m=\u001b[0m\u001b[0mfunc\u001b[0m\u001b[0;34m,\u001b[0m \u001b[0mmargins\u001b[0m\u001b[0;34m=\u001b[0m\u001b[0mmargins\u001b[0m\u001b[0;34m,\u001b[0m \u001b[0mfamilies\u001b[0m\u001b[0;34m=\u001b[0m\u001b[0mfamilies\u001b[0m\u001b[0;34m)\u001b[0m\u001b[0;34m\u001b[0m\u001b[0m\n\u001b[1;32m     19\u001b[0m \u001b[0;34m\u001b[0m\u001b[0m\n\u001b[0;32m---> 20\u001b[0;31m \u001b[0miterative_results\u001b[0m \u001b[0;34m=\u001b[0m \u001b[0miterative_vine_minimize\u001b[0m\u001b[0;34m(\u001b[0m\u001b[0mestimate_object\u001b[0m\u001b[0;34m=\u001b[0m\u001b[0mquant_estimate\u001b[0m\u001b[0;34m,\u001b[0m \u001b[0;34m**\u001b[0m\u001b[0malgorithm_parameters\u001b[0m\u001b[0;34m)\u001b[0m\u001b[0;34m\u001b[0m\u001b[0m\n\u001b[0m",
      "\u001b[0;32m/local00/home/D58174/git-repo/impact-of-dependence/dependence/iterative_vines.py\u001b[0m in \u001b[0;36miterative_vine_minimize\u001b[0;34m(estimate_object, n_input_sample, n_dep_param_init, max_n_pairs, grid_type, q_func, n_add_pairs, n_remove_pairs, adapt_vine_structure, with_bootstrap, verbose, **kwargs)\u001b[0m\n\u001b[1;32m    167\u001b[0m                                                              \u001b[0muse_grid\u001b[0m\u001b[0;34m=\u001b[0m\u001b[0muse_grid\u001b[0m\u001b[0;34m,\u001b[0m\u001b[0;34m\u001b[0m\u001b[0m\n\u001b[1;32m    168\u001b[0m                                                              \u001b[0msave_grid\u001b[0m\u001b[0;34m=\u001b[0m\u001b[0msave_grid\u001b[0m\u001b[0;34m,\u001b[0m\u001b[0;34m\u001b[0m\u001b[0m\n\u001b[0;32m--> 169\u001b[0;31m                                                              grid_path=grid_path)\n\u001b[0m\u001b[1;32m    170\u001b[0m \u001b[0;34m\u001b[0m\u001b[0m\n\u001b[1;32m    171\u001b[0m             \u001b[0;32mif\u001b[0m \u001b[0miterative_save\u001b[0m \u001b[0;32mor\u001b[0m \u001b[0miterative_load\u001b[0m\u001b[0;34m:\u001b[0m\u001b[0;34m\u001b[0m\u001b[0m\n",
      "\u001b[0;32m/local00/home/D58174/git-repo/impact-of-dependence/dependence/dependence.pyc\u001b[0m in \u001b[0;36mgridsearch_minimize\u001b[0;34m(self, n_dep_param, n_input_sample, grid_type, dep_measure, q_func, lhs_grid_criterion, keep_input_samples, use_grid, save_grid, grid_path, random_state)\u001b[0m\n\u001b[1;32m    187\u001b[0m         \u001b[0;31m# Evaluate the sample\u001b[0m\u001b[0;34m\u001b[0m\u001b[0;34m\u001b[0m\u001b[0m\n\u001b[1;32m    188\u001b[0m         output_samples, input_samples = self.run_stochastic_models(\n\u001b[0;32m--> 189\u001b[0;31m                 params, n_input_sample, return_input_sample=keep_input_samples)\n\u001b[0m\u001b[1;32m    190\u001b[0m \u001b[0;34m\u001b[0m\u001b[0m\n\u001b[1;32m    191\u001b[0m         return ListDependenceResult(margins=self.margins,\n",
      "\u001b[0;32m/local00/home/D58174/git-repo/impact-of-dependence/dependence/dependence.pyc\u001b[0m in \u001b[0;36mrun_stochastic_models\u001b[0;34m(self, params, n_input_sample, return_input_sample, random_state)\u001b[0m\n\u001b[1;32m    224\u001b[0m             \u001b[0mfull_param\u001b[0m\u001b[0;34m[\u001b[0m\u001b[0mself\u001b[0m\u001b[0;34m.\u001b[0m\u001b[0m_fixed_pairs_ids\u001b[0m\u001b[0;34m]\u001b[0m \u001b[0;34m=\u001b[0m \u001b[0mself\u001b[0m\u001b[0;34m.\u001b[0m\u001b[0m_fixed_params_list\u001b[0m\u001b[0;34m\u001b[0m\u001b[0m\n\u001b[1;32m    225\u001b[0m \u001b[0;34m\u001b[0m\u001b[0m\n\u001b[0;32m--> 226\u001b[0;31m             \u001b[0minput_samples\u001b[0m\u001b[0;34m.\u001b[0m\u001b[0mappend\u001b[0m\u001b[0;34m(\u001b[0m\u001b[0mself\u001b[0m\u001b[0;34m.\u001b[0m\u001b[0m_get_sample\u001b[0m\u001b[0;34m(\u001b[0m\u001b[0mfull_param\u001b[0m\u001b[0;34m,\u001b[0m \u001b[0mn_input_sample\u001b[0m\u001b[0;34m)\u001b[0m\u001b[0;34m)\u001b[0m\u001b[0;34m\u001b[0m\u001b[0m\n\u001b[0m\u001b[1;32m    227\u001b[0m \u001b[0;34m\u001b[0m\u001b[0m\n\u001b[1;32m    228\u001b[0m         \u001b[0moutputs\u001b[0m \u001b[0;34m=\u001b[0m \u001b[0mself\u001b[0m\u001b[0;34m.\u001b[0m\u001b[0mmodel_func\u001b[0m\u001b[0;34m(\u001b[0m\u001b[0mnp\u001b[0m\u001b[0;34m.\u001b[0m\u001b[0mconcatenate\u001b[0m\u001b[0;34m(\u001b[0m\u001b[0minput_samples\u001b[0m\u001b[0;34m)\u001b[0m\u001b[0;34m)\u001b[0m\u001b[0;34m\u001b[0m\u001b[0m\n",
      "\u001b[0;32m/local00/home/D58174/git-repo/impact-of-dependence/dependence/dependence.pyc\u001b[0m in \u001b[0;36m_get_sample\u001b[0;34m(self, param, n_sample, param2)\u001b[0m\n\u001b[1;32m    322\u001b[0m             \u001b[0;31m# Sample from the copula\u001b[0m\u001b[0;34m\u001b[0m\u001b[0;34m\u001b[0m\u001b[0m\n\u001b[1;32m    323\u001b[0m             \u001b[0;31m# The reshape is in case there is only one sample (for RF tests)\u001b[0m\u001b[0;34m\u001b[0m\u001b[0;34m\u001b[0m\u001b[0m\n\u001b[0;32m--> 324\u001b[0;31m             \u001b[0mcop_sample\u001b[0m \u001b[0;34m=\u001b[0m \u001b[0mvine_copula\u001b[0m\u001b[0;34m.\u001b[0m\u001b[0mget_sample\u001b[0m\u001b[0;34m(\u001b[0m\u001b[0mn_sample\u001b[0m\u001b[0;34m)\u001b[0m\u001b[0;34m.\u001b[0m\u001b[0mreshape\u001b[0m\u001b[0;34m(\u001b[0m\u001b[0mn_sample\u001b[0m\u001b[0;34m,\u001b[0m \u001b[0mdim\u001b[0m\u001b[0;34m)\u001b[0m\u001b[0;34m\u001b[0m\u001b[0m\n\u001b[0m\u001b[1;32m    325\u001b[0m         \u001b[0;32melif\u001b[0m \u001b[0mself\u001b[0m\u001b[0;34m.\u001b[0m\u001b[0m_copula_type\u001b[0m \u001b[0;34m==\u001b[0m \u001b[0;34m'normal'\u001b[0m\u001b[0;34m:\u001b[0m\u001b[0;34m\u001b[0m\u001b[0m\n\u001b[1;32m    326\u001b[0m             \u001b[0;31m# Create the correlation matrix\u001b[0m\u001b[0;34m\u001b[0m\u001b[0;34m\u001b[0m\u001b[0m\n",
      "\u001b[0;32m/local00/home/D58174/git-repo/impact-of-dependence/dependence/vinecopula.pyc\u001b[0m in \u001b[0;36mget_sample\u001b[0;34m(self, n_obs)\u001b[0m\n\u001b[1;32m    108\u001b[0m         \u001b[0;32mif\u001b[0m \u001b[0mself\u001b[0m\u001b[0;34m.\u001b[0m\u001b[0m_to_rebuild\u001b[0m\u001b[0;34m:\u001b[0m\u001b[0;34m\u001b[0m\u001b[0m\n\u001b[1;32m    109\u001b[0m             \u001b[0mself\u001b[0m\u001b[0;34m.\u001b[0m\u001b[0mbuild_vine\u001b[0m\u001b[0;34m(\u001b[0m\u001b[0;34m)\u001b[0m\u001b[0;34m\u001b[0m\u001b[0m\n\u001b[0;32m--> 110\u001b[0;31m         \u001b[0;32mreturn\u001b[0m \u001b[0mnp\u001b[0m\u001b[0;34m.\u001b[0m\u001b[0masarray\u001b[0m\u001b[0;34m(\u001b[0m\u001b[0mVINECOPULA\u001b[0m\u001b[0;34m.\u001b[0m\u001b[0mRVineSim\u001b[0m\u001b[0;34m(\u001b[0m\u001b[0mn_obs\u001b[0m\u001b[0;34m,\u001b[0m \u001b[0mself\u001b[0m\u001b[0;34m.\u001b[0m\u001b[0m_rvine\u001b[0m\u001b[0;34m)\u001b[0m\u001b[0;34m)\u001b[0m\u001b[0;34m\u001b[0m\u001b[0m\n\u001b[0m",
      "\u001b[0;32m/home/D58174/anaconda2/lib/python2.7/site-packages/rpy2/robjects/functions.pyc\u001b[0m in \u001b[0;36m__call__\u001b[0;34m(self, *args, **kwargs)\u001b[0m\n\u001b[1;32m    176\u001b[0m                 \u001b[0mv\u001b[0m \u001b[0;34m=\u001b[0m \u001b[0mkwargs\u001b[0m\u001b[0;34m.\u001b[0m\u001b[0mpop\u001b[0m\u001b[0;34m(\u001b[0m\u001b[0mk\u001b[0m\u001b[0;34m)\u001b[0m\u001b[0;34m\u001b[0m\u001b[0m\n\u001b[1;32m    177\u001b[0m                 \u001b[0mkwargs\u001b[0m\u001b[0;34m[\u001b[0m\u001b[0mr_k\u001b[0m\u001b[0;34m]\u001b[0m \u001b[0;34m=\u001b[0m \u001b[0mv\u001b[0m\u001b[0;34m\u001b[0m\u001b[0m\n\u001b[0;32m--> 178\u001b[0;31m         \u001b[0;32mreturn\u001b[0m \u001b[0msuper\u001b[0m\u001b[0;34m(\u001b[0m\u001b[0mSignatureTranslatedFunction\u001b[0m\u001b[0;34m,\u001b[0m \u001b[0mself\u001b[0m\u001b[0;34m)\u001b[0m\u001b[0;34m.\u001b[0m\u001b[0m__call__\u001b[0m\u001b[0;34m(\u001b[0m\u001b[0;34m*\u001b[0m\u001b[0margs\u001b[0m\u001b[0;34m,\u001b[0m \u001b[0;34m**\u001b[0m\u001b[0mkwargs\u001b[0m\u001b[0;34m)\u001b[0m\u001b[0;34m\u001b[0m\u001b[0m\n\u001b[0m\u001b[1;32m    179\u001b[0m \u001b[0;34m\u001b[0m\u001b[0m\n\u001b[1;32m    180\u001b[0m \u001b[0mpattern_link\u001b[0m \u001b[0;34m=\u001b[0m \u001b[0mre\u001b[0m\u001b[0;34m.\u001b[0m\u001b[0mcompile\u001b[0m\u001b[0;34m(\u001b[0m\u001b[0;34mr'\\\\link\\{(.+?)\\}'\u001b[0m\u001b[0;34m)\u001b[0m\u001b[0;34m\u001b[0m\u001b[0m\n",
      "\u001b[0;32m/home/D58174/anaconda2/lib/python2.7/site-packages/rpy2/robjects/functions.pyc\u001b[0m in \u001b[0;36m__call__\u001b[0;34m(self, *args, **kwargs)\u001b[0m\n\u001b[1;32m    104\u001b[0m         \u001b[0;32mfor\u001b[0m \u001b[0mk\u001b[0m\u001b[0;34m,\u001b[0m \u001b[0mv\u001b[0m \u001b[0;32min\u001b[0m \u001b[0mkwargs\u001b[0m\u001b[0;34m.\u001b[0m\u001b[0mitems\u001b[0m\u001b[0;34m(\u001b[0m\u001b[0;34m)\u001b[0m\u001b[0;34m:\u001b[0m\u001b[0;34m\u001b[0m\u001b[0m\n\u001b[1;32m    105\u001b[0m             \u001b[0mnew_kwargs\u001b[0m\u001b[0;34m[\u001b[0m\u001b[0mk\u001b[0m\u001b[0;34m]\u001b[0m \u001b[0;34m=\u001b[0m \u001b[0mconversion\u001b[0m\u001b[0;34m.\u001b[0m\u001b[0mpy2ri\u001b[0m\u001b[0;34m(\u001b[0m\u001b[0mv\u001b[0m\u001b[0;34m)\u001b[0m\u001b[0;34m\u001b[0m\u001b[0m\n\u001b[0;32m--> 106\u001b[0;31m         \u001b[0mres\u001b[0m \u001b[0;34m=\u001b[0m \u001b[0msuper\u001b[0m\u001b[0;34m(\u001b[0m\u001b[0mFunction\u001b[0m\u001b[0;34m,\u001b[0m \u001b[0mself\u001b[0m\u001b[0;34m)\u001b[0m\u001b[0;34m.\u001b[0m\u001b[0m__call__\u001b[0m\u001b[0;34m(\u001b[0m\u001b[0;34m*\u001b[0m\u001b[0mnew_args\u001b[0m\u001b[0;34m,\u001b[0m \u001b[0;34m**\u001b[0m\u001b[0mnew_kwargs\u001b[0m\u001b[0;34m)\u001b[0m\u001b[0;34m\u001b[0m\u001b[0m\n\u001b[0m\u001b[1;32m    107\u001b[0m         \u001b[0mres\u001b[0m \u001b[0;34m=\u001b[0m \u001b[0mconversion\u001b[0m\u001b[0;34m.\u001b[0m\u001b[0mri2ro\u001b[0m\u001b[0;34m(\u001b[0m\u001b[0mres\u001b[0m\u001b[0;34m)\u001b[0m\u001b[0;34m\u001b[0m\u001b[0m\n\u001b[1;32m    108\u001b[0m         \u001b[0;32mreturn\u001b[0m \u001b[0mres\u001b[0m\u001b[0;34m\u001b[0m\u001b[0m\n",
      "\u001b[0;31mKeyboardInterrupt\u001b[0m: "
     ]
    }
   ],
   "source": [
    "algorithm_parameters = {\n",
    "    \"n_input_sample\": 20000,\n",
    "    \"n_dep_param_init\": None,\n",
    "    \"max_n_pairs\": 4,\n",
    "    \"grid_type\": 'vertices',\n",
    "    \"q_func\": q_func,\n",
    "    \"n_add_pairs\": 2,\n",
    "    \"n_remove_pairs\": 2,\n",
    "    \"adapt_vine_structure\": False,\n",
    "    \"with_bootstrap\": False,\n",
    "    \"verbose\": True,\n",
    "    \"iterative_save\": False,\n",
    "    \"iterative_load\": False,\n",
    "    \"load_input_samples\": False,\n",
    "    \"keep_input_samples\": False\n",
    "}\n",
    "\n",
    "quant_estimate = ConservativeEstimate(model_func=func, margins=margins, families=families)\n",
    "\n",
    "iterative_results = iterative_vine_minimize(estimate_object=quant_estimate, **algorithm_parameters)"
   ]
  },
  {
   "cell_type": "code",
   "execution_count": 312,
   "metadata": {
    "collapsed": true
   },
   "outputs": [],
   "source": [
    "quant_estimate = ConservativeEstimate(model_func=func, margins=margins, families=families)"
   ]
  },
  {
   "cell_type": "code",
   "execution_count": 8,
   "metadata": {
    "collapsed": true
   },
   "outputs": [],
   "source": [
    "n = 10000\n",
    "K = 2000\n",
    "grid_results = quant_estimate.gridsearch_minimize(n_dep_param=K, n_input_sample=n, q_func=q_func)"
   ]
  },
  {
   "cell_type": "code",
   "execution_count": 10,
   "metadata": {},
   "outputs": [
    {
     "data": {
      "text/plain": [
       "2000"
      ]
     },
     "execution_count": 10,
     "metadata": {},
     "output_type": "execute_result"
    }
   ],
   "source": []
  },
  {
   "cell_type": "code",
   "execution_count": 9,
   "metadata": {},
   "outputs": [
    {
     "data": {
      "text/plain": [
       "-4.4089211326933269"
      ]
     },
     "execution_count": 9,
     "metadata": {},
     "output_type": "execute_result"
    }
   ],
   "source": [
    "grid_results.min_quantity"
   ]
  },
  {
   "cell_type": "code",
   "execution_count": 6,
   "metadata": {},
   "outputs": [
    {
     "name": "stdout",
     "output_type": "stream",
     "text": [
      "n=10000. Worst quantile of [(1, 0)] at -5.65876523485\n",
      "n=10000. Worst quantile of [(2, 0)] at -4.77250600977\n",
      "n=10000. Worst quantile of [(2, 1)] at -4.72985746648\n",
      "n=10000. Worst quantile of [(3, 0)] at -4.79872411822\n",
      "n=10000. Worst quantile of [(3, 1)] at -4.80716201483\n",
      "n=10000. Worst quantile of [(3, 2)] at -4.79565815006\n",
      "n=10000. Worst quantile of [(4, 0)] at -5.75381845533\n",
      "n=10000. Worst quantile of [(4, 1)] at -5.81664137332\n",
      "n=10000. Worst quantile of [(4, 2)] at -4.73649594828\n",
      "n=10000. Worst quantile of [(4, 3)] at -4.76677639444\n",
      "n=10000. Worst quantile of [(5, 0)] at -4.7790419568\n",
      "n=10000. Worst quantile of [(5, 1)] at -4.76285193325\n",
      "n=10000. Worst quantile of [(5, 2)] at -4.77067799387\n",
      "n=10000. Worst quantile of [(5, 3)] at -4.77456180317\n",
      "n=10000. Worst quantile of [(5, 4)] at -4.75923094635\n",
      "n=10000. Worst quantile of [(6, 0)] at -4.7322153994\n",
      "n=10000. Worst quantile of [(6, 1)] at -4.80086171923\n",
      "n=10000. Worst quantile of [(6, 2)] at -4.79024601341\n",
      "n=10000. Worst quantile of [(6, 3)] at -4.80361910305\n",
      "n=10000. Worst quantile of [(6, 4)] at -4.77521324406\n",
      "n=10000. Worst quantile of [(6, 5)] at -4.82577917884\n",
      "n=10000. Worst quantile of [(7, 0)] at -4.81039002598\n",
      "n=10000. Worst quantile of [(7, 1)] at -4.73705649974\n",
      "n=10000. Worst quantile of [(7, 2)] at -4.86294736587\n",
      "n=10000. Worst quantile of [(7, 3)] at -4.75694033376\n",
      "n=10000. Worst quantile of [(7, 4)] at -4.88291089274\n",
      "n=10000. Worst quantile of [(7, 5)] at -4.79165344827\n",
      "n=10000. Worst quantile of [(7, 6)] at -4.75280603768\n",
      "n=10000. Worst quantile of [(8, 0)] at -4.84234529327\n",
      "n=10000. Worst quantile of [(8, 1)] at -4.74985798315\n",
      "n=10000. Worst quantile of [(8, 2)] at -4.74284222683\n",
      "n=10000. Worst quantile of [(8, 3)] at -4.78336356614\n",
      "n=10000. Worst quantile of [(8, 4)] at -4.74260982904\n",
      "n=10000. Worst quantile of [(8, 5)] at -4.74293622169\n",
      "n=10000. Worst quantile of [(8, 6)] at -4.75683146372\n",
      "n=10000. Worst quantile of [(8, 7)] at -4.76939259276\n",
      "n=10000. Worst quantile of [(9, 0)] at -5.68923401126\n",
      "n=10000. Worst quantile of [(9, 1)] at -5.72402322513\n",
      "n=10000. Worst quantile of [(9, 2)] at -4.80222045937\n",
      "n=10000. Worst quantile of [(9, 3)] at -4.81710808037\n",
      "n=10000. Worst quantile of [(9, 4)] at -5.82320891941\n",
      "n=10000. Worst quantile of [(9, 5)] at -4.84920752615\n",
      "n=10000. Worst quantile of [(9, 6)] at -4.73450959827\n",
      "n=10000. Worst quantile of [(9, 7)] at -4.77236901808\n",
      "n=10000. Worst quantile of [(9, 8)] at -4.80667124865\n",
      "\n",
      "Iteration 1: selected pair: (9, 4)\n",
      "Total number of evaluations = 9000000. Minimum quantity at -5.82.\n",
      "\n"
     ]
    }
   ],
   "source": [
    "algorithm_parameters = {\n",
    "    \"n_input_sample\": 10000,\n",
    "    \"n_dep_param_init\": 20,\n",
    "    \"max_n_pairs\": 1,\n",
    "    \"grid_type\": 'lhs',\n",
    "    \"q_func\": q_func,\n",
    "    \"n_add_pairs\": 1,\n",
    "    \"n_remove_pairs\": 0,\n",
    "    \"adapt_vine_structure\": False,\n",
    "    \"with_bootstrap\": False,\n",
    "    \"verbose\": True,\n",
    "    \"iterative_save\": False,\n",
    "    \"iterative_load\": False,\n",
    "    \"load_input_samples\": False,\n",
    "    \"keep_input_samples\": False\n",
    "}\n",
    "\n",
    "quant_estimate = ConservativeEstimate(model_func=func, margins=margins, families=families)\n",
    "\n",
    "iterative_results = iterative_vine_minimize(estimate_object=quant_estimate, **algorithm_parameters)"
   ]
  },
  {
   "cell_type": "code",
   "execution_count": null,
   "metadata": {},
   "outputs": [],
   "source": [
    "results = iterative_results[0]\n",
    "matrix_plot_results(results, figsize=(18, 15))\n",
    "plt.savefig('output/matrix_plot.png')"
   ]
  },
  {
   "cell_type": "code",
   "execution_count": null,
   "metadata": {
    "collapsed": true
   },
   "outputs": [],
   "source": []
  },
  {
   "cell_type": "code",
   "execution_count": null,
   "metadata": {
    "collapsed": true
   },
   "outputs": [],
   "source": []
  },
  {
   "cell_type": "code",
   "execution_count": 6,
   "metadata": {},
   "outputs": [
    {
     "data": {
      "text/plain": [
       "<matplotlib.legend.Legend at 0x7fdad8acc210>"
      ]
     },
     "execution_count": 6,
     "metadata": {},
     "output_type": "execute_result"
    },
    {
     "data": {
      "image/png": "[encoded data removed]",
      "text/plain": [
       "<matplotlib.figure.Figure at 0x7fdaea89a810>"
      ]
     },
     "metadata": {},
     "output_type": "display_data"
    }
   ],
   "source": [
    "fig, ax = plt.subplots(figsize=(10, 5))\n",
    "ax.plot(grid_result.dep_params, grid_result.quantities, '.', label='Quantiles')\n",
    "ax.plot(min_result.dep_param[0], min_result.quantity, 'ro', label='minimum')\n",
    "ax.set_xlabel('Dependence parameter')\n",
    "ax.set_ylabel('Quantile value')\n",
    "ax.legend(loc=0)"
   ]
  },
  {
   "cell_type": "code",
   "execution_count": null,
   "metadata": {
    "collapsed": true
   },
   "outputs": [],
   "source": []
  }
 ],
 "metadata": {
  "anaconda-cloud": {},
  "kernelspec": {
   "display_name": "Python [Root]",
   "language": "python",
   "name": "Python [Root]"
  },
  "language_info": {
   "codemirror_mode": {
    "name": "ipython",
    "version": 2
   },
   "file_extension": ".py",
   "mimetype": "text/x-python",
   "name": "python",
   "nbconvert_exporter": "python",
   "pygments_lexer": "ipython2",
   "version": "2.7.13"
  }
 },
 "nbformat": 4,
 "nbformat_minor": 2
}
