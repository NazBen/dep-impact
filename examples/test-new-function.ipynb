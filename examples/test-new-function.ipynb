{
 "cells": [
  {
   "cell_type": "code",
   "execution_count": null,
   "metadata": {},
   "outputs": [],
   "source": [
    "import itertools\n",
    "import openturns as ot\n",
    "import numpy as np\n",
    "import seaborn as sns\n",
    "import matplotlib.pyplot as plt\n",
    "from dependence.tests import func_sum\n",
    "from dependence.tests.test_functions import func_cum_sum_weight\n",
    "from dependence import ConservativeEstimate\n",
    "from dependence import quantile_func\n",
    "from dependence import iterative_vine_minimize\n",
    "from dependence.dependence_plot import matrix_plot_results\n",
    "from dependence.dependence_plot import plot_iterative_results\n",
    "\n",
    "\n",
    "%matplotlib inline\n",
    "%load_ext autoreload\n",
    "%autoreload 2\n",
    "\n",
    "random_state = 12\n",
    "np.random.seed(random_state)"
   ]
  },
  {
   "cell_type": "code",
   "execution_count": null,
   "metadata": {
    "collapsed": true
   },
   "outputs": [],
   "source": [
    "dim = 7\n",
    "margins = [ot.Normal()]*dim\n",
    "alpha = 0.05\n",
    "q_func = quantile_func(alpha)\n",
    "families = np.tril(np.ones((dim, dim)), k=1)"
   ]
  },
  {
   "cell_type": "code",
   "execution_count": null,
   "metadata": {},
   "outputs": [],
   "source": [
    "n_influencial_pairs = 3\n",
    "val_influencial = 1.\n",
    "val_non_influencial = 0.0\n",
    "corr_dim = int(dim * (dim-1)/2)\n",
    "\n",
    "all_pairs = np.asarray(list(itertools.combinations(range(dim), 2)))\n",
    "selected_pairs = all_pairs[np.random.choice(range(corr_dim), size=n_influencial_pairs, replace=False)]\n",
    "\n",
    "power = np.zeros((dim, dim))\n",
    "for i in range(1, dim):\n",
    "    for j in range(i):\n",
    "        if [j, i] in selected_pairs.tolist():\n",
    "            print([i, j])\n",
    "            power[i, j] = val_influencial\n",
    "        else:\n",
    "            power[i, j] = val_non_influencial\n",
    "test_func = lambda x: func_cum_sum_weight(x, power)\n",
    "print(power)"
   ]
  },
  {
   "cell_type": "code",
   "execution_count": null,
   "metadata": {
    "collapsed": true
   },
   "outputs": [],
   "source": [
    "n = 10000\n",
    "quant_estimate = ConservativeEstimate(model_func=test_func, margins=margins, families=families)\n",
    "indep_result = quant_estimate.independence(n_input_sample=n, q_func=q_func, random_state=random_state)[0]"
   ]
  },
  {
   "cell_type": "code",
   "execution_count": null,
   "metadata": {},
   "outputs": [],
   "source": [
    "algorithm_parameters = {\n",
    "    \"n_input_sample\": n,\n",
    "    \"n_dep_param_init\": 20,\n",
    "    \"max_n_pairs\": 1,\n",
    "    \"grid_type\": 'lhs',\n",
    "    \"q_func\": q_func,\n",
    "    \"n_add_pairs\": 1,\n",
    "    \"n_remove_pairs\": 0,\n",
    "    \"adapt_vine_structure\": False,\n",
    "    \"with_bootstrap\": False,\n",
    "    \"verbose\": False,\n",
    "    \"iterative_save\": False,\n",
    "    \"iterative_load\": False,\n",
    "    \"load_input_samples\": False,\n",
    "    \"keep_input_samples\": False\n",
    "}\n",
    "\n",
    "iterative_results = iterative_vine_minimize(estimate_object=quant_estimate, **algorithm_parameters)"
   ]
  },
  {
   "cell_type": "code",
   "execution_count": null,
   "metadata": {},
   "outputs": [],
   "source": [
    "results = iterative_results[0]\n",
    "matrix_plot_results(results, figsize=(18, 15))\n",
    "#plt.savefig('output/matrix_plot.png')"
   ]
  },
  {
   "cell_type": "code",
   "execution_count": null,
   "metadata": {},
   "outputs": [],
   "source": [
    "algorithm_parameters = {\n",
    "    \"n_input_sample\": n,\n",
    "    \"n_dep_param_init\": None,\n",
    "    \"max_n_pairs\": 3,\n",
    "    \"grid_type\": 'vertices',\n",
    "    \"q_func\": q_func,\n",
    "    \"n_add_pairs\": 1,\n",
    "    \"n_remove_pairs\": 0,\n",
    "    \"adapt_vine_structure\": False,\n",
    "    \"with_bootstrap\": False,\n",
    "    \"verbose\": True,\n",
    "    \"iterative_save\": False,\n",
    "    \"iterative_load\": False,\n",
    "    \"load_input_samples\": False,\n",
    "    \"keep_input_samples\": False,\n",
    "    \"adapt_vine_structure\":True\n",
    "}\n",
    "\n",
    "quant_estimate = ConservativeEstimate(model_func=test_func, margins=margins, families=families)\n",
    "\n",
    "iterative_results = iterative_vine_minimize(estimate_object=quant_estimate, **algorithm_parameters)"
   ]
  },
  {
   "cell_type": "code",
   "execution_count": null,
   "metadata": {},
   "outputs": [],
   "source": [
    "K = 2000\n",
    "grid_type = 'lhs'\n",
    "grid_results_lhs = quant_estimate.gridsearch_minimize(n_dep_param=K, n_input_sample=n, grid_type=grid_type, q_func=q_func)\n",
    "min_result = grid_results_lhs.min_result\n",
    "min_result.quantity"
   ]
  },
  {
   "cell_type": "code",
   "execution_count": null,
   "metadata": {},
   "outputs": [],
   "source": [
    "plot_iterative_results(iterative_results, indep_result=indep_result, grid_result=min_result, q_func=q_func)"
   ]
  },
  {
   "cell_type": "code",
   "execution_count": null,
   "metadata": {},
   "outputs": [],
   "source": [
    "K = 500\n",
    "grid_type = 'vertices'\n",
    "grid_results_vertices = quant_estimate.gridsearch_minimize(n_dep_param=K, n_input_sample=n, grid_type=grid_type, q_func=q_func)\n",
    "min_result_vertices = grid_results_vertices.min_result\n",
    "min_result_vertices.quantity"
   ]
  },
  {
   "cell_type": "code",
   "execution_count": null,
   "metadata": {
    "collapsed": true
   },
   "outputs": [],
   "source": []
  }
 ],
 "metadata": {
  "anaconda-cloud": {},
  "kernelspec": {
   "display_name": "Python 3",
   "language": "python",
   "name": "python3"
  },
  "language_info": {
   "codemirror_mode": {
    "name": "ipython",
    "version": 3
   },
   "file_extension": ".py",
   "mimetype": "text/x-python",
   "name": "python",
   "nbconvert_exporter": "python",
   "pygments_lexer": "ipython3",
   "version": "3.6.1"
  }
 },
 "nbformat": 4,
 "nbformat_minor": 2
}
