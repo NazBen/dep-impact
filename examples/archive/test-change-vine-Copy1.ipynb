{
 "cells": [
  {
   "cell_type": "code",
   "execution_count": 54,
   "metadata": {},
   "outputs": [
    {
     "name": "stdout",
     "output_type": "stream",
     "text": [
      "The autoreload extension is already loaded. To reload it, use:\n",
      "  %reload_ext autoreload\n"
     ]
    }
   ],
   "source": [
    "import openturns as ot\n",
    "import numpy as np\n",
    "import seaborn as sns\n",
    "import itertools\n",
    "import matplotlib.pyplot as plt\n",
    "%matplotlib inline\n",
    "\n",
    "%load_ext autoreload\n",
    "%autoreload 2\n",
    "\n",
    "random_state = 123\n",
    "np.random.seed(random_state)"
   ]
  },
  {
   "cell_type": "code",
   "execution_count": 236,
   "metadata": {
    "collapsed": true
   },
   "outputs": [],
   "source": [
    "from depimpact.tests.test_functions import func_sum, func_cum_sum_weight\n",
    "\n",
    "dim = 3\n",
    "margins = []\n",
    "for i in range(dim):\n",
    "    margins.append(ot.Uniform(0, 1.))\n",
    "    \n",
    "margins[0] = ot.Uniform(0, 1.)\n",
    "margins = [ot.Normal()]*dim\n",
    "alpha = 0.1\n",
    "q_func = quantile_func(alpha)\n",
    "families = np.tril(np.ones((dim, dim)), k=1)\n",
    "from depimpact import ConservativeEstimate, quantile_func"
   ]
  },
  {
   "cell_type": "code",
   "execution_count": 239,
   "metadata": {},
   "outputs": [
    {
     "name": "stdout",
     "output_type": "stream",
     "text": [
      "[1, 0]\n",
      "[[ 0.  0.  0.]\n",
      " [ 1.  0.  0.]\n",
      " [ 0.  0.  0.]]\n"
     ]
    }
   ],
   "source": [
    "n_influencial_pairs = 2\n",
    "val_influencial = 1.\n",
    "val_non_influencial = 0.0\n",
    "corr_dim = int(dim * (dim-1)/2)\n",
    "\n",
    "all_pairs = np.asarray(list(itertools.combinations(range(dim), 2)))\n",
    "selected_pairs = all_pairs[np.random.choice(range(corr_dim), size=n_influencial_pairs, replace=False)]\n",
    "selected_pairs = np.asarray([[0, dim-2], [1, dim-1]])\n",
    "selected_pairs = np.asarray([[0, dim-2]])\n",
    "selected_pairs = np.asarray([[0, dim-3], [1, dim-1], [0, dim-1]])\n",
    "selected_pairs = np.asarray([[0, dim-2]])\n",
    "\n",
    "# selected_pairs = all_pairs\n",
    "\n",
    "power = np.zeros((dim, dim))\n",
    "for i in range(1, dim):\n",
    "    for j in range(i):\n",
    "        if [j, i] in selected_pairs.tolist():\n",
    "            print([i, j])\n",
    "            power[i, j] = val_influencial\n",
    "        else:\n",
    "            power[i, j] = val_non_influencial\n",
    "test_func = lambda x: func_cum_sum_weight(x, power, use_sum=False)\n",
    "print(power)"
   ]
  },
  {
   "cell_type": "markdown",
   "metadata": {},
   "source": [
    "### For the standard vine"
   ]
  },
  {
   "cell_type": "code",
   "execution_count": 241,
   "metadata": {},
   "outputs": [
    {
     "data": {
      "text/plain": [
       "-2.6023551216503114"
      ]
     },
     "execution_count": 241,
     "metadata": {},
     "output_type": "execute_result"
    }
   ],
   "source": [
    "K = 200\n",
    "grid_type = 'vertices'\n",
    "n = 10000\n",
    "quant_estimate = ConservativeEstimate(model_func=test_func, margins=margins, families=families)\n",
    "grid_results_lhs = quant_estimate.gridsearch(n_dep_param=K, n_input_sample=n, grid_type=grid_type, q_func=q_func)\n",
    "min_result = grid_results_lhs.min_result\n",
    "min_result.quantity"
   ]
  },
  {
   "cell_type": "code",
   "execution_count": 242,
   "metadata": {},
   "outputs": [
    {
     "data": {
      "image/png": "[encoded data removed]",
      "text/plain": [
       "<matplotlib.figure.Figure at 0x2781c8f2048>"
      ]
     },
     "metadata": {},
     "output_type": "display_data"
    }
   ],
   "source": [
    "fig, axes = plt.subplots(dim, dim, figsize=(10, 8), sharex=True, sharey=True)\n",
    "kendalls = grid_results_lhs.kendalls\n",
    "quantities = grid_results_lhs.quantities\n",
    "k = 0\n",
    "for i in range(1, dim):\n",
    "    for j in range(i):\n",
    "        ax = axes[i, j]\n",
    "        ax.plot(kendalls[:, k], quantities, '.')\n",
    "        ax.plot(min_result.kendall_tau[k], min_result.quantity, 'ro')\n",
    "        k += 1"
   ]
  },
  {
   "cell_type": "code",
   "execution_count": 243,
   "metadata": {},
   "outputs": [
    {
     "data": {
      "text/plain": [
       "array([[1, 0, 0],\n",
       "       [2, 2, 0],\n",
       "       [3, 3, 3]])"
      ]
     },
     "execution_count": 243,
     "metadata": {},
     "output_type": "execute_result"
    }
   ],
   "source": [
    "quant_estimate.vine_structure"
   ]
  },
  {
   "cell_type": "code",
   "execution_count": 244,
   "metadata": {},
   "outputs": [
    {
     "data": {
      "text/plain": [
       "-2.638056706476647"
      ]
     },
     "execution_count": 244,
     "metadata": {},
     "output_type": "execute_result"
    }
   ],
   "source": [
    "quant_estimate.vine_structure = np.asarray([[1, 0, 0, 0],\n",
    "                                            [3, 2, 0, 0],\n",
    "                                            [4, 3, 3, 0],\n",
    "                                            [2, 4, 4, 4]])\n",
    "\n",
    "quant_estimate.vine_structure = np.asarray([[1, 0, 0],\n",
    "                                            [3, 2, 0],\n",
    "                                            [2, 3, 3]])\n",
    "grid_results_lhs = quant_estimate.gridsearch(n_dep_param=K, n_input_sample=n, grid_type=grid_type, q_func=q_func)\n",
    "min_result = grid_results_lhs.min_result\n",
    "min_result.quantity"
   ]
  },
  {
   "cell_type": "code",
   "execution_count": 245,
   "metadata": {},
   "outputs": [
    {
     "data": {
      "image/png": "[encoded data removed]",
      "text/plain": [
       "<matplotlib.figure.Figure at 0x2781bc492b0>"
      ]
     },
     "metadata": {},
     "output_type": "display_data"
    }
   ],
   "source": [
    "fig, axes = plt.subplots(dim, dim, figsize=(10, 8), sharex=True, sharey=True)\n",
    "kendalls = grid_results_lhs.kendalls\n",
    "quantities = grid_results_lhs.quantities\n",
    "k = 0\n",
    "for i in range(1, dim):\n",
    "    for j in range(i):\n",
    "        ax = axes[i, j]\n",
    "        ax.plot(kendalls[:, k], quantities, '.')\n",
    "        ax.plot(min_result.kendall_tau[k], min_result.quantity, 'ro')\n",
    "        k += 1"
   ]
  },
  {
   "cell_type": "code",
   "execution_count": 233,
   "metadata": {},
   "outputs": [
    {
     "data": {
      "text/plain": [
       "-7.830926450066358"
      ]
     },
     "execution_count": 233,
     "metadata": {},
     "output_type": "execute_result"
    }
   ],
   "source": [
    "quant_estimate.vine_structure = np.asarray([[1, 0, 0, 0],\n",
    "                                            [4, 2, 0, 0],\n",
    "                                            [3, 4, 3, 0],\n",
    "                                            [2, 3, 4, 4]])\n",
    "grid_results_lhs = quant_estimate.gridsearch(n_dep_param=K, n_input_sample=n, grid_type=grid_type, q_func=q_func)\n",
    "min_result = grid_results_lhs.min_result\n",
    "min_result.quantity"
   ]
  },
  {
   "cell_type": "code",
   "execution_count": 234,
   "metadata": {},
   "outputs": [
    {
     "data": {
      "image/png": "[encoded data removed]",
      "text/plain": [
       "<matplotlib.figure.Figure at 0x2781f62ee10>"
      ]
     },
     "metadata": {},
     "output_type": "display_data"
    }
   ],
   "source": [
    "fig, axes = plt.subplots(dim, dim, figsize=(10, 8), sharex=True, sharey=True)\n",
    "kendalls = grid_results_lhs.kendalls\n",
    "quantities = grid_results_lhs.quantities\n",
    "k = 0\n",
    "for i in range(1, dim):\n",
    "    for j in range(i):\n",
    "        ax = axes[i, j]\n",
    "        ax.plot(kendalls[:, k], quantities, '.')\n",
    "        ax.plot(min_result.kendall_tau[k], min_result.quantity, 'ro')\n",
    "        k += 1"
   ]
  },
  {
   "cell_type": "code",
   "execution_count": 252,
   "metadata": {
    "collapsed": true
   },
   "outputs": [],
   "source": [
    "param = [-0.99, 0, 0]\n",
    "result = quant_estimate.stochastic_function(param, n, return_input_sample=False)\n",
    "res_quant = np.percentile(result, alpha*100)"
   ]
  },
  {
   "cell_type": "code",
   "execution_count": null,
   "metadata": {
    "collapsed": true
   },
   "outputs": [],
   "source": [
    "grid_results_lhs = quant_estimate.gridsearch(n_dep_param=K, n_input_sample=n, grid_type=grid_type, q_func=q_func)\n",
    "min_result = grid_results_lhs.min_result\n",
    "min_result.quantity"
   ]
  },
  {
   "cell_type": "code",
   "execution_count": null,
   "metadata": {
    "collapsed": true
   },
   "outputs": [],
   "source": []
  },
  {
   "cell_type": "code",
   "execution_count": null,
   "metadata": {
    "collapsed": true
   },
   "outputs": [],
   "source": []
  },
  {
   "cell_type": "code",
   "execution_count": null,
   "metadata": {
    "collapsed": true
   },
   "outputs": [],
   "source": []
  }
 ],
 "metadata": {
  "anaconda-cloud": {},
  "kernelspec": {
   "display_name": "Python 3",
   "language": "python",
   "name": "python3"
  },
  "language_info": {
   "codemirror_mode": {
    "name": "ipython",
    "version": 3
   },
   "file_extension": ".py",
   "mimetype": "text/x-python",
   "name": "python",
   "nbconvert_exporter": "python",
   "pygments_lexer": "ipython3",
   "version": "3.6.1"
  }
 },
 "nbformat": 4,
 "nbformat_minor": 2
}
