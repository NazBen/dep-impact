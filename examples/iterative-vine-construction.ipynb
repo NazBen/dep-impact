{
 "cells": [
  {
   "cell_type": "markdown",
   "metadata": {},
   "source": [
    "# Iterative Construction of a Penalised Vine Structure\n",
    "This notebook iteratively estimate the quantile."
   ]
  },
  {
   "cell_type": "markdown",
   "metadata": {},
   "source": [
    "#### Libraries"
   ]
  },
  {
   "cell_type": "code",
   "execution_count": 1,
   "metadata": {
    "collapsed": true
   },
   "outputs": [],
   "source": [
    "import openturns as ot\n",
    "import numpy as np\n",
    "import matplotlib.pyplot as plt\n",
    "%matplotlib inline\n",
    "\n",
    "%load_ext autoreload\n",
    "%autoreload 2\n",
    "\n",
    "random_state = 123\n",
    "np.random.seed(random_state)"
   ]
  },
  {
   "cell_type": "markdown",
   "metadata": {},
   "source": [
    "#### Model function\n",
    "This example consider the simple additive example."
   ]
  },
  {
   "cell_type": "code",
   "execution_count": 2,
   "metadata": {
    "collapsed": true
   },
   "outputs": [],
   "source": [
    "from dependence.tests import func_overflow, margins_overflow, var_names_overflow, func_sum\n",
    "\n",
    "test_func = func_overflow"
   ]
  },
  {
   "cell_type": "markdown",
   "metadata": {},
   "source": [
    "#### Dimension and margins\n",
    "We first define the problem dimension and the margins"
   ]
  },
  {
   "cell_type": "code",
   "execution_count": 3,
   "metadata": {
    "collapsed": true
   },
   "outputs": [],
   "source": [
    "if test_func == func_overflow:\n",
    "    margins = margins_overflow\n",
    "    dim = len(margins)\n",
    "else:\n",
    "    dim = 6\n",
    "    margins = [ot.Normal()]*dim"
   ]
  },
  {
   "cell_type": "markdown",
   "metadata": {},
   "source": [
    "We chose the coefficients of the variables throught the additive function."
   ]
  },
  {
   "cell_type": "code",
   "execution_count": 4,
   "metadata": {
    "collapsed": true
   },
   "outputs": [],
   "source": [
    "if test_func == func_sum:\n",
    "    coeficients = np.logspace(0., 5., dim+1, endpoint=False)[1:]\n",
    "\n",
    "    n_plot = 10000\n",
    "    x = np.asarray(ot.ComposedDistribution(margins).getSample(n_plot))\n",
    "    y = test_func(x, coeficients)\n",
    "\n",
    "    fig, axes = plt.subplots(dim, 1, sharex=True, sharey=True, figsize=(4, 2*dim))\n",
    "    for i in range(dim):\n",
    "        ax = axes[i]\n",
    "        ax.plot(x[:, i], y, '.')\n",
    "        ax.set_xlabel(r'$X_%d$' % (i+1), fontsize=12)\n",
    "        ax.set_ylabel(r'$y$', fontsize=12)\n",
    "    fig.tight_layout()"
   ]
  },
  {
   "cell_type": "markdown",
   "metadata": {},
   "source": [
    "#### Copula families\n",
    "We now consider only Gaussian dependencies for this example"
   ]
  },
  {
   "cell_type": "code",
   "execution_count": 5,
   "metadata": {
    "collapsed": true
   },
   "outputs": [],
   "source": [
    "families = np.zeros((dim, dim), dtype=int)\n",
    "for i in range(1, dim):\n",
    "    for j in range(i):\n",
    "        families[i, j] = 1"
   ]
  },
  {
   "cell_type": "markdown",
   "metadata": {},
   "source": [
    "## Estimations\n",
    "We create an instance of the main class for conservative estimate, and we define a q_func object for the quantile as a quantity of interest"
   ]
  },
  {
   "cell_type": "code",
   "execution_count": 6,
   "metadata": {
    "collapsed": true
   },
   "outputs": [],
   "source": [
    "from dependence import ConservativeEstimate, quantile_func\n",
    "\n",
    "alpha = 0.95\n",
    "\n",
    "if alpha > 0.5: # Maximizing the quantile\n",
    "    def q_func(x, axis=1):\n",
    "        return - quantile_func(alpha)(x, axis=axis)\n",
    "else: # Minimizing\n",
    "    q_func = quantile_func(alpha)\n",
    "\n",
    "quant_estimate = ConservativeEstimate(model_func=test_func, margins=margins, families=families)"
   ]
  },
  {
   "cell_type": "markdown",
   "metadata": {},
   "source": [
    "First, we compute the quantile at independence"
   ]
  },
  {
   "cell_type": "code",
   "execution_count": 7,
   "metadata": {
    "collapsed": true
   },
   "outputs": [],
   "source": [
    "n = 10000\n",
    "indep_result = quant_estimate.independence(n_input_sample=n, q_func=q_func, random_state=random_state)[0]"
   ]
  },
  {
   "cell_type": "code",
   "execution_count": 8,
   "metadata": {},
   "outputs": [
    {
     "name": "stdout",
     "output_type": "stream",
     "text": [
      "Quantile at independence: 4.86 with a C.O.V at 2.1 %\n"
     ]
    }
   ],
   "source": [
    "indep_result.compute_bootstrap(1000)\n",
    "boot_std = indep_result.bootstrap_sample.std()\n",
    "boot_mean = indep_result.bootstrap_sample.mean()\n",
    "print('Quantile at independence: %.2f with a C.O.V at %.1f %%' % (boot_mean, abs(boot_std/boot_mean)*100.))"
   ]
  },
  {
   "cell_type": "markdown",
   "metadata": {},
   "source": [
    "### Iterative Approach\n",
    "Now lets see how good we can be with the iterative appraoch."
   ]
  },
  {
   "cell_type": "code",
   "execution_count": 14,
   "metadata": {
    "run_control": {
     "marked": true
    },
    "scrolled": false
   },
   "outputs": [],
   "source": [
    "from dependence import iterative_vine_minimize\n",
    "\n",
    "n = 50000\n",
    "p_max = 4\n",
    "K = None\n",
    "verbose = False\n",
    "grid_type = 'vertices'\n",
    "n_add_pairs = 1\n",
    "n_remove_pairs = 1\n",
    "iterative_save = \"./results/iterative_save\"\n",
    "iterative_load = True\n",
    "load_input_sample = False\n",
    "\n",
    "quant_estimate = ConservativeEstimate(model_func=test_func, margins=margins, families=families)\n",
    "\n",
    "results = iterative_vine_minimize(quant_estimate, \n",
    "                                  n_input_sample=n,\n",
    "                                  n_dep_param_init=K,\n",
    "                                  max_n_pairs=p_max, \n",
    "                                  grid_type=grid_type, \n",
    "                                  q_func=q_func,\n",
    "                                  n_add_pairs=n_add_pairs,\n",
    "                                  n_remove_pairs=n_remove_pairs,\n",
    "                                  verbose=verbose, \n",
    "                                  iterative_save=iterative_save,\n",
    "                                  iterative_load=iterative_load, \n",
    "                                  keep_input_sample=load_input_sample)"
   ]
  },
  {
   "cell_type": "code",
   "execution_count": 15,
   "metadata": {},
   "outputs": [],
   "source": [
    "def get_all_quantity(results, q_func=None):\n",
    "    \"\"\"\n",
    "    \"\"\"\n",
    "    quantities = []\n",
    "    for res_name in results:\n",
    "        if q_func is not None:\n",
    "            # We change the quantity function\n",
    "            results[res_name].q_func = q_func\n",
    "        min_quantity = results[res_name].min_quantity\n",
    "        quantities.append(min_quantity)\n",
    "    return quantities\n",
    "\n",
    "def get_n_pairs(all_results):\n",
    "    \"\"\"\n",
    "    \"\"\"\n",
    "    n_pairs = []\n",
    "    for results in all_results:\n",
    "        n_pair = results[results.keys()[0]].n_pairs\n",
    "        for res_name in results:\n",
    "            assert results[res_name].n_pairs== n_pair, \"Not the same numer of pairs... Weird\"\n",
    "            \n",
    "        n_pairs.append(n_pair)\n",
    "        \n",
    "    return n_pairs"
   ]
  },
  {
   "cell_type": "code",
   "execution_count": 16,
   "metadata": {},
   "outputs": [
    {
     "data": {
      "image/png": "[encoded data removed]",
      "text/plain": [
       "<matplotlib.figure.Figure at 0x188f7fd0>"
      ]
     },
     "metadata": {},
     "output_type": "display_data"
    }
   ],
   "source": [
    "def plot_quantity_evolution(all_results, indep_result=None, q_func=None, figsize=(10, 5), quantity_name='Quantity'):\n",
    "    \"\"\"\n",
    "    \"\"\"\n",
    "    fig, ax = plt.subplots(figsize=figsize)\n",
    "    n_levels = len(all_results)\n",
    "    \n",
    "    # Colors of the levels and independence\n",
    "    cmap = plt.get_cmap('jet')\n",
    "    colors = [cmap(i) for i in np.linspace(0, 1, n_levels+1)]\n",
    "    \n",
    "    n_pairs = get_n_pairs(all_results)\n",
    "    quantities = []\n",
    "    \n",
    "    for result in all_results:\n",
    "        quantities.append(get_all_quantity(result, q_func=q_func))\n",
    "\n",
    "    # Get the minimum of each level\n",
    "    min_quantities = []\n",
    "    for quant_lvl in quantities:\n",
    "        min_quant = min(quant_lvl)\n",
    "        min_quantities.append(min_quant)\n",
    "        \n",
    "        # Remove the minimum from the list of quantities\n",
    "        quant_lvl.remove(min_quant)\n",
    "    \n",
    "    for lvl in range(n_levels):\n",
    "        # The quantities of this level\n",
    "        quant_lvl = quantities[lvl]\n",
    "        # The number of results\n",
    "        n_res = len(quant_lvl)\n",
    "        ax.plot([n_pairs[lvl]]*n_res, quant_lvl, '.', color=colors[lvl+1])\n",
    "        \n",
    "    for lvl in range(n_levels):\n",
    "        if n_pairs[lvl] == n_pairs[-1]:\n",
    "            ax.plot(n_pairs[lvl], min_quantities[lvl], 'o', color=colors[lvl+1])\n",
    "        else:\n",
    "            ax.plot([n_pairs[lvl], n_pairs[lvl+1]], [min_quantities[lvl]]*2, 'o-', color=colors[lvl+1])\n",
    "\n",
    "    if indep_result is not None:\n",
    "        ax.plot([n_pairs[0], n_pairs[-1]], [indep_result.quantity]*2, '-o', color=colors[0], label='independence')\n",
    "    \n",
    "    ax.axis('tight')\n",
    "    ax.set_xlabel('Number of considered pairs')\n",
    "    ax.set_ylabel(quantity_name)\n",
    "    ax.set_xticks(range(1, n_levels+1))\n",
    "    fig.tight_layout()        \n",
    "\n",
    "plot_quantity_evolution(results, indep_result)"
   ]
  },
  {
   "cell_type": "code",
   "execution_count": null,
   "metadata": {
    "collapsed": true
   },
   "outputs": [],
   "source": []
  },
  {
   "cell_type": "code",
   "execution_count": null,
   "metadata": {
    "collapsed": true
   },
   "outputs": [],
   "source": []
  },
  {
   "cell_type": "code",
   "execution_count": null,
   "metadata": {
    "collapsed": true
   },
   "outputs": [],
   "source": []
  },
  {
   "cell_type": "code",
   "execution_count": 83,
   "metadata": {},
   "outputs": [],
   "source": [
    "def str_pairs_to_list(in_str):\n",
    "    list_pairs = []\n",
    "    str_pairs = in_str.split(\"), \")\n",
    "    n_pairs = len(str_pairs)\n",
    "    for str_pair in str_pairs:\n",
    "        str_pair = str_pair.replace('(', '')\n",
    "        str_pair = str_pair.replace(')', '')\n",
    "        pairs = [int(long(p)) for p in str_pair.split(', ')]\n",
    "        list_pairs.append(pairs)\n",
    "    return list_pairs\n",
    "\n",
    "for pairs in all_pairs:\n",
    "    pairs = str_pairs_to_list(pairs)"
   ]
  },
  {
   "cell_type": "code",
   "execution_count": 81,
   "metadata": {},
   "outputs": [
    {
     "data": {
      "text/plain": [
       "array([[1, 0, 0, 0, 0, 0, 0, 0],\n",
       "       [2, 2, 0, 0, 0, 0, 0, 0],\n",
       "       [3, 3, 3, 0, 0, 0, 0, 0],\n",
       "       [4, 4, 4, 4, 0, 0, 0, 0],\n",
       "       [5, 5, 5, 5, 5, 0, 0, 0],\n",
       "       [6, 6, 6, 6, 6, 6, 0, 0],\n",
       "       [7, 7, 7, 7, 7, 7, 7, 0],\n",
       "       [8, 8, 8, 8, 8, 8, 8, 8]])"
      ]
     },
     "execution_count": 81,
     "metadata": {},
     "output_type": "execute_result"
    }
   ],
   "source": [
    "pairs_iter = [[1, 0], [3, 2], [2, 1]]\n",
    "families = np.zeros((dim, dim))\n",
    "for i, j in pairs_iter:\n",
    "    families[i, j] = 1\n",
    "\n",
    "quant_estimate = ConservativeEstimate(model_func=test_func, margins=margins, families=families)\n",
    "quant_estimate.vine_structure"
   ]
  },
  {
   "cell_type": "code",
   "execution_count": 82,
   "metadata": {},
   "outputs": [
    {
     "data": {
      "text/plain": [
       "array([[0, 0, 0, 0, 0, 0, 0, 0],\n",
       "       [1, 0, 0, 0, 0, 0, 0, 0],\n",
       "       [0, 1, 0, 0, 0, 0, 0, 0],\n",
       "       [0, 0, 1, 0, 0, 0, 0, 0],\n",
       "       [0, 0, 0, 0, 0, 0, 0, 0],\n",
       "       [0, 0, 0, 0, 0, 0, 0, 0],\n",
       "       [0, 0, 0, 0, 0, 0, 0, 0],\n",
       "       [0, 0, 0, 0, 0, 0, 0, 0]])"
      ]
     },
     "execution_count": 82,
     "metadata": {},
     "output_type": "execute_result"
    }
   ],
   "source": [
    "quant_estimate.families"
   ]
  },
  {
   "cell_type": "code",
   "execution_count": 77,
   "metadata": {},
   "outputs": [
    {
     "data": {
      "text/plain": [
       "1.5240715667480425"
      ]
     },
     "execution_count": 77,
     "metadata": {},
     "output_type": "execute_result"
    }
   ],
   "source": [
    "n = 10000\n",
    "res = quant_estimate.gridsearch_minimize(None, n, 'vertices', q_func=q_func)\n",
    "res.min_quantity"
   ]
  },
  {
   "cell_type": "code",
   "execution_count": 78,
   "metadata": {
    "collapsed": true
   },
   "outputs": [],
   "source": [
    "from dependence.iterative_vines import get_possible_structures, get_pair_id, get_pairs_by_levels\n",
    "\n",
    "pairs_iter_id = [get_pair_id(dim, pair, with_plus=False) for pair in pairs_iter]\n",
    "pairs_by_levels = get_pairs_by_levels(dim, pairs_iter_id)\n",
    "new_vine_structure = get_possible_structures(dim, pairs_by_levels)[1]"
   ]
  },
  {
   "cell_type": "code",
   "execution_count": 86,
   "metadata": {},
   "outputs": [
    {
     "data": {
      "text/plain": [
       "array([[1, 0, 0, 0, 0, 0, 0, 0],\n",
       "       [8, 4, 0, 0, 0, 0, 0, 0],\n",
       "       [7, 8, 3, 0, 0, 0, 0, 0],\n",
       "       [6, 7, 8, 2, 0, 0, 0, 0],\n",
       "       [5, 6, 7, 8, 5, 0, 0, 0],\n",
       "       [4, 5, 6, 7, 8, 6, 0, 0],\n",
       "       [3, 2, 5, 6, 7, 8, 7, 0],\n",
       "       [2, 3, 2, 5, 6, 7, 8, 8]])"
      ]
     },
     "execution_count": 86,
     "metadata": {},
     "output_type": "execute_result"
    }
   ],
   "source": [
    "quant_estimate.vine_structure = new_vine_structure\n",
    "quant_estimate.vine_structure"
   ]
  },
  {
   "cell_type": "code",
   "execution_count": 85,
   "metadata": {},
   "outputs": [
    {
     "data": {
      "text/plain": [
       "array([[0, 0, 0, 0, 0, 0, 0, 0],\n",
       "       [1, 0, 0, 0, 0, 0, 0, 0],\n",
       "       [0, 1, 0, 0, 0, 0, 0, 0],\n",
       "       [0, 0, 1, 0, 0, 0, 0, 0],\n",
       "       [0, 0, 0, 0, 0, 0, 0, 0],\n",
       "       [0, 0, 0, 0, 0, 0, 0, 0],\n",
       "       [0, 0, 0, 0, 0, 0, 0, 0],\n",
       "       [0, 0, 0, 0, 0, 0, 0, 0]])"
      ]
     },
     "execution_count": 85,
     "metadata": {},
     "output_type": "execute_result"
    }
   ],
   "source": [
    "quant_estimate.families"
   ]
  },
  {
   "cell_type": "code",
   "execution_count": 72,
   "metadata": {},
   "outputs": [
    {
     "data": {
      "text/plain": [
       "4.8708017488005861"
      ]
     },
     "execution_count": 72,
     "metadata": {},
     "output_type": "execute_result"
    }
   ],
   "source": [
    "res = quant_estimate.gridsearch_minimize(None, n, 'vertices', q_func=q_func)\n",
    "res.min_quantity"
   ]
  },
  {
   "cell_type": "code",
   "execution_count": null,
   "metadata": {
    "collapsed": true
   },
   "outputs": [],
   "source": []
  }
 ],
 "metadata": {
  "anaconda-cloud": {},
  "kernelspec": {
   "display_name": "Python [conda root]",
   "language": "python",
   "name": "conda-root-py"
  },
  "language_info": {
   "codemirror_mode": {
    "name": "ipython",
    "version": 2
   },
   "file_extension": ".py",
   "mimetype": "text/x-python",
   "name": "python",
   "nbconvert_exporter": "python",
   "pygments_lexer": "ipython2",
   "version": "2.7.13"
  }
 },
 "nbformat": 4,
 "nbformat_minor": 2
}
