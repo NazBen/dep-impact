{
 "cells": [
  {
   "cell_type": "markdown",
   "metadata": {},
   "source": [
    "# Iterative Construction of a Penalised Vine Structure\n",
    "This notebook iteratively estimate the quantile."
   ]
  },
  {
   "cell_type": "markdown",
   "metadata": {},
   "source": [
    "#### Libraries"
   ]
  },
  {
   "cell_type": "code",
   "execution_count": 1,
   "metadata": {
    "collapsed": true
   },
   "outputs": [],
   "source": [
    "import openturns as ot\n",
    "import numpy as np\n",
    "import matplotlib.pyplot as plt\n",
    "%matplotlib inline\n",
    "\n",
    "%load_ext autoreload\n",
    "%autoreload 2\n",
    "\n",
    "random_state = 123\n",
    "np.random.seed(random_state)"
   ]
  },
  {
   "cell_type": "markdown",
   "metadata": {},
   "source": [
    "#### Model function\n",
    "This example consider the simple additive example."
   ]
  },
  {
   "cell_type": "code",
   "execution_count": 2,
   "metadata": {
    "collapsed": true
   },
   "outputs": [],
   "source": [
    "from dependence.tests import func_overflow, margins_overflow, var_names_overflow, func_sum\n",
    "\n",
    "test_func = func_overflow"
   ]
  },
  {
   "cell_type": "markdown",
   "metadata": {},
   "source": [
    "#### Dimension and margins\n",
    "We first define the problem dimension and the margins"
   ]
  },
  {
   "cell_type": "code",
   "execution_count": 3,
   "metadata": {
    "collapsed": true
   },
   "outputs": [],
   "source": [
    "if test_func == func_overflow:\n",
    "    margins = margins_overflow\n",
    "    dim = len(margins)\n",
    "else:\n",
    "    dim = 6\n",
    "    margins = [ot.Normal()]*dim"
   ]
  },
  {
   "cell_type": "markdown",
   "metadata": {},
   "source": [
    "We chose the coefficients of the variables throught the additive function."
   ]
  },
  {
   "cell_type": "code",
   "execution_count": 4,
   "metadata": {
    "collapsed": true
   },
   "outputs": [],
   "source": [
    "if test_func == func_sum:\n",
    "    coeficients = np.logspace(0., 5., dim+1, endpoint=False)[1:]\n",
    "\n",
    "    n_plot = 10000\n",
    "    x = np.asarray(ot.ComposedDistribution(margins).getSample(n_plot))\n",
    "    y = test_func(x, coeficients)\n",
    "\n",
    "    fig, axes = plt.subplots(dim, 1, sharex=True, sharey=True, figsize=(4, 2*dim))\n",
    "    for i in range(dim):\n",
    "        ax = axes[i]\n",
    "        ax.plot(x[:, i], y, '.')\n",
    "        ax.set_xlabel(r'$X_%d$' % (i+1), fontsize=12)\n",
    "        ax.set_ylabel(r'$y$', fontsize=12)\n",
    "    fig.tight_layout()"
   ]
  },
  {
   "cell_type": "markdown",
   "metadata": {},
   "source": [
    "#### Copula families\n",
    "We now consider only Gaussian dependencies for this example"
   ]
  },
  {
   "cell_type": "code",
   "execution_count": 5,
   "metadata": {
    "collapsed": true
   },
   "outputs": [],
   "source": [
    "families = np.zeros((dim, dim), dtype=int)\n",
    "for i in range(1, dim):\n",
    "    for j in range(i):\n",
    "        families[i, j] = 1"
   ]
  },
  {
   "cell_type": "markdown",
   "metadata": {},
   "source": [
    "## Estimations\n",
    "We create an instance of the main class for conservative estimate, and we define a q_func object for the quantile as a quantity of interest"
   ]
  },
  {
   "cell_type": "code",
   "execution_count": 6,
   "metadata": {
    "collapsed": true
   },
   "outputs": [],
   "source": [
    "from dependence import ConservativeEstimate, quantile_func\n",
    "\n",
    "alpha = 0.95\n",
    "\n",
    "if alpha > 0.5: # Maximizing the quantile\n",
    "    def q_func(x, axis=1):\n",
    "        return - quantile_func(alpha)(x, axis=axis)\n",
    "else: # Minimizing\n",
    "    q_func = quantile_func(alpha)\n",
    "\n",
    "quant_estimate = ConservativeEstimate(model_func=test_func, margins=margins, families=families)"
   ]
  },
  {
   "cell_type": "markdown",
   "metadata": {},
   "source": [
    "First, we compute the quantile at independence"
   ]
  },
  {
   "cell_type": "code",
   "execution_count": 7,
   "metadata": {
    "collapsed": true
   },
   "outputs": [],
   "source": [
    "n = 10000\n",
    "indep_result = quant_estimate.independence(n_input_sample=n, q_func=q_func, random_state=random_state)[0]"
   ]
  },
  {
   "cell_type": "code",
   "execution_count": 8,
   "metadata": {},
   "outputs": [
    {
     "name": "stdout",
     "output_type": "stream",
     "text": [
      "Quantile at independence: 4.86 with a C.O.V at 2.1 %\n"
     ]
    }
   ],
   "source": [
    "indep_result.compute_bootstrap(1000)\n",
    "boot_std = indep_result.bootstrap_sample.std()\n",
    "boot_mean = indep_result.bootstrap_sample.mean()\n",
    "print('Quantile at independence: %.2f with a C.O.V at %.1f %%' % (boot_mean, abs(boot_std/boot_mean)*100.))"
   ]
  },
  {
   "cell_type": "markdown",
   "metadata": {},
   "source": [
    "### Iterative Approach\n",
    "Now lets see how good we can be with the iterative appraoch."
   ]
  },
  {
   "cell_type": "code",
   "execution_count": 14,
   "metadata": {
    "run_control": {
     "marked": true
    },
    "scrolled": false
   },
   "outputs": [
    {
     "name": "stdout",
     "output_type": "stream",
     "text": [
      "Data saved in ./results/iterative_save1_0_0_0_0_0_0_0_0_0_0_0_0_0_0_0_0_0_0_0_0_0_0_0_0_0_0_0.hdf\n",
      "Worst quantile of [(1L, 0L)] at 1.61890855153\n",
      "Data saved in ./results/iterative_save0_1_0_0_0_0_0_0_0_0_0_0_0_0_0_0_0_0_0_0_0_0_0_0_0_0_0_0.hdf\n",
      "Worst quantile of [(2L, 0L)] at 3.8023413144\n",
      "Data saved in ./results/iterative_save0_0_1_0_0_0_0_0_0_0_0_0_0_0_0_0_0_0_0_0_0_0_0_0_0_0_0_0.hdf\n",
      "Worst quantile of [(2L, 1L)] at 4.39044839137\n",
      "Data saved in ./results/iterative_save0_0_0_1_0_0_0_0_0_0_0_0_0_0_0_0_0_0_0_0_0_0_0_0_0_0_0_0.hdf\n",
      "Worst quantile of [(3L, 0L)] at 4.43397312782\n",
      "Data saved in ./results/iterative_save0_0_0_0_1_0_0_0_0_0_0_0_0_0_0_0_0_0_0_0_0_0_0_0_0_0_0_0.hdf\n",
      "Worst quantile of [(3L, 1L)] at 4.82463359712\n",
      "Data saved in ./results/iterative_save0_0_0_0_0_1_0_0_0_0_0_0_0_0_0_0_0_0_0_0_0_0_0_0_0_0_0_0.hdf\n",
      "Worst quantile of [(3L, 2L)] at 4.73601800919\n",
      "Data saved in ./results/iterative_save0_0_0_0_0_0_1_0_0_0_0_0_0_0_0_0_0_0_0_0_0_0_0_0_0_0_0_0.hdf\n",
      "Worst quantile of [(4L, 0L)] at 4.29181343475\n",
      "Data saved in ./results/iterative_save0_0_0_0_0_0_0_1_0_0_0_0_0_0_0_0_0_0_0_0_0_0_0_0_0_0_0_0.hdf\n",
      "Worst quantile of [(4L, 1L)] at 4.48912631135\n",
      "Data saved in ./results/iterative_save0_0_0_0_0_0_0_0_1_0_0_0_0_0_0_0_0_0_0_0_0_0_0_0_0_0_0_0.hdf\n",
      "Worst quantile of [(4L, 2L)] at 4.61862644343\n",
      "Data saved in ./results/iterative_save0_0_0_0_0_0_0_0_0_1_0_0_0_0_0_0_0_0_0_0_0_0_0_0_0_0_0_0.hdf\n",
      "Worst quantile of [(4L, 3L)] at 4.83908116704\n",
      "Data saved in ./results/iterative_save0_0_0_0_0_0_0_0_0_0_1_0_0_0_0_0_0_0_0_0_0_0_0_0_0_0_0_0.hdf\n",
      "Worst quantile of [(5L, 0L)] at 4.73373510072\n",
      "Data saved in ./results/iterative_save0_0_0_0_0_0_0_0_0_0_0_1_0_0_0_0_0_0_0_0_0_0_0_0_0_0_0_0.hdf\n",
      "Worst quantile of [(5L, 1L)] at 4.7260879444\n",
      "Data saved in ./results/iterative_save0_0_0_0_0_0_0_0_0_0_0_0_1_0_0_0_0_0_0_0_0_0_0_0_0_0_0_0.hdf\n",
      "Worst quantile of [(5L, 2L)] at 4.88523367684\n",
      "Data saved in ./results/iterative_save0_0_0_0_0_0_0_0_0_0_0_0_0_1_0_0_0_0_0_0_0_0_0_0_0_0_0_0.hdf\n",
      "Worst quantile of [(5L, 3L)] at 5.01235610467\n",
      "Data saved in ./results/iterative_save0_0_0_0_0_0_0_0_0_0_0_0_0_0_1_0_0_0_0_0_0_0_0_0_0_0_0_0.hdf\n",
      "Worst quantile of [(5L, 4L)] at 4.857413427\n",
      "Data saved in ./results/iterative_save0_0_0_0_0_0_0_0_0_0_0_0_0_0_0_1_0_0_0_0_0_0_0_0_0_0_0_0.hdf\n",
      "Worst quantile of [(6L, 0L)] at 4.88857865129\n",
      "Data saved in ./results/iterative_save0_0_0_0_0_0_0_0_0_0_0_0_0_0_0_0_1_0_0_0_0_0_0_0_0_0_0_0.hdf\n",
      "Worst quantile of [(6L, 1L)] at 4.91012403389\n",
      "Data saved in ./results/iterative_save0_0_0_0_0_0_0_0_0_0_0_0_0_0_0_0_0_1_0_0_0_0_0_0_0_0_0_0.hdf\n",
      "Worst quantile of [(6L, 2L)] at 4.97586072172\n",
      "Data saved in ./results/iterative_save0_0_0_0_0_0_0_0_0_0_0_0_0_0_0_0_0_0_1_0_0_0_0_0_0_0_0_0.hdf\n",
      "Worst quantile of [(6L, 3L)] at 4.97153325175\n",
      "Data saved in ./results/iterative_save0_0_0_0_0_0_0_0_0_0_0_0_0_0_0_0_0_0_0_1_0_0_0_0_0_0_0_0.hdf\n",
      "Worst quantile of [(6L, 4L)] at 4.89631204734\n",
      "Data saved in ./results/iterative_save0_0_0_0_0_0_0_0_0_0_0_0_0_0_0_0_0_0_0_0_1_0_0_0_0_0_0_0.hdf\n",
      "Worst quantile of [(6L, 5L)] at 4.89825162463\n",
      "Data saved in ./results/iterative_save0_0_0_0_0_0_0_0_0_0_0_0_0_0_0_0_0_0_0_0_0_1_0_0_0_0_0_0.hdf\n",
      "Worst quantile of [(7L, 0L)] at 4.93406178138\n",
      "Data saved in ./results/iterative_save0_0_0_0_0_0_0_0_0_0_0_0_0_0_0_0_0_0_0_0_0_0_1_0_0_0_0_0.hdf\n",
      "Worst quantile of [(7L, 1L)] at 4.92282260728\n",
      "Data saved in ./results/iterative_save0_0_0_0_0_0_0_0_0_0_0_0_0_0_0_0_0_0_0_0_0_0_0_1_0_0_0_0.hdf\n",
      "Worst quantile of [(7L, 2L)] at 4.95453545418\n",
      "Data saved in ./results/iterative_save0_0_0_0_0_0_0_0_0_0_0_0_0_0_0_0_0_0_0_0_0_0_0_0_1_0_0_0.hdf\n",
      "Worst quantile of [(7L, 3L)] at 4.90500408104\n",
      "Data saved in ./results/iterative_save0_0_0_0_0_0_0_0_0_0_0_0_0_0_0_0_0_0_0_0_0_0_0_0_0_1_0_0.hdf\n",
      "Worst quantile of [(7L, 4L)] at 4.90021985004\n",
      "Data saved in ./results/iterative_save0_0_0_0_0_0_0_0_0_0_0_0_0_0_0_0_0_0_0_0_0_0_0_0_0_0_1_0.hdf\n",
      "Worst quantile of [(7L, 5L)] at 4.92070342493\n",
      "Data saved in ./results/iterative_save0_0_0_0_0_0_0_0_0_0_0_0_0_0_0_0_0_0_0_0_0_0_0_0_0_0_0_1.hdf\n",
      "Worst quantile of [(7L, 6L)] at 4.75338595067\n",
      "p=1, worst quantile at 1.62, cost = 560000\n",
      "Worst quantile of (1L, 0L)\n",
      "Data saved in ./results/iterative_save1_1_0_0_0_0_0_0_0_0_0_0_0_0_0_0_0_0_0_0_0_0_0_0_0_0_0_0.hdf\n",
      "Worst quantile of [(1L, 0L), (2L, 0L)] at 1.62877269006\n",
      "Data saved in ./results/iterative_save1_0_1_0_0_0_0_0_0_0_0_0_0_0_0_0_0_0_0_0_0_0_0_0_0_0_0_0.hdf\n",
      "Worst quantile of [(1L, 0L), (2L, 1L)] at 1.57377733518\n",
      "Data saved in ./results/iterative_save1_0_0_1_0_0_0_0_0_0_0_0_0_0_0_0_0_0_0_0_0_0_0_0_0_0_0_0.hdf\n",
      "Worst quantile of [(1L, 0L), (3L, 0L)] at 1.63741988966\n",
      "Data saved in ./results/iterative_save1_0_0_0_1_0_0_0_0_0_0_0_0_0_0_0_0_0_0_0_0_0_0_0_0_0_0_0.hdf\n",
      "Worst quantile of [(1L, 0L), (3L, 1L)] at 1.57360311192\n",
      "Data saved in ./results/iterative_save1_0_0_0_0_1_0_0_0_0_0_0_0_0_0_0_0_0_0_0_0_0_0_0_0_0_0_0.hdf\n",
      "Worst quantile of [(1L, 0L), (3L, 2L)] at 1.6599056507\n",
      "Data saved in ./results/iterative_save1_0_0_0_0_0_1_0_0_0_0_0_0_0_0_0_0_0_0_0_0_0_0_0_0_0_0_0.hdf\n",
      "Worst quantile of [(1L, 0L), (4L, 0L)] at 1.60337622828\n",
      "Data saved in ./results/iterative_save1_0_0_0_0_0_0_1_0_0_0_0_0_0_0_0_0_0_0_0_0_0_0_0_0_0_0_0.hdf\n",
      "Worst quantile of [(1L, 0L), (4L, 1L)] at 1.41279039497\n",
      "Data saved in ./results/iterative_save1_0_0_0_0_0_0_0_1_0_0_0_0_0_0_0_0_0_0_0_0_0_0_0_0_0_0_0.hdf\n",
      "Worst quantile of [(1L, 0L), (4L, 2L)] at 1.40509929721\n",
      "Data saved in ./results/iterative_save1_0_0_0_0_0_0_0_0_1_0_0_0_0_0_0_0_0_0_0_0_0_0_0_0_0_0_0.hdf\n",
      "Worst quantile of [(1L, 0L), (4L, 3L)] at 1.5764004497\n",
      "Data saved in ./results/iterative_save1_0_0_0_0_0_0_0_0_0_1_0_0_0_0_0_0_0_0_0_0_0_0_0_0_0_0_0.hdf\n",
      "Worst quantile of [(1L, 0L), (5L, 0L)] at 1.83894616768\n",
      "Data saved in ./results/iterative_save1_0_0_0_0_0_0_0_0_0_0_1_0_0_0_0_0_0_0_0_0_0_0_0_0_0_0_0.hdf\n",
      "Worst quantile of [(1L, 0L), (5L, 1L)] at 1.50399208885\n",
      "Data saved in ./results/iterative_save1_0_0_0_0_0_0_0_0_0_0_0_1_0_0_0_0_0_0_0_0_0_0_0_0_0_0_0.hdf\n",
      "Worst quantile of [(1L, 0L), (5L, 2L)] at 1.63362956511\n",
      "Data saved in ./results/iterative_save1_0_0_0_0_0_0_0_0_0_0_0_0_0_1_0_0_0_0_0_0_0_0_0_0_0_0_0.hdf\n",
      "Worst quantile of [(1L, 0L), (5L, 4L)] at 1.29897454289\n",
      "Data saved in ./results/iterative_save1_0_0_0_0_0_0_0_0_0_0_0_0_0_0_1_0_0_0_0_0_0_0_0_0_0_0_0.hdf\n",
      "Worst quantile of [(1L, 0L), (6L, 0L)] at 1.49962968198\n",
      "Data saved in ./results/iterative_save1_0_0_0_0_0_0_0_0_0_0_0_0_0_0_0_1_0_0_0_0_0_0_0_0_0_0_0.hdf\n",
      "Worst quantile of [(1L, 0L), (6L, 1L)] at 1.51108199652\n",
      "Data saved in ./results/iterative_save1_0_0_0_0_0_0_0_0_0_0_0_0_0_0_0_0_1_0_0_0_0_0_0_0_0_0_0.hdf\n",
      "Worst quantile of [(1L, 0L), (6L, 2L)] at 1.64641788172\n",
      "Data saved in ./results/iterative_save1_0_0_0_0_0_0_0_0_0_0_0_0_0_0_0_0_0_1_0_0_0_0_0_0_0_0_0.hdf\n",
      "Worst quantile of [(1L, 0L), (6L, 3L)] at 1.58184295133\n",
      "Data saved in ./results/iterative_save1_0_0_0_0_0_0_0_0_0_0_0_0_0_0_0_0_0_0_1_0_0_0_0_0_0_0_0.hdf\n",
      "Worst quantile of [(1L, 0L), (6L, 4L)] at 1.61040185813\n",
      "Data saved in ./results/iterative_save1_0_0_0_0_0_0_0_0_0_0_0_0_0_0_0_0_0_0_0_1_0_0_0_0_0_0_0.hdf\n",
      "Worst quantile of [(1L, 0L), (6L, 5L)] at 1.61173434515\n",
      "Data saved in ./results/iterative_save1_0_0_0_0_0_0_0_0_0_0_0_0_0_0_0_0_0_0_0_0_1_0_0_0_0_0_0.hdf\n",
      "Worst quantile of [(1L, 0L), (7L, 0L)] at 1.45078947261\n",
      "Data saved in ./results/iterative_save1_0_0_0_0_0_0_0_0_0_0_0_0_0_0_0_0_0_0_0_0_0_1_0_0_0_0_0.hdf\n",
      "Worst quantile of [(1L, 0L), (7L, 1L)] at 1.37673094936\n",
      "Data saved in ./results/iterative_save1_0_0_0_0_0_0_0_0_0_0_0_0_0_0_0_0_0_0_0_0_0_0_1_0_0_0_0.hdf\n",
      "Worst quantile of [(1L, 0L), (7L, 2L)] at 1.31553825692\n",
      "Data saved in ./results/iterative_save1_0_0_0_0_0_0_0_0_0_0_0_0_0_0_0_0_0_0_0_0_0_0_0_1_0_0_0.hdf\n",
      "Worst quantile of [(1L, 0L), (7L, 3L)] at 1.44214992136\n",
      "Data saved in ./results/iterative_save1_0_0_0_0_0_0_0_0_0_0_0_0_0_0_0_0_0_0_0_0_0_0_0_0_1_0_0.hdf\n",
      "Worst quantile of [(1L, 0L), (7L, 4L)] at 1.3740388944\n",
      "Data saved in ./results/iterative_save1_0_0_0_0_0_0_0_0_0_0_0_0_0_0_0_0_0_0_0_0_0_0_0_0_0_1_0.hdf\n",
      "Worst quantile of [(1L, 0L), (7L, 5L)] at 1.45378376767\n",
      "Data saved in ./results/iterative_save1_0_0_0_0_0_0_0_0_0_0_0_0_0_0_0_0_0_0_0_0_0_0_0_0_0_0_1.hdf\n",
      "Worst quantile of [(1L, 0L), (7L, 6L)] at 1.15212971302\n",
      "p=2, worst quantile at 1.15, cost = 2640000\n",
      "Worst quantile of (7L, 6L)\n",
      "Data saved in ./results/iterative_save1_1_0_0_0_0_0_0_0_0_0_0_0_0_0_0_0_0_0_0_0_0_0_0_0_0_0_1.hdf\n",
      "Worst quantile of [(1L, 0L), (7L, 6L), (2L, 0L)] at 1.28716612355\n"
     ]
    },
    {
     "name": "stdout",
     "output_type": "stream",
     "text": [
      "Data saved in ./results/iterative_save1_0_1_0_0_0_0_0_0_0_0_0_0_0_0_0_0_0_0_0_0_0_0_0_0_0_0_1.hdf\n",
      "Worst quantile of [(1L, 0L), (7L, 6L), (2L, 1L)] at 1.65398906471\n",
      "Data saved in ./results/iterative_save1_0_0_1_0_0_0_0_0_0_0_0_0_0_0_0_0_0_0_0_0_0_0_0_0_0_0_1.hdf\n",
      "Worst quantile of [(1L, 0L), (7L, 6L), (3L, 0L)] at 1.37856669144\n",
      "Data saved in ./results/iterative_save1_0_0_0_1_0_0_0_0_0_0_0_0_0_0_0_0_0_0_0_0_0_0_0_0_0_0_1.hdf\n",
      "Worst quantile of [(1L, 0L), (7L, 6L), (3L, 1L)] at 1.54632405095\n",
      "Data saved in ./results/iterative_save1_0_0_0_0_1_0_0_0_0_0_0_0_0_0_0_0_0_0_0_0_0_0_0_0_0_0_1.hdf\n",
      "Worst quantile of [(1L, 0L), (7L, 6L), (3L, 2L)] at 1.40091373338\n",
      "Data saved in ./results/iterative_save1_0_0_0_0_0_1_0_0_0_0_0_0_0_0_0_0_0_0_0_0_0_0_0_0_0_0_1.hdf\n",
      "Worst quantile of [(1L, 0L), (7L, 6L), (4L, 0L)] at 1.48910115172\n",
      "Data saved in ./results/iterative_save1_0_0_0_0_0_0_1_0_0_0_0_0_0_0_0_0_0_0_0_0_0_0_0_0_0_0_1.hdf\n",
      "Worst quantile of [(1L, 0L), (7L, 6L), (4L, 1L)] at 1.30136216062\n",
      "Data saved in ./results/iterative_save1_0_0_0_0_0_0_0_1_0_0_0_0_0_0_0_0_0_0_0_0_0_0_0_0_0_0_1.hdf\n",
      "Worst quantile of [(1L, 0L), (7L, 6L), (4L, 2L)] at 1.33071832642\n",
      "Data saved in ./results/iterative_save1_0_0_0_0_0_0_0_0_1_0_0_0_0_0_0_0_0_0_0_0_0_0_0_0_0_0_1.hdf\n",
      "Worst quantile of [(1L, 0L), (7L, 6L), (4L, 3L)] at 1.39282270688\n",
      "Data saved in ./results/iterative_save1_0_0_0_0_0_0_0_0_0_0_1_0_0_0_0_0_0_0_0_0_0_0_0_0_0_0_1.hdf\n",
      "Worst quantile of [(1L, 0L), (7L, 6L), (5L, 1L)] at 1.46012013129\n",
      "Data saved in ./results/iterative_save1_0_0_0_0_0_0_0_0_0_0_0_1_0_0_0_0_0_0_0_0_0_0_0_0_0_0_1.hdf\n",
      "Worst quantile of [(1L, 0L), (7L, 6L), (5L, 2L)] at 1.27748824683\n",
      "Data saved in ./results/iterative_save1_0_0_0_0_0_0_0_0_0_0_0_0_0_1_0_0_0_0_0_0_0_0_0_0_0_0_1.hdf\n",
      "Worst quantile of [(1L, 0L), (7L, 6L), (5L, 4L)] at 1.32593612346\n",
      "Data saved in ./results/iterative_save1_0_0_0_0_0_0_0_0_0_0_0_0_0_0_1_0_0_0_0_0_0_0_0_0_0_0_1.hdf\n",
      "Worst quantile of [(1L, 0L), (7L, 6L), (6L, 0L)] at 1.57831328815\n",
      "Data saved in ./results/iterative_save1_0_0_0_0_0_0_0_0_0_0_0_0_0_0_0_1_0_0_0_0_0_0_0_0_0_0_1.hdf\n",
      "Worst quantile of [(1L, 0L), (7L, 6L), (6L, 1L)] at 1.32341269791\n",
      "Data saved in ./results/iterative_save1_0_0_0_0_0_0_0_0_0_0_0_0_0_0_0_0_1_0_0_0_0_0_0_0_0_0_1.hdf\n",
      "Worst quantile of [(1L, 0L), (7L, 6L), (6L, 2L)] at 1.37147757937\n",
      "Data saved in ./results/iterative_save1_0_0_0_0_0_0_0_0_0_0_0_0_0_0_0_0_0_1_0_0_0_0_0_0_0_0_1.hdf\n",
      "Worst quantile of [(1L, 0L), (7L, 6L), (6L, 3L)] at 1.38410742168\n",
      "Data saved in ./results/iterative_save1_0_0_0_0_0_0_0_0_0_0_0_0_0_0_0_0_0_0_1_0_0_0_0_0_0_0_1.hdf\n",
      "Worst quantile of [(1L, 0L), (7L, 6L), (6L, 4L)] at 1.45606969482\n",
      "Data saved in ./results/iterative_save1_0_0_0_0_0_0_0_0_0_0_0_0_0_0_0_0_0_0_0_1_0_0_0_0_0_0_1.hdf\n",
      "Worst quantile of [(1L, 0L), (7L, 6L), (6L, 5L)] at 1.40537295881\n",
      "Data saved in ./results/iterative_save1_0_0_0_0_0_0_0_0_0_0_0_0_0_0_0_0_0_0_0_0_1_0_0_0_0_0_1.hdf\n",
      "Worst quantile of [(1L, 0L), (7L, 6L), (7L, 0L)] at 1.69820627086\n",
      "Data saved in ./results/iterative_save1_0_0_0_0_0_0_0_0_0_0_0_0_0_0_0_0_0_0_0_0_0_1_0_0_0_0_1.hdf\n",
      "Worst quantile of [(1L, 0L), (7L, 6L), (7L, 1L)] at 1.462793785\n",
      "Data saved in ./results/iterative_save1_0_0_0_0_0_0_0_0_0_0_0_0_0_0_0_0_0_0_0_0_0_0_1_0_0_0_1.hdf\n",
      "Worst quantile of [(1L, 0L), (7L, 6L), (7L, 2L)] at 1.33155459803\n",
      "Data saved in ./results/iterative_save1_0_0_0_0_0_0_0_0_0_0_0_0_0_0_0_0_0_0_0_0_0_0_0_1_0_0_1.hdf\n",
      "Worst quantile of [(1L, 0L), (7L, 6L), (7L, 3L)] at 1.19700331737\n",
      "Data saved in ./results/iterative_save1_0_0_0_0_0_0_0_0_0_0_0_0_0_0_0_0_0_0_0_0_0_0_0_0_1_0_1.hdf\n",
      "Worst quantile of [(1L, 0L), (7L, 6L), (7L, 4L)] at 1.31784215898\n",
      "Data saved in ./results/iterative_save1_0_0_0_0_0_0_0_0_0_0_0_0_0_0_0_0_0_0_0_0_0_0_0_0_0_1_1.hdf\n",
      "Worst quantile of [(1L, 0L), (7L, 6L), (7L, 5L)] at 1.39032030468\n",
      "p=3, worst quantile at 1.20, cost = 8880000\n",
      "Worst quantile of (7L, 3L)\n"
     ]
    }
   ],
   "source": [
    "from dependence import iterative_vine_minimize\n",
    "\n",
    "n = 10000\n",
    "p_max = 3\n",
    "K = None\n",
    "verbose = True\n",
    "grid_type = 'vertices'\n",
    "n_add_pairs = 1\n",
    "n_remove_pairs = 1\n",
    "iterative_save = \"./results/iterative_save\"\n",
    "iterative_load = True\n",
    "\n",
    "quant_estimate = ConservativeEstimate(model_func=test_func, margins=margins, families=families)\n",
    "\n",
    "results = iterative_vine_minimize(quant_estimate, \n",
    "                                                                          n_input_sample=n,\n",
    "                                                                          n_dep_param_init=K,\n",
    "                                                                          max_n_pairs=p_max, \n",
    "                                                                          grid_type=grid_type, \n",
    "                                                                          q_func=q_func,\n",
    "                                                                          n_add_pairs=n_add_pairs,\n",
    "                                                                          n_remove_pairs=n_remove_pairs,\n",
    "                                                                          verbose=True, \n",
    "                                  iterative_save=iterative_save,\n",
    "                                 iterative_load=iterative_load)"
   ]
  },
  {
   "cell_type": "code",
   "execution_count": null,
   "metadata": {
    "collapsed": true
   },
   "outputs": [],
   "source": []
  },
  {
   "cell_type": "code",
   "execution_count": null,
   "metadata": {
    "collapsed": true
   },
   "outputs": [],
   "source": []
  },
  {
   "cell_type": "code",
   "execution_count": null,
   "metadata": {
    "collapsed": true
   },
   "outputs": [],
   "source": []
  },
  {
   "cell_type": "code",
   "execution_count": null,
   "metadata": {
    "collapsed": true
   },
   "outputs": [],
   "source": []
  },
  {
   "cell_type": "code",
   "execution_count": 25,
   "metadata": {},
   "outputs": [
    {
     "data": {
      "text/plain": [
       "1.4710180342208781"
      ]
     },
     "execution_count": 25,
     "metadata": {},
     "output_type": "execute_result"
    }
   ],
   "source": [
    "families = np.zeros((dim, dim))\n",
    "families[1, 0] = 1\n",
    "families[6, 2] = 1\n",
    "families[7, 6] = 1\n",
    "\n",
    "quant_estimate = ConservativeEstimate(model_func=test_func, margins=margins, families=families)\n",
    "res = quant_estimate.gridsearch_minimize(None, 20000, 'vertices', q_func=q_func)\n",
    "res.min_quantity"
   ]
  }
 ],
 "metadata": {
  "anaconda-cloud": {},
  "kernelspec": {
   "display_name": "Python [conda root]",
   "language": "python",
   "name": "conda-root-py"
  },
  "language_info": {
   "codemirror_mode": {
    "name": "ipython",
    "version": 2
   },
   "file_extension": ".py",
   "mimetype": "text/x-python",
   "name": "python",
   "nbconvert_exporter": "python",
   "pygments_lexer": "ipython2",
   "version": "2.7.13"
  }
 },
 "nbformat": 4,
 "nbformat_minor": 2
}
