{
 "cells": [
  {
   "cell_type": "markdown",
   "metadata": {},
   "source": [
    "# Iterative Construction of a Penalised Vine Structure\n",
    "This notebook iteratively estimate the quantile."
   ]
  },
  {
   "cell_type": "markdown",
   "metadata": {},
   "source": [
    "#### Libraries"
   ]
  },
  {
   "cell_type": "code",
   "execution_count": 1,
   "metadata": {
    "collapsed": false
   },
   "outputs": [],
   "source": [
    "import openturns as ot\n",
    "import numpy as np\n",
    "import matplotlib.pyplot as plt\n",
    "%matplotlib inline\n",
    "\n",
    "%load_ext autoreload\n",
    "%autoreload 2\n",
    "\n",
    "random_state = 123\n",
    "np.random.seed(random_state)"
   ]
  },
  {
   "cell_type": "markdown",
   "metadata": {},
   "source": [
    "#### Model function\n",
    "This example consider the simple additive example."
   ]
  },
  {
   "cell_type": "code",
   "execution_count": 2,
   "metadata": {
    "collapsed": true
   },
   "outputs": [],
   "source": [
    "from dependence.tests.test_functions import func_overflow, margins_overflow, var_names_overflow\n",
    "\n",
    "def sum_func(x, a=None):\n",
    "    \"\"\"Additive example\n",
    "    \"\"\"        \n",
    "    n, dim = x.shape\n",
    "    if a is None:\n",
    "        a = np.ones((dim, 1))\n",
    "\n",
    "    if a.ndim == 1:\n",
    "        a = a.reshape(-1, 1)\n",
    "        assert a.shape[0] == dim, \"Shape not good\"\n",
    "    elif a.ndim > 2:\n",
    "        raise AttributeError('Dimension problem for constant a')\n",
    "        \n",
    "    return np.dot(x, a)\n",
    "\n",
    "test_func = func_overflow"
   ]
  },
  {
   "cell_type": "markdown",
   "metadata": {},
   "source": [
    "#### Dimension and margins\n",
    "We first define the problem dimension and the margins"
   ]
  },
  {
   "cell_type": "code",
   "execution_count": 3,
   "metadata": {
    "collapsed": true
   },
   "outputs": [],
   "source": [
    "if test_func == sum_func:\n",
    "    dim = 6\n",
    "    margins = [ot.Normal()]*dim\n",
    "else:\n",
    "    margins = margins_overflow\n",
    "    dim = len(margins)"
   ]
  },
  {
   "cell_type": "markdown",
   "metadata": {},
   "source": [
    "We chose the coefficients of the variables throught the additive function."
   ]
  },
  {
   "cell_type": "code",
   "execution_count": 4,
   "metadata": {
    "collapsed": false
   },
   "outputs": [],
   "source": [
    "if test_func == sum_func:\n",
    "    coeficients = np.logspace(0., 3., dim+1, endpoint=False)[1:]\n",
    "\n",
    "    n_plot = 10000\n",
    "    x = np.asarray(ot.ComposedDistribution(margins).getSample(n_plot))\n",
    "    y = sum_func(x, coeficients)\n",
    "\n",
    "    fig, axes = plt.subplots(dim, 1, sharex=True, sharey=True, figsize=(4, 2*dim))\n",
    "    for i in range(dim):\n",
    "        ax = axes[i]\n",
    "        ax.plot(x[:, i], y, '.')\n",
    "        ax.set_xlabel(r'$X_%d$' % (i+1), fontsize=12)\n",
    "        ax.set_ylabel(r'$y$', fontsize=12)\n",
    "    fig.tight_layout()"
   ]
  },
  {
   "cell_type": "markdown",
   "metadata": {},
   "source": [
    "#### Copula families\n",
    "We now consider only Gaussian dependencies for this example"
   ]
  },
  {
   "cell_type": "code",
   "execution_count": 5,
   "metadata": {
    "collapsed": false
   },
   "outputs": [],
   "source": [
    "families = np.zeros((dim, dim), dtype=int)\n",
    "for i in range(1, dim):\n",
    "    for j in range(i):\n",
    "        families[i, j] = 1"
   ]
  },
  {
   "cell_type": "markdown",
   "metadata": {},
   "source": [
    "## Estimations\n",
    "We create an instance of the main class for conservative estimate, and we define a q_func object for the quantile as a quantity of interest"
   ]
  },
  {
   "cell_type": "code",
   "execution_count": 6,
   "metadata": {
    "collapsed": false
   },
   "outputs": [],
   "source": [
    "from dependence import ConservativeEstimate, quantile_func\n",
    "\n",
    "alpha = 0.99\n",
    "def q_func(x, axis=1):\n",
    "    return - quantile_func(alpha)(x, axis=axis)\n",
    "\n",
    "quant_estimate = ConservativeEstimate(model_func=test_func, margins=margins, families=families)"
   ]
  },
  {
   "cell_type": "markdown",
   "metadata": {},
   "source": [
    "First, we compute the quantile at independence"
   ]
  },
  {
   "cell_type": "code",
   "execution_count": 7,
   "metadata": {
    "collapsed": false
   },
   "outputs": [],
   "source": [
    "n = 5000\n",
    "indep_result = quant_estimate.independence(n_input_sample=n, q_func=q_func, random_state=random_state)"
   ]
  },
  {
   "cell_type": "code",
   "execution_count": 8,
   "metadata": {
    "collapsed": false
   },
   "outputs": [
    {
     "name": "stdout",
     "output_type": "stream",
     "text": [
      "Quantile at independence: 1.69 with a C.O.V at 16.5 %\n"
     ]
    }
   ],
   "source": [
    "indep_result.compute_bootstrap(1000)\n",
    "boot_std = indep_result.bootstrap_sample.std()\n",
    "boot_mean = indep_result.bootstrap_sample.mean()\n",
    "print('Quantile at independence: %.2f with a C.O.V at %.1f %%' % (boot_mean, abs(boot_std/boot_mean)*100.))"
   ]
  },
  {
   "cell_type": "markdown",
   "metadata": {},
   "source": [
    "### Iterative Approach\n",
    "Now lets see how good we can be with the iterative appraoch."
   ]
  },
  {
   "cell_type": "code",
   "execution_count": null,
   "metadata": {
    "collapsed": false
   },
   "outputs": [
    {
     "name": "stdout",
     "output_type": "stream",
     "text": [
      "Worst quantile of [(1, 0)] at -4.09585316998\n",
      "Worst quantile of [(2, 0)] at 0.422900142915\n",
      "Worst quantile of [(2, 1)] at 0.42599868132\n",
      "Worst quantile of [(3, 0)] at 1.04581771498\n",
      "Worst quantile of [(3, 1)] at 1.20803592031\n",
      "Worst quantile of [(3, 2)] at 1.98027241895\n",
      "Worst quantile of [(4, 0)] at 1.77151417369\n",
      "Worst quantile of [(4, 1)] at 1.33625014603\n",
      "Worst quantile of [(4, 2)] at 1.77664656003\n",
      "Worst quantile of [(4, 3)] at 1.85369648151\n",
      "Worst quantile of [(5, 0)] at 2.12415750499\n",
      "Worst quantile of [(5, 1)] at 1.87145218573\n",
      "Worst quantile of [(5, 2)] at 1.63505170732\n",
      "Worst quantile of [(5, 3)] at 2.14414505265\n",
      "Worst quantile of [(5, 4)] at 1.8552458763\n",
      "Worst quantile of [(6, 0)] at 1.71479305405\n",
      "Worst quantile of [(6, 1)] at 1.52551089727\n",
      "Worst quantile of [(6, 2)] at 1.35607056731\n",
      "Worst quantile of [(6, 3)] at 1.80699258289\n",
      "Worst quantile of [(6, 4)] at 1.61360237238\n",
      "Worst quantile of [(6, 5)] at 1.87437278309\n",
      "Worst quantile of [(7, 0)] at 1.29160122848\n",
      "Worst quantile of [(7, 1)] at 1.42787997277\n",
      "Worst quantile of [(7, 2)] at 1.85852574894\n",
      "Worst quantile of [(7, 3)] at 1.51363949493\n",
      "Worst quantile of [(7, 4)] at 1.65938056067\n",
      "Worst quantile of [(7, 5)] at 1.62195338817\n",
      "Worst quantile of [(7, 6)] at 1.656686559\n",
      "p=1, worst quantile at -4.10, cost = 280000\n",
      "Worst quantile of [(1, 0), (2, 0), (2, 1)] at -3.76257420292\n",
      "Worst quantile of [(1, 0), (2, 0), (3, 0)] at -3.31590425189\n",
      "Worst quantile of [(1, 0), (2, 0), (3, 1)] at -3.63209815799\n",
      "Worst quantile of [(1, 0), (2, 0), (4, 0)] at -3.98247347543\n",
      "Worst quantile of [(1, 0), (2, 0), (4, 1)] at -4.26523010775\n",
      "Worst quantile of [(1, 0), (2, 0), (4, 2)] at -4.23240318662\n",
      "Worst quantile of [(1, 0), (2, 0), (4, 3)] at -4.0805872584\n",
      "Worst quantile of [(1, 0), (2, 0), (5, 1)] at -4.25009247856\n",
      "Worst quantile of [(1, 0), (2, 0), (5, 2)] at -4.22776244323\n",
      "Worst quantile of [(1, 0), (2, 0), (5, 4)] at -4.76417860718\n",
      "Worst quantile of [(1, 0), (2, 0), (6, 0)] at -4.02160777855\n",
      "Worst quantile of [(1, 0), (2, 0), (6, 1)] at -4.55443442664\n",
      "Worst quantile of [(1, 0), (2, 0), (6, 2)] at -4.15500320707\n",
      "Worst quantile of [(1, 0), (2, 0), (6, 3)] at -4.46020185242\n",
      "Worst quantile of [(1, 0), (2, 0), (6, 4)] at -3.72546358686\n",
      "Worst quantile of [(1, 0), (2, 0), (7, 0)] at -4.59968448238\n",
      "Worst quantile of [(1, 0), (2, 0), (7, 1)] at -4.03619970368\n",
      "Worst quantile of [(1, 0), (2, 0), (7, 2)] at -4.0242862539\n",
      "Worst quantile of [(1, 0), (2, 0), (7, 3)] at -3.93827498662\n",
      "Worst quantile of [(1, 0), (2, 0), (7, 4)] at -3.92695064843\n",
      "Worst quantile of [(1, 0), (2, 0), (7, 5)] at -3.92013252909\n",
      "Worst quantile of [(1, 0), (2, 0), (7, 6)] at -4.08470292957\n",
      "p=3, worst quantile at -4.76, cost = 3140000\n",
      "Worst quantile of [(1, 0), (2, 0), (5, 4), (7, 0), (4, 0)] at -4.20433120882\n",
      "Worst quantile of [(1, 0), (2, 0), (5, 4), (7, 0), (4, 1)] at -4.53883074824\n",
      "Worst quantile of [(1, 0), (2, 0), (5, 4), (7, 0), (4, 2)] at -4.44885068952\n",
      "Worst quantile of [(1, 0), (2, 0), (5, 4), (7, 0), (4, 3)] at -4.3407330119\n",
      "Worst quantile of [(1, 0), (2, 0), (5, 4), (7, 0), (5, 1)] at -4.22233056166\n",
      "Worst quantile of [(1, 0), (2, 0), (5, 4), (7, 0), (5, 2)] at -4.58419281883\n",
      "Worst quantile of [(1, 0), (2, 0), (5, 4), (7, 0), (6, 0)] at -4.15917455439\n",
      "Worst quantile of [(1, 0), (2, 0), (5, 4), (7, 0), (6, 1)] at -4.04595515712\n",
      "Worst quantile of [(1, 0), (2, 0), (5, 4), (7, 0), (6, 2)] at -4.6933988692\n",
      "Worst quantile of [(1, 0), (2, 0), (5, 4), (7, 0), (6, 3)] at -4.72386656396\n",
      "Worst quantile of [(1, 0), (2, 0), (5, 4), (7, 0), (7, 1)] at -4.02380470727\n",
      "Worst quantile of [(1, 0), (2, 0), (5, 4), (7, 0), (7, 2)] at -4.28236865909\n",
      "Worst quantile of [(1, 0), (2, 0), (5, 4), (7, 0), (7, 3)] at -4.16237041548\n",
      "Worst quantile of [(1, 0), (2, 0), (5, 4), (7, 0), (7, 4)] at -4.21502349869\n",
      "Worst quantile of [(1, 0), (2, 0), (5, 4), (7, 0), (7, 5)] at -4.03054629479\n",
      "Worst quantile of [(1, 0), (2, 0), (5, 4), (7, 0), (7, 6)] at -4.72457265602\n",
      "p=5, worst quantile at -4.72, cost = 22500000\n",
      "Worst quantile of [(1, 0), (2, 0), (5, 4), (7, 0), (7, 6), (6, 3), (4, 0)] at -4.53510317707\n",
      "Worst quantile of [(1, 0), (2, 0), (5, 4), (7, 0), (7, 6), (6, 3), (4, 1)] at -4.90668946818\n",
      "Worst quantile of [(1, 0), (2, 0), (5, 4), (7, 0), (7, 6), (6, 3), (4, 2)] at -4.671772454\n",
      "Worst quantile of [(1, 0), (2, 0), (5, 4), (7, 0), (7, 6), (6, 3), (4, 3)] at -4.53225732566\n",
      "Worst quantile of [(1, 0), (2, 0), (5, 4), (7, 0), (7, 6), (6, 3), (5, 1)] at -4.19601794047\n",
      "Worst quantile of [(1, 0), (2, 0), (5, 4), (7, 0), (7, 6), (6, 3), (5, 2)] at -4.86375803227\n",
      "Worst quantile of [(1, 0), (2, 0), (5, 4), (7, 0), (7, 6), (6, 3), (6, 2)] at -4.93914773132\n",
      "Worst quantile of [(1, 0), (2, 0), (5, 4), (7, 0), (7, 6), (6, 3), (7, 2)] at -4.63299739225\n",
      "Worst quantile of [(1, 0), (2, 0), (5, 4), (7, 0), (7, 6), (6, 3), (7, 3)] at -4.84282797415\n",
      "Worst quantile of [(1, 0), (2, 0), (5, 4), (7, 0), (7, 6), (6, 3), (7, 4)] at -4.57035271946\n",
      "p=7, worst quantile at -4.94, cost = 131800000\n",
      "Worst quantile of [(1, 0), (2, 0), (5, 4), (7, 0), (7, 6), (6, 3), (6, 2), (4, 1), (4, 2)] at -4.81867344734\n",
      "Worst quantile of [(1, 0), (2, 0), (5, 4), (7, 0), (7, 6), (6, 3), (6, 2), (4, 1), (5, 2)] at -4.72706807232\n",
      "Worst quantile of [(1, 0), (2, 0), (5, 4), (7, 0), (7, 6), (6, 3), (6, 2), (4, 1), (7, 2)] at -4.73422803426\n",
      "Worst quantile of [(1, 0), (2, 0), (5, 4), (7, 0), (7, 6), (6, 3), (6, 2), (4, 1), (7, 3)] at -4.58157477296\n",
      "p=9, worst quantile at -4.82, cost = 525440000\n"
     ]
    }
   ],
   "source": [
    "from dependence.iterative_vines import iterative_vine_minimize\n",
    "\n",
    "p_max = 10\n",
    "K = None\n",
    "verbose = True\n",
    "grid_type = 'lhs'\n",
    "n_add_pairs = 2\n",
    "n_remove_pairs = 0\n",
    "\n",
    "quant_estimate = ConservativeEstimate(model_func=test_func, margins=margins, families=families)\n",
    "worst_quantities, selected_pairs, removed_pairs = iterative_vine_minimize(quant_estimate, n, K, \n",
    "                                                                          p_max, grid_type=grid_type, \n",
    "                                                                          q_func=q_func, \n",
    "                                                                          n_add_pairs=n_add_pairs,\n",
    "                                                                          n_remove_pairs=n_remove_pairs,\n",
    "                                                                          verbose=True)"
   ]
  },
  {
   "cell_type": "markdown",
   "metadata": {},
   "source": [
    "### Grid Search Approach\n",
    "Firstly, we consider a grid search approach in order to compare the perfomance with the iterative algorithm."
   ]
  },
  {
   "cell_type": "code",
   "execution_count": null,
   "metadata": {
    "collapsed": false
   },
   "outputs": [],
   "source": [
    "K = 2000\n",
    "grid_type = 'lhs'\n",
    "quant_estimate = ConservativeEstimate(model_func=test_func, margins=margins, families=families)\n",
    "grid_result = quant_estimate.gridsearch_minimize(n_dep_param=K, n_input_sample=n, grid_type=grid_type, \n",
    "                                                 q_func=q_func, random_state=random_state)"
   ]
  },
  {
   "cell_type": "code",
   "execution_count": null,
   "metadata": {
    "collapsed": true
   },
   "outputs": [],
   "source": [
    "families"
   ]
  },
  {
   "cell_type": "code",
   "execution_count": null,
   "metadata": {
    "collapsed": false
   },
   "outputs": [],
   "source": [
    "min_result = grid_result.min_result\n",
    "min_result.compute_bootstrap(1000)\n",
    "boot_std = min_result.bootstrap_sample.std()\n",
    "boot_mean = min_result.bootstrap_sample.mean()\n",
    "print('Worst Quantile: %.2f with a C.O.V at %.1f %%' % (boot_mean, abs(boot_std/boot_mean)*100.))\n",
    "print('Cost = %d' % (K*n))"
   ]
  },
  {
   "cell_type": "code",
   "execution_count": null,
   "metadata": {
    "collapsed": false
   },
   "outputs": [],
   "source": [
    "if dim == 2:\n",
    "    fig, ax = plt.subplots()\n",
    "    ax.plot(grid_result.dep_params, grid_result.quantities)"
   ]
  },
  {
   "cell_type": "code",
   "execution_count": null,
   "metadata": {
    "collapsed": true
   },
   "outputs": [],
   "source": []
  }
 ],
 "metadata": {
  "anaconda-cloud": {},
  "kernelspec": {
   "display_name": "Python [Root]",
   "language": "python",
   "name": "Python [Root]"
  },
  "language_info": {
   "codemirror_mode": {
    "name": "ipython",
    "version": 2
   },
   "file_extension": ".py",
   "mimetype": "text/x-python",
   "name": "python",
   "nbconvert_exporter": "python",
   "pygments_lexer": "ipython2",
   "version": "2.7.13"
  }
 },
 "nbformat": 4,
 "nbformat_minor": 2
}
