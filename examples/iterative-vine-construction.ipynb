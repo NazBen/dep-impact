{
 "cells": [
  {
   "cell_type": "markdown",
   "metadata": {},
   "source": [
    "# Iterative Construction of a Penalised Vine Structure\n",
    "This notebook iteratively estimate the quantile."
   ]
  },
  {
   "cell_type": "markdown",
   "metadata": {},
   "source": [
    "#### Libraries"
   ]
  },
  {
   "cell_type": "code",
   "execution_count": 1,
   "metadata": {
    "collapsed": true
   },
   "outputs": [],
   "source": [
    "import openturns as ot\n",
    "import numpy as np\n",
    "import matplotlib.pyplot as plt\n",
    "%matplotlib inline\n",
    "\n",
    "%load_ext autoreload\n",
    "%autoreload 2\n",
    "\n",
    "random_state = 123\n",
    "np.random.seed(random_state)"
   ]
  },
  {
   "cell_type": "markdown",
   "metadata": {},
   "source": [
    "#### Model function\n",
    "This example consider the simple additive example."
   ]
  },
  {
   "cell_type": "code",
   "execution_count": 2,
   "metadata": {
    "collapsed": true
   },
   "outputs": [],
   "source": [
    "from dependence.tests import func_overflow, margins_overflow, var_names_overflow, func_sum\n",
    "\n",
    "test_func = func_overflow"
   ]
  },
  {
   "cell_type": "markdown",
   "metadata": {},
   "source": [
    "#### Dimension and margins\n",
    "We first define the problem dimension and the margins"
   ]
  },
  {
   "cell_type": "code",
   "execution_count": 3,
   "metadata": {
    "collapsed": true
   },
   "outputs": [],
   "source": [
    "if test_func == func_overflow:\n",
    "    margins = margins_overflow\n",
    "    dim = len(margins)\n",
    "else:\n",
    "    dim = 6\n",
    "    margins = [ot.Normal()]*dim"
   ]
  },
  {
   "cell_type": "markdown",
   "metadata": {},
   "source": [
    "We chose the coefficients of the variables throught the additive function."
   ]
  },
  {
   "cell_type": "code",
   "execution_count": 4,
   "metadata": {
    "collapsed": true
   },
   "outputs": [],
   "source": [
    "if test_func == func_sum:\n",
    "    coeficients = np.logspace(0., 5., dim+1, endpoint=False)[1:]\n",
    "\n",
    "    n_plot = 10000\n",
    "    x = np.asarray(ot.ComposedDistribution(margins).getSample(n_plot))\n",
    "    y = test_func(x, coeficients)\n",
    "\n",
    "    fig, axes = plt.subplots(dim, 1, sharex=True, sharey=True, figsize=(4, 2*dim))\n",
    "    for i in range(dim):\n",
    "        ax = axes[i]\n",
    "        ax.plot(x[:, i], y, '.')\n",
    "        ax.set_xlabel(r'$X_%d$' % (i+1), fontsize=12)\n",
    "        ax.set_ylabel(r'$y$', fontsize=12)\n",
    "    fig.tight_layout()"
   ]
  },
  {
   "cell_type": "markdown",
   "metadata": {},
   "source": [
    "#### Copula families\n",
    "We now consider only Gaussian dependencies for this example"
   ]
  },
  {
   "cell_type": "code",
   "execution_count": 5,
   "metadata": {
    "collapsed": true
   },
   "outputs": [],
   "source": [
    "families = np.zeros((dim, dim), dtype=int)\n",
    "for i in range(1, dim):\n",
    "    for j in range(i):\n",
    "        families[i, j] = 1"
   ]
  },
  {
   "cell_type": "markdown",
   "metadata": {},
   "source": [
    "## Estimations\n",
    "We create an instance of the main class for conservative estimate, and we define a q_func object for the quantile as a quantity of interest"
   ]
  },
  {
   "cell_type": "code",
   "execution_count": 6,
   "metadata": {
    "collapsed": true
   },
   "outputs": [],
   "source": [
    "from dependence import ConservativeEstimate, quantile_func\n",
    "\n",
    "alpha = 0.95\n",
    "\n",
    "if alpha > 0.5: # Maximizing the quantile\n",
    "    def q_func(x, axis=1):\n",
    "        return - quantile_func(alpha)(x, axis=axis)\n",
    "else: # Minimizing\n",
    "    q_func = quantile_func(alpha)\n",
    "\n",
    "quant_estimate = ConservativeEstimate(model_func=test_func, margins=margins, families=families)"
   ]
  },
  {
   "cell_type": "markdown",
   "metadata": {},
   "source": [
    "First, we compute the quantile at independence"
   ]
  },
  {
   "cell_type": "code",
   "execution_count": 7,
   "metadata": {
    "collapsed": true
   },
   "outputs": [],
   "source": [
    "n = 10000\n",
    "indep_result = quant_estimate.independence(n_input_sample=n, q_func=q_func, random_state=random_state)[0]"
   ]
  },
  {
   "cell_type": "code",
   "execution_count": 8,
   "metadata": {},
   "outputs": [
    {
     "name": "stdout",
     "output_type": "stream",
     "text": [
      "Quantile at independence: 4.86 with a C.O.V at 2.1 %\n"
     ]
    }
   ],
   "source": [
    "indep_result.compute_bootstrap(1000)\n",
    "boot_std = indep_result.bootstrap_sample.std()\n",
    "boot_mean = indep_result.bootstrap_sample.mean()\n",
    "print('Quantile at independence: %.2f with a C.O.V at %.1f %%' % (boot_mean, abs(boot_std/boot_mean)*100.))"
   ]
  },
  {
   "cell_type": "markdown",
   "metadata": {},
   "source": [
    "### Iterative Approach\n",
    "Now lets see how good we can be with the iterative appraoch."
   ]
  },
  {
   "cell_type": "code",
   "execution_count": null,
   "metadata": {
    "run_control": {
     "marked": true
    },
    "scrolled": false
   },
   "outputs": [
    {
     "name": "stdout",
     "output_type": "stream",
     "text": [
      "\n",
      "Iteration 1: selected pair: (1, 0) (K_s-Q)\n",
      "Total number of evaluations = 560000. Minimum quantity at 1.82.\n",
      "\n",
      "\n",
      "Iteration 2: selected pair: (3, 2) (Z_m-Z_v)\n"
     ]
    }
   ],
   "source": [
    "from dependence import iterative_vine_minimize\n",
    "\n",
    "algorithm_parameters = {\n",
    "    \"n_input_sample\": 10000,\n",
    "    \"n_dep_param_init\": None,\n",
    "    \"max_n_pairs\": 4,\n",
    "    \"grid_type\": 'vertices',\n",
    "    \"q_func\": q_func,\n",
    "    \"n_add_pairs\": 1,\n",
    "    \"n_remove_pairs\": 0,\n",
    "    \"adapt_vine_structure\": False,\n",
    "    \"with_bootstrap\": False,\n",
    "    \"verbose\": False,\n",
    "    \"iterative_save\": False,\n",
    "    \"iterative_load\": False,\n",
    "    \"load_input_samples\": False,\n",
    "    \"keep_input_samples\": False,\n",
    "    \"input_names\": var_names_overflow\n",
    "}\n",
    "\n",
    "quant_estimate = ConservativeEstimate(model_func=test_func, margins=margins, families=families)\n",
    "\n",
    "iterative_results = iterative_vine_minimize(estimate_object=quant_estimate, **algorithm_parameters)"
   ]
  },
  {
   "cell_type": "code",
   "execution_count": null,
   "metadata": {},
   "outputs": [],
   "source": [
    "from dependence.dependence_plot import plot_iterative_results\n",
    "\n",
    "plot_iterative_results(iterative_results, indep_result=indep_result, q_func=q_func)"
   ]
  },
  {
   "cell_type": "code",
   "execution_count": null,
   "metadata": {
    "collapsed": true
   },
   "outputs": [],
   "source": [
    "n = algorithm_parameters['n_input_sample']\n",
    "K = 500\n",
    "grid_results = quant_estimate.gridsearch_minimize(n_dep_param=K, n_input_sample=n, q_func=q_func)"
   ]
  }
 ],
 "metadata": {
  "anaconda-cloud": {},
  "kernelspec": {
   "display_name": "Python [Root]",
   "language": "python",
   "name": "Python [Root]"
  },
  "language_info": {
   "codemirror_mode": {
    "name": "ipython",
    "version": 2
   },
   "file_extension": ".py",
   "mimetype": "text/x-python",
   "name": "python",
   "nbconvert_exporter": "python",
   "pygments_lexer": "ipython2",
   "version": "2.7.13"
  }
 },
 "nbformat": 4,
 "nbformat_minor": 2
}
