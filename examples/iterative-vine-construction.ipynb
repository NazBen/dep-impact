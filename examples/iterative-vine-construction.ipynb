{
 "cells": [
  {
   "cell_type": "markdown",
   "metadata": {},
   "source": [
    "# Iterative Construction of a Penalised Vine Structure\n",
    "This notebook iteratively estimate the quantile."
   ]
  },
  {
   "cell_type": "markdown",
   "metadata": {},
   "source": [
    "#### Libraries"
   ]
  },
  {
   "cell_type": "code",
   "execution_count": 1,
   "metadata": {
    "collapsed": true
   },
   "outputs": [],
   "source": [
    "import openturns as ot\n",
    "import numpy as np\n",
    "import matplotlib.pyplot as plt\n",
    "%matplotlib inline\n",
    "\n",
    "%load_ext autoreload\n",
    "%autoreload 2\n",
    "\n",
    "random_state = 123\n",
    "np.random.seed(random_state)"
   ]
  },
  {
   "cell_type": "markdown",
   "metadata": {},
   "source": [
    "#### Model function\n",
    "This example consider the simple additive example."
   ]
  },
  {
   "cell_type": "code",
   "execution_count": 2,
   "metadata": {
    "collapsed": true
   },
   "outputs": [],
   "source": [
    "from dependence.tests import func_overflow, margins_overflow, var_names_overflow, func_sum\n",
    "\n",
    "test_func = func_overflow"
   ]
  },
  {
   "cell_type": "markdown",
   "metadata": {},
   "source": [
    "#### Dimension and margins\n",
    "We first define the problem dimension and the margins"
   ]
  },
  {
   "cell_type": "code",
   "execution_count": 3,
   "metadata": {
    "collapsed": true
   },
   "outputs": [],
   "source": [
    "if test_func == func_overflow:\n",
    "    margins = margins_overflow\n",
    "    dim = len(margins)\n",
    "else:\n",
    "    dim = 6\n",
    "    margins = [ot.Normal()]*dim"
   ]
  },
  {
   "cell_type": "markdown",
   "metadata": {},
   "source": [
    "We chose the coefficients of the variables throught the additive function."
   ]
  },
  {
   "cell_type": "code",
   "execution_count": 4,
   "metadata": {
    "collapsed": true
   },
   "outputs": [],
   "source": [
    "if test_func == func_sum:\n",
    "    coeficients = np.logspace(0., 5., dim+1, endpoint=False)[1:]\n",
    "\n",
    "    n_plot = 10000\n",
    "    x = np.asarray(ot.ComposedDistribution(margins).getSample(n_plot))\n",
    "    y = test_func(x, coeficients)\n",
    "\n",
    "    fig, axes = plt.subplots(dim, 1, sharex=True, sharey=True, figsize=(4, 2*dim))\n",
    "    for i in range(dim):\n",
    "        ax = axes[i]\n",
    "        ax.plot(x[:, i], y, '.')\n",
    "        ax.set_xlabel(r'$X_%d$' % (i+1), fontsize=12)\n",
    "        ax.set_ylabel(r'$y$', fontsize=12)\n",
    "    fig.tight_layout()"
   ]
  },
  {
   "cell_type": "markdown",
   "metadata": {},
   "source": [
    "#### Copula families\n",
    "We now consider only Gaussian dependencies for this example"
   ]
  },
  {
   "cell_type": "code",
   "execution_count": 5,
   "metadata": {
    "collapsed": true
   },
   "outputs": [],
   "source": [
    "families = np.zeros((dim, dim), dtype=int)\n",
    "for i in range(1, dim):\n",
    "    for j in range(i):\n",
    "        families[i, j] = 1"
   ]
  },
  {
   "cell_type": "markdown",
   "metadata": {},
   "source": [
    "## Estimations\n",
    "We create an instance of the main class for conservative estimate, and we define a q_func object for the quantile as a quantity of interest"
   ]
  },
  {
   "cell_type": "code",
   "execution_count": 6,
   "metadata": {
    "collapsed": true
   },
   "outputs": [],
   "source": [
    "from dependence import ConservativeEstimate, quantile_func\n",
    "\n",
    "alpha = 0.95\n",
    "\n",
    "if alpha > 0.5: # Maximizing the quantile\n",
    "    def q_func(x, axis=1):\n",
    "        return - quantile_func(alpha)(x, axis=axis)\n",
    "else: # Minimizing\n",
    "    q_func = quantile_func(alpha)\n",
    "\n",
    "quant_estimate = ConservativeEstimate(model_func=test_func, margins=margins, families=families)"
   ]
  },
  {
   "cell_type": "markdown",
   "metadata": {},
   "source": [
    "First, we compute the quantile at independence"
   ]
  },
  {
   "cell_type": "code",
   "execution_count": 7,
   "metadata": {
    "collapsed": true
   },
   "outputs": [],
   "source": [
    "n = 10000\n",
    "indep_result = quant_estimate.independence(n_input_sample=n, q_func=q_func, random_state=random_state)[0]"
   ]
  },
  {
   "cell_type": "code",
   "execution_count": 8,
   "metadata": {},
   "outputs": [
    {
     "name": "stdout",
     "output_type": "stream",
     "text": [
      "Quantile at independence: 4.86 with a C.O.V at 2.1 %\n"
     ]
    }
   ],
   "source": [
    "indep_result.compute_bootstrap(1000)\n",
    "boot_std = indep_result.bootstrap_sample.std()\n",
    "boot_mean = indep_result.bootstrap_sample.mean()\n",
    "print('Quantile at independence: %.2f with a C.O.V at %.1f %%' % (boot_mean, abs(boot_std/boot_mean)*100.))"
   ]
  },
  {
   "cell_type": "markdown",
   "metadata": {},
   "source": [
    "### Iterative Approach\n",
    "Now lets see how good we can be with the iterative appraoch."
   ]
  },
  {
   "cell_type": "code",
   "execution_count": 9,
   "metadata": {},
   "outputs": [
    {
     "data": {
      "text/plain": [
       "<function json.load>"
      ]
     },
     "execution_count": 9,
     "metadata": {},
     "output_type": "execute_result"
    }
   ],
   "source": [
    "import json\n",
    "json.load"
   ]
  },
  {
   "cell_type": "code",
   "execution_count": 16,
   "metadata": {
    "run_control": {
     "marked": true
    },
    "scrolled": false
   },
   "outputs": [
    {
     "name": "stdout",
     "output_type": "stream",
     "text": [
      "Data saved in ./results/iterative_save1_0_0_0_0_0_0_0_0_0_0_0_0_0_0_0_0_0_0_0_0_0_0_0_0_0_0_0.hdf\n",
      "Worst quantile of [(1, 0)] at 1.63408214223\n",
      "Data saved in ./results/iterative_save0_1_0_0_0_0_0_0_0_0_0_0_0_0_0_0_0_0_0_0_0_0_0_0_0_0_0_0.hdf\n",
      "Worst quantile of [(2, 0)] at 3.54900731121\n",
      "Data saved in ./results/iterative_save0_0_1_0_0_0_0_0_0_0_0_0_0_0_0_0_0_0_0_0_0_0_0_0_0_0_0_0.hdf\n",
      "Worst quantile of [(2, 1)] at 4.06521880998\n",
      "Data saved in ./results/iterative_save0_0_0_1_0_0_0_0_0_0_0_0_0_0_0_0_0_0_0_0_0_0_0_0_0_0_0_0.hdf\n",
      "Worst quantile of [(3, 0)] at 4.3160983479\n",
      "Data saved in ./results/iterative_save0_0_0_0_1_0_0_0_0_0_0_0_0_0_0_0_0_0_0_0_0_0_0_0_0_0_0_0.hdf\n",
      "Worst quantile of [(3, 1)] at 5.66624544199\n",
      "Data saved in ./results/iterative_save0_0_0_0_0_1_0_0_0_0_0_0_0_0_0_0_0_0_0_0_0_0_0_0_0_0_0_0.hdf\n",
      "Worst quantile of [(3, 2)] at 4.68144846761\n",
      "Data saved in ./results/iterative_save0_0_0_0_0_0_1_0_0_0_0_0_0_0_0_0_0_0_0_0_0_0_0_0_0_0_0_0.hdf\n",
      "Worst quantile of [(4, 0)] at 3.87375486002\n",
      "Data saved in ./results/iterative_save0_0_0_0_0_0_0_1_0_0_0_0_0_0_0_0_0_0_0_0_0_0_0_0_0_0_0_0.hdf\n",
      "Worst quantile of [(4, 1)] at 3.78524665894\n",
      "Data saved in ./results/iterative_save0_0_0_0_0_0_0_0_1_0_0_0_0_0_0_0_0_0_0_0_0_0_0_0_0_0_0_0.hdf\n",
      "Worst quantile of [(4, 2)] at 3.45183241931\n",
      "Data saved in ./results/iterative_save0_0_0_0_0_0_0_0_0_1_0_0_0_0_0_0_0_0_0_0_0_0_0_0_0_0_0_0.hdf\n",
      "Worst quantile of [(4, 3)] at 4.83300252526\n",
      "Data saved in ./results/iterative_save0_0_0_0_0_0_0_0_0_0_1_0_0_0_0_0_0_0_0_0_0_0_0_0_0_0_0_0.hdf\n",
      "Worst quantile of [(5, 0)] at 5.00773992462\n",
      "Data saved in ./results/iterative_save0_0_0_0_0_0_0_0_0_0_0_1_0_0_0_0_0_0_0_0_0_0_0_0_0_0_0_0.hdf\n",
      "Worst quantile of [(5, 1)] at 5.20534784092\n",
      "Data saved in ./results/iterative_save0_0_0_0_0_0_0_0_0_0_0_0_1_0_0_0_0_0_0_0_0_0_0_0_0_0_0_0.hdf\n",
      "Worst quantile of [(5, 2)] at 4.92292973943\n",
      "Data saved in ./results/iterative_save0_0_0_0_0_0_0_0_0_0_0_0_0_1_0_0_0_0_0_0_0_0_0_0_0_0_0_0.hdf\n",
      "Worst quantile of [(5, 3)] at 3.7904262437\n",
      "Data saved in ./results/iterative_save0_0_0_0_0_0_0_0_0_0_0_0_0_0_1_0_0_0_0_0_0_0_0_0_0_0_0_0.hdf\n",
      "Worst quantile of [(5, 4)] at 4.89104432337\n",
      "Data saved in ./results/iterative_save0_0_0_0_0_0_0_0_0_0_0_0_0_0_0_1_0_0_0_0_0_0_0_0_0_0_0_0.hdf\n",
      "Worst quantile of [(6, 0)] at 5.34522111698\n",
      "Data saved in ./results/iterative_save0_0_0_0_0_0_0_0_0_0_0_0_0_0_0_0_1_0_0_0_0_0_0_0_0_0_0_0.hdf\n",
      "Worst quantile of [(6, 1)] at 4.9917754292\n",
      "Data saved in ./results/iterative_save0_0_0_0_0_0_0_0_0_0_0_0_0_0_0_0_0_1_0_0_0_0_0_0_0_0_0_0.hdf\n",
      "Worst quantile of [(6, 2)] at 4.49388075604\n",
      "Data saved in ./results/iterative_save0_0_0_0_0_0_0_0_0_0_0_0_0_0_0_0_0_0_1_0_0_0_0_0_0_0_0_0.hdf\n",
      "Worst quantile of [(6, 3)] at 5.76826658248\n",
      "Data saved in ./results/iterative_save0_0_0_0_0_0_0_0_0_0_0_0_0_0_0_0_0_0_0_1_0_0_0_0_0_0_0_0.hdf\n",
      "Worst quantile of [(6, 4)] at 3.60127780334\n",
      "Data saved in ./results/iterative_save0_0_0_0_0_0_0_0_0_0_0_0_0_0_0_0_0_0_0_0_1_0_0_0_0_0_0_0.hdf\n",
      "Worst quantile of [(6, 5)] at 2.87588820598\n",
      "Data saved in ./results/iterative_save0_0_0_0_0_0_0_0_0_0_0_0_0_0_0_0_0_0_0_0_0_1_0_0_0_0_0_0.hdf\n",
      "Worst quantile of [(7, 0)] at 4.70399532114\n",
      "Data saved in ./results/iterative_save0_0_0_0_0_0_0_0_0_0_0_0_0_0_0_0_0_0_0_0_0_0_1_0_0_0_0_0.hdf\n",
      "Worst quantile of [(7, 1)] at 3.05196049166\n",
      "Data saved in ./results/iterative_save0_0_0_0_0_0_0_0_0_0_0_0_0_0_0_0_0_0_0_0_0_0_0_1_0_0_0_0.hdf\n",
      "Worst quantile of [(7, 2)] at 4.44327091171\n",
      "Data saved in ./results/iterative_save0_0_0_0_0_0_0_0_0_0_0_0_0_0_0_0_0_0_0_0_0_0_0_0_1_0_0_0.hdf\n",
      "Worst quantile of [(7, 3)] at 4.53129028446\n",
      "Data saved in ./results/iterative_save0_0_0_0_0_0_0_0_0_0_0_0_0_0_0_0_0_0_0_0_0_0_0_0_0_1_0_0.hdf\n",
      "Worst quantile of [(7, 4)] at 5.02728903439\n",
      "Data saved in ./results/iterative_save0_0_0_0_0_0_0_0_0_0_0_0_0_0_0_0_0_0_0_0_0_0_0_0_0_0_1_0.hdf\n",
      "Worst quantile of [(7, 5)] at 4.78429275421\n",
      "Data saved in ./results/iterative_save0_0_0_0_0_0_0_0_0_0_0_0_0_0_0_0_0_0_0_0_0_0_0_0_0_0_0_1.hdf\n",
      "Worst quantile of [(7, 6)] at 4.27155195739\n",
      "p=1, worst quantile at 1.63, cost = 5600\n",
      "Worst quantile of (1, 0)\n"
     ]
    }
   ],
   "source": [
    "from dependence import iterative_vine_minimize\n",
    "\n",
    "n = 100\n",
    "p_max = 1\n",
    "K = None\n",
    "verbose = True\n",
    "grid_type = 'vertices'\n",
    "n_add_pairs = 1\n",
    "n_remove_pairs = 1\n",
    "iterative_save = \"./results/iterative_save\"\n",
    "iterative_load = False\n",
    "\n",
    "quant_estimate = ConservativeEstimate(model_func=test_func, margins=margins, families=families)\n",
    "\n",
    "results = iterative_vine_minimize(quant_estimate, \n",
    "                                                                          n_input_sample=n,\n",
    "                                                                          n_dep_param_init=K,\n",
    "                                                                          max_n_pairs=p_max, \n",
    "                                                                          grid_type=grid_type, \n",
    "                                                                          q_func=q_func,\n",
    "                                                                          n_add_pairs=n_add_pairs,\n",
    "                                                                          n_remove_pairs=n_remove_pairs,\n",
    "                                                                          verbose=True, \n",
    "                                  iterative_save=iterative_save,\n",
    "                                 iterative_load=iterative_load)"
   ]
  },
  {
   "cell_type": "code",
   "execution_count": null,
   "metadata": {
    "collapsed": true
   },
   "outputs": [],
   "source": []
  },
  {
   "cell_type": "code",
   "execution_count": null,
   "metadata": {
    "collapsed": true
   },
   "outputs": [],
   "source": []
  },
  {
   "cell_type": "code",
   "execution_count": null,
   "metadata": {
    "collapsed": true
   },
   "outputs": [],
   "source": []
  },
  {
   "cell_type": "code",
   "execution_count": null,
   "metadata": {
    "collapsed": true
   },
   "outputs": [],
   "source": []
  },
  {
   "cell_type": "code",
   "execution_count": 25,
   "metadata": {},
   "outputs": [
    {
     "data": {
      "text/plain": [
       "1.4710180342208781"
      ]
     },
     "execution_count": 25,
     "metadata": {},
     "output_type": "execute_result"
    }
   ],
   "source": [
    "families = np.zeros((dim, dim))\n",
    "families[1, 0] = 1\n",
    "families[6, 2] = 1\n",
    "families[7, 6] = 1\n",
    "\n",
    "quant_estimate = ConservativeEstimate(model_func=test_func, margins=margins, families=families)\n",
    "res = quant_estimate.gridsearch_minimize(None, 20000, 'vertices', q_func=q_func)\n",
    "res.min_quantity"
   ]
  }
 ],
 "metadata": {
  "anaconda-cloud": {},
  "kernelspec": {
   "display_name": "Python [Root]",
   "language": "python",
   "name": "Python [Root]"
  },
  "language_info": {
   "codemirror_mode": {
    "name": "ipython",
    "version": 2
   },
   "file_extension": ".py",
   "mimetype": "text/x-python",
   "name": "python",
   "nbconvert_exporter": "python",
   "pygments_lexer": "ipython2",
   "version": "2.7.13"
  }
 },
 "nbformat": 4,
 "nbformat_minor": 2
}
