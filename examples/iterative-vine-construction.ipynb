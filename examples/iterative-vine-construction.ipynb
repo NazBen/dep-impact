{
 "cells": [
  {
   "cell_type": "markdown",
   "metadata": {},
   "source": [
    "# Iterative Construction of a Penalised Vine Structure\n",
    "This notebook iteratively estimate the quantile."
   ]
  },
  {
   "cell_type": "markdown",
   "metadata": {},
   "source": [
    "#### Libraries"
   ]
  },
  {
   "cell_type": "code",
   "execution_count": 1,
   "metadata": {
    "collapsed": true
   },
   "outputs": [],
   "source": [
    "import openturns as ot\n",
    "import numpy as np\n",
    "import matplotlib.pyplot as plt\n",
    "%matplotlib inline\n",
    "\n",
    "%load_ext autoreload\n",
    "%autoreload 2\n",
    "\n",
    "random_state = 123\n",
    "np.random.seed(random_state)"
   ]
  },
  {
   "cell_type": "markdown",
   "metadata": {},
   "source": [
    "#### Model function\n",
    "This example consider the simple additive example."
   ]
  },
  {
   "cell_type": "code",
   "execution_count": 2,
   "metadata": {
    "collapsed": true
   },
   "outputs": [],
   "source": [
    "from dependence.tests import func_overflow, margins_overflow, var_names_overflow, func_sum\n",
    "\n",
    "test_func = func_overflow"
   ]
  },
  {
   "cell_type": "markdown",
   "metadata": {},
   "source": [
    "#### Dimension and margins\n",
    "We first define the problem dimension and the margins"
   ]
  },
  {
   "cell_type": "code",
   "execution_count": 3,
   "metadata": {
    "collapsed": true
   },
   "outputs": [],
   "source": [
    "if test_func == func_overflow:\n",
    "    margins = margins_overflow\n",
    "    dim = len(margins)\n",
    "else:\n",
    "    dim = 6\n",
    "    margins = [ot.Normal()]*dim"
   ]
  },
  {
   "cell_type": "markdown",
   "metadata": {},
   "source": [
    "We chose the coefficients of the variables throught the additive function."
   ]
  },
  {
   "cell_type": "code",
   "execution_count": 4,
   "metadata": {
    "collapsed": true
   },
   "outputs": [],
   "source": [
    "if test_func == func_sum:\n",
    "    coeficients = np.logspace(0., 5., dim+1, endpoint=False)[1:]\n",
    "\n",
    "    n_plot = 10000\n",
    "    x = np.asarray(ot.ComposedDistribution(margins).getSample(n_plot))\n",
    "    y = test_func(x, coeficients)\n",
    "\n",
    "    fig, axes = plt.subplots(dim, 1, sharex=True, sharey=True, figsize=(4, 2*dim))\n",
    "    for i in range(dim):\n",
    "        ax = axes[i]\n",
    "        ax.plot(x[:, i], y, '.')\n",
    "        ax.set_xlabel(r'$X_%d$' % (i+1), fontsize=12)\n",
    "        ax.set_ylabel(r'$y$', fontsize=12)\n",
    "    fig.tight_layout()"
   ]
  },
  {
   "cell_type": "markdown",
   "metadata": {},
   "source": [
    "#### Copula families\n",
    "We now consider only Gaussian dependencies for this example"
   ]
  },
  {
   "cell_type": "code",
   "execution_count": 5,
   "metadata": {
    "collapsed": true
   },
   "outputs": [],
   "source": [
    "families = np.zeros((dim, dim), dtype=int)\n",
    "for i in range(1, dim):\n",
    "    for j in range(i):\n",
    "        families[i, j] = 1"
   ]
  },
  {
   "cell_type": "markdown",
   "metadata": {},
   "source": [
    "## Estimations\n",
    "We create an instance of the main class for conservative estimate, and we define a q_func object for the quantile as a quantity of interest"
   ]
  },
  {
   "cell_type": "code",
   "execution_count": 13,
   "metadata": {
    "collapsed": true
   },
   "outputs": [],
   "source": [
    "from dependence import ConservativeEstimate, quantile_func\n",
    "\n",
    "alpha = 0.99\n",
    "\n",
    "if alpha > 0.5: # Maximizing the quantile\n",
    "    def q_func(x, axis=1):\n",
    "        return - quantile_func(alpha)(x, axis=axis)\n",
    "else: # Minimizing\n",
    "    q_func = quantile_func(alpha)\n",
    "\n",
    "quant_estimate = ConservativeEstimate(model_func=test_func, margins=margins, families=families)"
   ]
  },
  {
   "cell_type": "markdown",
   "metadata": {},
   "source": [
    "First, we compute the quantile at independence"
   ]
  },
  {
   "cell_type": "code",
   "execution_count": 14,
   "metadata": {
    "collapsed": true
   },
   "outputs": [],
   "source": [
    "n = 10000\n",
    "indep_result = quant_estimate.independence(n_input_sample=n, q_func=q_func, random_state=random_state)[0]"
   ]
  },
  {
   "cell_type": "code",
   "execution_count": 15,
   "metadata": {},
   "outputs": [
    {
     "name": "stdout",
     "output_type": "stream",
     "text": [
      "Quantile at independence: 1.91 with a C.O.V at 8.6 %\n"
     ]
    }
   ],
   "source": [
    "indep_result.compute_bootstrap(1000)\n",
    "boot_std = indep_result.bootstrap_sample.std()\n",
    "boot_mean = indep_result.bootstrap_sample.mean()\n",
    "print('Quantile at independence: %.2f with a C.O.V at %.1f %%' % (boot_mean, abs(boot_std/boot_mean)*100.))"
   ]
  },
  {
   "cell_type": "markdown",
   "metadata": {},
   "source": [
    "### Grid Search Approach\n",
    "Firstly, we consider a grid search approach in order to compare the perfomance with the iterative algorithm."
   ]
  },
  {
   "cell_type": "code",
   "execution_count": 16,
   "metadata": {
    "collapsed": true
   },
   "outputs": [],
   "source": [
    "K = 100\n",
    "grid_type = 'rand'\n",
    "quant_estimate = ConservativeEstimate(model_func=test_func, margins=margins, families=families)\n",
    "grid_result = quant_estimate.gridsearch_minimize(n_dep_param=K, n_input_sample=n, grid_type=grid_type, \n",
    "                                                 q_func=q_func, random_state=random_state)"
   ]
  },
  {
   "cell_type": "code",
   "execution_count": 17,
   "metadata": {},
   "outputs": [
    {
     "name": "stdout",
     "output_type": "stream",
     "text": [
      "Worst Quantile: -5.51 with a C.O.V at 7.1 %\n",
      "Cost = 1000000\n"
     ]
    }
   ],
   "source": [
    "min_result = grid_result.min_result\n",
    "min_result.compute_bootstrap(1000)\n",
    "boot_std = min_result.bootstrap_sample.std()\n",
    "boot_mean = min_result.bootstrap_sample.mean()\n",
    "print('Worst Quantile: %.2f with a C.O.V at %.1f %%' % (boot_mean, abs(boot_std/boot_mean)*100.))\n",
    "print('Cost = %d' % (K*n))"
   ]
  },
  {
   "cell_type": "code",
   "execution_count": 18,
   "metadata": {
    "collapsed": true
   },
   "outputs": [],
   "source": [
    "if dim == 2:\n",
    "    fig, ax = plt.subplots()\n",
    "    ax.plot(grid_result.dep_params, grid_result.quantities)"
   ]
  },
  {
   "cell_type": "markdown",
   "metadata": {},
   "source": [
    "### Iterative Approach\n",
    "Now lets see how good we can be with the iterative appraoch."
   ]
  },
  {
   "cell_type": "code",
   "execution_count": 24,
   "metadata": {
    "scrolled": true
   },
   "outputs": [
    {
     "name": "stdout",
     "output_type": "stream",
     "text": [
      "Worst quantile of [(1, 0)] at -3.55081259631\n",
      "Worst quantile of [(2, 0)] at 0.114800959491\n",
      "Worst quantile of [(2, 1)] at 0.84447906533\n",
      "Worst quantile of [(3, 0)] at 0.926509429814\n",
      "Worst quantile of [(3, 1)] at 1.27318988501\n",
      "Worst quantile of [(3, 2)] at 1.51270271385\n",
      "Worst quantile of [(4, 0)] at 0.824718056818\n",
      "Worst quantile of [(4, 1)] at 0.921730369952\n",
      "Worst quantile of [(4, 2)] at 1.6503433085\n",
      "Worst quantile of [(4, 3)] at 1.43820287692\n",
      "Worst quantile of [(5, 0)] at 1.59998930135\n",
      "Worst quantile of [(5, 1)] at 1.53700817735\n",
      "Worst quantile of [(5, 2)] at 1.58402731769\n",
      "Worst quantile of [(5, 3)] at 1.30270047423\n",
      "Worst quantile of [(5, 4)] at 1.48465181558\n",
      "Worst quantile of [(6, 0)] at 1.38187076904\n",
      "Worst quantile of [(6, 1)] at 1.74354210064\n",
      "Worst quantile of [(6, 2)] at 1.57852089157\n",
      "Worst quantile of [(6, 3)] at 1.77599417614\n",
      "Worst quantile of [(6, 4)] at 1.49271250996\n",
      "Worst quantile of [(6, 5)] at 1.61158597862\n",
      "Worst quantile of [(7, 0)] at 1.51770493733\n",
      "Worst quantile of [(7, 1)] at 1.5357337617\n",
      "Worst quantile of [(7, 2)] at 1.56711958989\n",
      "Worst quantile of [(7, 3)] at 1.6200391992\n",
      "Worst quantile of [(7, 4)] at 1.61866575257\n",
      "Worst quantile of [(7, 5)] at 1.66750224521\n",
      "Worst quantile of [(7, 6)] at 1.35706728057\n",
      "p=1, worst quantile at -3.55, cost = 2800000\n",
      "Worst quantile of (1, 0)\n",
      "Worst quantile of [(1, 0), (2, 0)] at -4.73650733511\n",
      "Worst quantile of [(1, 0), (2, 1)] at -2.25644711994\n",
      "Worst quantile of [(1, 0), (3, 0)] at -3.71985961924\n",
      "Worst quantile of [(1, 0), (3, 1)] at -3.22077888822\n",
      "Worst quantile of [(1, 0), (3, 2)] at -3.90756979452\n",
      "Worst quantile of [(1, 0), (4, 0)] at -3.17266078026\n",
      "Worst quantile of [(1, 0), (4, 1)] at -1.75128196654\n",
      "Worst quantile of [(1, 0), (4, 2)] at -3.66100974557\n",
      "Worst quantile of [(1, 0), (4, 3)] at -3.58466976422\n",
      "Worst quantile of [(1, 0), (5, 0)] at -3.6876282668\n",
      "Worst quantile of [(1, 0), (5, 1)] at -2.25344331903\n",
      "Worst quantile of [(1, 0), (5, 2)] at -3.89022494509\n",
      "Worst quantile of [(1, 0), (5, 3)] at -3.85218300448\n",
      "Worst quantile of [(1, 0), (5, 4)] at -3.59375871145\n",
      "Worst quantile of [(1, 0), (6, 0)] at -3.18029006169\n",
      "Worst quantile of [(1, 0), (6, 1)] at -1.86399303765\n",
      "Worst quantile of [(1, 0), (6, 2)] at -4.24915232257\n",
      "Worst quantile of [(1, 0), (6, 3)] at -3.65628215753\n",
      "Worst quantile of [(1, 0), (6, 4)] at -3.56462726792\n",
      "Worst quantile of [(1, 0), (6, 5)] at -3.78146573405\n",
      "Worst quantile of [(1, 0), (7, 0)] at -1.93280120096\n",
      "Worst quantile of [(1, 0), (7, 1)] at -3.0052073253\n",
      "Worst quantile of [(1, 0), (7, 2)] at -3.64902104386\n",
      "Worst quantile of [(1, 0), (7, 3)] at -3.73128955398\n",
      "Worst quantile of [(1, 0), (7, 4)] at -3.46418882774\n",
      "Worst quantile of [(1, 0), (7, 5)] at -3.80074305076\n",
      "Worst quantile of [(1, 0), (7, 6)] at -3.71267316031\n",
      "p=2, worst quantile at -4.74, cost = 5500000\n",
      "Worst quantile of (2, 0)\n",
      "Worst quantile of [(1, 0), (2, 0), (2, 1)] at -4.54040271692\n",
      "Worst quantile of [(1, 0), (2, 0), (3, 0)] at 0.496713636221\n",
      "Worst quantile of [(1, 0), (2, 0), (3, 1)] at -1.79274511381\n",
      "Worst quantile of [(1, 0), (2, 0), (3, 2)] at -3.12380300537\n",
      "Worst quantile of [(1, 0), (2, 0), (4, 0)] at -1.98212775422\n",
      "Worst quantile of [(1, 0), (2, 0), (4, 1)] at -1.34668519277\n",
      "Worst quantile of [(1, 0), (2, 0), (4, 2)] at -2.35809945304\n",
      "Worst quantile of [(1, 0), (2, 0), (4, 3)] at -4.03488616471\n",
      "Worst quantile of [(1, 0), (2, 0), (5, 0)] at -1.5836729129\n",
      "Worst quantile of [(1, 0), (2, 0), (5, 1)] at -1.98672474485\n",
      "Worst quantile of [(1, 0), (2, 0), (5, 2)] at -2.55010178824\n",
      "Worst quantile of [(1, 0), (2, 0), (5, 3)] at -2.72529843714\n",
      "Worst quantile of [(1, 0), (2, 0), (5, 4)] at -3.90506713108\n",
      "Worst quantile of [(1, 0), (2, 0), (6, 0)] at -1.02616397197\n",
      "Worst quantile of [(1, 0), (2, 0), (6, 1)] at -3.6624438725\n",
      "Worst quantile of [(1, 0), (2, 0), (6, 2)] at -3.00110108491\n",
      "Worst quantile of [(1, 0), (2, 0), (6, 3)] at -2.57272147476\n",
      "Worst quantile of [(1, 0), (2, 0), (6, 4)] at -1.00790684445\n",
      "Worst quantile of [(1, 0), (2, 0), (6, 5)] at -2.75355044377\n",
      "Worst quantile of [(1, 0), (2, 0), (7, 0)] at -0.482802911022\n",
      "Worst quantile of [(1, 0), (2, 0), (7, 1)] at -2.20642551385\n",
      "Worst quantile of [(1, 0), (2, 0), (7, 2)] at -3.31920156208\n",
      "Worst quantile of [(1, 0), (2, 0), (7, 3)] at -4.17067189987\n",
      "Worst quantile of [(1, 0), (2, 0), (7, 4)] at -3.27577537314\n",
      "Worst quantile of [(1, 0), (2, 0), (7, 5)] at -3.59520303412\n",
      "Worst quantile of [(1, 0), (2, 0), (7, 6)] at -2.04180862632\n",
      "p=3, worst quantile at -4.54, cost = 8100000\n",
      "Worst quantile of (2, 1)\n",
      "Worst quantile of [(1, 0), (2, 0), (2, 1), (3, 0)] at -4.12024738286\n",
      "Worst quantile of [(1, 0), (2, 0), (2, 1), (3, 1)] at -4.26190535508\n",
      "Worst quantile of [(1, 0), (2, 0), (2, 1), (3, 2)] at -4.74666184482\n",
      "Worst quantile of [(1, 0), (2, 0), (2, 1), (4, 0)] at -4.36296569282\n",
      "Worst quantile of [(1, 0), (2, 0), (2, 1), (4, 1)] at -3.20775774283\n",
      "Worst quantile of [(1, 0), (2, 0), (2, 1), (4, 2)] at -4.02860926663\n",
      "Worst quantile of [(1, 0), (2, 0), (2, 1), (4, 3)] at -4.98273885511\n",
      "Worst quantile of [(1, 0), (2, 0), (2, 1), (5, 0)] at -5.76657602279\n",
      "Worst quantile of [(1, 0), (2, 0), (2, 1), (5, 1)] at -4.91031267526\n",
      "Worst quantile of [(1, 0), (2, 0), (2, 1), (5, 2)] at -5.24172019432\n",
      "Worst quantile of [(1, 0), (2, 0), (2, 1), (5, 3)] at -0.355347783835\n",
      "Worst quantile of [(1, 0), (2, 0), (2, 1), (5, 4)] at -6.0516466836\n",
      "Worst quantile of [(1, 0), (2, 0), (2, 1), (6, 0)] at -3.37984953903\n",
      "Worst quantile of [(1, 0), (2, 0), (2, 1), (6, 1)] at -4.15177108023\n",
      "Worst quantile of [(1, 0), (2, 0), (2, 1), (6, 2)] at -1.62731537437\n",
      "Worst quantile of [(1, 0), (2, 0), (2, 1), (6, 3)] at -5.90677406106\n",
      "Worst quantile of [(1, 0), (2, 0), (2, 1), (6, 4)] at -5.58802086986\n",
      "Worst quantile of [(1, 0), (2, 0), (2, 1), (6, 5)] at -4.86183153149\n",
      "Worst quantile of [(1, 0), (2, 0), (2, 1), (7, 0)] at -1.33046919124\n",
      "Worst quantile of [(1, 0), (2, 0), (2, 1), (7, 1)] at -2.33238274775\n",
      "Worst quantile of [(1, 0), (2, 0), (2, 1), (7, 2)] at -3.35573226739\n",
      "Worst quantile of [(1, 0), (2, 0), (2, 1), (7, 3)] at -4.33765724072\n",
      "Worst quantile of [(1, 0), (2, 0), (2, 1), (7, 4)] at -5.9142672038\n",
      "Worst quantile of [(1, 0), (2, 0), (2, 1), (7, 5)] at -5.76107689078\n",
      "Worst quantile of [(1, 0), (2, 0), (2, 1), (7, 6)] at -6.03532372821\n",
      "p=4, worst quantile at -6.05, cost = 13100000\n",
      "Worst quantile of (5, 4)\n"
     ]
    }
   ],
   "source": [
    "from dependence import iterative_vine_minimize\n",
    "\n",
    "n = 10000\n",
    "p_max = 4\n",
    "K = 10\n",
    "verbose = True\n",
    "grid_type = 'lhs'\n",
    "n_add_pairs = 1\n",
    "n_remove_pairs = 0\n",
    "\n",
    "quant_estimate = ConservativeEstimate(model_func=test_func, margins=margins, families=families)\n",
    "\n",
    "worst_quantities, selected_pairs, removed_pairs = iterative_vine_minimize(quant_estimate, \n",
    "                                                                          n_input_sample=n,\n",
    "                                                                          n_dep_param_init=K,\n",
    "                                                                          p_max=p_max, \n",
    "                                                                          grid_type=grid_type, \n",
    "                                                                          q_func=q_func,\n",
    "                                                                          n_add_pairs=n_add_pairs,\n",
    "                                                                          n_remove_pairs=n_remove_pairs,\n",
    "                                                                          verbose=True)"
   ]
  },
  {
   "cell_type": "code",
   "execution_count": 23,
   "metadata": {},
   "outputs": [
    {
     "data": {
      "text/plain": [
       "[-4.1228913083545775,\n",
       " -4.0679089837627203,\n",
       " -4.4797643563633596,\n",
       " -4.5652428429638112]"
      ]
     },
     "execution_count": 23,
     "metadata": {},
     "output_type": "execute_result"
    }
   ],
   "source": [
    "worst_quantities"
   ]
  }
 ],
 "metadata": {
  "anaconda-cloud": {},
  "kernelspec": {
   "display_name": "Python [Root]",
   "language": "python",
   "name": "Python [Root]"
  },
  "language_info": {
   "codemirror_mode": {
    "name": "ipython",
    "version": 2
   },
   "file_extension": ".py",
   "mimetype": "text/x-python",
   "name": "python",
   "nbconvert_exporter": "python",
   "pygments_lexer": "ipython2",
   "version": "2.7.13"
  }
 },
 "nbformat": 4,
 "nbformat_minor": 2
}
