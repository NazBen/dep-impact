{
 "cells": [
  {
   "cell_type": "markdown",
   "metadata": {},
   "source": [
    "# Iterative Construction of a Penalised Vine Structure\n",
    "This notebook iteratively estimate the quantile."
   ]
  },
  {
   "cell_type": "markdown",
   "metadata": {},
   "source": [
    "#### Libraries"
   ]
  },
  {
   "cell_type": "code",
   "execution_count": 1,
   "metadata": {
    "collapsed": true
   },
   "outputs": [],
   "source": [
    "import openturns as ot\n",
    "import numpy as np\n",
    "import matplotlib.pyplot as plt\n",
    "%matplotlib inline\n",
    "\n",
    "%load_ext autoreload\n",
    "%autoreload 2\n",
    "\n",
    "random_state = 123\n",
    "np.random.seed(random_state)"
   ]
  },
  {
   "cell_type": "markdown",
   "metadata": {},
   "source": [
    "#### Model function\n",
    "This example consider the simple additive example."
   ]
  },
  {
   "cell_type": "code",
   "execution_count": 2,
   "metadata": {
    "collapsed": true
   },
   "outputs": [],
   "source": [
    "from dependence.tests import func_overflow, margins_overflow, var_names_overflow, func_sum\n",
    "\n",
    "test_func = func_overflow"
   ]
  },
  {
   "cell_type": "markdown",
   "metadata": {},
   "source": [
    "#### Dimension and margins\n",
    "We first define the problem dimension and the margins"
   ]
  },
  {
   "cell_type": "code",
   "execution_count": 3,
   "metadata": {
    "collapsed": true
   },
   "outputs": [],
   "source": [
    "if test_func == func_overflow:\n",
    "    margins = margins_overflow\n",
    "    dim = len(margins)\n",
    "else:\n",
    "    dim = 6\n",
    "    margins = [ot.Normal()]*dim"
   ]
  },
  {
   "cell_type": "markdown",
   "metadata": {},
   "source": [
    "We chose the coefficients of the variables throught the additive function."
   ]
  },
  {
   "cell_type": "code",
   "execution_count": 4,
   "metadata": {
    "collapsed": true
   },
   "outputs": [],
   "source": [
    "if test_func == func_sum:\n",
    "    coeficients = np.logspace(0., 5., dim+1, endpoint=False)[1:]\n",
    "\n",
    "    n_plot = 10000\n",
    "    x = np.asarray(ot.ComposedDistribution(margins).getSample(n_plot))\n",
    "    y = test_func(x, coeficients)\n",
    "\n",
    "    fig, axes = plt.subplots(dim, 1, sharex=True, sharey=True, figsize=(4, 2*dim))\n",
    "    for i in range(dim):\n",
    "        ax = axes[i]\n",
    "        ax.plot(x[:, i], y, '.')\n",
    "        ax.set_xlabel(r'$X_%d$' % (i+1), fontsize=12)\n",
    "        ax.set_ylabel(r'$y$', fontsize=12)\n",
    "    fig.tight_layout()"
   ]
  },
  {
   "cell_type": "markdown",
   "metadata": {},
   "source": [
    "#### Copula families\n",
    "We now consider only Gaussian dependencies for this example"
   ]
  },
  {
   "cell_type": "code",
   "execution_count": 37,
   "metadata": {
    "collapsed": true
   },
   "outputs": [],
   "source": [
    "families = np.zeros((dim, dim), dtype=int)\n",
    "for i in range(1, dim):\n",
    "    for j in range(i):\n",
    "        families[i, j] = 1"
   ]
  },
  {
   "cell_type": "markdown",
   "metadata": {},
   "source": [
    "## Estimations\n",
    "We create an instance of the main class for conservative estimate, and we define a q_func object for the quantile as a quantity of interest"
   ]
  },
  {
   "cell_type": "code",
   "execution_count": 6,
   "metadata": {
    "collapsed": true
   },
   "outputs": [],
   "source": [
    "from dependence import ConservativeEstimate, quantile_func\n",
    "\n",
    "alpha = 0.95\n",
    "\n",
    "if alpha > 0.5: # Maximizing the quantile\n",
    "    def q_func(x, axis=1):\n",
    "        return - quantile_func(alpha)(x, axis=axis)\n",
    "else: # Minimizing\n",
    "    q_func = quantile_func(alpha)\n",
    "\n",
    "quant_estimate = ConservativeEstimate(model_func=test_func, margins=margins, families=families)"
   ]
  },
  {
   "cell_type": "markdown",
   "metadata": {},
   "source": [
    "First, we compute the quantile at independence"
   ]
  },
  {
   "cell_type": "code",
   "execution_count": 7,
   "metadata": {
    "collapsed": true
   },
   "outputs": [],
   "source": [
    "n = 10000\n",
    "indep_result = quant_estimate.independence(n_input_sample=n, q_func=q_func, random_state=random_state)[0]"
   ]
  },
  {
   "cell_type": "code",
   "execution_count": 8,
   "metadata": {},
   "outputs": [
    {
     "name": "stdout",
     "output_type": "stream",
     "text": [
      "Quantile at independence: 4.86 with a C.O.V at 2.1 %\n"
     ]
    }
   ],
   "source": [
    "indep_result.compute_bootstrap(1000)\n",
    "boot_std = indep_result.bootstrap_sample.std()\n",
    "boot_mean = indep_result.bootstrap_sample.mean()\n",
    "print('Quantile at independence: %.2f with a C.O.V at %.1f %%' % (boot_mean, abs(boot_std/boot_mean)*100.))"
   ]
  },
  {
   "cell_type": "markdown",
   "metadata": {},
   "source": [
    "### Grid Search Approach\n",
    "Firstly, we consider a grid search approach in order to compare the perfomance with the iterative algorithm."
   ]
  },
  {
   "cell_type": "code",
   "execution_count": 21,
   "metadata": {
    "collapsed": true
   },
   "outputs": [],
   "source": [
    "K = 1000\n",
    "n = 100000\n",
    "grid_type = 'rand'\n",
    "grid_result = quant_estimate.gridsearch_minimize(n_dep_param=K, n_input_sample=n, grid_type=grid_type, \n",
    "                                                 q_func=q_func, random_state=random_state)"
   ]
  },
  {
   "cell_type": "code",
   "execution_count": 22,
   "metadata": {},
   "outputs": [
    {
     "name": "stdout",
     "output_type": "stream",
     "text": [
      "Worst Quantile: 1.42 with a C.O.V at 5.3 %\n",
      "Cost = 25000000\n"
     ]
    }
   ],
   "source": [
    "min_result = grid_result.min_result\n",
    "min_result.compute_bootstrap(1000)\n",
    "boot_std = min_result.bootstrap_sample.std()\n",
    "boot_mean = min_result.bootstrap_sample.mean()\n",
    "print('Worst Quantile: %.2f with a C.O.V at %.1f %%' % (boot_mean, abs(boot_std/boot_mean)*100.))\n",
    "print('Cost = %d' % (K*n))"
   ]
  },
  {
   "cell_type": "code",
   "execution_count": 11,
   "metadata": {
    "collapsed": true
   },
   "outputs": [],
   "source": [
    "if dim == 2:\n",
    "    fig, ax = plt.subplots()\n",
    "    ax.plot(grid_result.dep_params, grid_result.quantities)"
   ]
  },
  {
   "cell_type": "markdown",
   "metadata": {},
   "source": [
    "### Iterative Approach\n",
    "Now lets see how good we can be with the iterative appraoch."
   ]
  },
  {
   "cell_type": "code",
   "execution_count": null,
   "metadata": {
    "scrolled": true
   },
   "outputs": [
    {
     "name": "stdout",
     "output_type": "stream",
     "text": [
      "1 0\n",
      "[[-0.99], [0.99]]\n",
      "Worst quantile of [(1, 0)] at 1.60902727112\n",
      "2 0\n",
      "[[-0.99], [0.99]]\n",
      "Worst quantile of [(2, 0)] at 3.96596923106\n",
      "2 1\n",
      "[[-0.99], [0.99]]\n",
      "Worst quantile of [(2, 1)] at 4.42975419304\n",
      "3 0\n",
      "[[-0.99], [0.99]]\n",
      "Worst quantile of [(3, 0)] at 4.47842362434\n",
      "3 1\n",
      "[[-0.99], [0.99]]\n",
      "Worst quantile of [(3, 1)] at 4.67123035214\n",
      "3 2\n",
      "[[-0.99], [0.99]]\n",
      "Worst quantile of [(3, 2)] at 4.9474457846\n",
      "4 0\n",
      "[[-0.99], [0.99]]\n",
      "Worst quantile of [(4, 0)] at 4.28146163178\n",
      "4 1\n",
      "[[-0.99], [0.99]]\n",
      "Worst quantile of [(4, 1)] at 4.54567149463\n",
      "4 2\n",
      "[[-0.99], [0.99]]\n",
      "Worst quantile of [(4, 2)] at 4.86520241496\n",
      "4 3\n",
      "[[-0.99], [0.99]]\n",
      "Worst quantile of [(4, 3)] at 4.86018863383\n",
      "5 0\n",
      "[[-0.99], [0.99]]\n",
      "Worst quantile of [(5, 0)] at 4.6150993915\n",
      "5 1\n",
      "[[-0.99], [0.99]]\n",
      "Worst quantile of [(5, 1)] at 4.7491114966\n",
      "5 2\n",
      "[[-0.99], [0.99]]\n",
      "Worst quantile of [(5, 2)] at 4.81021758141\n",
      "5 3\n",
      "[[-0.99], [0.99]]\n",
      "Worst quantile of [(5, 3)] at 4.95646229592\n",
      "5 4\n",
      "[[-0.99], [0.99]]\n",
      "Worst quantile of [(5, 4)] at 4.9453574818\n",
      "6 0\n",
      "[[-0.99], [0.99]]\n",
      "Worst quantile of [(6, 0)] at 4.89509367981\n",
      "6 1\n",
      "[[-0.99], [0.99]]\n",
      "Worst quantile of [(6, 1)] at 4.89872117407\n",
      "6 2\n",
      "[[-0.99], [0.99]]\n",
      "Worst quantile of [(6, 2)] at 4.92755322168\n",
      "6 3\n",
      "[[-0.99], [0.99]]\n",
      "Worst quantile of [(6, 3)] at 4.9476735654\n",
      "6 4\n",
      "[[-0.99], [0.99]]\n",
      "Worst quantile of [(6, 4)] at 4.92906228084\n",
      "6 5\n",
      "[[-0.99], [0.99]]\n",
      "Worst quantile of [(6, 5)] at 4.97519984107\n",
      "7 0\n",
      "[[-0.99], [0.99]]\n",
      "Worst quantile of [(7, 0)] at 4.94786805434\n",
      "7 1\n",
      "[[-0.99], [0.99]]\n",
      "Worst quantile of [(7, 1)] at 4.93508352065\n",
      "7 2\n",
      "[[-0.99], [0.99]]\n",
      "Worst quantile of [(7, 2)] at 4.96283450174\n",
      "7 3\n",
      "[[-0.99], [0.99]]\n",
      "Worst quantile of [(7, 3)] at 4.96216821719\n",
      "7 4\n",
      "[[-0.99], [0.99]]\n",
      "Worst quantile of [(7, 4)] at 5.02132976625\n",
      "7 5\n",
      "[[-0.99], [0.99]]\n",
      "Worst quantile of [(7, 5)] at 4.953466593\n",
      "7 6\n",
      "[[-0.99], [0.99]]\n",
      "Worst quantile of [(7, 6)] at 4.96639266305\n",
      "[(1, 0)]\n",
      "p=1, worst quantile at 1.61, cost = 2800000\n",
      "Worst quantile of (1, 0)\n",
      "2 0\n",
      "[[-0.99, -0.99], [-0.99, 0.99], [-0.99, 0.0], [0.99, -0.99], [0.99, 0.99], [0.99, 0.0], [0.0, -0.99], [0.0, 0.99]]\n",
      "Worst quantile of [(1, 0), (2, 0)] at 1.78599894253\n",
      "2 1\n",
      "[[-0.99, -0.99], [-0.99, 0.99], [-0.99, 0.0], [0.99, -0.99], [0.99, 0.99], [0.99, 0.0], [0.0, -0.99], [0.0, 0.99]]\n",
      "Worst quantile of [(1, 0), (2, 1)] at 1.53493894939\n",
      "3 0\n",
      "[[-0.99, -0.99], [-0.99, 0.99], [-0.99, 0.0], [0.99, -0.99], [0.99, 0.99], [0.99, 0.0], [0.0, -0.99], [0.0, 0.99]]\n",
      "Worst quantile of [(1, 0), (3, 0)] at 1.62711578747\n",
      "3 1\n",
      "[[-0.99, -0.99], [-0.99, 0.99], [-0.99, 0.0], [0.99, -0.99], [0.99, 0.99], [0.99, 0.0], [0.0, -0.99], [0.0, 0.99]]\n",
      "Worst quantile of [(1, 0), (3, 1)] at 1.73186117335\n",
      "3 2\n",
      "[[-0.99, -0.99], [-0.99, 0.99], [-0.99, 0.0], [0.99, -0.99], [0.99, 0.99], [0.99, 0.0], [0.0, -0.99], [0.0, 0.99]]\n",
      "Worst quantile of [(1, 0), (3, 2)] at 1.51880936131\n",
      "4 0\n",
      "[[-0.99, -0.99], [-0.99, 0.99], [-0.99, 0.0], [0.99, -0.99], [0.99, 0.99], [0.99, 0.0], [0.0, -0.99], [0.0, 0.99]]\n",
      "Worst quantile of [(1, 0), (4, 0)] at 1.73935698918\n",
      "4 1\n",
      "[[-0.99, -0.99], [-0.99, 0.99], [-0.99, 0.0], [0.99, -0.99], [0.99, 0.99], [0.99, 0.0], [0.0, -0.99], [0.0, 0.99]]\n",
      "Worst quantile of [(1, 0), (4, 1)] at 1.57717255651\n",
      "4 2\n",
      "[[-0.99, -0.99], [-0.99, 0.99], [-0.99, 0.0], [0.99, -0.99], [0.99, 0.99], [0.99, 0.0], [0.0, -0.99], [0.0, 0.99]]\n",
      "Worst quantile of [(1, 0), (4, 2)] at 1.56659016451\n",
      "4 3\n",
      "[[-0.99, -0.99], [-0.99, 0.99], [-0.99, 0.0], [0.99, -0.99], [0.99, 0.99], [0.99, 0.0], [0.0, -0.99], [0.0, 0.99]]\n",
      "Worst quantile of [(1, 0), (4, 3)] at 1.53490348167\n",
      "5 0\n",
      "[[-0.99, -0.99], [-0.99, 0.99], [-0.99, 0.0], [0.99, -0.99], [0.99, 0.99], [0.99, 0.0], [0.0, -0.99], [0.0, 0.99]]\n",
      "Worst quantile of [(1, 0), (5, 0)] at 1.62990228306\n",
      "5 1\n",
      "[[-0.99, -0.99], [-0.99, 0.99], [-0.99, 0.0], [0.99, -0.99], [0.99, 0.99], [0.99, 0.0], [0.0, -0.99], [0.0, 0.99]]\n",
      "Worst quantile of [(1, 0), (5, 1)] at 1.7161310567\n",
      "5 2\n",
      "[[-0.99, -0.99], [-0.99, 0.99], [-0.99, 0.0], [0.99, -0.99], [0.99, 0.99], [0.99, 0.0], [0.0, -0.99], [0.0, 0.99]]\n",
      "Worst quantile of [(1, 0), (5, 2)] at 1.52226888289\n",
      "5 3\n",
      "[[-0.99, -0.99], [-0.99, 0.99], [-0.99, 0.0], [0.99, -0.99], [0.99, 0.99], [0.99, 0.0], [0.0, -0.99], [0.0, 0.99]]\n",
      "Worst quantile of [(1, 0), (5, 3)] at 1.69769661991\n",
      "5 4\n",
      "[[-0.99, -0.99], [-0.99, 0.99], [-0.99, 0.0], [0.99, -0.99], [0.99, 0.99], [0.99, 0.0], [0.0, -0.99], [0.0, 0.99]]\n",
      "Worst quantile of [(1, 0), (5, 4)] at 1.49328520864\n",
      "6 0\n",
      "[[-0.99, -0.99], [-0.99, 0.99], [-0.99, 0.0], [0.99, -0.99], [0.99, 0.99], [0.99, 0.0], [0.0, -0.99], [0.0, 0.99]]\n",
      "Worst quantile of [(1, 0), (6, 0)] at 1.66342387522\n",
      "6 1\n",
      "[[-0.99, -0.99], [-0.99, 0.99], [-0.99, 0.0], [0.99, -0.99], [0.99, 0.99], [0.99, 0.0], [0.0, -0.99], [0.0, 0.99]]\n",
      "Worst quantile of [(1, 0), (6, 1)] at 1.61181078706\n",
      "6 2\n",
      "[[-0.99, -0.99], [-0.99, 0.99], [-0.99, 0.0], [0.99, -0.99], [0.99, 0.99], [0.99, 0.0], [0.0, -0.99], [0.0, 0.99]]\n",
      "Worst quantile of [(1, 0), (6, 2)] at 1.54741641833\n",
      "6 3\n",
      "[[-0.99, -0.99], [-0.99, 0.99], [-0.99, 0.0], [0.99, -0.99], [0.99, 0.99], [0.99, 0.0], [0.0, -0.99], [0.0, 0.99]]\n",
      "Worst quantile of [(1, 0), (6, 3)] at 1.56932236745\n",
      "6 4\n",
      "[[-0.99, -0.99], [-0.99, 0.99], [-0.99, 0.0], [0.99, -0.99], [0.99, 0.99], [0.99, 0.0], [0.0, -0.99], [0.0, 0.99]]\n",
      "Worst quantile of [(1, 0), (6, 4)] at 1.5024520461\n",
      "6 5\n",
      "[[-0.99, -0.99], [-0.99, 0.99], [-0.99, 0.0], [0.99, -0.99], [0.99, 0.99], [0.99, 0.0], [0.0, -0.99], [0.0, 0.99]]\n",
      "Worst quantile of [(1, 0), (6, 5)] at 1.55618006403\n",
      "7 0\n",
      "[[-0.99, -0.99], [-0.99, 0.99], [-0.99, 0.0], [0.99, -0.99], [0.99, 0.99], [0.99, 0.0], [0.0, -0.99], [0.0, 0.99]]\n",
      "Worst quantile of [(1, 0), (7, 0)] at 1.61905289287\n",
      "7 1\n",
      "[[-0.99, -0.99], [-0.99, 0.99], [-0.99, 0.0], [0.99, -0.99], [0.99, 0.99], [0.99, 0.0], [0.0, -0.99], [0.0, 0.99]]\n",
      "Worst quantile of [(1, 0), (7, 1)] at 1.57059804675\n",
      "7 2\n",
      "[[-0.99, -0.99], [-0.99, 0.99], [-0.99, 0.0], [0.99, -0.99], [0.99, 0.99], [0.99, 0.0], [0.0, -0.99], [0.0, 0.99]]\n"
     ]
    }
   ],
   "source": [
    "from dependence import iterative_vine_minimize\n",
    "\n",
    "n = 50000\n",
    "p_max = 3\n",
    "K = None\n",
    "verbose = True\n",
    "grid_type = 'vertices'\n",
    "n_add_pairs = 1\n",
    "n_remove_pairs = 0\n",
    "\n",
    "quant_estimate = ConservativeEstimate(model_func=test_func, margins=margins, families=families)\n",
    "\n",
    "worst_quantities, selected_pairs, removed_pairs, results = iterative_vine_minimize(quant_estimate, \n",
    "                                                                          n_input_sample=n,\n",
    "                                                                          n_dep_param_init=K,\n",
    "                                                                          p_max=p_max, \n",
    "                                                                          grid_type=grid_type, \n",
    "                                                                          q_func=q_func,\n",
    "                                                                          n_add_pairs=n_add_pairs,\n",
    "                                                                          n_remove_pairs=n_remove_pairs,\n",
    "                                                                          verbose=True)"
   ]
  },
  {
   "cell_type": "code",
   "execution_count": 34,
   "metadata": {},
   "outputs": [
    {
     "name": "stdout",
     "output_type": "stream",
     "text": [
      "> \u001b[1;32mc:\\users\\nazih\\google drive\\github\\impact-of-dependence\\dependence\\utils.py\u001b[0m(258)\u001b[0;36mto_copula_params\u001b[1;34m()\u001b[0m\n",
      "\u001b[1;32m    256 \u001b[1;33m        \u001b[0mkendalls\u001b[0m \u001b[1;33m=\u001b[0m \u001b[0mnp\u001b[0m\u001b[1;33m.\u001b[0m\u001b[0masarray\u001b[0m\u001b[1;33m(\u001b[0m\u001b[1;33m[\u001b[0m\u001b[0mkendalls\u001b[0m\u001b[1;33m]\u001b[0m\u001b[1;33m)\u001b[0m\u001b[1;33m\u001b[0m\u001b[0m\n",
      "\u001b[0m\u001b[1;32m    257 \u001b[1;33m\u001b[1;33m\u001b[0m\u001b[0m\n",
      "\u001b[0m\u001b[1;32m--> 258 \u001b[1;33m    \u001b[0mn_params\u001b[0m\u001b[1;33m,\u001b[0m \u001b[0mn_pairs\u001b[0m \u001b[1;33m=\u001b[0m \u001b[0mkendalls\u001b[0m\u001b[1;33m.\u001b[0m\u001b[0mshape\u001b[0m\u001b[1;33m\u001b[0m\u001b[0m\n",
      "\u001b[0m\u001b[1;32m    259 \u001b[1;33m    \u001b[0mparams\u001b[0m \u001b[1;33m=\u001b[0m \u001b[0mnp\u001b[0m\u001b[1;33m.\u001b[0m\u001b[0mzeros\u001b[0m\u001b[1;33m(\u001b[0m\u001b[0mkendalls\u001b[0m\u001b[1;33m.\u001b[0m\u001b[0mshape\u001b[0m\u001b[1;33m)\u001b[0m\u001b[1;33m\u001b[0m\u001b[0m\n",
      "\u001b[0m\u001b[1;32m    260 \u001b[1;33m    \u001b[1;32mfor\u001b[0m \u001b[0mk\u001b[0m \u001b[1;32min\u001b[0m \u001b[0mrange\u001b[0m\u001b[1;33m(\u001b[0m\u001b[0mn_pairs\u001b[0m\u001b[1;33m)\u001b[0m\u001b[1;33m:\u001b[0m\u001b[1;33m\u001b[0m\u001b[0m\n",
      "\u001b[0m\n",
      "ipdb> u\n",
      "> \u001b[1;32mc:\\users\\nazih\\google drive\\github\\impact-of-dependence\\dependence\\dependence.py\u001b[0m(168)\u001b[0;36mgridsearch_minimize\u001b[1;34m()\u001b[0m\n",
      "\u001b[1;32m    166 \u001b[1;33m                \u001b[0mkendalls\u001b[0m \u001b[1;33m=\u001b[0m \u001b[0mget_grid_sample\u001b[0m\u001b[1;33m(\u001b[0m\u001b[0mbounds\u001b[0m\u001b[1;33m,\u001b[0m \u001b[0mn_dep_param\u001b[0m\u001b[1;33m,\u001b[0m \u001b[0mgrid_type\u001b[0m\u001b[1;33m)\u001b[0m\u001b[1;33m\u001b[0m\u001b[0m\n",
      "\u001b[0m\u001b[1;32m    167 \u001b[1;33m                \u001b[0mconverter\u001b[0m \u001b[1;33m=\u001b[0m \u001b[1;33m[\u001b[0m\u001b[0mself\u001b[0m\u001b[1;33m.\u001b[0m\u001b[0m_copula_converters\u001b[0m\u001b[1;33m[\u001b[0m\u001b[0mk\u001b[0m\u001b[1;33m]\u001b[0m \u001b[1;32mfor\u001b[0m \u001b[0mk\u001b[0m \u001b[1;32min\u001b[0m \u001b[0mself\u001b[0m\u001b[1;33m.\u001b[0m\u001b[0m_pair_ids\u001b[0m\u001b[1;33m]\u001b[0m\u001b[1;33m\u001b[0m\u001b[0m\n",
      "\u001b[0m\u001b[1;32m--> 168 \u001b[1;33m                \u001b[0mparams\u001b[0m \u001b[1;33m=\u001b[0m \u001b[0mto_copula_params\u001b[0m\u001b[1;33m(\u001b[0m\u001b[0mconverter\u001b[0m\u001b[1;33m,\u001b[0m \u001b[0mkendalls\u001b[0m\u001b[1;33m)\u001b[0m\u001b[1;33m\u001b[0m\u001b[0m\n",
      "\u001b[0m\u001b[1;32m    169 \u001b[1;33m                \u001b[0mn_dep_param\u001b[0m \u001b[1;33m=\u001b[0m \u001b[0mlen\u001b[0m\u001b[1;33m(\u001b[0m\u001b[0mparams\u001b[0m\u001b[1;33m)\u001b[0m\u001b[1;33m\u001b[0m\u001b[0m\n",
      "\u001b[0m\u001b[1;32m    170 \u001b[1;33m            \u001b[1;32melse\u001b[0m\u001b[1;33m:\u001b[0m\u001b[1;33m\u001b[0m\u001b[0m\n",
      "\u001b[0m\n",
      "ipdb> kendalls\n",
      "[]\n",
      "ipdb> converter\n",
      "[]\n",
      "ipdb> self._pair_ids\n",
      "[]\n",
      "ipdb> grid_type\n",
      "'vertices'\n",
      "ipdb> n_dep_param\n",
      "ipdb> bounds\n",
      "[]\n",
      "ipdb> u\n",
      "> \u001b[1;32mc:\\users\\nazih\\google drive\\github\\impact-of-dependence\\dependence\\iterative_vines.py\u001b[0m(75)\u001b[0;36miterative_vine_minimize\u001b[1;34m()\u001b[0m\n",
      "\u001b[1;32m     73 \u001b[1;33m                                                                 \u001b[0mq_func\u001b[0m\u001b[1;33m=\u001b[0m\u001b[0mq_func\u001b[0m\u001b[1;33m,\u001b[0m\u001b[1;33m\u001b[0m\u001b[0m\n",
      "\u001b[0m\u001b[1;32m     74 \u001b[1;33m                                                                 done_results=all_results)\n",
      "\u001b[0m\u001b[1;32m---> 75 \u001b[1;33m\u001b[1;33m\u001b[0m\u001b[0m\n",
      "\u001b[0m\u001b[1;32m     76 \u001b[1;33m\u001b[1;33m\u001b[0m\u001b[0m\n",
      "\u001b[0m\u001b[1;32m     77 \u001b[1;33m\u001b[1;33m\u001b[0m\u001b[0m\n",
      "\u001b[0m\n",
      "ipdb> l\n",
      "\u001b[0;32m     70 \u001b[0m                    results = quant_estimate.gridsearch_minimize(n_dep_param=n_dep_param,\n",
      "\u001b[0;32m     71 \u001b[0m                                                                 \u001b[0mn_input_sample\u001b[0m\u001b[1;33m=\u001b[0m\u001b[0mn_input_sample\u001b[0m\u001b[1;33m,\u001b[0m\u001b[1;33m\u001b[0m\u001b[0m\n",
      "\u001b[0;32m     72 \u001b[0m                                                                 \u001b[0mgrid_type\u001b[0m\u001b[1;33m=\u001b[0m\u001b[0mgrid_type\u001b[0m\u001b[1;33m,\u001b[0m\u001b[1;33m\u001b[0m\u001b[0m\n",
      "\u001b[0;32m     73 \u001b[0m                                                                 \u001b[0mq_func\u001b[0m\u001b[1;33m=\u001b[0m\u001b[0mq_func\u001b[0m\u001b[1;33m,\u001b[0m\u001b[1;33m\u001b[0m\u001b[0m\n",
      "\u001b[0;32m     74 \u001b[0m                                                                 done_results=all_results)\n",
      "\u001b[1;32m---> 75 \u001b[1;33m\u001b[1;33m\u001b[0m\u001b[0m\n",
      "\u001b[0m\u001b[0;32m     76 \u001b[0m\u001b[1;33m\u001b[0m\u001b[0m\n",
      "\u001b[0;32m     77 \u001b[0m\u001b[1;33m\u001b[0m\u001b[0m\n",
      "\u001b[0;32m     78 \u001b[0m                    \u001b[1;31m# How much does it costs\u001b[0m\u001b[1;33m\u001b[0m\u001b[1;33m\u001b[0m\u001b[0m\n",
      "\u001b[0;32m     79 \u001b[0m                    \u001b[0mcost\u001b[0m \u001b[1;33m+=\u001b[0m \u001b[0mresults\u001b[0m\u001b[1;33m.\u001b[0m\u001b[0mn_evals\u001b[0m\u001b[1;33m\u001b[0m\u001b[0m\n",
      "\u001b[0;32m     80 \u001b[0m\u001b[1;33m\u001b[0m\u001b[0m\n",
      "\n",
      "ipdb> n_dep_param\n",
      "ipdb> quant_estimate.bounds_tau\n",
      "array([[ nan,  nan,   0.,  nan,  nan,  nan,  nan,  nan],\n",
      "       [ nan,  nan,  nan,  nan,  nan,  nan,  nan,  nan],\n",
      "       [  0.,  nan,  nan,  nan,  nan,  nan,  nan,  nan],\n",
      "       [ nan,  nan,  nan,  nan,  nan,  nan,  nan,  nan],\n",
      "       [ nan,  nan,  nan,  nan,  nan,  nan,  nan,  nan],\n",
      "       [ nan,  nan,  nan,  nan,  nan,  nan,  nan,  nan],\n",
      "       [ nan,  nan,  nan,  nan,  nan,  nan,  nan,  nan],\n",
      "       [ nan,  nan,  nan,  nan,  nan,  nan,  nan,  nan]])\n",
      "ipdb> quant_estimate.families\n",
      "array([[0, 0, 0, 0, 0, 0, 0, 0],\n",
      "       [0, 0, 0, 0, 0, 0, 0, 0],\n",
      "       [0, 0, 0, 0, 0, 0, 0, 0],\n",
      "       [0, 0, 0, 0, 0, 0, 0, 0],\n",
      "       [0, 0, 0, 0, 0, 0, 0, 0],\n",
      "       [0, 0, 0, 0, 0, 0, 0, 0],\n",
      "       [0, 0, 0, 0, 0, 0, 0, 0],\n",
      "       [0, 0, 0, 0, 0, 0, 0, 0]])\n",
      "ipdb> q\n"
     ]
    }
   ],
   "source": [
    "%debug"
   ]
  },
  {
   "cell_type": "code",
   "execution_count": null,
   "metadata": {
    "collapsed": true
   },
   "outputs": [],
   "source": []
  },
  {
   "cell_type": "code",
   "execution_count": 25,
   "metadata": {},
   "outputs": [
    {
     "data": {
      "text/plain": [
       "1.4710180342208781"
      ]
     },
     "execution_count": 25,
     "metadata": {},
     "output_type": "execute_result"
    }
   ],
   "source": [
    "families = np.zeros((dim, dim))\n",
    "families[1, 0] = 1\n",
    "families[6, 2] = 1\n",
    "families[7, 6] = 1\n",
    "\n",
    "quant_estimate = ConservativeEstimate(model_func=test_func, margins=margins, families=families)\n",
    "res = quant_estimate.gridsearch_minimize(None, 20000, 'vertices', q_func=q_func)\n",
    "res.min_quantity"
   ]
  }
 ],
 "metadata": {
  "anaconda-cloud": {},
  "kernelspec": {
   "display_name": "Python [conda root]",
   "language": "python",
   "name": "conda-root-py"
  },
  "language_info": {
   "codemirror_mode": {
    "name": "ipython",
    "version": 2
   },
   "file_extension": ".py",
   "mimetype": "text/x-python",
   "name": "python",
   "nbconvert_exporter": "python",
   "pygments_lexer": "ipython2",
   "version": "2.7.13"
  }
 },
 "nbformat": 4,
 "nbformat_minor": 2
}
