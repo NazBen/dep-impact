{
 "cells": [
  {
   "cell_type": "markdown",
   "metadata": {},
   "source": [
    "# Iterative Construction of a Penalised Vine Structure\n",
    "This notebook iteratively estimate the quantile."
   ]
  },
  {
   "cell_type": "markdown",
   "metadata": {},
   "source": [
    "#### Libraries"
   ]
  },
  {
   "cell_type": "code",
   "execution_count": 1,
   "metadata": {
    "collapsed": false
   },
   "outputs": [],
   "source": [
    "import openturns as ot\n",
    "import numpy as np\n",
    "import matplotlib.pyplot as plt\n",
    "%matplotlib inline\n",
    "\n",
    "%load_ext autoreload\n",
    "%autoreload 2\n",
    "\n",
    "random_state = 123\n",
    "np.random.seed(random_state)"
   ]
  },
  {
   "cell_type": "markdown",
   "metadata": {},
   "source": [
    "#### Model function\n",
    "This example consider the simple additive example."
   ]
  },
  {
   "cell_type": "code",
   "execution_count": 2,
   "metadata": {
    "collapsed": false
   },
   "outputs": [],
   "source": [
    "from dependence.tests import func_overflow, margins_overflow, var_names_overflow, func_sum\n",
    "\n",
    "test_func = func_overflow"
   ]
  },
  {
   "cell_type": "markdown",
   "metadata": {},
   "source": [
    "#### Dimension and margins\n",
    "We first define the problem dimension and the margins"
   ]
  },
  {
   "cell_type": "code",
   "execution_count": 3,
   "metadata": {
    "collapsed": false
   },
   "outputs": [],
   "source": [
    "if test_func == func_overflow:\n",
    "    margins = margins_overflow\n",
    "    dim = len(margins)\n",
    "else:\n",
    "    dim = 6\n",
    "    margins = [ot.Normal()]*dim"
   ]
  },
  {
   "cell_type": "markdown",
   "metadata": {},
   "source": [
    "We chose the coefficients of the variables throught the additive function."
   ]
  },
  {
   "cell_type": "code",
   "execution_count": 4,
   "metadata": {
    "collapsed": false
   },
   "outputs": [],
   "source": [
    "if test_func == func_sum:\n",
    "    coeficients = np.logspace(0., 3., dim+1, endpoint=False)[1:]\n",
    "\n",
    "    n_plot = 10000\n",
    "    x = np.asarray(ot.ComposedDistribution(margins).getSample(n_plot))\n",
    "    y = sum_func(x, coeficients)\n",
    "\n",
    "    fig, axes = plt.subplots(dim, 1, sharex=True, sharey=True, figsize=(4, 2*dim))\n",
    "    for i in range(dim):\n",
    "        ax = axes[i]\n",
    "        ax.plot(x[:, i], y, '.')\n",
    "        ax.set_xlabel(r'$X_%d$' % (i+1), fontsize=12)\n",
    "        ax.set_ylabel(r'$y$', fontsize=12)\n",
    "    fig.tight_layout()"
   ]
  },
  {
   "cell_type": "markdown",
   "metadata": {},
   "source": [
    "#### Copula families\n",
    "We now consider only Gaussian dependencies for this example"
   ]
  },
  {
   "cell_type": "code",
   "execution_count": 5,
   "metadata": {
    "collapsed": false
   },
   "outputs": [],
   "source": [
    "families = np.zeros((dim, dim), dtype=int)\n",
    "for i in range(1, dim):\n",
    "    for j in range(i):\n",
    "        families[i, j] = 1"
   ]
  },
  {
   "cell_type": "markdown",
   "metadata": {},
   "source": [
    "## Estimations\n",
    "We create an instance of the main class for conservative estimate, and we define a q_func object for the quantile as a quantity of interest"
   ]
  },
  {
   "cell_type": "code",
   "execution_count": 6,
   "metadata": {
    "collapsed": false
   },
   "outputs": [],
   "source": [
    "from dependence import ConservativeEstimate, quantile_func\n",
    "\n",
    "alpha = 0.99\n",
    "\n",
    "if alpha > 0.5: # Maximizing the quantile\n",
    "    def q_func(x, axis=1):\n",
    "        return - quantile_func(alpha)(x, axis=axis)\n",
    "else: # Minimizing\n",
    "    q_func = quantile_func(alpha)\n",
    "\n",
    "quant_estimate = ConservativeEstimate(model_func=test_func, margins=margins, families=families)"
   ]
  },
  {
   "cell_type": "markdown",
   "metadata": {},
   "source": [
    "First, we compute the quantile at independence"
   ]
  },
  {
   "cell_type": "code",
   "execution_count": 7,
   "metadata": {
    "collapsed": false
   },
   "outputs": [],
   "source": [
    "n = 5000\n",
    "indep_result = quant_estimate.independence(n_input_sample=n, q_func=q_func, random_state=random_state)"
   ]
  },
  {
   "cell_type": "code",
   "execution_count": 10,
   "metadata": {
    "collapsed": false
   },
   "outputs": [
    {
     "name": "stdout",
     "output_type": "stream",
     "text": [
      "Quantile at independence: 1.71 with a C.O.V at 15.7 %\n"
     ]
    }
   ],
   "source": [
    "indep_result.compute_bootstrap(1000)\n",
    "boot_std = indep_result.bootstrap_sample.std()\n",
    "boot_mean = indep_result.bootstrap_sample.mean()\n",
    "print('Quantile at independence: %.2f with a C.O.V at %.1f %%' % (boot_mean, abs(boot_std/boot_mean)*100.))"
   ]
  },
  {
   "cell_type": "markdown",
   "metadata": {},
   "source": [
    "### Iterative Approach\n",
    "Now lets see how good we can be with the iterative appraoch."
   ]
  },
  {
   "cell_type": "code",
   "execution_count": null,
   "metadata": {
    "collapsed": false,
    "scrolled": false
   },
   "outputs": [
    {
     "name": "stdout",
     "output_type": "stream",
     "text": [
      "Worst quantile of [(1, 0)] at -4.20186549324\n",
      "Worst quantile of [(2, 0)] at -0.390620176354\n",
      "Worst quantile of [(2, 1)] at 0.936759264591\n",
      "Worst quantile of [(3, 0)] at 1.39797425023\n"
     ]
    }
   ],
   "source": [
    "from dependence import iterative_vine_minimize\n",
    "\n",
    "n = 5000\n",
    "p_max = 6\n",
    "K = None\n",
    "verbose = True\n",
    "grid_type = 'lhs'\n",
    "n_add_pairs = 2\n",
    "n_remove_pairs = 2\n",
    "\n",
    "quant_estimate = ConservativeEstimate(model_func=test_func, margins=margins, families=families)\n",
    "\n",
    "worst_quantities, selected_pairs, removed_pairs = iterative_vine_minimize(quant_estimate, \n",
    "                                                                          n_input_sample=n,\n",
    "                                                                          n_dep_param_init=K,\n",
    "                                                                          p_max=p_max, \n",
    "                                                                          grid_type=grid_type, \n",
    "                                                                          q_func=q_func,\n",
    "                                                                          n_add_pairs=n_add_pairs,\n",
    "                                                                          n_remove_pairs=n_remove_pairs,\n",
    "                                                                          verbose=True)"
   ]
  },
  {
   "cell_type": "markdown",
   "metadata": {},
   "source": [
    "### Grid Search Approach\n",
    "Firstly, we consider a grid search approach in order to compare the perfomance with the iterative algorithm."
   ]
  },
  {
   "cell_type": "code",
   "execution_count": 12,
   "metadata": {
    "collapsed": false
   },
   "outputs": [],
   "source": [
    "K = 2000\n",
    "grid_type = 'lhs'\n",
    "quant_estimate = ConservativeEstimate(model_func=test_func, margins=margins, families=families)\n",
    "grid_result = quant_estimate.gridsearch_minimize(n_dep_param=K, n_input_sample=n, grid_type=grid_type, \n",
    "                                                 q_func=q_func, random_state=random_state)"
   ]
  },
  {
   "cell_type": "code",
   "execution_count": 13,
   "metadata": {
    "collapsed": false
   },
   "outputs": [
    {
     "name": "stdout",
     "output_type": "stream",
     "text": [
      "Worst Quantile: -6.87 with a C.O.V at 7.2 %\n",
      "Cost = 10000000\n"
     ]
    }
   ],
   "source": [
    "min_result = grid_result.min_result\n",
    "min_result.compute_bootstrap(1000)\n",
    "boot_std = min_result.bootstrap_sample.std()\n",
    "boot_mean = min_result.bootstrap_sample.mean()\n",
    "print('Worst Quantile: %.2f with a C.O.V at %.1f %%' % (boot_mean, abs(boot_std/boot_mean)*100.))\n",
    "print('Cost = %d' % (K*n))"
   ]
  },
  {
   "cell_type": "code",
   "execution_count": 10,
   "metadata": {
    "collapsed": false
   },
   "outputs": [],
   "source": [
    "if dim == 2:\n",
    "    fig, ax = plt.subplots()\n",
    "    ax.plot(grid_result.dep_params, grid_result.quantities)"
   ]
  }
 ],
 "metadata": {
  "anaconda-cloud": {},
  "kernelspec": {
   "display_name": "Python 2",
   "language": "python",
   "name": "python2"
  },
  "language_info": {
   "codemirror_mode": {
    "name": "ipython",
    "version": 2
   },
   "file_extension": ".py",
   "mimetype": "text/x-python",
   "name": "python",
   "nbconvert_exporter": "python",
   "pygments_lexer": "ipython2",
   "version": "2.7.13"
  }
 },
 "nbformat": 4,
 "nbformat_minor": 2
}
