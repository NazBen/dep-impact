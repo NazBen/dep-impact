{
 "cells": [
  {
   "cell_type": "code",
   "execution_count": 22,
   "metadata": {
    "collapsed": false
   },
   "outputs": [
    {
     "name": "stdout",
     "output_type": "stream",
     "text": [
      "The autoreload extension is already loaded. To reload it, use:\n",
      "  %reload_ext autoreload\n"
     ]
    }
   ],
   "source": [
    "from dependence import ConservativeEstimate, quantile_func, ListDependenceResult\n",
    "\n",
    "%load_ext autoreload\n",
    "%autoreload 2"
   ]
  },
  {
   "cell_type": "code",
   "execution_count": 23,
   "metadata": {
    "collapsed": false
   },
   "outputs": [],
   "source": [
    "filename = 'result.hdf5'\n",
    "result = ListDependenceResult.from_hdf(filename)"
   ]
  },
  {
   "cell_type": "code",
   "execution_count": 24,
   "metadata": {
    "collapsed": false
   },
   "outputs": [
    {
     "data": {
      "text/plain": [
       "[<dependence.dependence.DependenceResult at 0xe2330b8>,\n",
       " <dependence.dependence.DependenceResult at 0xe233ba8>,\n",
       " <dependence.dependence.DependenceResult at 0xe233048>,\n",
       " <dependence.dependence.DependenceResult at 0xe233438>,\n",
       " <dependence.dependence.DependenceResult at 0xe233908>,\n",
       " <dependence.dependence.DependenceResult at 0x197d1fd0>,\n",
       " <dependence.dependence.DependenceResult at 0x197d1f28>,\n",
       " <dependence.dependence.DependenceResult at 0x197d1f60>,\n",
       " <dependence.dependence.DependenceResult at 0x197d1ac8>,\n",
       " <dependence.dependence.DependenceResult at 0x197d1b38>,\n",
       " <dependence.dependence.DependenceResult at 0x197d13c8>,\n",
       " <dependence.dependence.DependenceResult at 0x197d1a58>,\n",
       " <dependence.dependence.DependenceResult at 0x197d1a90>,\n",
       " <dependence.dependence.DependenceResult at 0x197d1e80>,\n",
       " <dependence.dependence.DependenceResult at 0x197d1eb8>,\n",
       " <dependence.dependence.DependenceResult at 0x197d1ba8>,\n",
       " <dependence.dependence.DependenceResult at 0x197d1278>,\n",
       " <dependence.dependence.DependenceResult at 0x197d1c88>,\n",
       " <dependence.dependence.DependenceResult at 0x197d1908>,\n",
       " <dependence.dependence.DependenceResult at 0x197d1be0>]"
      ]
     },
     "execution_count": 24,
     "metadata": {},
     "output_type": "execute_result"
    }
   ],
   "source": [
    "result"
   ]
  },
  {
   "cell_type": "code",
   "execution_count": null,
   "metadata": {
    "collapsed": true
   },
   "outputs": [],
   "source": [
    "\n"
   ]
  }
 ],
 "metadata": {
  "anaconda-cloud": {},
  "kernelspec": {
   "display_name": "Python [conda root]",
   "language": "python",
   "name": "conda-root-py"
  },
  "language_info": {
   "codemirror_mode": {
    "name": "ipython",
    "version": 2
   },
   "file_extension": ".py",
   "mimetype": "text/x-python",
   "name": "python",
   "nbconvert_exporter": "python",
   "pygments_lexer": "ipython2",
   "version": "2.7.13"
  }
 },
 "nbformat": 4,
 "nbformat_minor": 2
}
