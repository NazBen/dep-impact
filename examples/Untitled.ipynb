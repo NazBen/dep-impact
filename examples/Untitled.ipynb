{
 "cells": [
  {
   "cell_type": "code",
   "execution_count": 1,
   "metadata": {
    "collapsed": true
   },
   "outputs": [],
   "source": [
    "library(VineCopula)"
   ]
  },
  {
   "cell_type": "code",
   "execution_count": 2,
   "metadata": {
    "collapsed": true
   },
   "outputs": [],
   "source": [
    "dim <- 5\n",
    "Matrix <- c(5, 2, 3, 1, 4,\n",
    "            0, 2, 3, 4, 1,\n",
    "            0, 0, 3, 4, 1,\n",
    "            0, 0, 0, 4, 1,\n",
    "            0, 0, 0, 0, 1)\n",
    "Matrix <- matrix(Matrix, dim, dim)\n",
    "\n",
    "# define R-vine pair-copula family matrix\n",
    "family <- c(0, 1, 3, 4, 4,\n",
    "            0, 0, 3, 4, 1,\n",
    "            0, 0, 0, 4, 1,\n",
    "            0, 0, 0, 0, 3,\n",
    "            0, 0, 0, 0, 0)\n",
    "family <- matrix(family, dim, dim)\n",
    "\n",
    "# Params\n",
    "par <- c(0, 0.2, 0.9, 1.5, 3.9,\n",
    "         0, 0, 1.1, 1.6, 0.9,\n",
    "         0, 0, 0, 1.9, 0.5,\n",
    "         0, 0, 0, 0, 4.8,\n",
    "         0, 0, 0, 0, 0)\n",
    "\n",
    "par <- matrix(par, dim, dim)\n",
    "# define second R-vine pair-copula parameter matrix\n",
    "par2 <- matrix(0, dim, dim)\n",
    "\n",
    "## define RVineMatrix object\n",
    "RVM_0 <- VineCopula::RVineMatrix(Matrix = Matrix, family = family, par = par, par2 = par2)"
   ]
  },
  {
   "cell_type": "code",
   "execution_count": 29,
   "metadata": {},
   "outputs": [
    {
     "data": {
      "text/html": [
       "<table>\n",
       "<tbody>\n",
       "\t<tr><td>0.0</td><td>0.0</td><td>0.0</td><td>0.0</td><td>0  </td></tr>\n",
       "\t<tr><td>0.9</td><td>0.0</td><td>0.0</td><td>0.0</td><td>0  </td></tr>\n",
       "\t<tr><td>0.9</td><td>1.1</td><td>0.0</td><td>0.0</td><td>0  </td></tr>\n",
       "\t<tr><td>1.5</td><td>1.6</td><td>1.9</td><td>0.0</td><td>0  </td></tr>\n",
       "\t<tr><td>3.9</td><td>0.9</td><td>0.5</td><td>4.8</td><td>0  </td></tr>\n",
       "</tbody>\n",
       "</table>\n"
      ],
      "text/latex": [
       "\\begin{tabular}{lllll}\n",
       "\t 0.0 & 0.0 & 0.0 & 0.0 & 0  \\\\\n",
       "\t 0.9 & 0.0 & 0.0 & 0.0 & 0  \\\\\n",
       "\t 0.9 & 1.1 & 0.0 & 0.0 & 0  \\\\\n",
       "\t 1.5 & 1.6 & 1.9 & 0.0 & 0  \\\\\n",
       "\t 3.9 & 0.9 & 0.5 & 4.8 & 0  \\\\\n",
       "\\end{tabular}\n"
      ],
      "text/markdown": [
       "\n",
       "| 0.0 | 0.0 | 0.0 | 0.0 | 0   | \n",
       "| 0.9 | 0.0 | 0.0 | 0.0 | 0   | \n",
       "| 0.9 | 1.1 | 0.0 | 0.0 | 0   | \n",
       "| 1.5 | 1.6 | 1.9 | 0.0 | 0   | \n",
       "| 3.9 | 0.9 | 0.5 | 4.8 | 0   | \n",
       "\n",
       "\n"
      ],
      "text/plain": [
       "     [,1] [,2] [,3] [,4] [,5]\n",
       "[1,] 0.0  0.0  0.0  0.0  0   \n",
       "[2,] 0.9  0.0  0.0  0.0  0   \n",
       "[3,] 0.9  1.1  0.0  0.0  0   \n",
       "[4,] 1.5  1.6  1.9  0.0  0   \n",
       "[5,] 3.9  0.9  0.5  4.8  0   "
      ]
     },
     "metadata": {},
     "output_type": "display_data"
    }
   ],
   "source": [
    "par_new <- par\n",
    "par_new[2, 1] = 0.9\n",
    "par_new"
   ]
  },
  {
   "cell_type": "code",
   "execution_count": 30,
   "metadata": {
    "collapsed": true
   },
   "outputs": [],
   "source": [
    "RVM_new <- VineCopula::RVineMatrix(Matrix = Matrix, family = family, par = par_new, par2 = par2)"
   ]
  },
  {
   "cell_type": "code",
   "execution_count": 35,
   "metadata": {},
   "outputs": [],
   "source": [
    "n <- 100000\n",
    "data <- VineCopula::RVineSim(n, RVM_new)\n"
   ]
  },
  {
   "cell_type": "code",
   "execution_count": 36,
   "metadata": {},
   "outputs": [],
   "source": [
    "res <- VineCopula::RVineLogLik(data, RVM_0, separate = TRUE, calculate.V = FALSE)\n"
   ]
  },
  {
   "cell_type": "code",
   "execution_count": 41,
   "metadata": {},
   "outputs": [
    {
     "data": {
      "text/html": [
       "415052.258145273"
      ],
      "text/latex": [
       "415052.258145273"
      ],
      "text/markdown": [
       "415052.258145273"
      ],
      "text/plain": [
       "[1] 415052.3"
      ]
     },
     "metadata": {},
     "output_type": "display_data"
    }
   ],
   "source": [
    "sum(res$loglik)"
   ]
  },
  {
   "cell_type": "code",
   "execution_count": 37,
   "metadata": {},
   "outputs": [
    {
     "data": {
      "text/html": [
       "-4.15052258145273"
      ],
      "text/latex": [
       "-4.15052258145273"
      ],
      "text/markdown": [
       "-4.15052258145273"
      ],
      "text/plain": [
       "[1] -4.150523"
      ]
     },
     "metadata": {},
     "output_type": "display_data"
    }
   ],
   "source": [
    "mean(-res$loglik)"
   ]
  },
  {
   "cell_type": "code",
   "execution_count": 38,
   "metadata": {},
   "outputs": [
    {
     "data": {
      "image/png": "[encoded data removed]",
      "text/plain": [
       "Plot with title “Histogram of res$loglik”"
      ]
     },
     "metadata": {},
     "output_type": "display_data"
    }
   ],
   "source": [
    "hist(res$loglik)"
   ]
  },
  {
   "cell_type": "code",
   "execution_count": null,
   "metadata": {
    "collapsed": true
   },
   "outputs": [],
   "source": []
  },
  {
   "cell_type": "code",
   "execution_count": 57,
   "metadata": {},
   "outputs": [
    {
     "data": {
      "text/html": [
       "<ol class=list-inline>\n",
       "\t<li>5</li>\n",
       "\t<li>5</li>\n",
       "\t<li>100</li>\n",
       "</ol>\n"
      ],
      "text/latex": [
       "\\begin{enumerate*}\n",
       "\\item 5\n",
       "\\item 5\n",
       "\\item 100\n",
       "\\end{enumerate*}\n"
      ],
      "text/markdown": [
       "1. 5\n",
       "2. 5\n",
       "3. 100\n",
       "\n",
       "\n"
      ],
      "text/plain": [
       "[1]   5   5 100"
      ]
     },
     "metadata": {},
     "output_type": "display_data"
    }
   ],
   "source": [
    "dim(res$V$direct)"
   ]
  },
  {
   "cell_type": "code",
   "execution_count": 24,
   "metadata": {},
   "outputs": [],
   "source": [
    "?VineCopula::RVineLogLik"
   ]
  }
 ],
 "metadata": {
  "kernelspec": {
   "display_name": "R",
   "language": "R",
   "name": "ir"
  },
  "language_info": {
   "codemirror_mode": "r",
   "file_extension": ".r",
   "mimetype": "text/x-r-source",
   "name": "R",
   "pygments_lexer": "r",
   "version": "3.3.2"
  }
 },
 "nbformat": 4,
 "nbformat_minor": 2
}
