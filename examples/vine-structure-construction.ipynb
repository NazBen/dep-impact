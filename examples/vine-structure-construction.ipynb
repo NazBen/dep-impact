{
 "cells": [
  {
   "cell_type": "code",
   "execution_count": 1,
   "metadata": {
    "collapsed": false
   },
   "outputs": [],
   "source": [
    "import numpy as np\n",
    "from dependence import VineCopula\n",
    "import itertools"
   ]
  },
  {
   "cell_type": "code",
   "execution_count": 26,
   "metadata": {
    "collapsed": false
   },
   "outputs": [],
   "source": [
    "def get_pair(dim, index):\n",
    "    k = 0\n",
    "    for i in range(1, dim):\n",
    "        for j in range(i):\n",
    "            if k == index:\n",
    "                return [i+1, j+1]\n",
    "            k+=1\n",
    "            \n",
    "def is_vine_structure(matrix):\n",
    "    dim = matrix.shape[0]\n",
    "    u_matrix = np.triu(matrix, k=1)\n",
    "    diag = np.diag(matrix)\n",
    "    assert matrix.max() == dim, \"Maximum should be the dimension: %d != %d\" % (matrix.max(), dim)\n",
    "    assert matrix.min() == 0, \"Minimum should be 0: %d != %d\" % (matrix.min(), dim)\n",
    "    assert matrix.shape[0] == matrix.shape[1], \"Matrix should be squared\"\n",
    "    assert u_matrix.sum() == 0, \"Matrix should be lower triangular\"\n",
    "    assert len(np.unique(diag)) == dim, \"Element should be uniques on the diagonal: %d != %d\" % (len(np.unique(diag)), dim)\n",
    "    for i in range(dim):\n",
    "        column_i = matrix[i:, i]\n",
    "        assert len(np.unique(column_i)) == dim - i, \"Element should be unique for each column: %d != %d\" % ( len(np.unique(column_i)), dim - i)\n",
    "        for node in diag[:i]:\n",
    "            assert node not in column_i, \"Previous main node should not exist after\"\n",
    "    return matrix\n",
    "\n",
    "def check_diagonal(structure):\n",
    "    if len(np.unique(np.diag(structure))) == n_forced_pairs:\n",
    "        return True\n",
    "    else:\n",
    "        return False\n",
    "\n",
    "def check_columns(structure):\n",
    "    dim = structure.shape[0]\n",
    "    diag = np.diag(structure)\n",
    "    for i in range(dim):\n",
    "        column_i = structure[i:, i]\n",
    "        if len(np.unique(column_i)) != dim - i:\n",
    "            return False\n",
    "        for node in diag[:i]:\n",
    "            if node in column_i:\n",
    "                return False\n",
    "            \n",
    "def check_redundancy(structure):\n",
    "    dim = structure.shape[0]\n",
    "    diag = np.diag(structure)\n",
    "    for i in range(dim-1):\n",
    "        # Check if it does not appears later in the matrix\n",
    "        if diag[i] != 0.:\n",
    "            if diag[i] in structure[:, i+1:]:\n",
    "                return False\n",
    "    return True\n",
    "\n",
    "def rotate_pairs(init_pairs, rotations):\n",
    "    pairs = []\n",
    "    for i, ci in enumerate(rotations):\n",
    "        if ci == -1:\n",
    "            pairs.append(list(reversed(init_pairs[i])))\n",
    "        else:\n",
    "            pairs.append(init_pairs[i])\n",
    "    return pairs\n",
    "\n",
    "def add_pair(structure, pair, index, lvl):\n",
    "    assert structure.shape[0] == structure.shape[1], \"Matrix should be squared\"\n",
    "    dim = structure.shape[0]\n",
    "    if lvl == 0: # If it's the unconditiononal variables\n",
    "        assert structure[index, index] == 0, \"Diagonal should be empty\"\n",
    "        assert structure[dim-1, index] == 0, \"Last row element should be empty\"\n",
    "        structure[index, index] = pair[0]\n",
    "        structure[dim-1, index] = pair[1]\n",
    "    else:\n",
    "        assert structure[index, index] == pair[0], \"First element should be the same as the first variable of the pair\"\n",
    "        structure[dim - 1 - lvl, index] = pair[1]\n",
    "    return structure\n",
    "\n",
    "def add_pairs(structure, pairs, lvl):\n",
    "    \"\"\"\n",
    "    \"\"\"\n",
    "    dim = structure.shape[0]\n",
    "    n_pairs = len(pairs)\n",
    "    assert dim == structure.shape[1], \"Matrix should be squared\"\n",
    "    assert n_pairs < dim - lvl, \"Not enough place to fill the pairs\"\n",
    "    n_slots = dim - 1 - lvl\n",
    "    possibilities = list(itertools.permutations(range(n_slots), r=n_pairs))\n",
    "    for possibility in possibilities:\n",
    "        try:\n",
    "            # Add the pair in the possible order\n",
    "            for i, pair in enumerate(pairs):\n",
    "                structure = add_pair(structure, pair, possibility[i], lvl)\n",
    "            break\n",
    "        except AssertionError:\n",
    "            pass\n",
    "\n",
    "    dim = structure.shape[0]\n",
    "    if (lvl == 0) and (n_pairs == dim-1):\n",
    "        structure[dim-1, dim-1] = np.setdiff1d(range(dim+1), np.diag(structure))[0]\n",
    "    return structure\n",
    "\n",
    "def fill_structure(structure):\n",
    "    \"\"\"\n",
    "    \"\"\"\n",
    "    prev_ind = []\n",
    "    for i in range(dim):\n",
    "        values_i = structure[i:, i]\n",
    "        used_values_i = values_i[values_i != 0].tolist() + prev_ind\n",
    "        remaining_i = range(1, dim + 1)\n",
    "        for var in used_values_i:\n",
    "            if (var in remaining_i):\n",
    "                remaining_i.remove(var)\n",
    "        values_i[values_i == 0] = remaining_i\n",
    "        prev_ind.append(values_i[0])\n",
    "    return structure"
   ]
  },
  {
   "cell_type": "code",
   "execution_count": 112,
   "metadata": {
    "collapsed": false
   },
   "outputs": [],
   "source": [
    "dim = 5\n",
    "n_pairs = dim*(dim-1)/2\n",
    "n_forced_pairs = 7\n",
    "forced_pairs_ids = np.random.choice(range(n_pairs), n_forced_pairs, replace=False)\n",
    "# forced_pairs_ids = [4, 5, 2, 3]\n",
    "# n_forced_pairs = len(forced_pairs_ids)"
   ]
  },
  {
   "cell_type": "code",
   "execution_count": 152,
   "metadata": {
    "collapsed": false
   },
   "outputs": [
    {
     "name": "stdout",
     "output_type": "stream",
     "text": [
      "Vine dimension: 5\n",
      "Conditioning information:\n",
      "\t4 pairs with 0 conditionned variables\n",
      "Pairs: [[5, 3], [5, 2], [3, 2], [5, 4]]\n",
      "\t3 pairs with 1 conditionned variables\n",
      "Pairs: [[4, 2], [4, 3], [3, 1]]\n",
      "\t2 pairs with 2 conditionned variables\n",
      "Pairs: []\n",
      "\t1 pairs with 3 conditionned variables\n",
      "Pairs: []\n",
      "Concerned pairs: [[5, 3], [5, 2], [3, 2], [5, 4], [4, 2], [4, 3], [3, 1]]\n",
      "Remaining pairs: [[2, 1], [4, 1], [5, 1]]\n"
     ]
    },
    {
     "data": {
      "text/plain": [
       "[[[5, 3], [5, 2], [3, 2], [4, 2]], [[5, 4], [4, 3], [3, 1]]]"
      ]
     },
     "execution_count": 152,
     "metadata": {},
     "output_type": "execute_result"
    }
   ],
   "source": [
    "assert len(np.unique(forced_pairs_ids)) == n_forced_pairs, \"Unique values should be puted\"\n",
    "assert n_forced_pairs <= n_pairs, \"Not OK!\"\n",
    "assert max(forced_pairs_ids) < n_pairs, \"Not OK!\"\n",
    "\n",
    "n_conditionned = range(dim - 1, 0, -1)\n",
    "forced_pairs = np.asarray([get_pair(dim, pair_id) for pair_id in forced_pairs_ids])\n",
    "remaining_pairs_ids = range(0, n_pairs)\n",
    "for pair_id in forced_pairs_ids:\n",
    "    remaining_pairs_ids.remove(pair_id)\n",
    "remaining_pairs = np.asarray([get_pair(dim, pair_id) for pair_id in remaining_pairs_ids])\n",
    "\n",
    "print('Vine dimension: %d' % dim)\n",
    "print('Conditioning information:')\n",
    "k0 = 0\n",
    "pairs_by_levels = []\n",
    "for i in range(dim-1):\n",
    "    k = n_conditionned[i]\n",
    "    k1 = min(n_forced_pairs, k0+k)\n",
    "    print(\"\\t%d pairs with %d conditionned variables\" % (k, i))\n",
    "    print(\"Pairs: {0}\".format(forced_pairs[k0:k0+k].tolist()))\n",
    "    if forced_pairs[k0:k0+k].tolist():\n",
    "        pairs_by_levels.append(forced_pairs[k0:k0+k].tolist())\n",
    "    k0 = k1\n",
    "print(\"Concerned pairs: {0}\".format(forced_pairs.tolist()))\n",
    "print(\"Remaining pairs: {0}\".format(remaining_pairs.tolist()))\n",
    "\n",
    "def check_node_loop(pairs):\n",
    "    n_p = 3\n",
    "    for perm_pairs in list(itertools.permutations(pairs, r=n_p)):\n",
    "        if len(np.unique(perm_pairs)) <= n_p:\n",
    "            return False\n",
    "    return True\n",
    "\n",
    "n_levels = len(pairs_by_levels)\n",
    "lvl = 0\n",
    "while lvl < n_levels:\n",
    "    pairs_level = pairs_by_levels[lvl]\n",
    "    if not check_node_loop(pairs_level):\n",
    "        if lvl == n_levels - 1:\n",
    "            pairs_by_levels.append([pairs_level.pop()])\n",
    "            n_levels += 1\n",
    "        else:\n",
    "            pairs_by_levels[lvl+1].insert(0, pairs_level.pop())\n",
    "            pairs_by_levels[lvl].append(pairs_by_levels[lvl+1].pop(1))\n",
    "    lvl += 1\n",
    "pairs_by_levels"
   ]
  },
  {
   "cell_type": "code",
   "execution_count": 153,
   "metadata": {
    "collapsed": false
   },
   "outputs": [],
   "source": [
    "# For each levels\n",
    "good_structures = []\n",
    "for lvl, pairs_level in enumerate(pairs_by_levels):\n",
    "    n_pairs_level = len(pairs_level) # Number of pairs in the level\n",
    "    \n",
    "    # The possible combinations\n",
    "    combinations = list(itertools.product([1, -1], repeat=n_pairs_level))\n",
    "    n_combinations = len(combinations)\n",
    "    \n",
    "    # Now lets get the possible pairs combinations for this level\n",
    "    for k, comb_k in enumerate(combinations):\n",
    "        # Rotate the pair to the actual combination\n",
    "        pairs_k = rotate_pairs(pairs_level, comb_k)\n",
    "        if lvl == 0:\n",
    "            # Create the associated vine structure\n",
    "            structure = np.zeros((dim, dim), dtype=int)\n",
    "            structure = add_pairs(structure, pairs_k, lvl)\n",
    "#             print structure\n",
    "            if check_redundancy(structure):\n",
    "                good_structures.append(structure)\n",
    "        else:\n",
    "            for structure in good_structures:\n",
    "                try:\n",
    "                    new_structure = add_pairs(structure, pairs_k, lvl)\n",
    "                except:\n",
    "                    print(\"Can't add the pairs {0} in the current structure...\".format(pairs_k))\n",
    "                    \n",
    "                if check_redundancy(new_structure):\n",
    "                    structure = new_structure\n",
    "        \n",
    "for structure in good_structures:\n",
    "    print('good:\\n{0}'.format(structure))"
   ]
  },
  {
   "cell_type": "code",
   "execution_count": 10,
   "metadata": {
    "collapsed": false
   },
   "outputs": [
    {
     "ename": "AssertionError",
     "evalue": "Element should be uniques on the diagonal: 4 != 5",
     "output_type": "error",
     "traceback": [
      "\u001b[0;31m---------------------------------------------------------------------------\u001b[0m",
      "\u001b[0;31mAssertionError\u001b[0m                            Traceback (most recent call last)",
      "\u001b[0;32m<ipython-input-10-3033ad0c5dd1>\u001b[0m in \u001b[0;36m<module>\u001b[0;34m()\u001b[0m\n\u001b[0;32m----> 1\u001b[0;31m \u001b[0mis_vine_structure\u001b[0m\u001b[0;34m(\u001b[0m\u001b[0mfill_structure\u001b[0m\u001b[0;34m(\u001b[0m\u001b[0mstructure\u001b[0m\u001b[0;34m)\u001b[0m\u001b[0;34m)\u001b[0m\u001b[0;34m\u001b[0m\u001b[0m\n\u001b[0m",
      "\u001b[0;32m<ipython-input-2-b5edc60e0a3a>\u001b[0m in \u001b[0;36mis_vine_structure\u001b[0;34m(matrix)\u001b[0m\n\u001b[1;32m     15\u001b[0m     \u001b[0;32massert\u001b[0m \u001b[0mmatrix\u001b[0m\u001b[0;34m.\u001b[0m\u001b[0mshape\u001b[0m\u001b[0;34m[\u001b[0m\u001b[0;36m0\u001b[0m\u001b[0;34m]\u001b[0m \u001b[0;34m==\u001b[0m \u001b[0mmatrix\u001b[0m\u001b[0;34m.\u001b[0m\u001b[0mshape\u001b[0m\u001b[0;34m[\u001b[0m\u001b[0;36m1\u001b[0m\u001b[0;34m]\u001b[0m\u001b[0;34m,\u001b[0m \u001b[0;34m\"Matrix should be squared\"\u001b[0m\u001b[0;34m\u001b[0m\u001b[0m\n\u001b[1;32m     16\u001b[0m     \u001b[0;32massert\u001b[0m \u001b[0mu_matrix\u001b[0m\u001b[0;34m.\u001b[0m\u001b[0msum\u001b[0m\u001b[0;34m(\u001b[0m\u001b[0;34m)\u001b[0m \u001b[0;34m==\u001b[0m \u001b[0;36m0\u001b[0m\u001b[0;34m,\u001b[0m \u001b[0;34m\"Matrix should be lower triangular\"\u001b[0m\u001b[0;34m\u001b[0m\u001b[0m\n\u001b[0;32m---> 17\u001b[0;31m     \u001b[0;32massert\u001b[0m \u001b[0mlen\u001b[0m\u001b[0;34m(\u001b[0m\u001b[0mnp\u001b[0m\u001b[0;34m.\u001b[0m\u001b[0munique\u001b[0m\u001b[0;34m(\u001b[0m\u001b[0mdiag\u001b[0m\u001b[0;34m)\u001b[0m\u001b[0;34m)\u001b[0m \u001b[0;34m==\u001b[0m \u001b[0mdim\u001b[0m\u001b[0;34m,\u001b[0m \u001b[0;34m\"Element should be uniques on the diagonal: %d != %d\"\u001b[0m \u001b[0;34m%\u001b[0m \u001b[0;34m(\u001b[0m\u001b[0mlen\u001b[0m\u001b[0;34m(\u001b[0m\u001b[0mnp\u001b[0m\u001b[0;34m.\u001b[0m\u001b[0munique\u001b[0m\u001b[0;34m(\u001b[0m\u001b[0mdiag\u001b[0m\u001b[0;34m)\u001b[0m\u001b[0;34m)\u001b[0m\u001b[0;34m,\u001b[0m \u001b[0mdim\u001b[0m\u001b[0;34m)\u001b[0m\u001b[0;34m\u001b[0m\u001b[0m\n\u001b[0m\u001b[1;32m     18\u001b[0m     \u001b[0;32mfor\u001b[0m \u001b[0mi\u001b[0m \u001b[0;32min\u001b[0m \u001b[0mrange\u001b[0m\u001b[0;34m(\u001b[0m\u001b[0mdim\u001b[0m\u001b[0;34m)\u001b[0m\u001b[0;34m:\u001b[0m\u001b[0;34m\u001b[0m\u001b[0m\n\u001b[1;32m     19\u001b[0m         \u001b[0mcolumn_i\u001b[0m \u001b[0;34m=\u001b[0m \u001b[0mmatrix\u001b[0m\u001b[0;34m[\u001b[0m\u001b[0mi\u001b[0m\u001b[0;34m:\u001b[0m\u001b[0;34m,\u001b[0m \u001b[0mi\u001b[0m\u001b[0;34m]\u001b[0m\u001b[0;34m\u001b[0m\u001b[0m\n",
      "\u001b[0;31mAssertionError\u001b[0m: Element should be uniques on the diagonal: 4 != 5"
     ]
    }
   ],
   "source": [
    "is_vine_structure(fill_structure(structure))"
   ]
  },
  {
   "cell_type": "code",
   "execution_count": 113,
   "metadata": {
    "collapsed": false
   },
   "outputs": [
    {
     "data": {
      "text/plain": [
       "[]"
      ]
     },
     "execution_count": 113,
     "metadata": {},
     "output_type": "execute_result"
    }
   ],
   "source": [
    "all_good_pairs"
   ]
  },
  {
   "cell_type": "code",
   "execution_count": 306,
   "metadata": {
    "collapsed": false
   },
   "outputs": [
    {
     "ename": "IndexError",
     "evalue": "list index out of range",
     "output_type": "error",
     "traceback": [
      "\u001b[0;31m---------------------------------------------------------------------------\u001b[0m",
      "\u001b[0;31mIndexError\u001b[0m                                Traceback (most recent call last)",
      "\u001b[0;32m<ipython-input-306-38588f445eea>\u001b[0m in \u001b[0;36m<module>\u001b[0;34m()\u001b[0m\n\u001b[1;32m      1\u001b[0m \u001b[0mp\u001b[0m \u001b[0;34m=\u001b[0m \u001b[0;36m1\u001b[0m\u001b[0;34m\u001b[0m\u001b[0m\n\u001b[0;32m----> 2\u001b[0;31m \u001b[0mgood_pairs\u001b[0m \u001b[0;34m=\u001b[0m \u001b[0mall_good_pairs\u001b[0m\u001b[0;34m[\u001b[0m\u001b[0mp\u001b[0m\u001b[0;34m]\u001b[0m\u001b[0;34m\u001b[0m\u001b[0m\n\u001b[0m\u001b[1;32m      3\u001b[0m \u001b[0;32mprint\u001b[0m \u001b[0mlen\u001b[0m\u001b[0;34m(\u001b[0m\u001b[0mall_good_pairs\u001b[0m\u001b[0;34m)\u001b[0m\u001b[0;34m\u001b[0m\u001b[0m\n\u001b[1;32m      4\u001b[0m \u001b[0mgood_pairs\u001b[0m\u001b[0;34m\u001b[0m\u001b[0m\n",
      "\u001b[0;31mIndexError\u001b[0m: list index out of range"
     ]
    }
   ],
   "source": [
    "p = 1\n",
    "good_pairs = all_good_pairs[p]\n",
    "print len(all_good_pairs)\n",
    "good_pairs"
   ]
  },
  {
   "cell_type": "code",
   "execution_count": 302,
   "metadata": {
    "collapsed": false
   },
   "outputs": [
    {
     "data": {
      "text/plain": [
       "array([[4, 0, 0, 0],\n",
       "       [0, 2, 0, 0],\n",
       "       [0, 0, 1, 0],\n",
       "       [1, 3, 3, 0]])"
      ]
     },
     "execution_count": 302,
     "metadata": {},
     "output_type": "execute_result"
    }
   ],
   "source": [
    "structure = np.zeros((dim, dim), dtype=int)\n",
    "for i, pair in enumerate(good_pairs):\n",
    "    structure[i, i] = pair[0]\n",
    "    structure[dim-1, i] = pair[1]\n",
    "structure"
   ]
  },
  {
   "cell_type": "code",
   "execution_count": 303,
   "metadata": {
    "collapsed": false
   },
   "outputs": [
    {
     "data": {
      "text/plain": [
       "array([[4, 0, 0, 0],\n",
       "       [2, 2, 0, 0],\n",
       "       [3, 1, 1, 0],\n",
       "       [1, 3, 3, 3]])"
      ]
     },
     "execution_count": 303,
     "metadata": {},
     "output_type": "execute_result"
    }
   ],
   "source": [
    "prev_ind = []\n",
    "for i in range(dim):\n",
    "    values_i = structure[i:, i]\n",
    "    used_values_i = values_i[values_i != 0].tolist() + prev_ind\n",
    "    remaining_i = range(1, dim + 1)\n",
    "    for var in used_values_i:\n",
    "        if (var in remaining_i):\n",
    "            remaining_i.remove(var)\n",
    "    values_i[values_i == 0] = remaining_i\n",
    "    prev_ind.append(values_i[0])\n",
    "is_vine_structure(structure)"
   ]
  }
 ],
 "metadata": {
  "kernelspec": {
   "display_name": "Python [Root]",
   "language": "python",
   "name": "Python [Root]"
  },
  "language_info": {
   "codemirror_mode": {
    "name": "ipython",
    "version": 2
   },
   "file_extension": ".py",
   "mimetype": "text/x-python",
   "name": "python",
   "nbconvert_exporter": "python",
   "pygments_lexer": "ipython2",
   "version": "2.7.13"
  }
 },
 "nbformat": 4,
 "nbformat_minor": 2
}
