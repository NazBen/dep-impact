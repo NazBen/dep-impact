{
 "cells": [
  {
   "cell_type": "code",
   "execution_count": 9,
   "metadata": {
    "collapsed": false
   },
   "outputs": [],
   "source": [
    "import numpy as np\n",
    "from dependence import VineCopula"
   ]
  },
  {
   "cell_type": "code",
   "execution_count": 10,
   "metadata": {
    "collapsed": false
   },
   "outputs": [],
   "source": [
    "dim = 3\n",
    "family = np.zeros((dim, dim), dtype=int)\n",
    "for i in range(1, dim):\n",
    "    for j in range(i):\n",
    "        family[i, j] = 1\n",
    "\n",
    "par1 = np.zeros((dim, dim))\n",
    "for i in range(1, dim):\n",
    "    for j in range(i):\n",
    "        par1[i, j] = 0.5\n",
    "        \n",
    "par2 = np.zeros((dim, dim))\n",
    "for i in range(1, dim):\n",
    "    for j in range(i):\n",
    "        par2[i, j] = 0."
   ]
  },
  {
   "cell_type": "code",
   "execution_count": 31,
   "metadata": {
    "collapsed": false
   },
   "outputs": [
    {
     "data": {
      "text/plain": [
       "array([[1, 0, 0],\n",
       "       [2, 2, 0],\n",
       "       [3, 3, 3]])"
      ]
     },
     "execution_count": 31,
     "metadata": {},
     "output_type": "execute_result"
    }
   ],
   "source": [
    "structure = np.zeros((dim, dim), dtype=int)\n",
    "for i in range(dim):\n",
    "    structure[i, 0:i+1, ] = i + 1\n",
    "        \n",
    "structure"
   ]
  },
  {
   "cell_type": "code",
   "execution_count": 32,
   "metadata": {
    "collapsed": false
   },
   "outputs": [],
   "source": [
    "rvine = VineCopula(structure, family, par1, par2)"
   ]
  },
  {
   "cell_type": "code",
   "execution_count": 49,
   "metadata": {
    "collapsed": false
   },
   "outputs": [],
   "source": [
    "def get_pair(dim, index):\n",
    "    k = 0\n",
    "    for i in range(1, dim):\n",
    "        for j in range(i):\n",
    "            if k == index:\n",
    "                return i+1, j+1\n",
    "            k+=1"
   ]
  },
  {
   "cell_type": "code",
   "execution_count": 52,
   "metadata": {
    "collapsed": false
   },
   "outputs": [
    {
     "name": "stdout",
     "output_type": "stream",
     "text": [
      "[[3 0 0 0]\n",
      " [0 3 0 0]\n",
      " [0 0 0 0]\n",
      " [1 2 0 0]]\n"
     ]
    }
   ],
   "source": [
    "dim = 4\n",
    "pairs_ids = (1, 2)\n",
    "structure = np.zeros((dim, dim), dtype=int)\n",
    "for k, pair_id in enumerate(pairs_ids):\n",
    "    i, j = get_pair(dim, pair_id)\n",
    "    if k < dim - 1:\n",
    "        structure[k, k] = i\n",
    "        structure[dim-1, k] = j\n",
    "        if k == dim - 2:\n",
    "            structure[dim-1, dim-1] = j\n",
    "    else:\n",
    "        for k1 in structure[-1, :]:\n",
    "            print k1\n",
    "print structure"
   ]
  },
  {
   "cell_type": "code",
   "execution_count": null,
   "metadata": {
    "collapsed": true
   },
   "outputs": [],
   "source": []
  },
  {
   "cell_type": "code",
   "execution_count": null,
   "metadata": {
    "collapsed": true
   },
   "outputs": [],
   "source": []
  }
 ],
 "metadata": {
  "kernelspec": {
   "display_name": "Python 2",
   "language": "python",
   "name": "python2"
  },
  "language_info": {
   "codemirror_mode": {
    "name": "ipython",
    "version": 2
   },
   "file_extension": ".py",
   "mimetype": "text/x-python",
   "name": "python",
   "nbconvert_exporter": "python",
   "pygments_lexer": "ipython2",
   "version": "2.7.13"
  }
 },
 "nbformat": 4,
 "nbformat_minor": 2
}
