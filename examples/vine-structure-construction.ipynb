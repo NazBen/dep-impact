{
 "cells": [
  {
   "cell_type": "code",
   "execution_count": 272,
   "metadata": {
    "collapsed": false
   },
   "outputs": [],
   "source": [
    "import numpy as np\n",
    "from dependence import VineCopula"
   ]
  },
  {
   "cell_type": "code",
   "execution_count": 273,
   "metadata": {
    "collapsed": false
   },
   "outputs": [],
   "source": [
    "dim = 3\n",
    "family = np.zeros((dim, dim), dtype=int)\n",
    "for i in range(1, dim):\n",
    "    for j in range(i):\n",
    "        family[i, j] = 1\n",
    "\n",
    "par1 = np.zeros((dim, dim))\n",
    "for i in range(1, dim):\n",
    "    for j in range(i):\n",
    "        par1[i, j] = 0.5\n",
    "        \n",
    "par2 = np.zeros((dim, dim))\n",
    "for i in range(1, dim):\n",
    "    for j in range(i):\n",
    "        par2[i, j] = 0."
   ]
  },
  {
   "cell_type": "code",
   "execution_count": 274,
   "metadata": {
    "collapsed": false
   },
   "outputs": [
    {
     "data": {
      "text/plain": [
       "array([[1, 0, 0],\n",
       "       [2, 2, 0],\n",
       "       [3, 3, 3]])"
      ]
     },
     "execution_count": 274,
     "metadata": {},
     "output_type": "execute_result"
    }
   ],
   "source": [
    "structure = np.zeros((dim, dim), dtype=int)\n",
    "for i in range(dim):\n",
    "    structure[i, 0:i+1, ] = i + 1\n",
    "        \n",
    "structure"
   ]
  },
  {
   "cell_type": "code",
   "execution_count": 275,
   "metadata": {
    "collapsed": false
   },
   "outputs": [],
   "source": [
    "rvine = VineCopula(structure, family, par1, par2)"
   ]
  },
  {
   "cell_type": "code",
   "execution_count": 276,
   "metadata": {
    "collapsed": false
   },
   "outputs": [],
   "source": [
    "def get_pair(dim, index):\n",
    "    k = 0\n",
    "    for i in range(1, dim):\n",
    "        for j in range(i):\n",
    "            if k == index:\n",
    "                return [i+1, j+1]\n",
    "            k+=1"
   ]
  },
  {
   "cell_type": "code",
   "execution_count": 277,
   "metadata": {
    "collapsed": false
   },
   "outputs": [
    {
     "name": "stdout",
     "output_type": "stream",
     "text": [
      "[[3 0 0 0]\n",
      " [0 4 0 0]\n",
      " [0 0 0 0]\n",
      " [1 2 0 0]]\n"
     ]
    }
   ],
   "source": [
    "dim = 4\n",
    "n_pairs = dim * (dim - 1) / 2\n",
    "pairs_ids = [1, 4]\n",
    "remaining_pairs = range(1, n_pairs+1)\n",
    "for pair in pairs_ids:\n",
    "    remaining_pairs.remove(pair)\n",
    "\n",
    "structure = np.zeros((dim, dim), dtype=int)\n",
    "\n",
    "for k, pair_id in enumerate(pairs_ids):\n",
    "    i, j = get_pair(dim, pair_id)\n",
    "    if k < dim - 1:\n",
    "        structure[k, k] = i\n",
    "        structure[dim-1, k] = j\n",
    "        if k == dim - 2:\n",
    "            structure[dim-1, dim-1] = j\n",
    "    else:\n",
    "        for k1 in structure[-1, :]:\n",
    "            print k1\n",
    "print structure"
   ]
  },
  {
   "cell_type": "code",
   "execution_count": 278,
   "metadata": {
    "collapsed": false
   },
   "outputs": [
    {
     "data": {
      "text/plain": [
       "array([3, 4])"
      ]
     },
     "execution_count": 278,
     "metadata": {},
     "output_type": "execute_result"
    }
   ],
   "source": [
    "np.diag(structure)[:2]"
   ]
  },
  {
   "cell_type": "code",
   "execution_count": 279,
   "metadata": {
    "collapsed": false
   },
   "outputs": [
    {
     "data": {
      "text/plain": [
       "3"
      ]
     },
     "execution_count": 279,
     "metadata": {},
     "output_type": "execute_result"
    }
   ],
   "source": [
    "len(np.unique(np.diag(structure)))"
   ]
  },
  {
   "cell_type": "code",
   "execution_count": null,
   "metadata": {
    "collapsed": true
   },
   "outputs": [],
   "source": []
  },
  {
   "cell_type": "code",
   "execution_count": 280,
   "metadata": {
    "collapsed": false
   },
   "outputs": [
    {
     "name": "stdout",
     "output_type": "stream",
     "text": [
      "[[ 1.  0.  0.  0.]\n",
      " [ 2.  2.  0.  0.]\n",
      " [ 3.  3.  3.  0.]\n",
      " [ 4.  4.  4.  4.]]\n"
     ]
    },
    {
     "data": {
      "text/plain": [
       "array([[ 1.,  0.,  0.,  0.],\n",
       "       [ 2.,  2.,  0.,  0.],\n",
       "       [ 3.,  3.,  3.,  0.],\n",
       "       [ 4.,  4.,  4.,  4.]])"
      ]
     },
     "execution_count": 280,
     "metadata": {},
     "output_type": "execute_result"
    }
   ],
   "source": [
    "dim = 4\n",
    "pairs_ids = [1, 4]\n",
    "\n",
    "n_pairs = dim * (dim - 1) / 2\n",
    "\n",
    "\n",
    "def is_vine_structure(matrix):\n",
    "    dim = matrix.shape[0]\n",
    "    u_matrix = np.triu(matrix, k=1)\n",
    "    diag = np.diag(matrix)\n",
    "    assert matrix.max() == dim, \"Maximum should be the dimension: %d != %d\" % (matrix.max(), dim)\n",
    "    assert matrix.min() == 0, \"Minimum should be 0: %d != %d\" % (matrix.min(), dim)\n",
    "    assert matrix.shape[0] == matrix.shape[1], \"Matrix should be squared\"\n",
    "    assert u_matrix.sum() == 0, \"Matrix should be lower triangular\"\n",
    "    assert len(np.unique(diag)) == dim, \"Element should be uniques on the diagonal: %d != %d\" % (len(np.unique(diag)), dim)\n",
    "    for i in range(dim):\n",
    "        column_i = matrix[i:, i]\n",
    "        assert len(np.unique(column_i)) == dim - i, \"Element should be unique for each column: %d != %d\" % ( len(np.unique(column_i)), dim - i)\n",
    "        for node in diag[:i]:\n",
    "            assert node not in column_i, \"Previous main node should not exist after\"\n",
    "    return matrix\n",
    "structure = np.zeros((dim, dim))\n",
    "\n",
    "for i in range(dim):\n",
    "    structure[i, :i+1] = i + 1\n",
    "    \n",
    "print structure\n",
    "is_vine_structure(structure)"
   ]
  },
  {
   "cell_type": "code",
   "execution_count": 17,
   "metadata": {
    "collapsed": false
   },
   "outputs": [
    {
     "data": {
      "text/plain": [
       "array([[5, 0, 0, 0, 0],\n",
       "       [3, 2, 0, 0, 0],\n",
       "       [4, 3, 1, 0, 0],\n",
       "       [2, 4, 3, 4, 0],\n",
       "       [1, 1, 4, 3, 3]])"
      ]
     },
     "execution_count": 17,
     "metadata": {},
     "output_type": "execute_result"
    }
   ],
   "source": [
    "structure = np.asarray(\n",
    "[\n",
    "    [5, 0, 0, 0, 0],\n",
    "    [3, 2, 0, 0, 0],\n",
    "    [4, 3, 1, 0, 0],\n",
    "    [2, 4, 3, 4, 0],\n",
    "    [1, 1, 4, 3, 3]    \n",
    "    \n",
    "])\n",
    "is_vine_structure(structure)"
   ]
  },
  {
   "cell_type": "code",
   "execution_count": 18,
   "metadata": {
    "collapsed": true
   },
   "outputs": [],
   "source": [
    "import itertools"
   ]
  },
  {
   "cell_type": "code",
   "execution_count": 304,
   "metadata": {
    "collapsed": false
   },
   "outputs": [
    {
     "name": "stdout",
     "output_type": "stream",
     "text": [
      "Vine dimension: 4\n",
      "Conditioning information:\n",
      "\t3 pairs with 0 conditionned variables\n",
      "\t2 pairs with 1 conditionned variables\n",
      "\t1 pairs with 2 conditionned variables\n",
      "Concerned pairs: [[4, 1], [3, 2], [3, 1], [4, 2]]\n",
      "Remaining pairs: [[2, 1], [4, 3]]\n"
     ]
    }
   ],
   "source": [
    "dim = 4\n",
    "forced_pairs_ids = [3, 2, 1, 4]\n",
    "\n",
    "n_forced_pairs = len(forced_pairs_ids)\n",
    "n_pairs = dim*(dim-1)/2\n",
    "assert n_forced_pairs <= n_pairs, \"Not OK!\"\n",
    "assert max(forced_pairs_ids) < n_pairs, \"Not OK!\"\n",
    "n_conditionned = range(dim - 1, 0, -1)\n",
    "forced_pairs = np.asarray([get_pair(dim, pair_id) for pair_id in forced_pairs_ids])\n",
    "remaining_pairs_ids = range(0, n_pairs)\n",
    "for pair_id in forced_pairs_ids:\n",
    "    remaining_pairs_ids.remove(pair_id)\n",
    "remaining_pairs = np.asarray([get_pair(dim, pair_id) for pair_id in remaining_pairs_ids])\n",
    "\n",
    "print('Vine dimension: %d' % dim)\n",
    "print('Conditioning information:')\n",
    "for i in range(dim-1):\n",
    "    print(\"\\t%d pairs with %d conditionned variables\" % (n_conditionned[i], i))\n",
    "print(\"Concerned pairs: {0}\".format(forced_pairs.tolist()))\n",
    "print(\"Remaining pairs: {0}\".format(remaining_pairs.tolist()))"
   ]
  },
  {
   "cell_type": "code",
   "execution_count": 305,
   "metadata": {
    "collapsed": false
   },
   "outputs": [
    {
     "name": "stdout",
     "output_type": "stream",
     "text": [
      "nope\n",
      "nope\n",
      "nope\n",
      "nope\n"
     ]
    }
   ],
   "source": [
    "combinations = list(itertools.product([1, -1], repeat=n_forced_pairs))\n",
    "n_combinations = len(combinations)\n",
    "\n",
    "all_good_pairs = []\n",
    "for k, comb in enumerate(combinations):\n",
    "    pairs_k = np.zeros(forced_pairs.shape)\n",
    "    for i, ci in enumerate(comb):\n",
    "        if ci == -1:\n",
    "            pairs_k[i, :] = forced_pairs[i, ::-1]\n",
    "        else:\n",
    "            pairs_k[i, :] = forced_pairs[i, :]\n",
    "    # The 1st indice appears only once        \n",
    "    if len(np.unique(pairs_k[:, 0])) == n_forced_pairs:\n",
    "        # THe 1st indice of the previous pairs should not appears in next columns\n",
    "        itsok = True\n",
    "        for i in range(len(pairs_k[:, 0])):\n",
    "            if pairs_k[i, 0] in pairs_k[i+1:, :]:\n",
    "                print 'nope'\n",
    "                itsok = False\n",
    "        if itsok:\n",
    "            all_good_pairs.append(pairs_k)"
   ]
  },
  {
   "cell_type": "code",
   "execution_count": 306,
   "metadata": {
    "collapsed": false
   },
   "outputs": [
    {
     "ename": "IndexError",
     "evalue": "list index out of range",
     "output_type": "error",
     "traceback": [
      "\u001b[0;31m---------------------------------------------------------------------------\u001b[0m",
      "\u001b[0;31mIndexError\u001b[0m                                Traceback (most recent call last)",
      "\u001b[0;32m<ipython-input-306-38588f445eea>\u001b[0m in \u001b[0;36m<module>\u001b[0;34m()\u001b[0m\n\u001b[1;32m      1\u001b[0m \u001b[0mp\u001b[0m \u001b[0;34m=\u001b[0m \u001b[0;36m1\u001b[0m\u001b[0;34m\u001b[0m\u001b[0m\n\u001b[0;32m----> 2\u001b[0;31m \u001b[0mgood_pairs\u001b[0m \u001b[0;34m=\u001b[0m \u001b[0mall_good_pairs\u001b[0m\u001b[0;34m[\u001b[0m\u001b[0mp\u001b[0m\u001b[0;34m]\u001b[0m\u001b[0;34m\u001b[0m\u001b[0m\n\u001b[0m\u001b[1;32m      3\u001b[0m \u001b[0;32mprint\u001b[0m \u001b[0mlen\u001b[0m\u001b[0;34m(\u001b[0m\u001b[0mall_good_pairs\u001b[0m\u001b[0;34m)\u001b[0m\u001b[0;34m\u001b[0m\u001b[0m\n\u001b[1;32m      4\u001b[0m \u001b[0mgood_pairs\u001b[0m\u001b[0;34m\u001b[0m\u001b[0m\n",
      "\u001b[0;31mIndexError\u001b[0m: list index out of range"
     ]
    }
   ],
   "source": [
    "p = 1\n",
    "good_pairs = all_good_pairs[p]\n",
    "print len(all_good_pairs)\n",
    "good_pairs"
   ]
  },
  {
   "cell_type": "code",
   "execution_count": 302,
   "metadata": {
    "collapsed": false
   },
   "outputs": [
    {
     "data": {
      "text/plain": [
       "array([[4, 0, 0, 0],\n",
       "       [0, 2, 0, 0],\n",
       "       [0, 0, 1, 0],\n",
       "       [1, 3, 3, 0]])"
      ]
     },
     "execution_count": 302,
     "metadata": {},
     "output_type": "execute_result"
    }
   ],
   "source": [
    "structure = np.zeros((dim, dim), dtype=int)\n",
    "for i, pair in enumerate(good_pairs):\n",
    "    structure[i, i] = pair[0]\n",
    "    structure[dim-1, i] = pair[1]\n",
    "structure"
   ]
  },
  {
   "cell_type": "code",
   "execution_count": 303,
   "metadata": {
    "collapsed": false
   },
   "outputs": [
    {
     "data": {
      "text/plain": [
       "array([[4, 0, 0, 0],\n",
       "       [2, 2, 0, 0],\n",
       "       [3, 1, 1, 0],\n",
       "       [1, 3, 3, 3]])"
      ]
     },
     "execution_count": 303,
     "metadata": {},
     "output_type": "execute_result"
    }
   ],
   "source": [
    "prev_ind = []\n",
    "for i in range(dim):\n",
    "    values_i = structure[i:, i]\n",
    "    used_values_i = values_i[values_i != 0].tolist() + prev_ind\n",
    "    remaining_i = range(1, dim + 1)\n",
    "    for var in used_values_i:\n",
    "        if (var in remaining_i):\n",
    "            remaining_i.remove(var)\n",
    "    values_i[values_i == 0] = remaining_i\n",
    "    prev_ind.append(values_i[0])\n",
    "is_vine_structure(structure)"
   ]
  }
 ],
 "metadata": {
  "kernelspec": {
   "display_name": "Python [Root]",
   "language": "python",
   "name": "Python [Root]"
  },
  "language_info": {
   "codemirror_mode": {
    "name": "ipython",
    "version": 2
   },
   "file_extension": ".py",
   "mimetype": "text/x-python",
   "name": "python",
   "nbconvert_exporter": "python",
   "pygments_lexer": "ipython2",
   "version": "2.7.13"
  }
 },
 "nbformat": 4,
 "nbformat_minor": 2
}
