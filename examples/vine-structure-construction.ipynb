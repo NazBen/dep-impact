{
 "cells": [
  {
   "cell_type": "code",
   "execution_count": 7,
   "metadata": {
    "collapsed": false
   },
   "outputs": [],
   "source": [
    "import numpy as np\n",
    "from dependence import VineCopula"
   ]
  },
  {
   "cell_type": "code",
   "execution_count": 8,
   "metadata": {
    "collapsed": false
   },
   "outputs": [],
   "source": [
    "dim = 3\n",
    "family = np.zeros((dim, dim), dtype=int)\n",
    "for i in range(1, dim):\n",
    "    for j in range(i):\n",
    "        family[i, j] = 1\n",
    "\n",
    "par1 = np.zeros((dim, dim))\n",
    "for i in range(1, dim):\n",
    "    for j in range(i):\n",
    "        par1[i, j] = 0.5\n",
    "        \n",
    "par2 = np.zeros((dim, dim))\n",
    "for i in range(1, dim):\n",
    "    for j in range(i):\n",
    "        par2[i, j] = 0."
   ]
  },
  {
   "cell_type": "code",
   "execution_count": 9,
   "metadata": {
    "collapsed": false
   },
   "outputs": [
    {
     "data": {
      "text/plain": [
       "array([[1, 0, 0],\n",
       "       [2, 2, 0],\n",
       "       [3, 3, 3]])"
      ]
     },
     "execution_count": 9,
     "metadata": {},
     "output_type": "execute_result"
    }
   ],
   "source": [
    "structure = np.zeros((dim, dim), dtype=int)\n",
    "for i in range(dim):\n",
    "    structure[i, 0:i+1, ] = i + 1\n",
    "        \n",
    "structure"
   ]
  },
  {
   "cell_type": "code",
   "execution_count": 10,
   "metadata": {
    "collapsed": false
   },
   "outputs": [],
   "source": [
    "rvine = VineCopula(structure, family, par1, par2)"
   ]
  },
  {
   "cell_type": "code",
   "execution_count": 80,
   "metadata": {
    "collapsed": false
   },
   "outputs": [],
   "source": [
    "def get_pair(dim, index):\n",
    "    k = 0\n",
    "    for i in range(1, dim):\n",
    "        for j in range(i):\n",
    "            if k == index:\n",
    "                return [i+1, j+1]\n",
    "            k+=1"
   ]
  },
  {
   "cell_type": "code",
   "execution_count": 28,
   "metadata": {
    "collapsed": false
   },
   "outputs": [
    {
     "name": "stdout",
     "output_type": "stream",
     "text": [
      "[[3 0 0 0]\n",
      " [0 4 0 0]\n",
      " [0 0 0 0]\n",
      " [1 2 0 0]]\n"
     ]
    }
   ],
   "source": [
    "dim = 4\n",
    "n_pairs = dim * (dim - 1) / 2\n",
    "pairs_ids = [1, 4]\n",
    "remaining_pairs = range(1, n_pairs+1)\n",
    "for pair in pairs_ids:\n",
    "    remaining_pairs.remove(pair)\n",
    "\n",
    "structure = np.zeros((dim, dim), dtype=int)\n",
    "\n",
    "for k, pair_id in enumerate(pairs_ids):\n",
    "    i, j = get_pair(dim, pair_id)\n",
    "    if k < dim - 1:\n",
    "        structure[k, k] = i\n",
    "        structure[dim-1, k] = j\n",
    "        if k == dim - 2:\n",
    "            structure[dim-1, dim-1] = j\n",
    "    else:\n",
    "        for k1 in structure[-1, :]:\n",
    "            print k1\n",
    "print structure"
   ]
  },
  {
   "cell_type": "code",
   "execution_count": 41,
   "metadata": {
    "collapsed": false
   },
   "outputs": [
    {
     "data": {
      "text/plain": [
       "array([3, 4])"
      ]
     },
     "execution_count": 41,
     "metadata": {},
     "output_type": "execute_result"
    }
   ],
   "source": [
    "np.diag(structure)[:2]"
   ]
  },
  {
   "cell_type": "code",
   "execution_count": 37,
   "metadata": {
    "collapsed": false
   },
   "outputs": [
    {
     "data": {
      "text/plain": [
       "3"
      ]
     },
     "execution_count": 37,
     "metadata": {},
     "output_type": "execute_result"
    }
   ],
   "source": [
    "len(np.unique(np.diag(structure)))"
   ]
  },
  {
   "cell_type": "code",
   "execution_count": null,
   "metadata": {
    "collapsed": true
   },
   "outputs": [],
   "source": []
  },
  {
   "cell_type": "code",
   "execution_count": 76,
   "metadata": {
    "collapsed": false
   },
   "outputs": [
    {
     "name": "stdout",
     "output_type": "stream",
     "text": [
      "[[ 1.  0.  0.  0.]\n",
      " [ 2.  2.  0.  0.]\n",
      " [ 3.  3.  3.  0.]\n",
      " [ 4.  4.  4.  4.]]\n"
     ]
    },
    {
     "data": {
      "text/plain": [
       "array([[ 1.,  0.,  0.,  0.],\n",
       "       [ 2.,  2.,  0.,  0.],\n",
       "       [ 3.,  3.,  3.,  0.],\n",
       "       [ 4.,  4.,  4.,  4.]])"
      ]
     },
     "execution_count": 76,
     "metadata": {},
     "output_type": "execute_result"
    }
   ],
   "source": [
    "dim = 4\n",
    "pairs_ids = [1, 4]\n",
    "\n",
    "n_pairs = dim * (dim - 1) / 2\n",
    "\n",
    "\n",
    "def is_vine_structure(matrix):\n",
    "    dim = matrix.shape[0]\n",
    "    u_matrix = np.triu(matrix, k=1)\n",
    "    diag = np.diag(matrix)\n",
    "    assert matrix.max() == dim, \"Maximum should be the dimension: %d != %d\" % (matrix.max(), dim)\n",
    "    assert matrix.min() == 0, \"Minimum should be 0: %d != %d\" % (matrix.min(), dim)\n",
    "    assert matrix.shape[0] == matrix.shape[1], \"Matrix should be squared\"\n",
    "    assert u_matrix.sum() == 0, \"Matrix should be lower triangular\"\n",
    "    assert len(np.unique(diag)) == dim, \"Element should be uniques on the diagonal: %d != %d\" % (len(np.unique(diag)), dim)\n",
    "    for i in range(dim):\n",
    "        column_i = matrix[i:, i]\n",
    "        assert len(np.unique(column_i)) == dim - i, \"Element should be unique for each column: %d != %d\" % ( len(np.unique(column_i)), dim - i)\n",
    "        for node in diag[:i]:\n",
    "            assert node not in column_i, \"Previous main node should not exist after\"\n",
    "    return matrix\n",
    "structure = np.zeros((dim, dim))\n",
    "\n",
    "for i in range(dim):\n",
    "    structure[i, :i+1] = i + 1\n",
    "    \n",
    "print structure\n",
    "is_vine_structure(structure)"
   ]
  },
  {
   "cell_type": "code",
   "execution_count": 77,
   "metadata": {
    "collapsed": false
   },
   "outputs": [
    {
     "data": {
      "text/plain": [
       "array([[5, 0, 0, 0, 0],\n",
       "       [3, 2, 0, 0, 0],\n",
       "       [4, 3, 1, 0, 0],\n",
       "       [2, 4, 3, 4, 0],\n",
       "       [1, 1, 4, 3, 3]])"
      ]
     },
     "execution_count": 77,
     "metadata": {},
     "output_type": "execute_result"
    }
   ],
   "source": [
    "structure = np.asarray(\n",
    "[\n",
    "    [5, 0, 0, 0, 0],\n",
    "    [3, 2, 0, 0, 0],\n",
    "    [4, 3, 1, 0, 0],\n",
    "    [2, 4, 3, 4, 0],\n",
    "    [1, 1, 4, 3, 3]    \n",
    "    \n",
    "])\n",
    "is_vine_structure(structure)"
   ]
  },
  {
   "cell_type": "code",
   "execution_count": 103,
   "metadata": {
    "collapsed": true
   },
   "outputs": [],
   "source": [
    "import itertools"
   ]
  },
  {
   "cell_type": "code",
   "execution_count": 108,
   "metadata": {
    "collapsed": false
   },
   "outputs": [
    {
     "data": {
      "text/plain": [
       "[(1.0, 1.0), (1.0, 1.0), (1.0, 1.0), (1.0, 1.0)]"
      ]
     },
     "execution_count": 108,
     "metadata": {},
     "output_type": "execute_result"
    }
   ],
   "source": [
    "list(itertools.product([1., 1.], repeat=2))"
   ]
  },
  {
   "cell_type": "code",
   "execution_count": 87,
   "metadata": {
    "collapsed": false
   },
   "outputs": [
    {
     "data": {
      "text/plain": [
       "array([[3, 1],\n",
       "       [4, 1],\n",
       "       [3, 2]])"
      ]
     },
     "execution_count": 87,
     "metadata": {},
     "output_type": "execute_result"
    }
   ],
   "source": [
    "np.asarray(forced_pairs)"
   ]
  },
  {
   "cell_type": "code",
   "execution_count": 85,
   "metadata": {
    "collapsed": false
   },
   "outputs": [],
   "source": [
    "dim = 4\n",
    "forced_pairs_ids = [1, 3, 2]\n",
    "forced_pairs = [get_pair(dim, pair_id) for pair_id in forced_pairs_ids]\n",
    "\n",
    "# for pair in forced_pairs_ids:"
   ]
  }
 ],
 "metadata": {
  "kernelspec": {
   "display_name": "Python [Root]",
   "language": "python",
   "name": "Python [Root]"
  },
  "language_info": {
   "codemirror_mode": {
    "name": "ipython",
    "version": 2
   },
   "file_extension": ".py",
   "mimetype": "text/x-python",
   "name": "python",
   "nbconvert_exporter": "python",
   "pygments_lexer": "ipython2",
   "version": "2.7.13"
  }
 },
 "nbformat": 4,
 "nbformat_minor": 2
}
