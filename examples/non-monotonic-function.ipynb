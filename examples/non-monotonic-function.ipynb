{
 "cells": [
  {
   "cell_type": "code",
   "execution_count": 1,
   "metadata": {
    "collapsed": true
   },
   "outputs": [],
   "source": [
    "import openturns as ot\n",
    "import numpy as np\n",
    "import seaborn as sns\n",
    "import matplotlib.pyplot as plt\n",
    "%matplotlib inline\n",
    "\n",
    "%load_ext autoreload\n",
    "%autoreload 2\n",
    "\n",
    "random_state = 123\n",
    "np.random.seed(random_state)"
   ]
  },
  {
   "cell_type": "code",
   "execution_count": 2,
   "metadata": {},
   "outputs": [],
   "source": [
    "from dependence.tests.test_functions import func_spec\n",
    "\n",
    "test_func = func_spec\n",
    "dim = 2"
   ]
  },
  {
   "cell_type": "code",
   "execution_count": 3,
   "metadata": {
    "collapsed": true
   },
   "outputs": [],
   "source": [
    "margins = [ot.Uniform(-3, 1.), ot.Uniform(-1, 3.)]\n",
    "dim = len(margins)"
   ]
  },
  {
   "cell_type": "code",
   "execution_count": null,
   "metadata": {
    "collapsed": true
   },
   "outputs": [],
   "source": [
    "from dependence import ConservativeEstimate, quantile_func\n",
    "\n",
    "alpha = 0.05\n",
    "\n",
    "if alpha > 0.5: # Maximizing the quantile\n",
    "    def q_func(x, axis=1):\n",
    "        return - quantile_func(alpha)(x, axis=axis)\n",
    "else: # Minimizing\n",
    "    q_func = quantile_func(alpha)"
   ]
  },
  {
   "cell_type": "code",
   "execution_count": null,
   "metadata": {},
   "outputs": [],
   "source": [
    "from dependence.utils import get_grid_sample, to_copula_params\n",
    "from dependence.dependence_plot import plot_variation, compute_influence\n",
    "K = 12\n",
    "n = int(1E6)\n",
    "pair = [1, 0]\n",
    "\n",
    "copulas = {'Normal': [1, 1],\n",
    "           'Clayton': [3, 23],\n",
    "           'Gumbel': [14, 24],\n",
    "           'Joe': [16, 26]}\n",
    "\n",
    "families = np.zeros((dim, dim))\n",
    "quant_estimate = ConservativeEstimate(model_func=test_func, margins=margins, families=families)\n",
    "kendalls, output_samples = compute_influence(quant_estimate, K, n, copulas, pair=pair)"
   ]
  },
  {
   "cell_type": "code",
   "execution_count": null,
   "metadata": {},
   "outputs": [],
   "source": [
    "ylabel = 'Output quantile at $\\\\alpha=%.2f$' % (alpha)\n",
    "plot_area = 'right'\n",
    "\n",
    "plt_lib = 'matplotlib'\n",
    "plot_variation(output_samples, kendalls, q_func, plot_area, ylabel=ylabel, plt_lib=plt_lib)\n",
    "plt.savefig('./output/non_monotonic_variation_quantile_%s_K%d_n_%d_%s.pdf' % (plt_lib, \n",
    "                                                                              K, n, plot_area))"
   ]
  },
  {
   "cell_type": "code",
   "execution_count": null,
   "metadata": {},
   "outputs": [],
   "source": [
    "plt_lib = 'seaborn'\n",
    "plot_variation(output_samples, kendalls, q_func, plot_area, ylabel=ylabel, plt_lib=plt_lib)\n",
    "plt.savefig('./output/non_monotonic_variation_quantile_%s_K%d_n_%d_%s.pdf' % (plt_lib, \n",
    "                                                                              K, n, plot_area))"
   ]
  },
  {
   "cell_type": "code",
   "execution_count": null,
   "metadata": {
    "collapsed": true
   },
   "outputs": [],
   "source": [
    "plot_area = 'full'\n",
    "\n",
    "plt_lib = 'matplotlib'\n",
    "plot_variation(output_samples, kendalls, q_func, plot_area, ylabel=ylabel, plt_lib=plt_lib)\n",
    "plt.savefig('./output/non_monotonic_variation_quantile_%s_K%d_n_%d_%s.pdf' % (plt_lib, \n",
    "                                                                              K, n, plot_area))"
   ]
  },
  {
   "cell_type": "code",
   "execution_count": null,
   "metadata": {
    "collapsed": true
   },
   "outputs": [],
   "source": [
    "plt_lib = 'seaborn'\n",
    "plot_variation(output_samples, kendalls, q_func, plot_area, ylabel=ylabel, plt_lib=plt_lib)\n",
    "plt.savefig('./output/non_monotonic_variation_quantile_%s_K%d_n_%d_%s.pdf' % (plt_lib, \n",
    "                                                                              K, n, plot_area))"
   ]
  }
 ],
 "metadata": {
  "anaconda-cloud": {},
  "kernelspec": {
   "display_name": "Python 3",
   "language": "python",
   "name": "python3"
  },
  "language_info": {
   "codemirror_mode": {
    "name": "ipython",
    "version": 3
   },
   "file_extension": ".py",
   "mimetype": "text/x-python",
   "name": "python",
   "nbconvert_exporter": "python",
   "pygments_lexer": "ipython3",
   "version": "3.6.1"
  }
 },
 "nbformat": 4,
 "nbformat_minor": 2
}
