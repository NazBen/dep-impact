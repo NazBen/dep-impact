{
 "cells": [
  {
   "cell_type": "markdown",
   "metadata": {},
   "source": [
    "# Grid Search Minimization\n",
    "\n",
    "This notebook illustrate the steps for a grid search minimization of the output quantile."
   ]
  },
  {
   "cell_type": "markdown",
   "metadata": {},
   "source": [
    "#### Libraries"
   ]
  },
  {
   "cell_type": "code",
   "execution_count": 7,
   "metadata": {},
   "outputs": [
    {
     "name": "stdout",
     "output_type": "stream",
     "text": [
      "The autoreload extension is already loaded. To reload it, use:\n",
      "  %reload_ext autoreload\n"
     ]
    }
   ],
   "source": [
    "import openturns as ot\n",
    "import numpy as np\n",
    "import matplotlib.pyplot as plt\n",
    "\n",
    "%matplotlib inline\n",
    "%load_ext autoreload\n",
    "%autoreload 2\n",
    "\n",
    "random_state = 123\n",
    "np.random.seed(random_state)"
   ]
  },
  {
   "cell_type": "markdown",
   "metadata": {},
   "source": [
    "#### Model function\n",
    "This example consider the simple additive example."
   ]
  },
  {
   "cell_type": "code",
   "execution_count": 12,
   "metadata": {
    "collapsed": true
   },
   "outputs": [],
   "source": [
    "from dependence.tests import func_overflow, margins_overflow, var_names_overflow, func_sum\n",
    "\n",
    "test_func = func_sum"
   ]
  },
  {
   "cell_type": "markdown",
   "metadata": {},
   "source": [
    "#### Dimension and margins\n",
    "We first define the problem dimension and the margins"
   ]
  },
  {
   "cell_type": "code",
   "execution_count": 13,
   "metadata": {
    "collapsed": true
   },
   "outputs": [],
   "source": [
    "if test_func == func_overflow:\n",
    "    margins = margins_overflow\n",
    "    dim = len(margins)\n",
    "else:\n",
    "    dim = 2\n",
    "    margins = [ot.Normal()]*dim"
   ]
  },
  {
   "cell_type": "markdown",
   "metadata": {},
   "source": [
    "We chose the coefficients of the variables throught the additive function."
   ]
  },
  {
   "cell_type": "code",
   "execution_count": 15,
   "metadata": {},
   "outputs": [
    {
     "data": {
      "image/png": "[encoded data removed]",
      "text/plain": [
       "<matplotlib.figure.Figure at 0x7fb74c85cf10>"
      ]
     },
     "metadata": {},
     "output_type": "display_data"
    }
   ],
   "source": [
    "if test_func == func_sum:\n",
    "    coeficients = np.logspace(0., 1., dim+1, endpoint=False)[1:]\n",
    "\n",
    "    n_plot = 10000\n",
    "    x = np.asarray(ot.ComposedDistribution(margins).getSample(n_plot))\n",
    "    y = test_func(x, coeficients)\n",
    "\n",
    "    fig, axes = plt.subplots(dim, 1, sharex=True, sharey=True, figsize=(4, 2*dim))\n",
    "    for i in range(dim):\n",
    "        ax = axes[i]\n",
    "        ax.plot(x[:, i], y, '.')\n",
    "        ax.set_xlabel(r'$X_%d$' % (i+1), fontsize=12)\n",
    "        ax.set_ylabel(r'$y$', fontsize=12)\n",
    "    fig.tight_layout()"
   ]
  },
  {
   "cell_type": "markdown",
   "metadata": {},
   "source": [
    "#### Copula families\n",
    "We now consider only Gaussian dependencies for this example"
   ]
  },
  {
   "cell_type": "code",
   "execution_count": 16,
   "metadata": {
    "collapsed": true
   },
   "outputs": [],
   "source": [
    "families = np.zeros((dim, dim), dtype=int)\n",
    "for i in range(1, dim):\n",
    "    for j in range(i):\n",
    "        families[i, j] = 1"
   ]
  },
  {
   "cell_type": "markdown",
   "metadata": {},
   "source": [
    "## Estimations\n",
    "We create an instance of the main class for conservative estimate, and we define a q_func object for the quantile as a quantity of interest"
   ]
  },
  {
   "cell_type": "code",
   "execution_count": 17,
   "metadata": {
    "collapsed": true
   },
   "outputs": [],
   "source": [
    "from dependence import ConservativeEstimate, quantile_func\n",
    "\n",
    "alpha = 0.99\n",
    "\n",
    "if alpha > 0.5: # Maximizing the quantile\n",
    "    def q_func(x, axis=1):\n",
    "        return - quantile_func(alpha)(x, axis=axis)\n",
    "else: # Minimizing\n",
    "    q_func = quantile_func(alpha)\n",
    "\n",
    "quant_estimate = ConservativeEstimate(model_func=test_func, margins=margins, families=families)"
   ]
  },
  {
   "cell_type": "markdown",
   "metadata": {},
   "source": [
    "First, we compute the quantile at independence"
   ]
  },
  {
   "cell_type": "code",
   "execution_count": 18,
   "metadata": {
    "collapsed": true
   },
   "outputs": [],
   "source": [
    "n = 10000\n",
    "indep_result = quant_estimate.independence(n_input_sample=n, q_func=q_func, random_state=random_state)"
   ]
  },
  {
   "cell_type": "code",
   "execution_count": 19,
   "metadata": {},
   "outputs": [
    {
     "name": "stdout",
     "output_type": "stream",
     "text": [
      "Quantile at independence: -3.38 with a C.O.V at 1.4 %\n"
     ]
    }
   ],
   "source": [
    "indep_result.compute_bootstrap(1000)\n",
    "boot_std = indep_result.bootstrap_sample.std()\n",
    "boot_mean = indep_result.bootstrap_sample.mean()\n",
    "print('Quantile at independence: %.2f with a C.O.V at %.1f %%' % (boot_mean, abs(boot_std/boot_mean)*100.))"
   ]
  },
  {
   "cell_type": "markdown",
   "metadata": {},
   "source": [
    "### Grid Search Approach\n",
    "Firstly, we consider a grid search approach in order to compare the perfomance with the iterative algorithm."
   ]
  },
  {
   "cell_type": "code",
   "execution_count": 25,
   "metadata": {
    "collapsed": true
   },
   "outputs": [],
   "source": [
    "K = 100\n",
    "grid_type = 'rand'\n",
    "quant_estimate = ConservativeEstimate(model_func=test_func, margins=margins, families=families)\n",
    "grid_result = quant_estimate.gridsearch_minimize(n_dep_param=K, n_input_sample=n, grid_type=grid_type, \n",
    "                                                 q_func=q_func, random_state=random_state)"
   ]
  },
  {
   "cell_type": "code",
   "execution_count": 26,
   "metadata": {},
   "outputs": [
    {
     "name": "stdout",
     "output_type": "stream",
     "text": [
      "Worst Quantile: -4.70 with a C.O.V at 2.4 %\n",
      "Cost = 1000000\n"
     ]
    }
   ],
   "source": [
    "min_result = grid_result.min_result\n",
    "min_result.compute_bootstrap(1000)\n",
    "boot_std = min_result.bootstrap_sample.std()\n",
    "boot_mean = min_result.bootstrap_sample.mean()\n",
    "print('Worst Quantile: %.2f with a C.O.V at %.1f %%' % (boot_mean, abs(boot_std/boot_mean)*100.))\n",
    "print('Cost = %d' % (K*n))"
   ]
  },
  {
   "cell_type": "code",
   "execution_count": 28,
   "metadata": {},
   "outputs": [
    {
     "data": {
      "image/png": "[encoded data removed]",
      "text/plain": [
       "<matplotlib.figure.Figure at 0x7fb751079310>"
      ]
     },
     "metadata": {},
     "output_type": "display_data"
    }
   ],
   "source": [
    "if dim == 2:\n",
    "    fig, ax = plt.subplots()\n",
    "    ax.plot(grid_result.dep_params, grid_result.quantities, '.')"
   ]
  },
  {
   "cell_type": "code",
   "execution_count": 30,
   "metadata": {},
   "outputs": [
    {
     "ename": "AttributeError",
     "evalue": "'ConservativeEstimate' object has no attribute '_params'",
     "output_type": "error",
     "traceback": [
      "\u001b[0;31m---------------------------------------------------------------------------\u001b[0m",
      "\u001b[0;31mAttributeError\u001b[0m                            Traceback (most recent call last)",
      "\u001b[0;32m<ipython-input-30-5ce7873afaf3>\u001b[0m in \u001b[0;36m<module>\u001b[0;34m()\u001b[0m\n\u001b[0;32m----> 1\u001b[0;31m \u001b[0mquant_estimate\u001b[0m\u001b[0;34m.\u001b[0m\u001b[0mparams_\u001b[0m\u001b[0;34m\u001b[0m\u001b[0m\n\u001b[0m",
      "\u001b[0;32m/local00/home/D58174/git-repo/impact-of-dependence/dependence/dependence.pyc\u001b[0m in \u001b[0;36mparams_\u001b[0;34m(self)\u001b[0m\n\u001b[1;32m    781\u001b[0m     \u001b[0;34m@\u001b[0m\u001b[0mproperty\u001b[0m\u001b[0;34m\u001b[0m\u001b[0m\n\u001b[1;32m    782\u001b[0m     \u001b[0;32mdef\u001b[0m \u001b[0mparams_\u001b[0m\u001b[0;34m(\u001b[0m\u001b[0mself\u001b[0m\u001b[0;34m)\u001b[0m\u001b[0;34m:\u001b[0m\u001b[0;34m\u001b[0m\u001b[0m\n\u001b[0;32m--> 783\u001b[0;31m         \u001b[0;32mreturn\u001b[0m \u001b[0mself\u001b[0m\u001b[0;34m.\u001b[0m\u001b[0m_params\u001b[0m\u001b[0;34m\u001b[0m\u001b[0m\n\u001b[0m\u001b[1;32m    784\u001b[0m \u001b[0;34m\u001b[0m\u001b[0m\n\u001b[1;32m    785\u001b[0m     \u001b[0;34m@\u001b[0m\u001b[0mproperty\u001b[0m\u001b[0;34m\u001b[0m\u001b[0m\n",
      "\u001b[0;31mAttributeError\u001b[0m: 'ConservativeEstimate' object has no attribute '_params'"
     ]
    }
   ],
   "source": [
    "quant_estimate.params_"
   ]
  },
  {
   "cell_type": "code",
   "execution_count": 29,
   "metadata": {},
   "outputs": [
    {
     "data": {
      "text/plain": [
       "<dependence.dependence.DependenceResult at 0x7fb74c6abe50>"
      ]
     },
     "execution_count": 29,
     "metadata": {},
     "output_type": "execute_result"
    }
   ],
   "source": [
    "a = grid_result[0]\n",
    "a"
   ]
  }
 ],
 "metadata": {
  "anaconda-cloud": {},
  "kernelspec": {
   "display_name": "Python [Root]",
   "language": "python",
   "name": "Python [Root]"
  },
  "language_info": {
   "codemirror_mode": {
    "name": "ipython",
    "version": 2
   },
   "file_extension": ".py",
   "mimetype": "text/x-python",
   "name": "python",
   "nbconvert_exporter": "python",
   "pygments_lexer": "ipython2",
   "version": "2.7.13"
  }
 },
 "nbformat": 4,
 "nbformat_minor": 2
}
