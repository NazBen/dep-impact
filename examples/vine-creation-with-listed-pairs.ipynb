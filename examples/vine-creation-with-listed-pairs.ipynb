{
 "cells": [
  {
   "cell_type": "code",
   "execution_count": 1,
   "metadata": {
    "collapsed": false
   },
   "outputs": [],
   "source": [
    "import numpy as np\n",
    "from dependence.iterative_vines import get_pairs_by_levels, get_possible_structures, check_node_loop, fill_structure\n",
    "%load_ext autoreload\n",
    "%autoreload 2"
   ]
  },
  {
   "cell_type": "code",
   "execution_count": 17,
   "metadata": {
    "collapsed": false
   },
   "outputs": [
    {
     "name": "stdout",
     "output_type": "stream",
     "text": [
      "Vine dimension: 8\n",
      "Conditioning information:\n",
      "\t7 pairs with 0 conditionned variables\n",
      "Pairs: [[7, 5], [5, 1], [6, 4], [8, 6], [6, 1], [3, 2], [5, 2]]\n",
      "\t6 pairs with 1 conditionned variables\n",
      "Pairs: []\n",
      "\t5 pairs with 2 conditionned variables\n",
      "Pairs: []\n",
      "\t4 pairs with 3 conditionned variables\n",
      "Pairs: []\n",
      "\t3 pairs with 4 conditionned variables\n",
      "Pairs: []\n",
      "\t2 pairs with 5 conditionned variables\n",
      "Pairs: []\n",
      "\t1 pairs with 6 conditionned variables\n",
      "Pairs: []\n",
      "Concerned pairs: [[7, 5], [5, 1], [6, 4], [8, 6], [6, 1], [3, 2], [5, 2]]\n",
      "Remaining pairs: [[2, 1], [3, 1], [4, 1], [4, 2], [4, 3], [5, 3], [5, 4], [6, 2], [6, 3], [6, 5], [7, 1], [7, 2], [7, 3], [7, 4], [7, 6], [8, 1], [8, 2], [8, 3], [8, 4], [8, 5], [8, 7]]\n"
     ]
    }
   ],
   "source": [
    "dim = 8\n",
    "n_forced_pairs = 7\n",
    "n_pairs = dim*(dim-1)/2\n",
    "forced_pairs_ids = np.random.choice(range(n_pairs), n_forced_pairs, replace=False)\n",
    "# forced_pairs_ids = [4, 5, 2, 3]\n",
    "pairs_by_levels = get_pairs_by_levels(dim, forced_pairs_ids)"
   ]
  },
  {
   "cell_type": "code",
   "execution_count": 18,
   "metadata": {
    "collapsed": false,
    "scrolled": true
   },
   "outputs": [
    {
     "name": "stdout",
     "output_type": "stream",
     "text": [
      "True\n",
      "[[7, 5], [5, 1], [6, 4], [8, 6], [6, 1], [3, 2], [5, 2]]\n"
     ]
    }
   ],
   "source": [
    "for pairs_level in pairs_by_levels:\n",
    "    print check_node_loop(pairs_level)\n",
    "    print pairs_level"
   ]
  },
  {
   "cell_type": "code",
   "execution_count": 20,
   "metadata": {
    "collapsed": false
   },
   "outputs": [
    {
     "name": "stdout",
     "output_type": "stream",
     "text": [
      "good:\n",
      "[[7 0 0 0 0 0 0 0]\n",
      " [1 3 0 0 0 0 0 0]\n",
      " [2 1 2 0 0 0 0 0]\n",
      " [3 4 1 5 0 0 0 0]\n",
      " [4 5 4 4 8 0 0 0]\n",
      " [6 6 6 6 1 1 0 0]\n",
      " [8 8 8 8 4 4 6 0]\n",
      " [5 2 5 1 6 6 4 4]]\n",
      "good:\n",
      "[[7 0 0 0 0 0 0 0]\n",
      " [1 3 0 0 0 0 0 0]\n",
      " [2 1 2 0 0 0 0 0]\n",
      " [3 4 1 5 0 0 0 0]\n",
      " [4 5 4 4 4 0 0 0]\n",
      " [6 6 6 6 1 8 0 0]\n",
      " [8 8 8 8 8 1 6 0]\n",
      " [5 2 5 1 6 6 1 1]]\n",
      "good:\n",
      "[[7 0 0 0 0 0 0 0]\n",
      " [1 3 0 0 0 0 0 0]\n",
      " [2 1 2 0 0 0 0 0]\n",
      " [3 4 1 5 0 0 0 0]\n",
      " [4 5 4 4 4 0 0 0]\n",
      " [6 6 6 6 1 8 0 0]\n",
      " [8 8 8 8 8 1 1 0]\n",
      " [5 2 5 1 6 6 6 6]]\n",
      "good:\n",
      "[[7 0 0 0 0 0 0 0]\n",
      " [1 3 0 0 0 0 0 0]\n",
      " [2 1 2 0 0 0 0 0]\n",
      " [3 4 1 5 0 0 0 0]\n",
      " [4 5 4 4 4 0 0 0]\n",
      " [6 6 6 6 1 1 0 0]\n",
      " [8 8 8 8 8 8 6 0]\n",
      " [5 2 5 1 6 6 8 8]]\n",
      "good:\n",
      "[[7 0 0 0 0 0 0 0]\n",
      " [1 4 0 0 0 0 0 0]\n",
      " [2 1 8 0 0 0 0 0]\n",
      " [3 2 1 6 0 0 0 0]\n",
      " [4 3 2 2 1 0 0 0]\n",
      " [6 5 3 3 2 3 0 0]\n",
      " [8 8 5 5 3 5 5 0]\n",
      " [5 6 6 1 5 2 2 2]]\n",
      "good:\n",
      "[[7 0 0 0 0 0 0 0]\n",
      " [1 4 0 0 0 0 0 0]\n",
      " [2 1 8 0 0 0 0 0]\n",
      " [3 2 1 6 0 0 0 0]\n",
      " [4 3 2 2 1 0 0 0]\n",
      " [6 5 3 3 2 3 0 0]\n",
      " [8 8 5 5 3 5 2 0]\n",
      " [5 6 6 1 5 2 5 5]]\n",
      "good:\n",
      "[[7 0 0 0 0 0 0 0]\n",
      " [1 4 0 0 0 0 0 0]\n",
      " [2 1 8 0 0 0 0 0]\n",
      " [3 2 1 6 0 0 0 0]\n",
      " [4 3 2 2 1 0 0 0]\n",
      " [6 5 3 3 2 5 0 0]\n",
      " [8 8 5 5 3 3 2 0]\n",
      " [5 6 6 1 5 2 3 3]]\n",
      "good:\n",
      "[[4 0 0 0 0 0 0 0]\n",
      " [1 8 0 0 0 0 0 0]\n",
      " [2 1 6 0 0 0 0 0]\n",
      " [3 2 2 1 0 0 0 0]\n",
      " [5 3 3 2 3 0 0 0]\n",
      " [7 5 5 3 5 2 0 0]\n",
      " [8 7 7 7 7 7 5 0]\n",
      " [6 6 1 5 2 5 7 7]]\n"
     ]
    }
   ],
   "source": [
    "good_structures = get_possible_structures(dim, pairs_by_levels, verbose=False)"
   ]
  },
  {
   "cell_type": "code",
   "execution_count": null,
   "metadata": {
    "collapsed": true
   },
   "outputs": [],
   "source": []
  }
 ],
 "metadata": {
  "anaconda-cloud": {},
  "kernelspec": {
   "display_name": "Python [conda root]",
   "language": "python",
   "name": "conda-root-py"
  },
  "language_info": {
   "codemirror_mode": {
    "name": "ipython",
    "version": 2
   },
   "file_extension": ".py",
   "mimetype": "text/x-python",
   "name": "python",
   "nbconvert_exporter": "python",
   "pygments_lexer": "ipython2",
   "version": "2.7.13"
  }
 },
 "nbformat": 4,
 "nbformat_minor": 2
}
