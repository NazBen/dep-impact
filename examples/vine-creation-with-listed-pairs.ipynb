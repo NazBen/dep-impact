{
 "cells": [
  {
   "cell_type": "code",
   "execution_count": 1,
   "metadata": {
    "collapsed": true
   },
   "outputs": [],
   "source": [
    "import numpy as np\n",
    "from dependence.utils import get_pairs_by_levels, get_possible_structures, fill_structure, check_node_loop\n",
    "%load_ext autoreload\n",
    "%autoreload 2"
   ]
  },
  {
   "cell_type": "code",
   "execution_count": 13,
   "metadata": {},
   "outputs": [
    {
     "data": {
      "text/plain": [
       "{1, 2, 3, 5}"
      ]
     },
     "execution_count": 13,
     "metadata": {},
     "output_type": "execute_result"
    }
   ],
   "source": [
    "tt = [1, 2, 1, 3, 5]\n",
    "set(tt)"
   ]
  },
  {
   "cell_type": "code",
   "execution_count": 21,
   "metadata": {},
   "outputs": [
    {
     "data": {
      "text/plain": [
       "{(3, 1)}"
      ]
     },
     "execution_count": 21,
     "metadata": {},
     "output_type": "execute_result"
    }
   ],
   "source": [
    "a = set([(2, 1), (3, 1)])\n",
    "b = set([(2, 1)])\n",
    "a - b"
   ]
  },
  {
   "cell_type": "code",
   "execution_count": 26,
   "metadata": {},
   "outputs": [
    {
     "data": {
      "text/plain": [
       "[(0.0, 0.0), (0.0, 0.0), (0.0, 0.0), (0.0, 0.0), (0.0, 0.0)]"
      ]
     },
     "execution_count": 26,
     "metadata": {},
     "output_type": "execute_result"
    }
   ],
   "source": [
    "arr = np.zeros((5, 2))\n",
    "list(map(tuple, arr))"
   ]
  },
  {
   "cell_type": "code",
   "execution_count": null,
   "metadata": {
    "collapsed": true
   },
   "outputs": [],
   "source": [
    "dim = 5\n",
    "n_forced_pairs = 2\n",
    "n_pairs = int(dim*(dim-1)/2)\n",
    "n_forced_pairs = min(n_forced_pairs, n_pairs)\n",
    "forced_pairs_ids = np.random.choice(range(n_pairs), n_forced_pairs, replace=False)\n",
    "forced_pairs_ids = [4, 5, 2, 3]"
   ]
  },
  {
   "cell_type": "code",
   "execution_count": 8,
   "metadata": {},
   "outputs": [
    {
     "name": "stdout",
     "output_type": "stream",
     "text": [
      "Vine dimension: 5\n",
      "Conditioning information:\n",
      "\t4 pairs with 0 conditionned variables\n",
      "Pairs: [(4, 2), (4, 3), (3, 2), (4, 1)]\n",
      "\t3 pairs with 1 conditionned variables\n",
      "Pairs: []\n",
      "\t2 pairs with 2 conditionned variables\n",
      "Pairs: []\n",
      "\t1 pairs with 3 conditionned variables\n",
      "Pairs: []\n",
      "Concerned pairs: [(4, 2), (4, 3), (3, 2), (4, 1)]\n",
      "Remaining pairs: [(2, 1), (3, 1), (5, 1), (5, 2), (5, 3), (5, 4)]\n"
     ]
    },
    {
     "data": {
      "text/plain": [
       "[[(4, 2), (3, 2), (4, 1)], [(4, 3)]]"
      ]
     },
     "execution_count": 8,
     "metadata": {},
     "output_type": "execute_result"
    }
   ],
   "source": [
    "pairs_by_levels = get_pairs_by_levels(dim, forced_pairs_ids, verbose=True)\n",
    "pairs_by_levels"
   ]
  },
  {
   "cell_type": "code",
   "execution_count": 10,
   "metadata": {
    "collapsed": true
   },
   "outputs": [],
   "source": [
    "from dependence.utils import add_pairs"
   ]
  },
  {
   "cell_type": "code",
   "execution_count": 11,
   "metadata": {},
   "outputs": [
    {
     "name": "stdout",
     "output_type": "stream",
     "text": [
      "Did not succeded to fill the structure with the given pairs\n",
      "[[ 0.  0.  0.  0.  0.]\n",
      " [ 0.  4.  0.  0.  0.]\n",
      " [ 0.  0.  3.  0.  0.]\n",
      " [ 0.  0.  0.  4.  0.]\n",
      " [ 0.  1.  2.  2.  0.]]\n",
      "Did not succeded to fill the structure with the given pairs\n",
      "[[ 0.  0.  0.  0.  0.]\n",
      " [ 0.  4.  0.  0.  0.]\n",
      " [ 0.  0.  3.  0.  0.]\n",
      " [ 0.  0.  0.  4.  0.]\n",
      " [ 0.  1.  2.  2.  0.]]\n"
     ]
    }
   ],
   "source": [
    "structure = np.zeros((dim, dim))\n",
    "for i, pairs in enumerate(pairs_by_levels):\n",
    "    structure = add_pairs(structure, pairs, i, verbose=True)\n",
    "    print(structure)"
   ]
  },
  {
   "cell_type": "code",
   "execution_count": 14,
   "metadata": {
    "scrolled": true
   },
   "outputs": [
    {
     "name": "stdout",
     "output_type": "stream",
     "text": [
      "True\n",
      "[[4, 2], [3, 2], [4, 1]]\n",
      "True\n",
      "[[4, 3]]\n"
     ]
    }
   ],
   "source": [
    "for pairs_level in pairs_by_levels:\n",
    "    print(check_node_loop(pairs_level))\n",
    "    print(pairs_level)"
   ]
  },
  {
   "cell_type": "code",
   "execution_count": 45,
   "metadata": {
    "collapsed": true
   },
   "outputs": [],
   "source": [
    "good_structures = get_possible_structures(dim, pairs_by_levels, verbose=False)"
   ]
  },
  {
   "cell_type": "code",
   "execution_count": 46,
   "metadata": {},
   "outputs": [
    {
     "name": "stdout",
     "output_type": "stream",
     "text": [
      "[[1 0 0 0 0]\n",
      " [4 5 0 0 0]\n",
      " [2 4 3 0 0]\n",
      " [3 2 4 4 0]\n",
      " [5 3 2 2 2]]\n",
      "[[1 0 0 0 0]\n",
      " [4 5 0 0 0]\n",
      " [2 4 3 0 0]\n",
      " [3 2 4 2 0]\n",
      " [5 3 2 4 4]]\n",
      "[[4 0 0 0 0]\n",
      " [1 2 0 0 0]\n",
      " [5 1 1 0 0]\n",
      " [3 5 3 5 0]\n",
      " [2 3 5 3 3]]\n",
      "[[4 0 0 0 0]\n",
      " [1 2 0 0 0]\n",
      " [5 1 3 0 0]\n",
      " [3 5 1 5 0]\n",
      " [2 3 5 1 1]]\n",
      "[[4 0 0 0 0]\n",
      " [1 2 0 0 0]\n",
      " [5 1 3 0 0]\n",
      " [3 5 1 1 0]\n",
      " [2 3 5 5 5]]\n"
     ]
    }
   ],
   "source": [
    "for struct in good_structures:\n",
    "    print struct"
   ]
  },
  {
   "cell_type": "code",
   "execution_count": null,
   "metadata": {
    "collapsed": true
   },
   "outputs": [],
   "source": []
  },
  {
   "cell_type": "code",
   "execution_count": null,
   "metadata": {
    "collapsed": true
   },
   "outputs": [],
   "source": []
  }
 ],
 "metadata": {
  "anaconda-cloud": {},
  "kernelspec": {
   "display_name": "Python [Root]",
   "language": "python",
   "name": "Python [Root]"
  },
  "language_info": {
   "codemirror_mode": {
    "name": "ipython",
    "version": 2
   },
   "file_extension": ".py",
   "mimetype": "text/x-python",
   "name": "python",
   "nbconvert_exporter": "python",
   "pygments_lexer": "ipython2",
   "version": "2.7.13"
  }
 },
 "nbformat": 4,
 "nbformat_minor": 2
}
