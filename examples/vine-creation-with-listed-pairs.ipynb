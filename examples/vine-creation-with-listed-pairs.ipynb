{
 "cells": [
  {
   "cell_type": "code",
   "execution_count": 220,
   "metadata": {},
   "outputs": [
    {
     "name": "stdout",
     "output_type": "stream",
     "text": [
      "The autoreload extension is already loaded. To reload it, use:\n",
      "  %reload_ext autoreload\n"
     ]
    }
   ],
   "source": [
    "import numpy as np\n",
    "from dependence.utils import get_pairs_by_levels, get_possible_structures, fill_structure, check_node_loop\n",
    "%load_ext autoreload\n",
    "%autoreload 2"
   ]
  },
  {
   "cell_type": "code",
   "execution_count": 364,
   "metadata": {
    "collapsed": true
   },
   "outputs": [],
   "source": [
    "np.random.seed()\n",
    "dim = 5\n",
    "n_pairs = int(dim*(dim-1)/2)\n",
    "n_forced_pairs = n_pairs-1\n",
    "n_forced_pairs = min(n_forced_pairs, n_pairs)\n",
    "forced_pairs_ids = np.random.choice(range(n_pairs), n_forced_pairs, replace=False)\n",
    "forced_pairs_ids = [4, 5, 2, 0, 3]\n",
    "# forced_pairs_ids = [11, 12,  8,  4,  2,  5,  7, 14, 13,  1,  3,  6,  0, 10]\n",
    "# forced_pairs_ids = [13,  3,  9, 12,  2, 10, 14,  6,  4, 11,  1,  5,  8,  7]\n",
    "# forced_pairs_ids = [ 9, 11,  8,  5,  1,  6,  3,  2, 12, 14, 13,  4,  7, 10]\n",
    "# forced_pairs_ids = [14,  8, 27, 23, 20, 10,  1, 19,  7, 11, 12, 13, 25, 15, 18,  4,  2,\n",
    "#         6, 22, 16,  5, 21, 24, 26, 17,  9,  3]"
   ]
  },
  {
   "cell_type": "code",
   "execution_count": 416,
   "metadata": {
    "scrolled": true
   },
   "outputs": [
    {
     "name": "stdout",
     "output_type": "stream",
     "text": [
      "Vine dimension: 5\n",
      "Conditioning information:\n",
      "\t4 pairs with 0 conditionned variables\n",
      "Pairs: [(4, 2), (4, 3), (3, 2), (2, 1)]\n",
      "\t3 pairs with 1 conditionned variables\n",
      "Pairs: [(4, 1)]\n",
      "\t2 pairs with 2 conditionned variables\n",
      "Pairs: []\n",
      "\t1 pairs with 3 conditionned variables\n",
      "Pairs: []\n",
      "Concerned pairs: [(4, 2), (4, 3), (3, 2), (2, 1), (4, 1)]\n",
      "Remaining pairs: [(3, 1), (5, 1), (5, 2), (5, 3), (5, 4)]\n",
      "('Level:', 0)\n",
      "('Before:', [(4, 2), (4, 3), (3, 2), (2, 1)])\n",
      "('After:', [(4, 2), (4, 3), (3, 2), (4, 1)])\n",
      "('n_moving:', 1)\n",
      "('idx:', 0)\n",
      "('move_up:', 1)\n",
      "('Is OK?', False)\n",
      "('Level:', 0)\n",
      "('Before:', [(4, 2), (4, 3), (3, 2), (2, 1)])\n",
      "('After:', [(4, 2), (4, 3), (3, 2)])\n",
      "('n_moving:', 1)\n",
      "('idx:', 0)\n",
      "('move_up:', 0)\n",
      "('Is OK?', False)\n",
      "('Level:', 0)\n",
      "('Before:', [(4, 2), (4, 3), (3, 2), (2, 1)])\n",
      "('After:', [(4, 2), (4, 3), (2, 1)])\n",
      "('n_moving:', 1)\n",
      "('idx:', 1)\n",
      "('move_up:', 0)\n",
      "('Is OK?', True)\n",
      "('Level:', 1)\n",
      "('Before:', [(3, 2), (4, 1)])\n"
     ]
    },
    {
     "data": {
      "text/plain": [
       "[[(4, 2), (4, 3), (2, 1)], [(3, 2), (4, 1)]]"
      ]
     },
     "execution_count": 416,
     "metadata": {},
     "output_type": "execute_result"
    }
   ],
   "source": [
    "pairs_by_levels = get_pairs_by_levels(dim, forced_pairs_ids, verbose=True)\n",
    "pairs_by_levels"
   ]
  },
  {
   "cell_type": "code",
   "execution_count": 417,
   "metadata": {},
   "outputs": [
    {
     "name": "stdout",
     "output_type": "stream",
     "text": [
      "[[3 0 0 0 0]\n",
      " [5 4 0 0 0]\n",
      " [1 5 2 0 0]\n",
      " [2 1 5 1 0]\n",
      " [4 2 1 5 5]]\n",
      "[[3 0 0 0 0]\n",
      " [5 4 0 0 0]\n",
      " [1 5 1 0 0]\n",
      " [2 1 5 2 0]\n",
      " [4 2 2 5 5]]\n",
      "[[1 0 0 0 0]\n",
      " [5 2 0 0 0]\n",
      " [3 5 4 0 0]\n",
      " [4 3 5 3 0]\n",
      " [2 4 3 5 5]]\n",
      "[[1 0 0 0 0]\n",
      " [5 2 0 0 0]\n",
      " [3 5 3 0 0]\n",
      " [4 3 5 4 0]\n",
      " [2 4 4 5 5]]\n"
     ]
    }
   ],
   "source": [
    "good_structures = get_possible_structures(dim, pairs_by_levels, verbose=False)\n",
    "for struct in good_structures:\n",
    "    print struct"
   ]
  },
  {
   "cell_type": "code",
   "execution_count": 5,
   "metadata": {},
   "outputs": [
    {
     "name": "stdout",
     "output_type": "stream",
     "text": [
      "Did not succeded to fill the structure with the given pairs\n",
      "[[ 0.  0.  0.  0.  0.]\n",
      " [ 0.  2.  0.  0.  0.]\n",
      " [ 0.  0.  4.  0.  0.]\n",
      " [ 0.  0.  0.  4.  0.]\n",
      " [ 0.  1.  3.  2.  0.]]\n",
      "Did not succeded to fill the structure with the given pairs\n",
      "[[ 0.  0.  0.  0.  0.]\n",
      " [ 0.  2.  0.  0.  0.]\n",
      " [ 0.  0.  4.  0.  0.]\n",
      " [ 0.  0.  0.  4.  0.]\n",
      " [ 0.  1.  3.  2.  0.]]\n"
     ]
    }
   ],
   "source": [
    "from dependence.utils import add_pairs\n",
    "structure = np.zeros((dim, dim))\n",
    "for i, pairs in enumerate(pairs_by_levels):\n",
    "    structure = add_pairs(structure, pairs, i, verbose=True)\n",
    "    print(structure)"
   ]
  },
  {
   "cell_type": "code",
   "execution_count": 14,
   "metadata": {
    "scrolled": true
   },
   "outputs": [
    {
     "name": "stdout",
     "output_type": "stream",
     "text": [
      "True\n",
      "[[4, 2], [3, 2], [4, 1]]\n",
      "True\n",
      "[[4, 3]]\n"
     ]
    }
   ],
   "source": [
    "for pairs_level in pairs_by_levels:\n",
    "    print(check_node_loop(pairs_level))\n",
    "    print(pairs_level)"
   ]
  },
  {
   "cell_type": "code",
   "execution_count": null,
   "metadata": {
    "collapsed": true
   },
   "outputs": [],
   "source": []
  },
  {
   "cell_type": "code",
   "execution_count": null,
   "metadata": {
    "collapsed": true
   },
   "outputs": [],
   "source": []
  }
 ],
 "metadata": {
  "anaconda-cloud": {},
  "kernelspec": {
   "display_name": "Python [Root]",
   "language": "python",
   "name": "Python [Root]"
  },
  "language_info": {
   "codemirror_mode": {
    "name": "ipython",
    "version": 2
   },
   "file_extension": ".py",
   "mimetype": "text/x-python",
   "name": "python",
   "nbconvert_exporter": "python",
   "pygments_lexer": "ipython2",
   "version": "2.7.13"
  }
 },
 "nbformat": 4,
 "nbformat_minor": 2
}
