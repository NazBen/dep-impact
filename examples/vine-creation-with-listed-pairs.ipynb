{
 "cells": [
  {
   "cell_type": "code",
   "execution_count": 1,
   "metadata": {
    "collapsed": false
   },
   "outputs": [],
   "source": [
    "import numpy as np\n",
    "from dependence.iterative_vines import get_pairs_by_levels, get_possible_structures, check_node_loop, fill_structure\n",
    "%load_ext autoreload\n",
    "%autoreload 2"
   ]
  },
  {
   "cell_type": "code",
   "execution_count": 105,
   "metadata": {
    "collapsed": false
   },
   "outputs": [],
   "source": [
    "dim = 4\n",
    "n_forced_pairs = 3\n",
    "n_pairs = dim*(dim-1)/2\n",
    "forced_pairs_ids = np.random.choice(range(n_pairs), n_forced_pairs, replace=False)\n",
    "# forced_pairs_ids = [4, 5, 2, 3]\n",
    "pairs_by_levels = get_pairs_by_levels(dim, forced_pairs_ids)"
   ]
  },
  {
   "cell_type": "code",
   "execution_count": 106,
   "metadata": {
    "collapsed": false,
    "scrolled": true
   },
   "outputs": [
    {
     "name": "stdout",
     "output_type": "stream",
     "text": [
      "True\n",
      "[[3, 2], [4, 1], [4, 3]]\n"
     ]
    }
   ],
   "source": [
    "for pairs_level in pairs_by_levels:\n",
    "    print check_node_loop(pairs_level)\n",
    "    print pairs_level"
   ]
  },
  {
   "cell_type": "code",
   "execution_count": 108,
   "metadata": {
    "collapsed": false
   },
   "outputs": [
    {
     "name": "stdout",
     "output_type": "stream",
     "text": [
      "[[1 0 0 0]\n",
      " [0 4 0 0]\n",
      " [0 0 3 0]\n",
      " [4 3 2 2]]\n",
      "[[2 0 0 0]\n",
      " [0 3 0 0]\n",
      " [0 0 4 0]\n",
      " [3 4 1 1]]\n",
      "[[2 0 0 0]\n",
      " [0 1 0 0]\n",
      " [0 0 4 0]\n",
      " [3 4 3 3]]\n",
      "[[2 0 0 0]\n",
      " [0 1 0 0]\n",
      " [0 0 3 0]\n",
      " [3 4 4 4]]\n"
     ]
    }
   ],
   "source": [
    "good_structures = get_possible_structures(dim, pairs_by_levels, verbose=False)"
   ]
  },
  {
   "cell_type": "code",
   "execution_count": 109,
   "metadata": {
    "collapsed": false
   },
   "outputs": [
    {
     "name": "stdout",
     "output_type": "stream",
     "text": [
      "[[1 0 0 0]\n",
      " [2 4 0 0]\n",
      " [3 2 3 0]\n",
      " [4 3 2 2]]\n",
      "[[2 0 0 0]\n",
      " [1 3 0 0]\n",
      " [4 1 4 0]\n",
      " [3 4 1 1]]\n",
      "[[2 0 0 0]\n",
      " [1 1 0 0]\n",
      " [4 3 4 0]\n",
      " [3 4 3 3]]\n",
      "[[2 0 0 0]\n",
      " [1 1 0 0]\n",
      " [4 3 3 0]\n",
      " [3 4 4 4]]\n"
     ]
    }
   ],
   "source": [
    "for struct in good_structures:\n",
    "    print struct"
   ]
  },
  {
   "cell_type": "code",
   "execution_count": null,
   "metadata": {
    "collapsed": true
   },
   "outputs": [],
   "source": []
  }
 ],
 "metadata": {
  "anaconda-cloud": {},
  "kernelspec": {
   "display_name": "Python [Root]",
   "language": "python",
   "name": "Python [Root]"
  },
  "language_info": {
   "codemirror_mode": {
    "name": "ipython",
    "version": 2
   },
   "file_extension": ".py",
   "mimetype": "text/x-python",
   "name": "python",
   "nbconvert_exporter": "python",
   "pygments_lexer": "ipython2",
   "version": "2.7.13"
  }
 },
 "nbformat": 4,
 "nbformat_minor": 2
}
