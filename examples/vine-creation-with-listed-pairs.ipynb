{
 "cells": [
  {
   "cell_type": "code",
   "execution_count": 1,
   "metadata": {
    "collapsed": false
   },
   "outputs": [],
   "source": [
    "import numpy as np\n",
    "from dependence.iterative_vines import get_pairs_by_levels, get_possible_structures, check_node_loop, fill_structure\n",
    "%load_ext autoreload\n",
    "%autoreload 2"
   ]
  },
  {
   "cell_type": "code",
   "execution_count": 14,
   "metadata": {
    "collapsed": false
   },
   "outputs": [],
   "source": [
    "dim = 5\n",
    "n_forced_pairs = 3\n",
    "n_pairs = dim*(dim-1)/2\n",
    "forced_pairs_ids = np.random.choice(range(n_pairs), n_forced_pairs, replace=False)\n",
    "forced_pairs_ids = [4, 5, 2, 3]\n",
    "pairs_by_levels = get_pairs_by_levels(dim, forced_pairs_ids)"
   ]
  },
  {
   "cell_type": "code",
   "execution_count": 15,
   "metadata": {
    "collapsed": false,
    "scrolled": true
   },
   "outputs": [
    {
     "name": "stdout",
     "output_type": "stream",
     "text": [
      "True\n",
      "[[4, 2], [3, 2], [4, 1]]\n",
      "True\n",
      "[[4, 3]]\n"
     ]
    }
   ],
   "source": [
    "for pairs_level in pairs_by_levels:\n",
    "    print check_node_loop(pairs_level)\n",
    "    print pairs_level"
   ]
  },
  {
   "cell_type": "code",
   "execution_count": 16,
   "metadata": {
    "collapsed": false
   },
   "outputs": [],
   "source": [
    "good_structures = get_possible_structures(dim, pairs_by_levels, verbose=False)"
   ]
  },
  {
   "cell_type": "code",
   "execution_count": 17,
   "metadata": {
    "collapsed": false
   },
   "outputs": [
    {
     "name": "stdout",
     "output_type": "stream",
     "text": [
      "[[1 0 0 0 0]\n",
      " [5 4 0 0 0]\n",
      " [3 5 3 0 0]\n",
      " [2 3 5 2 0]\n",
      " [4 2 2 5 5]]\n",
      "[[1 0 0 0 0]\n",
      " [5 4 0 0 0]\n",
      " [3 5 2 0 0]\n",
      " [2 3 5 3 0]\n",
      " [4 2 3 5 5]]\n",
      "[[3 0 0 0 0]\n",
      " [5 2 0 0 0]\n",
      " [1 5 4 0 0]\n",
      " [4 1 5 1 0]\n",
      " [2 4 1 5 5]]\n",
      "[[3 0 0 0 0]\n",
      " [5 2 0 0 0]\n",
      " [1 5 1 0 0]\n",
      " [4 1 5 4 0]\n",
      " [2 4 4 5 5]]\n"
     ]
    }
   ],
   "source": [
    "for struct in good_structures:\n",
    "    print struct"
   ]
  },
  {
   "cell_type": "code",
   "execution_count": null,
   "metadata": {
    "collapsed": true
   },
   "outputs": [],
   "source": []
  },
  {
   "cell_type": "code",
   "execution_count": null,
   "metadata": {
    "collapsed": true
   },
   "outputs": [],
   "source": []
  }
 ],
 "metadata": {
  "anaconda-cloud": {},
  "kernelspec": {
   "display_name": "Python [default]",
   "language": "python",
   "name": "python2"
  },
  "language_info": {
   "codemirror_mode": {
    "name": "ipython",
    "version": 2
   },
   "file_extension": ".py",
   "mimetype": "text/x-python",
   "name": "python",
   "nbconvert_exporter": "python",
   "pygments_lexer": "ipython2",
   "version": "2.7.13"
  }
 },
 "nbformat": 4,
 "nbformat_minor": 2
}
