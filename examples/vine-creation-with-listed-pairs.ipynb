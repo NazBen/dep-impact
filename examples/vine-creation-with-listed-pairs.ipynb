{
 "cells": [
  {
   "cell_type": "code",
   "execution_count": 12,
   "metadata": {},
   "outputs": [
    {
     "name": "stdout",
     "output_type": "stream",
     "text": [
      "The autoreload extension is already loaded. To reload it, use:\n",
      "  %reload_ext autoreload\n"
     ]
    }
   ],
   "source": [
    "import numpy as np\n",
    "from dependence.utils import get_pairs_by_levels, get_possible_structures, fill_structure, check_node_loop\n",
    "%load_ext autoreload\n",
    "%autoreload 2"
   ]
  },
  {
   "cell_type": "code",
   "execution_count": 15,
   "metadata": {},
   "outputs": [
    {
     "data": {
      "text/plain": [
       "[[[4, 2], [3, 2], [4, 1]], [[4, 3]]]"
      ]
     },
     "execution_count": 15,
     "metadata": {},
     "output_type": "execute_result"
    }
   ],
   "source": [
    "dim = 5\n",
    "n_forced_pairs = 2\n",
    "n_pairs = int(dim*(dim-1)/2)\n",
    "n_forced_pairs = min(n_forced_pairs, n_pairs)\n",
    "forced_pairs_ids = np.random.choice(range(n_pairs), n_forced_pairs, replace=False)\n",
    "forced_pairs_ids = [4, 5, 2, 3]\n",
    "pairs_by_levels = get_pairs_by_levels(dim, forced_pairs_ids)\n",
    "pairs_by_levels"
   ]
  },
  {
   "cell_type": "code",
   "execution_count": 17,
   "metadata": {
    "collapsed": true
   },
   "outputs": [],
   "source": [
    "from dependence.utils import add_pairs"
   ]
  },
  {
   "cell_type": "code",
   "execution_count": 28,
   "metadata": {},
   "outputs": [
    {
     "name": "stdout",
     "output_type": "stream",
     "text": [
      "Did not succeded to fill the structure with the given pairs\n",
      "[[ 0.  0.  0.  0.  0.]\n",
      " [ 0.  4.  0.  0.  0.]\n",
      " [ 0.  0.  3.  0.  0.]\n",
      " [ 0.  0.  0.  4.  0.]\n",
      " [ 0.  1.  2.  2.  0.]]\n",
      "Did not succeded to fill the structure with the given pairs\n",
      "[[ 0.  0.  0.  0.  0.]\n",
      " [ 0.  4.  0.  0.  0.]\n",
      " [ 0.  0.  3.  0.  0.]\n",
      " [ 0.  0.  0.  4.  0.]\n",
      " [ 0.  1.  2.  2.  0.]]\n"
     ]
    }
   ],
   "source": [
    "structure = np.zeros((dim, dim))\n",
    "for i, pairs in enumerate(pairs_by_levels):\n",
    "    structure = add_pairs(structure, pairs, i, verbose=True)\n",
    "    print(structure)"
   ]
  },
  {
   "cell_type": "code",
   "execution_count": 14,
   "metadata": {
    "scrolled": true
   },
   "outputs": [
    {
     "name": "stdout",
     "output_type": "stream",
     "text": [
      "True\n",
      "[[4, 2], [3, 2], [4, 1]]\n",
      "True\n",
      "[[4, 3]]\n"
     ]
    }
   ],
   "source": [
    "for pairs_level in pairs_by_levels:\n",
    "    print(check_node_loop(pairs_level))\n",
    "    print(pairs_level)"
   ]
  },
  {
   "cell_type": "code",
   "execution_count": 45,
   "metadata": {
    "collapsed": true
   },
   "outputs": [],
   "source": [
    "good_structures = get_possible_structures(dim, pairs_by_levels, verbose=False)"
   ]
  },
  {
   "cell_type": "code",
   "execution_count": 46,
   "metadata": {},
   "outputs": [
    {
     "name": "stdout",
     "output_type": "stream",
     "text": [
      "[[1 0 0 0 0]\n",
      " [4 5 0 0 0]\n",
      " [2 4 3 0 0]\n",
      " [3 2 4 4 0]\n",
      " [5 3 2 2 2]]\n",
      "[[1 0 0 0 0]\n",
      " [4 5 0 0 0]\n",
      " [2 4 3 0 0]\n",
      " [3 2 4 2 0]\n",
      " [5 3 2 4 4]]\n",
      "[[4 0 0 0 0]\n",
      " [1 2 0 0 0]\n",
      " [5 1 1 0 0]\n",
      " [3 5 3 5 0]\n",
      " [2 3 5 3 3]]\n",
      "[[4 0 0 0 0]\n",
      " [1 2 0 0 0]\n",
      " [5 1 3 0 0]\n",
      " [3 5 1 5 0]\n",
      " [2 3 5 1 1]]\n",
      "[[4 0 0 0 0]\n",
      " [1 2 0 0 0]\n",
      " [5 1 3 0 0]\n",
      " [3 5 1 1 0]\n",
      " [2 3 5 5 5]]\n"
     ]
    }
   ],
   "source": [
    "for struct in good_structures:\n",
    "    print struct"
   ]
  },
  {
   "cell_type": "code",
   "execution_count": null,
   "metadata": {
    "collapsed": true
   },
   "outputs": [],
   "source": []
  },
  {
   "cell_type": "code",
   "execution_count": null,
   "metadata": {
    "collapsed": true
   },
   "outputs": [],
   "source": []
  }
 ],
 "metadata": {
  "anaconda-cloud": {},
  "kernelspec": {
   "display_name": "Python 3",
   "language": "python",
   "name": "python3"
  },
  "language_info": {
   "codemirror_mode": {
    "name": "ipython",
    "version": 3
   },
   "file_extension": ".py",
   "mimetype": "text/x-python",
   "name": "python",
   "nbconvert_exporter": "python",
   "pygments_lexer": "ipython3",
   "version": "3.6.1"
  }
 },
 "nbformat": 4,
 "nbformat_minor": 2
}
