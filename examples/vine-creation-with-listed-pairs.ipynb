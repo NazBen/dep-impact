{
 "cells": [
  {
   "cell_type": "code",
   "execution_count": 1,
   "metadata": {},
   "outputs": [],
   "source": [
    "import numpy as np\n",
    "from dependence.utils import get_pairs_by_levels, get_possible_structures, fill_structure, check_node_loop\n",
    "%load_ext autoreload\n",
    "%autoreload 2"
   ]
  },
  {
   "cell_type": "code",
   "execution_count": 13,
   "metadata": {},
   "outputs": [
    {
     "data": {
      "text/plain": [
       "{1, 2, 3, 5}"
      ]
     },
     "execution_count": 13,
     "metadata": {},
     "output_type": "execute_result"
    }
   ],
   "source": [
    "tt = [1, 2, 1, 3, 5]\n",
    "set(tt)"
   ]
  },
  {
   "cell_type": "code",
   "execution_count": 21,
   "metadata": {},
   "outputs": [
    {
     "data": {
      "text/plain": [
       "{(3, 1)}"
      ]
     },
     "execution_count": 21,
     "metadata": {},
     "output_type": "execute_result"
    }
   ],
   "source": [
    "a = set([(2, 1), (3, 1)])\n",
    "b = set([(2, 1)])\n",
    "a - b"
   ]
  },
  {
   "cell_type": "code",
   "execution_count": 26,
   "metadata": {},
   "outputs": [
    {
     "data": {
      "text/plain": [
       "[(0.0, 0.0), (0.0, 0.0), (0.0, 0.0), (0.0, 0.0), (0.0, 0.0)]"
      ]
     },
     "execution_count": 26,
     "metadata": {},
     "output_type": "execute_result"
    }
   ],
   "source": [
    "arr = np.zeros((5, 2))\n",
    "list(map(tuple, arr))"
   ]
  },
  {
   "cell_type": "code",
   "execution_count": 30,
   "metadata": {},
   "outputs": [
    {
     "name": "stdout",
     "output_type": "stream",
     "text": [
      "[(4, 2), (4, 3), (3, 2), (4, 1)]\n",
      "[[1 0]\n",
      " [2 0]\n",
      " [2 1]\n",
      " [3 0]\n",
      " [3 1]\n",
      " [3 2]\n",
      " [4 0]\n",
      " [4 1]\n",
      " [4 2]\n",
      " [4 3]]\n",
      "[0 0 0 0]\n"
     ]
    },
    {
     "ename": "AttributeError",
     "evalue": "'list' object has no attribute 'tolist'",
     "output_type": "error",
     "traceback": [
      "\u001b[0;31m---------------------------------------------------------------------------\u001b[0m",
      "\u001b[0;31mAttributeError\u001b[0m                            Traceback (most recent call last)",
      "\u001b[0;32m<ipython-input-30-787a3c673f2f>\u001b[0m in \u001b[0;36m<module>\u001b[0;34m()\u001b[0m\n\u001b[1;32m      5\u001b[0m \u001b[0mforced_pairs_ids\u001b[0m \u001b[0;34m=\u001b[0m \u001b[0mnp\u001b[0m\u001b[0;34m.\u001b[0m\u001b[0mrandom\u001b[0m\u001b[0;34m.\u001b[0m\u001b[0mchoice\u001b[0m\u001b[0;34m(\u001b[0m\u001b[0mrange\u001b[0m\u001b[0;34m(\u001b[0m\u001b[0mn_pairs\u001b[0m\u001b[0;34m)\u001b[0m\u001b[0;34m,\u001b[0m \u001b[0mn_forced_pairs\u001b[0m\u001b[0;34m,\u001b[0m \u001b[0mreplace\u001b[0m\u001b[0;34m=\u001b[0m\u001b[0mFalse\u001b[0m\u001b[0;34m)\u001b[0m\u001b[0;34m\u001b[0m\u001b[0m\n\u001b[1;32m      6\u001b[0m \u001b[0mforced_pairs_ids\u001b[0m \u001b[0;34m=\u001b[0m \u001b[0;34m[\u001b[0m\u001b[0;36m4\u001b[0m\u001b[0;34m,\u001b[0m \u001b[0;36m5\u001b[0m\u001b[0;34m,\u001b[0m \u001b[0;36m2\u001b[0m\u001b[0;34m,\u001b[0m \u001b[0;36m3\u001b[0m\u001b[0;34m]\u001b[0m\u001b[0;34m\u001b[0m\u001b[0m\n\u001b[0;32m----> 7\u001b[0;31m \u001b[0mpairs_by_levels\u001b[0m \u001b[0;34m=\u001b[0m \u001b[0mget_pairs_by_levels\u001b[0m\u001b[0;34m(\u001b[0m\u001b[0mdim\u001b[0m\u001b[0;34m,\u001b[0m \u001b[0mforced_pairs_ids\u001b[0m\u001b[0;34m)\u001b[0m\u001b[0;34m\u001b[0m\u001b[0m\n\u001b[0m\u001b[1;32m      8\u001b[0m \u001b[0mpairs_by_levels\u001b[0m\u001b[0;34m\u001b[0m\u001b[0m\n",
      "\u001b[0;32m/local00/home/D58174/git-repo/impact-of-dependence/dependence/utils.py\u001b[0m in \u001b[0;36mget_pairs_by_levels\u001b[0;34m(dim, forced_pairs_ids, verbose)\u001b[0m\n\u001b[1;32m    555\u001b[0m             \u001b[0;32mprint\u001b[0m\u001b[0;34m(\u001b[0m\u001b[0;34m\"\\t%d pairs with %d conditionned variables\"\u001b[0m \u001b[0;34m%\u001b[0m \u001b[0;34m(\u001b[0m\u001b[0mk\u001b[0m\u001b[0;34m,\u001b[0m \u001b[0mi\u001b[0m\u001b[0;34m)\u001b[0m\u001b[0;34m)\u001b[0m\u001b[0;34m\u001b[0m\u001b[0m\n\u001b[1;32m    556\u001b[0m             \u001b[0;32mprint\u001b[0m\u001b[0;34m(\u001b[0m\u001b[0;34m\"Pairs: {0}\"\u001b[0m\u001b[0;34m.\u001b[0m\u001b[0mformat\u001b[0m\u001b[0;34m(\u001b[0m\u001b[0mforced_pairs\u001b[0m\u001b[0;34m[\u001b[0m\u001b[0mk0\u001b[0m\u001b[0;34m:\u001b[0m\u001b[0mk0\u001b[0m\u001b[0;34m+\u001b[0m\u001b[0mk\u001b[0m\u001b[0;34m]\u001b[0m\u001b[0;34m.\u001b[0m\u001b[0mtolist\u001b[0m\u001b[0;34m(\u001b[0m\u001b[0;34m)\u001b[0m\u001b[0;34m)\u001b[0m\u001b[0;34m)\u001b[0m\u001b[0;34m\u001b[0m\u001b[0m\n\u001b[0;32m--> 557\u001b[0;31m         \u001b[0;32mif\u001b[0m \u001b[0mforced_pairs\u001b[0m\u001b[0;34m[\u001b[0m\u001b[0mk0\u001b[0m\u001b[0;34m:\u001b[0m\u001b[0mk0\u001b[0m\u001b[0;34m+\u001b[0m\u001b[0mk\u001b[0m\u001b[0;34m]\u001b[0m\u001b[0;34m.\u001b[0m\u001b[0mtolist\u001b[0m\u001b[0;34m(\u001b[0m\u001b[0;34m)\u001b[0m\u001b[0;34m:\u001b[0m\u001b[0;34m\u001b[0m\u001b[0m\n\u001b[0m\u001b[1;32m    558\u001b[0m             \u001b[0mpairs_by_levels\u001b[0m\u001b[0;34m.\u001b[0m\u001b[0mappend\u001b[0m\u001b[0;34m(\u001b[0m\u001b[0mforced_pairs\u001b[0m\u001b[0;34m[\u001b[0m\u001b[0mk0\u001b[0m\u001b[0;34m:\u001b[0m\u001b[0mk0\u001b[0m\u001b[0;34m+\u001b[0m\u001b[0mk\u001b[0m\u001b[0;34m]\u001b[0m\u001b[0;34m.\u001b[0m\u001b[0mtolist\u001b[0m\u001b[0;34m(\u001b[0m\u001b[0;34m)\u001b[0m\u001b[0;34m)\u001b[0m\u001b[0;34m\u001b[0m\u001b[0m\n\u001b[1;32m    559\u001b[0m         \u001b[0mk0\u001b[0m \u001b[0;34m=\u001b[0m \u001b[0mk1\u001b[0m\u001b[0;34m\u001b[0m\u001b[0m\n",
      "\u001b[0;31mAttributeError\u001b[0m: 'list' object has no attribute 'tolist'"
     ]
    }
   ],
   "source": [
    "dim = 5\n",
    "n_forced_pairs = 2\n",
    "n_pairs = int(dim*(dim-1)/2)\n",
    "n_forced_pairs = min(n_forced_pairs, n_pairs)\n",
    "forced_pairs_ids = np.random.choice(range(n_pairs), n_forced_pairs, replace=False)\n",
    "forced_pairs_ids = [4, 5, 2, 3]\n",
    "pairs_by_levels = get_pairs_by_levels(dim, forced_pairs_ids)\n",
    "pairs_by_levels"
   ]
  },
  {
   "cell_type": "code",
   "execution_count": 17,
   "metadata": {
    "collapsed": true
   },
   "outputs": [],
   "source": [
    "from dependence.utils import add_pairs"
   ]
  },
  {
   "cell_type": "code",
   "execution_count": 28,
   "metadata": {},
   "outputs": [
    {
     "name": "stdout",
     "output_type": "stream",
     "text": [
      "Did not succeded to fill the structure with the given pairs\n",
      "[[ 0.  0.  0.  0.  0.]\n",
      " [ 0.  4.  0.  0.  0.]\n",
      " [ 0.  0.  3.  0.  0.]\n",
      " [ 0.  0.  0.  4.  0.]\n",
      " [ 0.  1.  2.  2.  0.]]\n",
      "Did not succeded to fill the structure with the given pairs\n",
      "[[ 0.  0.  0.  0.  0.]\n",
      " [ 0.  4.  0.  0.  0.]\n",
      " [ 0.  0.  3.  0.  0.]\n",
      " [ 0.  0.  0.  4.  0.]\n",
      " [ 0.  1.  2.  2.  0.]]\n"
     ]
    }
   ],
   "source": [
    "structure = np.zeros((dim, dim))\n",
    "for i, pairs in enumerate(pairs_by_levels):\n",
    "    structure = add_pairs(structure, pairs, i, verbose=True)\n",
    "    print(structure)"
   ]
  },
  {
   "cell_type": "code",
   "execution_count": 14,
   "metadata": {
    "scrolled": true
   },
   "outputs": [
    {
     "name": "stdout",
     "output_type": "stream",
     "text": [
      "True\n",
      "[[4, 2], [3, 2], [4, 1]]\n",
      "True\n",
      "[[4, 3]]\n"
     ]
    }
   ],
   "source": [
    "for pairs_level in pairs_by_levels:\n",
    "    print(check_node_loop(pairs_level))\n",
    "    print(pairs_level)"
   ]
  },
  {
   "cell_type": "code",
   "execution_count": 45,
   "metadata": {
    "collapsed": true
   },
   "outputs": [],
   "source": [
    "good_structures = get_possible_structures(dim, pairs_by_levels, verbose=False)"
   ]
  },
  {
   "cell_type": "code",
   "execution_count": 46,
   "metadata": {},
   "outputs": [
    {
     "name": "stdout",
     "output_type": "stream",
     "text": [
      "[[1 0 0 0 0]\n",
      " [4 5 0 0 0]\n",
      " [2 4 3 0 0]\n",
      " [3 2 4 4 0]\n",
      " [5 3 2 2 2]]\n",
      "[[1 0 0 0 0]\n",
      " [4 5 0 0 0]\n",
      " [2 4 3 0 0]\n",
      " [3 2 4 2 0]\n",
      " [5 3 2 4 4]]\n",
      "[[4 0 0 0 0]\n",
      " [1 2 0 0 0]\n",
      " [5 1 1 0 0]\n",
      " [3 5 3 5 0]\n",
      " [2 3 5 3 3]]\n",
      "[[4 0 0 0 0]\n",
      " [1 2 0 0 0]\n",
      " [5 1 3 0 0]\n",
      " [3 5 1 5 0]\n",
      " [2 3 5 1 1]]\n",
      "[[4 0 0 0 0]\n",
      " [1 2 0 0 0]\n",
      " [5 1 3 0 0]\n",
      " [3 5 1 1 0]\n",
      " [2 3 5 5 5]]\n"
     ]
    }
   ],
   "source": [
    "for struct in good_structures:\n",
    "    print struct"
   ]
  },
  {
   "cell_type": "code",
   "execution_count": null,
   "metadata": {
    "collapsed": true
   },
   "outputs": [],
   "source": []
  },
  {
   "cell_type": "code",
   "execution_count": null,
   "metadata": {
    "collapsed": true
   },
   "outputs": [],
   "source": []
  }
 ],
 "metadata": {
  "anaconda-cloud": {},
  "kernelspec": {
   "display_name": "Python [Root]",
   "language": "python",
   "name": "Python [Root]"
  },
  "language_info": {
   "codemirror_mode": {
    "name": "ipython",
    "version": 2
   },
   "file_extension": ".py",
   "mimetype": "text/x-python",
   "name": "python",
   "nbconvert_exporter": "python",
   "pygments_lexer": "ipython2",
   "version": "2.7.13"
  }
 },
 "nbformat": 4,
 "nbformat_minor": 2
}
